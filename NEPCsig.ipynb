{
 "cells": [
  {
   "cell_type": "code",
   "execution_count": 4,
   "metadata": {
    "collapsed": false
   },
   "outputs": [
    {
     "data": {
      "application/javascript": [
       "IPython.notebook.set_autosave_interval(5000)"
      ]
     },
     "metadata": {},
     "output_type": "display_data"
    },
    {
     "name": "stdout",
     "output_type": "stream",
     "text": [
      "Autosaving every 5 seconds\n"
     ]
    }
   ],
   "source": [
    "import pandas as pd\n",
    "\n",
    "%autosave 5"
   ]
  },
  {
   "cell_type": "code",
   "execution_count": 12,
   "metadata": {
    "collapsed": true
   },
   "outputs": [],
   "source": [
    "def data_prep():\n",
    "    WCDT_mRNA = \"./data/NEPC/WCDT_mRNA.tab\"\n",
    "    WCDT_clinical = \"./data/NEPC/WCDT_clinical.tsv\"\n",
    "    df_mRNA = pd.read_csv(WCDT_mRNA, delimiter=\"\\t\")\n",
    "    df_clinical = pd.read_csv(WCDT_clinical, delimiter=\"\\t\")\n",
    "    print(df_clinical[\"Classification #3\"])"
   ]
  },
  {
   "cell_type": "code",
   "execution_count": 13,
   "metadata": {
    "collapsed": false
   },
   "outputs": [
    {
     "name": "stdout",
     "output_type": "stream",
     "text": [
      "0      Not small cell\n",
      "1      Not small cell\n",
      "2      Not small cell\n",
      "3      Not small cell\n",
      "4      Not small cell\n",
      "5      Not small cell\n",
      "6          Small cell\n",
      "7             Exclude\n",
      "8             Exclude\n",
      "9             Exclude\n",
      "10     Not small cell\n",
      "11     Not small cell\n",
      "12     Not small cell\n",
      "13     Not small cell\n",
      "14            Exclude\n",
      "15            Exclude\n",
      "16         Small cell\n",
      "17            Exclude\n",
      "18            Exclude\n",
      "19            Exclude\n",
      "20     Not small cell\n",
      "21            Exclude\n",
      "22         Small cell\n",
      "23     Not small cell\n",
      "24     Not-small cell\n",
      "25     Not small cell\n",
      "26     Not small cell\n",
      "27            Exclude\n",
      "28     Not small cell\n",
      "29            Exclude\n",
      "            ...      \n",
      "169    Not small cell\n",
      "170           Exclude\n",
      "171        Small Cell\n",
      "172    Not small cell\n",
      "173           Exclude\n",
      "174    Not small cell\n",
      "175           Exclude\n",
      "176    Not small cell\n",
      "177    Not small cell\n",
      "178           Exclude\n",
      "179    Not small cell\n",
      "180    Not small cell\n",
      "181           Exclude\n",
      "182    Not small cell\n",
      "183           Exclude\n",
      "184    Not small cell\n",
      "185    Not small cell\n",
      "186    Not small cell\n",
      "187    Not small cell\n",
      "188    Not small cell\n",
      "189        Small cell\n",
      "190    Not small cell\n",
      "191        Small cell\n",
      "192           Exclude\n",
      "193           Exclude\n",
      "194           Exclude\n",
      "195    Not small cell\n",
      "196    Not small cell\n",
      "197           Exclude\n",
      "198    Not small cell\n",
      "Name: Classification #3, dtype: object\n"
     ]
    }
   ],
   "source": [
    "data_prep()"
   ]
  },
  {
   "cell_type": "code",
   "execution_count": null,
   "metadata": {
    "collapsed": true
   },
   "outputs": [],
   "source": []
  }
 ],
 "metadata": {
  "kernelspec": {
   "display_name": "Python 3",
   "language": "python",
   "name": "python3"
  },
  "language_info": {
   "codemirror_mode": {
    "name": "ipython",
    "version": 3
   },
   "file_extension": ".py",
   "mimetype": "text/x-python",
   "name": "python",
   "nbconvert_exporter": "python",
   "pygments_lexer": "ipython3",
   "version": "3.6.0"
  }
 },
 "nbformat": 4,
 "nbformat_minor": 2
}
