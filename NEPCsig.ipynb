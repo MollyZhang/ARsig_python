{
 "cells": [
  {
   "cell_type": "markdown",
   "metadata": {},
   "source": [
    "### NPPC signature in python:\n",
    "1. small cell v.s. not small cell (not small cell == IAC + adeno)\n",
    "2. small cell v.s. adeno\n",
    "3. iac v.s. adeno"
   ]
  },
  {
   "cell_type": "code",
   "execution_count": 2,
   "metadata": {
    "collapsed": false
   },
   "outputs": [
    {
     "data": {
      "text/html": [
       "\n",
       "    <div class=\"bk-root\">\n",
       "        <a href=\"http://bokeh.pydata.org\" target=\"_blank\" class=\"bk-logo bk-logo-small bk-logo-notebook\"></a>\n",
       "        <span id=\"8aa87ae2-eefd-4253-ba59-dc7291839acb\">Loading BokehJS ...</span>\n",
       "    </div>"
      ]
     },
     "metadata": {},
     "output_type": "display_data"
    },
    {
     "data": {
      "application/javascript": [
       "\n",
       "(function(global) {\n",
       "  function now() {\n",
       "    return new Date();\n",
       "  }\n",
       "\n",
       "  var force = true;\n",
       "\n",
       "  if (typeof (window._bokeh_onload_callbacks) === \"undefined\" || force === true) {\n",
       "    window._bokeh_onload_callbacks = [];\n",
       "    window._bokeh_is_loading = undefined;\n",
       "  }\n",
       "\n",
       "\n",
       "  \n",
       "  if (typeof (window._bokeh_timeout) === \"undefined\" || force === true) {\n",
       "    window._bokeh_timeout = Date.now() + 5000;\n",
       "    window._bokeh_failed_load = false;\n",
       "  }\n",
       "\n",
       "  var NB_LOAD_WARNING = {'data': {'text/html':\n",
       "     \"<div style='background-color: #fdd'>\\n\"+\n",
       "     \"<p>\\n\"+\n",
       "     \"BokehJS does not appear to have successfully loaded. If loading BokehJS from CDN, this \\n\"+\n",
       "     \"may be due to a slow or bad network connection. Possible fixes:\\n\"+\n",
       "     \"</p>\\n\"+\n",
       "     \"<ul>\\n\"+\n",
       "     \"<li>re-rerun `output_notebook()` to attempt to load from CDN again, or</li>\\n\"+\n",
       "     \"<li>use INLINE resources instead, as so:</li>\\n\"+\n",
       "     \"</ul>\\n\"+\n",
       "     \"<code>\\n\"+\n",
       "     \"from bokeh.resources import INLINE\\n\"+\n",
       "     \"output_notebook(resources=INLINE)\\n\"+\n",
       "     \"</code>\\n\"+\n",
       "     \"</div>\"}};\n",
       "\n",
       "  function display_loaded() {\n",
       "    if (window.Bokeh !== undefined) {\n",
       "      document.getElementById(\"8aa87ae2-eefd-4253-ba59-dc7291839acb\").textContent = \"BokehJS successfully loaded.\";\n",
       "    } else if (Date.now() < window._bokeh_timeout) {\n",
       "      setTimeout(display_loaded, 100)\n",
       "    }\n",
       "  }\n",
       "\n",
       "  function run_callbacks() {\n",
       "    window._bokeh_onload_callbacks.forEach(function(callback) { callback() });\n",
       "    delete window._bokeh_onload_callbacks\n",
       "    console.info(\"Bokeh: all callbacks have finished\");\n",
       "  }\n",
       "\n",
       "  function load_libs(js_urls, callback) {\n",
       "    window._bokeh_onload_callbacks.push(callback);\n",
       "    if (window._bokeh_is_loading > 0) {\n",
       "      console.log(\"Bokeh: BokehJS is being loaded, scheduling callback at\", now());\n",
       "      return null;\n",
       "    }\n",
       "    if (js_urls == null || js_urls.length === 0) {\n",
       "      run_callbacks();\n",
       "      return null;\n",
       "    }\n",
       "    console.log(\"Bokeh: BokehJS not loaded, scheduling load and callback at\", now());\n",
       "    window._bokeh_is_loading = js_urls.length;\n",
       "    for (var i = 0; i < js_urls.length; i++) {\n",
       "      var url = js_urls[i];\n",
       "      var s = document.createElement('script');\n",
       "      s.src = url;\n",
       "      s.async = false;\n",
       "      s.onreadystatechange = s.onload = function() {\n",
       "        window._bokeh_is_loading--;\n",
       "        if (window._bokeh_is_loading === 0) {\n",
       "          console.log(\"Bokeh: all BokehJS libraries loaded\");\n",
       "          run_callbacks()\n",
       "        }\n",
       "      };\n",
       "      s.onerror = function() {\n",
       "        console.warn(\"failed to load library \" + url);\n",
       "      };\n",
       "      console.log(\"Bokeh: injecting script tag for BokehJS library: \", url);\n",
       "      document.getElementsByTagName(\"head\")[0].appendChild(s);\n",
       "    }\n",
       "  };var element = document.getElementById(\"8aa87ae2-eefd-4253-ba59-dc7291839acb\");\n",
       "  if (element == null) {\n",
       "    console.log(\"Bokeh: ERROR: autoload.js configured with elementid '8aa87ae2-eefd-4253-ba59-dc7291839acb' but no matching script tag was found. \")\n",
       "    return false;\n",
       "  }\n",
       "\n",
       "  var js_urls = [\"https://cdn.pydata.org/bokeh/release/bokeh-0.12.4.min.js\", \"https://cdn.pydata.org/bokeh/release/bokeh-widgets-0.12.4.min.js\"];\n",
       "\n",
       "  var inline_js = [\n",
       "    function(Bokeh) {\n",
       "      Bokeh.set_log_level(\"info\");\n",
       "    },\n",
       "    \n",
       "    function(Bokeh) {\n",
       "      \n",
       "      document.getElementById(\"8aa87ae2-eefd-4253-ba59-dc7291839acb\").textContent = \"BokehJS is loading...\";\n",
       "    },\n",
       "    function(Bokeh) {\n",
       "      console.log(\"Bokeh: injecting CSS: https://cdn.pydata.org/bokeh/release/bokeh-0.12.4.min.css\");\n",
       "      Bokeh.embed.inject_css(\"https://cdn.pydata.org/bokeh/release/bokeh-0.12.4.min.css\");\n",
       "      console.log(\"Bokeh: injecting CSS: https://cdn.pydata.org/bokeh/release/bokeh-widgets-0.12.4.min.css\");\n",
       "      Bokeh.embed.inject_css(\"https://cdn.pydata.org/bokeh/release/bokeh-widgets-0.12.4.min.css\");\n",
       "    }\n",
       "  ];\n",
       "\n",
       "  function run_inline_js() {\n",
       "    \n",
       "    if ((window.Bokeh !== undefined) || (force === true)) {\n",
       "      for (var i = 0; i < inline_js.length; i++) {\n",
       "        inline_js[i](window.Bokeh);\n",
       "      }if (force === true) {\n",
       "        display_loaded();\n",
       "      }} else if (Date.now() < window._bokeh_timeout) {\n",
       "      setTimeout(run_inline_js, 100);\n",
       "    } else if (!window._bokeh_failed_load) {\n",
       "      console.log(\"Bokeh: BokehJS failed to load within specified timeout.\");\n",
       "      window._bokeh_failed_load = true;\n",
       "    } else if (force !== true) {\n",
       "      var cell = $(document.getElementById(\"8aa87ae2-eefd-4253-ba59-dc7291839acb\")).parents('.cell').data().cell;\n",
       "      cell.output_area.append_execute_result(NB_LOAD_WARNING)\n",
       "    }\n",
       "\n",
       "  }\n",
       "\n",
       "  if (window._bokeh_is_loading === 0) {\n",
       "    console.log(\"Bokeh: BokehJS loaded, going straight to plotting\");\n",
       "    run_inline_js();\n",
       "  } else {\n",
       "    load_libs(js_urls, function() {\n",
       "      console.log(\"Bokeh: BokehJS plotting callback run at\", now());\n",
       "      run_inline_js();\n",
       "    });\n",
       "  }\n",
       "}(this));"
      ]
     },
     "metadata": {},
     "output_type": "display_data"
    },
    {
     "data": {
      "application/javascript": [
       "IPython.notebook.set_autosave_interval(10000)"
      ]
     },
     "metadata": {},
     "output_type": "display_data"
    },
    {
     "name": "stdout",
     "output_type": "stream",
     "text": [
      "Autosaving every 10 seconds\n"
     ]
    }
   ],
   "source": [
    "# %load startup_script.py\n",
    "# system\n",
    "from pprint import pprint as pp\n",
    "\n",
    "# numerical & stats \n",
    "import pandas as pd\n",
    "import numpy as np\n",
    "from scipy import stats\n",
    "\n",
    "# plotting\n",
    "from matplotlib import pyplot as plt\n",
    "from bokeh.charts import Bar, output_file, show\n",
    "from bokeh.io import output_notebook\n",
    "\n",
    "# machine learning\n",
    "from sklearn import linear_model\n",
    "\n",
    "# my own module in the same repo\n",
    "import helper\n",
    "\n",
    "# jupyte notebook amenities\n",
    "output_notebook()\n",
    "%matplotlib inline\n",
    "%autosave 10\n"
   ]
  },
  {
   "cell_type": "code",
   "execution_count": 3,
   "metadata": {
    "collapsed": false,
    "scrolled": false
   },
   "outputs": [],
   "source": [
    "WCDT_mRNA = \"./data/WCDT_mRNA.tsv\"\n",
    "WCDT_clinical = \"./data/WCDT_clinical.tsv\"\n",
    "WCDT_sample_pairs = \"./data/WCDT_paired_samples.tab\"\n",
    "df_mRNA = pd.read_csv(WCDT_mRNA, delimiter=\"\\t\")\n",
    "df_clinical = pd.read_csv(WCDT_clinical, delimiter=\"\\t\")\n",
    "df_sample_pairs = pd.read_csv(WCDT_sample_pairs, delimiter=\"\\t\", index_col=\"Sample\")"
   ]
  },
  {
   "cell_type": "code",
   "execution_count": 4,
   "metadata": {
    "collapsed": false
   },
   "outputs": [],
   "source": [
    "def extract_label(df_clinical):\n",
    "    # extract information from classification #1\n",
    "    y_df = df_clinical[[\"Patient ID\", \"Classification #1\",]].copy()\n",
    "    y_df.rename(columns={\"Classification #1\":\"NEPC_label\", \"Patient ID\": \"Patient_ID\"}, inplace=True)\n",
    "    y_df = y_df[y_df[\"NEPC_label\"]!=\"Exclude\"].copy()\n",
    "    \n",
    "    # uniform various naming discrepancies\n",
    "    y_df.set_index(\"Patient_ID\", inplace=True)\n",
    "    y_df[y_df[\"NEPC_label\"].isin([\"Small cell\", \"Small Cell\"])] = \"scnc\"\n",
    "    y_df[y_df[\"NEPC_label\"].isin([\"Adenocarcinoma\", \"Adeno\"])] = \"adeno\"\n",
    "    y_df[y_df[\"NEPC_label\"].isin([\"IAC\"])] = \"iac\"\n",
    "    return y_df"
   ]
  },
  {
   "cell_type": "code",
   "execution_count": 5,
   "metadata": {
    "collapsed": false
   },
   "outputs": [],
   "source": [
    "def data_prep(x=df_mRNA, y=df_clinical, group1=[\"scnc\"], group0=[\"adeno\"]):\n",
    "    \"\"\" \n",
    "    extract the samples in label group zero v.s. label group one, \n",
    "    in training, the former is assigned a label of 0 and the latter is asigned a label of 1\n",
    "    \"\"\"\n",
    "    # extract desired groups from y\n",
    "    y = extract_label(df_clinical)\n",
    "    y[y[\"NEPC_label\"].isin(group1)] = 1\n",
    "    y[y[\"NEPC_label\"].isin(group0)] = 0\n",
    "    y = y[y[\"NEPC_label\"].isin([0, 1])]\n",
    "\n",
    "    # get sample overlap between mRNA and y\n",
    "    X = df_mRNA.set_index(\"gene_id\").transpose()\n",
    "    overlap = set(X.index).intersection(set(y.index))\n",
    "    y = y[y.index.isin(overlap)]\n",
    "    X = X[X.index.isin(overlap)]\n",
    "    \n",
    "    # order X and Y so that same sample name match up\n",
    "    X.sort_index(inplace=True)\n",
    "    y.sort_index(inplace=True)\n",
    "    assert(list(X.index) == list(y.index))\n",
    "    \n",
    "    return X, y    "
   ]
  },
  {
   "cell_type": "code",
   "execution_count": 6,
   "metadata": {
    "collapsed": true
   },
   "outputs": [],
   "source": [
    "def calc_signature(X, y, name, classifier=linear_model.LogisticRegression()):\n",
    "    classifier.fit(X, np.array(list(y['NEPC_label'])))\n",
    "    return pd.DataFrame(index=X.columns, data=classifier.coef_[0], columns=[name])"
   ]
  },
  {
   "cell_type": "code",
   "execution_count": 7,
   "metadata": {
    "collapsed": false
   },
   "outputs": [
    {
     "data": {
      "image/png": "[encoded data removed]",
      "text/plain": [
       "<matplotlib.figure.Figure at 0x7f5a6ba8c198>"
      ]
     },
     "metadata": {},
     "output_type": "display_data"
    },
    {
     "data": {
      "image/png": "[encoded data removed]",
      "text/plain": [
       "<matplotlib.figure.Figure at 0x7f5a35167128>"
      ]
     },
     "metadata": {},
     "output_type": "display_data"
    }
   ],
   "source": [
    "# Comparison with Artem's NEPC signature\n",
    "for comparison in [\"scnc-v-adeno\", \"iac-v-adeno\"]:\n",
    "    # get python gene signature\n",
    "    group0 = comparison.split(\"-\")[-1]\n",
    "    group1 = comparison.split(\"-\")[0]\n",
    "    X, y = data_prep(group0=[group0], group1=[group1])\n",
    "    python_sig = calc_signature(X, y, \"python\")\n",
    "    \n",
    "    # get gene overlap between artem signature and python signature\n",
    "    artem_file = \"data/NEPC/{0}-20k-sig.rnk\".format(comparison)\n",
    "    artem_sig = pd.read_csv(artem_file, delimiter=\"\\t\", names=[\"gene\",\"artem\"], index_col=0)\n",
    "    sigs = pd.concat([python_sig, artem_sig], axis=1, join=\"inner\")\n",
    "    \n",
    "    # plot\n",
    "    plt.figure(comparison)\n",
    "    plt.scatter(sigs[\"artem\"], sigs[\"python\"])\n",
    "    plt.title(\"pearson correlation %.2f (%s)\" %(stats.pearsonr(sigs[\"artem\"], sigs[\"python\"])[0], comparison))\n",
    "    plt.xlabel(\"R-artem\")\n",
    "    plt.ylabel(\"python-molly\")"
   ]
  },
  {
   "cell_type": "code",
   "execution_count": 7,
   "metadata": {
    "collapsed": false
   },
   "outputs": [
    {
     "name": "stdout",
     "output_type": "stream",
     "text": [
      "............................................................................................................................................................................................................................................................................................................................................................................................0.8657894736842106\n"
     ]
    }
   ],
   "source": [
    "# leave pair out cross validation aucs\n",
    "X, y = data_prep(group0=[\"adeno\"], group1=[\"scnc\"])\n",
    "print(helper.leave_pair_out_cv(X, y, linear_model.LogisticRegression()))"
   ]
  },
  {
   "cell_type": "code",
   "execution_count": 8,
   "metadata": {
    "collapsed": false
   },
   "outputs": [
    {
     "name": "stdout",
     "output_type": "stream",
     "text": [
      "......................................................................................................................................................................................................................................................................................................................................................................................................................................................................................................................................................................................................................................................................................................................................................................................................................................................................................................................................................................................0.6421052631578947\n"
     ]
    }
   ],
   "source": [
    "X, y = data_prep(group0=[\"adeno\"], group1=[\"iac\"])\n",
    "print(helper.leave_pair_out_cv(X, y, linear_model.LogisticRegression()))"
   ]
  },
  {
   "cell_type": "code",
   "execution_count": 10,
   "metadata": {
    "collapsed": false
   },
   "outputs": [
    {
     "name": "stdout",
     "output_type": "stream",
     "text": [
      "......................................................................................................................................................................................................................................................................................................................................................................................................................................................................................................................................................................................................................................................0.8444444444444444\n"
     ]
    }
   ],
   "source": [
    "X, y = data_prep(group0=[\"adeno\", \"iac\"], group1=[\"scnc\"])\n",
    "print(helper.leave_pair_out_cv(X, y, linear_model.LogisticRegression()))"
   ]
  },
  {
   "cell_type": "code",
   "execution_count": 9,
   "metadata": {
    "collapsed": false
   },
   "outputs": [
    {
     "name": "stdout",
     "output_type": "stream",
     "text": [
      "................................................................................................................................................................................................................................................................................................................................................................................................................................................................................................................................................................................................................................................................................................................................................................................................................................................................................................................................................................................................................................................................................................................................................................................................................................................0.6175\n"
     ]
    }
   ],
   "source": [
    "X, y = data_prep(group0=[\"adeno\", \"scnc\"], group1=[\"iac\"])\n",
    "print(helper.leave_pair_out_cv(X, y, linear_model.LogisticRegression()))"
   ]
  },
  {
   "cell_type": "code",
   "execution_count": 11,
   "metadata": {
    "collapsed": false
   },
   "outputs": [
    {
     "name": "stdout",
     "output_type": "stream",
     "text": [
      "..................................................................................................................................................................................................................................................................................................................................................................................................................................................................................................................................................................................................................................................................................................................................................................................................................................................................................................................................................................................................................................................................................................................................................................................................................................................................................................................................................................................0.7233082706766917\n"
     ]
    }
   ],
   "source": [
    "X, y = data_prep(group0=[\"adeno\"], group1=[\"iac\", \"scnc\"])\n",
    "print(helper.leave_pair_out_cv(X, y, linear_model.LogisticRegression()))"
   ]
  },
  {
   "cell_type": "code",
   "execution_count": 12,
   "metadata": {
    "collapsed": false
   },
   "outputs": [
    {
     "name": "stdout",
     "output_type": "stream",
     "text": [
      "..........................................................................................................................................................................................................................................................0.776\n"
     ]
    }
   ],
   "source": [
    "X, y = data_prep(group0=[\"iac\"], group1=[\"scnc\"])\n",
    "print(helper.leave_pair_out_cv(X, y, linear_model.LogisticRegression()))"
   ]
  },
  {
   "cell_type": "code",
   "execution_count": 8,
   "metadata": {
    "collapsed": false
   },
   "outputs": [],
   "source": [
    "# get all sorts of signatures\n",
    "sample_pairs = [\"scnc-adeno\", \"iac-adeno\", \"scnc-iac\", \n",
    "                \"scnc-adeno&iac\", \"iac-scnc&adeno\", \"adeno-scnc&iac\"]\n",
    "lr = linear_model.LogisticRegression()\n",
    "all_sigs = pd.DataFrame(index=X.columns)\n",
    "for sample_pair in sample_pairs:\n",
    "    group1 = [sample_pair.split(\"-\")[0]]\n",
    "    group0 = sample_pair.split(\"-\")[-1].split(\"&\")\n",
    "    X, y = data_prep(group0=group0, group1=group1)\n",
    "    this_sig = calc_signature(X, y, sample_pair)\n",
    "    all_sigs[sample_pair] = calc_signature(X, y, sample_pair)[sample_pair]\n",
    "all_sigs.to_pickle(\"./NEPC_sigs.pkl\")"
   ]
  },
  {
   "cell_type": "code",
   "execution_count": 9,
   "metadata": {
    "collapsed": false
   },
   "outputs": [],
   "source": [
    "# apply NEPC signatures to known samples\n",
    "all_sigs = pd.read_pickle(\"./NEPC_sigs.pkl\")"
   ]
  },
  {
   "cell_type": "code",
   "execution_count": 10,
   "metadata": {
    "collapsed": false,
    "scrolled": false
   },
   "outputs": [
    {
     "name": "stdout",
     "output_type": "stream",
     "text": [
      "            TimePoint NEPC_label\n",
      "Sample                          \n",
      "DTB-022Pro        Pre      adeno\n",
      "DTB-024Pro        Pre        NaN\n",
      "DTB-060           Pre        NaN\n",
      "DTB-063           Pre      adeno\n",
      "DTB-073           Pre      adeno\n",
      "DTB-080           Pre        iac\n",
      "DTB-089           Pre      adeno\n",
      "DTB-102           Pre        iac\n",
      "DTB-111           Pre        NaN\n",
      "DTB-127           Pre        iac\n",
      "DTB-135           Pre        NaN\n",
      "DTB-137           Pre      adeno\n",
      "DTB-141           Pre      adeno\n",
      "DTB-149           Pre      adeno\n",
      "DTB-176           Pre       scnc\n",
      "DTB-194           Pre        NaN\n",
      "DTB-022Pro2      Post        NaN\n",
      "DTB-024Pro2      Post        NaN\n",
      "DTB-060Pro       Post        NaN\n",
      "DTB-063Pro       Post      adeno\n",
      "DTB-073Pro       Post        NaN\n",
      "DTB-080Pro       Post        NaN\n",
      "DTB-089Pro       Post      adeno\n",
      "DTB-102Pro       Post        NaN\n",
      "DTB-111Pro       Post        iac\n",
      "DTB-127Pro       Post        iac\n",
      "DTB-135Pro       Post       scnc\n",
      "DTB-137Pro       Post        NaN\n",
      "DTB-141Pro       Post        NaN\n",
      "DTB-149Pro       Post        NaN\n",
      "DTB-176Pro       Post        NaN\n",
      "DTB-194Pro       Post        NaN\n"
     ]
    }
   ],
   "source": [
    "# combine NEPC label with WCDT pre/post enza time point\n",
    "def get_label(sample):\n",
    "    try:\n",
    "        return df_y.loc[sample].NEPC_label\n",
    "    except KeyError:\n",
    "        return np.nan\n",
    "    except:\n",
    "        raise\n",
    "\n",
    "df_y = extract_label(df_clinical)\n",
    "df_sample_pairs[\"NEPC_label\"] = list(map(get_label, df_sample_pairs.index))\n",
    "print(df_sample_pairs)        "
   ]
  },
  {
   "cell_type": "markdown",
   "metadata": {
    "collapsed": true
   },
   "source": [
    "### apply NEPC signature (all six pairs) to WCDT pre-post sample and plot them"
   ]
  },
  {
   "cell_type": "code",
   "execution_count": 11,
   "metadata": {
    "collapsed": false,
    "scrolled": false
   },
   "outputs": [
    {
     "data": {
      "text/html": [
       "<div>\n",
       "<table border=\"1\" class=\"dataframe\">\n",
       "  <thead>\n",
       "    <tr style=\"text-align: right;\">\n",
       "      <th></th>\n",
       "      <th>scnc-adeno</th>\n",
       "      <th>iac-adeno</th>\n",
       "      <th>scnc-iac</th>\n",
       "      <th>scnc-adeno&amp;iac</th>\n",
       "      <th>iac-scnc&amp;adeno</th>\n",
       "      <th>adeno-scnc&amp;iac</th>\n",
       "      <th>TimePoint</th>\n",
       "      <th>NEPC_label</th>\n",
       "    </tr>\n",
       "    <tr>\n",
       "      <th>Sample</th>\n",
       "      <th></th>\n",
       "      <th></th>\n",
       "      <th></th>\n",
       "      <th></th>\n",
       "      <th></th>\n",
       "      <th></th>\n",
       "      <th></th>\n",
       "      <th></th>\n",
       "    </tr>\n",
       "  </thead>\n",
       "  <tbody>\n",
       "    <tr>\n",
       "      <th>DTB-022Pro</th>\n",
       "      <td>-9.965143</td>\n",
       "      <td>-9.536551</td>\n",
       "      <td>-5.297048</td>\n",
       "      <td>-10.507991</td>\n",
       "      <td>-9.684101</td>\n",
       "      <td>9.301889</td>\n",
       "      <td>Pre</td>\n",
       "      <td>adeno</td>\n",
       "    </tr>\n",
       "    <tr>\n",
       "      <th>DTB-024Pro</th>\n",
       "      <td>-7.247127</td>\n",
       "      <td>-4.264942</td>\n",
       "      <td>-5.758625</td>\n",
       "      <td>-8.907042</td>\n",
       "      <td>-5.250079</td>\n",
       "      <td>1.907963</td>\n",
       "      <td>Pre</td>\n",
       "      <td>NaN</td>\n",
       "    </tr>\n",
       "    <tr>\n",
       "      <th>DTB-060</th>\n",
       "      <td>-9.005758</td>\n",
       "      <td>-0.999607</td>\n",
       "      <td>-9.853151</td>\n",
       "      <td>-12.075284</td>\n",
       "      <td>-1.363638</td>\n",
       "      <td>1.798729</td>\n",
       "      <td>Pre</td>\n",
       "      <td>NaN</td>\n",
       "    </tr>\n",
       "    <tr>\n",
       "      <th>DTB-063</th>\n",
       "      <td>-10.246354</td>\n",
       "      <td>-8.954408</td>\n",
       "      <td>-6.802047</td>\n",
       "      <td>-11.594700</td>\n",
       "      <td>-8.924375</td>\n",
       "      <td>8.884372</td>\n",
       "      <td>Pre</td>\n",
       "      <td>adeno</td>\n",
       "    </tr>\n",
       "    <tr>\n",
       "      <th>DTB-073</th>\n",
       "      <td>-9.066752</td>\n",
       "      <td>-9.027112</td>\n",
       "      <td>-3.957443</td>\n",
       "      <td>-9.333057</td>\n",
       "      <td>-9.288785</td>\n",
       "      <td>8.634950</td>\n",
       "      <td>Pre</td>\n",
       "      <td>adeno</td>\n",
       "    </tr>\n",
       "    <tr>\n",
       "      <th>DTB-080</th>\n",
       "      <td>-6.505541</td>\n",
       "      <td>8.436177</td>\n",
       "      <td>-9.905538</td>\n",
       "      <td>-10.814622</td>\n",
       "      <td>8.325507</td>\n",
       "      <td>-8.474478</td>\n",
       "      <td>Pre</td>\n",
       "      <td>iac</td>\n",
       "    </tr>\n",
       "    <tr>\n",
       "      <th>DTB-089</th>\n",
       "      <td>-10.401235</td>\n",
       "      <td>-9.108295</td>\n",
       "      <td>-8.466657</td>\n",
       "      <td>-11.784340</td>\n",
       "      <td>-9.118823</td>\n",
       "      <td>8.950613</td>\n",
       "      <td>Pre</td>\n",
       "      <td>adeno</td>\n",
       "    </tr>\n",
       "    <tr>\n",
       "      <th>DTB-102</th>\n",
       "      <td>-11.119274</td>\n",
       "      <td>8.902440</td>\n",
       "      <td>-10.616930</td>\n",
       "      <td>-12.375421</td>\n",
       "      <td>8.788275</td>\n",
       "      <td>-8.850866</td>\n",
       "      <td>Pre</td>\n",
       "      <td>iac</td>\n",
       "    </tr>\n",
       "    <tr>\n",
       "      <th>DTB-111</th>\n",
       "      <td>-0.120757</td>\n",
       "      <td>4.149063</td>\n",
       "      <td>-2.790817</td>\n",
       "      <td>-3.482054</td>\n",
       "      <td>2.450785</td>\n",
       "      <td>-7.868412</td>\n",
       "      <td>Pre</td>\n",
       "      <td>NaN</td>\n",
       "    </tr>\n",
       "    <tr>\n",
       "      <th>DTB-127</th>\n",
       "      <td>-3.184591</td>\n",
       "      <td>8.560851</td>\n",
       "      <td>-8.729394</td>\n",
       "      <td>-9.114683</td>\n",
       "      <td>8.142145</td>\n",
       "      <td>-8.772682</td>\n",
       "      <td>Pre</td>\n",
       "      <td>iac</td>\n",
       "    </tr>\n",
       "    <tr>\n",
       "      <th>DTB-135</th>\n",
       "      <td>-5.417463</td>\n",
       "      <td>-5.529934</td>\n",
       "      <td>-1.724302</td>\n",
       "      <td>-5.913110</td>\n",
       "      <td>-7.503130</td>\n",
       "      <td>3.006759</td>\n",
       "      <td>Pre</td>\n",
       "      <td>NaN</td>\n",
       "    </tr>\n",
       "    <tr>\n",
       "      <th>DTB-137</th>\n",
       "      <td>-8.616895</td>\n",
       "      <td>-8.776616</td>\n",
       "      <td>-1.802744</td>\n",
       "      <td>-8.879910</td>\n",
       "      <td>-9.195763</td>\n",
       "      <td>8.471577</td>\n",
       "      <td>Pre</td>\n",
       "      <td>adeno</td>\n",
       "    </tr>\n",
       "    <tr>\n",
       "      <th>DTB-141</th>\n",
       "      <td>-8.912554</td>\n",
       "      <td>-8.653882</td>\n",
       "      <td>-3.109174</td>\n",
       "      <td>-9.147796</td>\n",
       "      <td>-9.034984</td>\n",
       "      <td>8.492049</td>\n",
       "      <td>Pre</td>\n",
       "      <td>adeno</td>\n",
       "    </tr>\n",
       "    <tr>\n",
       "      <th>DTB-149</th>\n",
       "      <td>-8.701457</td>\n",
       "      <td>-8.489369</td>\n",
       "      <td>-3.044818</td>\n",
       "      <td>-9.184875</td>\n",
       "      <td>-8.644071</td>\n",
       "      <td>8.283620</td>\n",
       "      <td>Pre</td>\n",
       "      <td>adeno</td>\n",
       "    </tr>\n",
       "    <tr>\n",
       "      <th>DTB-176</th>\n",
       "      <td>7.327104</td>\n",
       "      <td>1.415168</td>\n",
       "      <td>7.561499</td>\n",
       "      <td>7.223145</td>\n",
       "      <td>-8.015974</td>\n",
       "      <td>-8.199693</td>\n",
       "      <td>Pre</td>\n",
       "      <td>scnc</td>\n",
       "    </tr>\n",
       "    <tr>\n",
       "      <th>DTB-194</th>\n",
       "      <td>-7.941112</td>\n",
       "      <td>-7.508790</td>\n",
       "      <td>-3.172120</td>\n",
       "      <td>-8.351081</td>\n",
       "      <td>-7.900164</td>\n",
       "      <td>6.217054</td>\n",
       "      <td>Pre</td>\n",
       "      <td>NaN</td>\n",
       "    </tr>\n",
       "    <tr>\n",
       "      <th>DTB-022Pro2</th>\n",
       "      <td>-7.400147</td>\n",
       "      <td>-2.785455</td>\n",
       "      <td>-5.930535</td>\n",
       "      <td>-9.439763</td>\n",
       "      <td>-3.114920</td>\n",
       "      <td>2.161856</td>\n",
       "      <td>Post</td>\n",
       "      <td>NaN</td>\n",
       "    </tr>\n",
       "    <tr>\n",
       "      <th>DTB-024Pro2</th>\n",
       "      <td>-8.849600</td>\n",
       "      <td>-3.194678</td>\n",
       "      <td>-7.387372</td>\n",
       "      <td>-11.068404</td>\n",
       "      <td>-3.109502</td>\n",
       "      <td>2.082503</td>\n",
       "      <td>Post</td>\n",
       "      <td>NaN</td>\n",
       "    </tr>\n",
       "    <tr>\n",
       "      <th>DTB-060Pro</th>\n",
       "      <td>-10.514950</td>\n",
       "      <td>-4.965110</td>\n",
       "      <td>-7.893888</td>\n",
       "      <td>-12.582621</td>\n",
       "      <td>-4.522859</td>\n",
       "      <td>6.113202</td>\n",
       "      <td>Post</td>\n",
       "      <td>NaN</td>\n",
       "    </tr>\n",
       "    <tr>\n",
       "      <th>DTB-063Pro</th>\n",
       "      <td>-10.668676</td>\n",
       "      <td>-10.593232</td>\n",
       "      <td>-4.895298</td>\n",
       "      <td>-11.070757</td>\n",
       "      <td>-10.259330</td>\n",
       "      <td>9.929641</td>\n",
       "      <td>Post</td>\n",
       "      <td>adeno</td>\n",
       "    </tr>\n",
       "    <tr>\n",
       "      <th>DTB-073Pro</th>\n",
       "      <td>-6.698168</td>\n",
       "      <td>-2.886766</td>\n",
       "      <td>-5.708058</td>\n",
       "      <td>-8.509679</td>\n",
       "      <td>-4.067747</td>\n",
       "      <td>1.508085</td>\n",
       "      <td>Post</td>\n",
       "      <td>NaN</td>\n",
       "    </tr>\n",
       "    <tr>\n",
       "      <th>DTB-080Pro</th>\n",
       "      <td>-2.570309</td>\n",
       "      <td>-3.826879</td>\n",
       "      <td>-2.439937</td>\n",
       "      <td>-3.874254</td>\n",
       "      <td>-5.669387</td>\n",
       "      <td>-1.355366</td>\n",
       "      <td>Post</td>\n",
       "      <td>NaN</td>\n",
       "    </tr>\n",
       "    <tr>\n",
       "      <th>DTB-089Pro</th>\n",
       "      <td>-10.386594</td>\n",
       "      <td>-8.978902</td>\n",
       "      <td>-9.395243</td>\n",
       "      <td>-12.270029</td>\n",
       "      <td>-8.892979</td>\n",
       "      <td>8.896999</td>\n",
       "      <td>Post</td>\n",
       "      <td>adeno</td>\n",
       "    </tr>\n",
       "    <tr>\n",
       "      <th>DTB-102Pro</th>\n",
       "      <td>-4.542232</td>\n",
       "      <td>-3.252240</td>\n",
       "      <td>-1.393756</td>\n",
       "      <td>-5.226453</td>\n",
       "      <td>-5.384841</td>\n",
       "      <td>0.535251</td>\n",
       "      <td>Post</td>\n",
       "      <td>NaN</td>\n",
       "    </tr>\n",
       "    <tr>\n",
       "      <th>DTB-111Pro</th>\n",
       "      <td>-2.424843</td>\n",
       "      <td>8.512032</td>\n",
       "      <td>-8.555035</td>\n",
       "      <td>-8.815483</td>\n",
       "      <td>8.041623</td>\n",
       "      <td>-8.765852</td>\n",
       "      <td>Post</td>\n",
       "      <td>iac</td>\n",
       "    </tr>\n",
       "    <tr>\n",
       "      <th>DTB-127Pro</th>\n",
       "      <td>-3.119713</td>\n",
       "      <td>10.132822</td>\n",
       "      <td>-9.679576</td>\n",
       "      <td>-9.658040</td>\n",
       "      <td>9.441587</td>\n",
       "      <td>-10.114963</td>\n",
       "      <td>Post</td>\n",
       "      <td>iac</td>\n",
       "    </tr>\n",
       "    <tr>\n",
       "      <th>DTB-135Pro</th>\n",
       "      <td>9.120021</td>\n",
       "      <td>-2.238286</td>\n",
       "      <td>9.454391</td>\n",
       "      <td>8.963058</td>\n",
       "      <td>-9.817739</td>\n",
       "      <td>-9.388223</td>\n",
       "      <td>Post</td>\n",
       "      <td>scnc</td>\n",
       "    </tr>\n",
       "    <tr>\n",
       "      <th>DTB-137Pro</th>\n",
       "      <td>-6.382281</td>\n",
       "      <td>-9.346544</td>\n",
       "      <td>-0.789968</td>\n",
       "      <td>-6.324173</td>\n",
       "      <td>-11.016810</td>\n",
       "      <td>7.003402</td>\n",
       "      <td>Post</td>\n",
       "      <td>NaN</td>\n",
       "    </tr>\n",
       "    <tr>\n",
       "      <th>DTB-141Pro</th>\n",
       "      <td>-6.564719</td>\n",
       "      <td>-8.149674</td>\n",
       "      <td>-1.127748</td>\n",
       "      <td>-6.450281</td>\n",
       "      <td>-10.148011</td>\n",
       "      <td>6.698397</td>\n",
       "      <td>Post</td>\n",
       "      <td>NaN</td>\n",
       "    </tr>\n",
       "    <tr>\n",
       "      <th>DTB-149Pro</th>\n",
       "      <td>-6.908872</td>\n",
       "      <td>-4.411473</td>\n",
       "      <td>-4.768659</td>\n",
       "      <td>-8.723981</td>\n",
       "      <td>-4.967482</td>\n",
       "      <td>3.866724</td>\n",
       "      <td>Post</td>\n",
       "      <td>NaN</td>\n",
       "    </tr>\n",
       "    <tr>\n",
       "      <th>DTB-176Pro</th>\n",
       "      <td>-0.116117</td>\n",
       "      <td>3.697686</td>\n",
       "      <td>-1.917698</td>\n",
       "      <td>-2.660200</td>\n",
       "      <td>-0.304254</td>\n",
       "      <td>-6.761516</td>\n",
       "      <td>Post</td>\n",
       "      <td>NaN</td>\n",
       "    </tr>\n",
       "    <tr>\n",
       "      <th>DTB-194Pro</th>\n",
       "      <td>-5.147680</td>\n",
       "      <td>-2.727506</td>\n",
       "      <td>-3.262989</td>\n",
       "      <td>-6.675989</td>\n",
       "      <td>-3.674091</td>\n",
       "      <td>0.594775</td>\n",
       "      <td>Post</td>\n",
       "      <td>NaN</td>\n",
       "    </tr>\n",
       "  </tbody>\n",
       "</table>\n",
       "</div>"
      ],
      "text/plain": [
       "             scnc-adeno  iac-adeno   scnc-iac  scnc-adeno&iac  iac-scnc&adeno  \\\n",
       "Sample                                                                          \n",
       "DTB-022Pro    -9.965143  -9.536551  -5.297048      -10.507991       -9.684101   \n",
       "DTB-024Pro    -7.247127  -4.264942  -5.758625       -8.907042       -5.250079   \n",
       "DTB-060       -9.005758  -0.999607  -9.853151      -12.075284       -1.363638   \n",
       "DTB-063      -10.246354  -8.954408  -6.802047      -11.594700       -8.924375   \n",
       "DTB-073       -9.066752  -9.027112  -3.957443       -9.333057       -9.288785   \n",
       "DTB-080       -6.505541   8.436177  -9.905538      -10.814622        8.325507   \n",
       "DTB-089      -10.401235  -9.108295  -8.466657      -11.784340       -9.118823   \n",
       "DTB-102      -11.119274   8.902440 -10.616930      -12.375421        8.788275   \n",
       "DTB-111       -0.120757   4.149063  -2.790817       -3.482054        2.450785   \n",
       "DTB-127       -3.184591   8.560851  -8.729394       -9.114683        8.142145   \n",
       "DTB-135       -5.417463  -5.529934  -1.724302       -5.913110       -7.503130   \n",
       "DTB-137       -8.616895  -8.776616  -1.802744       -8.879910       -9.195763   \n",
       "DTB-141       -8.912554  -8.653882  -3.109174       -9.147796       -9.034984   \n",
       "DTB-149       -8.701457  -8.489369  -3.044818       -9.184875       -8.644071   \n",
       "DTB-176        7.327104   1.415168   7.561499        7.223145       -8.015974   \n",
       "DTB-194       -7.941112  -7.508790  -3.172120       -8.351081       -7.900164   \n",
       "DTB-022Pro2   -7.400147  -2.785455  -5.930535       -9.439763       -3.114920   \n",
       "DTB-024Pro2   -8.849600  -3.194678  -7.387372      -11.068404       -3.109502   \n",
       "DTB-060Pro   -10.514950  -4.965110  -7.893888      -12.582621       -4.522859   \n",
       "DTB-063Pro   -10.668676 -10.593232  -4.895298      -11.070757      -10.259330   \n",
       "DTB-073Pro    -6.698168  -2.886766  -5.708058       -8.509679       -4.067747   \n",
       "DTB-080Pro    -2.570309  -3.826879  -2.439937       -3.874254       -5.669387   \n",
       "DTB-089Pro   -10.386594  -8.978902  -9.395243      -12.270029       -8.892979   \n",
       "DTB-102Pro    -4.542232  -3.252240  -1.393756       -5.226453       -5.384841   \n",
       "DTB-111Pro    -2.424843   8.512032  -8.555035       -8.815483        8.041623   \n",
       "DTB-127Pro    -3.119713  10.132822  -9.679576       -9.658040        9.441587   \n",
       "DTB-135Pro     9.120021  -2.238286   9.454391        8.963058       -9.817739   \n",
       "DTB-137Pro    -6.382281  -9.346544  -0.789968       -6.324173      -11.016810   \n",
       "DTB-141Pro    -6.564719  -8.149674  -1.127748       -6.450281      -10.148011   \n",
       "DTB-149Pro    -6.908872  -4.411473  -4.768659       -8.723981       -4.967482   \n",
       "DTB-176Pro    -0.116117   3.697686  -1.917698       -2.660200       -0.304254   \n",
       "DTB-194Pro    -5.147680  -2.727506  -3.262989       -6.675989       -3.674091   \n",
       "\n",
       "             adeno-scnc&iac TimePoint NEPC_label  \n",
       "Sample                                            \n",
       "DTB-022Pro         9.301889       Pre      adeno  \n",
       "DTB-024Pro         1.907963       Pre        NaN  \n",
       "DTB-060            1.798729       Pre        NaN  \n",
       "DTB-063            8.884372       Pre      adeno  \n",
       "DTB-073            8.634950       Pre      adeno  \n",
       "DTB-080           -8.474478       Pre        iac  \n",
       "DTB-089            8.950613       Pre      adeno  \n",
       "DTB-102           -8.850866       Pre        iac  \n",
       "DTB-111           -7.868412       Pre        NaN  \n",
       "DTB-127           -8.772682       Pre        iac  \n",
       "DTB-135            3.006759       Pre        NaN  \n",
       "DTB-137            8.471577       Pre      adeno  \n",
       "DTB-141            8.492049       Pre      adeno  \n",
       "DTB-149            8.283620       Pre      adeno  \n",
       "DTB-176           -8.199693       Pre       scnc  \n",
       "DTB-194            6.217054       Pre        NaN  \n",
       "DTB-022Pro2        2.161856      Post        NaN  \n",
       "DTB-024Pro2        2.082503      Post        NaN  \n",
       "DTB-060Pro         6.113202      Post        NaN  \n",
       "DTB-063Pro         9.929641      Post      adeno  \n",
       "DTB-073Pro         1.508085      Post        NaN  \n",
       "DTB-080Pro        -1.355366      Post        NaN  \n",
       "DTB-089Pro         8.896999      Post      adeno  \n",
       "DTB-102Pro         0.535251      Post        NaN  \n",
       "DTB-111Pro        -8.765852      Post        iac  \n",
       "DTB-127Pro       -10.114963      Post        iac  \n",
       "DTB-135Pro        -9.388223      Post       scnc  \n",
       "DTB-137Pro         7.003402      Post        NaN  \n",
       "DTB-141Pro         6.698397      Post        NaN  \n",
       "DTB-149Pro         3.866724      Post        NaN  \n",
       "DTB-176Pro        -6.761516      Post        NaN  \n",
       "DTB-194Pro         0.594775      Post        NaN  "
      ]
     },
     "execution_count": 11,
     "metadata": {},
     "output_type": "execute_result"
    }
   ],
   "source": [
    "df_WCDT_enza = df_mRNA.set_index(\"gene_id\").T.loc[list(df_sample_pairs.index)]\n",
    "\n",
    "assert(list(df_WCDT_enza.columns) == list(all_sigs.index))\n",
    "assert(list(df_WCDT_enza.index) == list(df_sample_pairs.index))\n",
    "all_sig_scores = pd.DataFrame(data=np.matmul(df_WCDT_enza.as_matrix(), all_sigs.as_matrix()), \n",
    "                              index=df_WCDT_enza.index, \n",
    "                              columns=all_sigs.columns)\n",
    "\n",
    "df_combined = pd.concat([all_sig_scores, df_sample_pairs], axis=1)\n",
    "df_combined"
   ]
  },
  {
   "cell_type": "code",
   "execution_count": 65,
   "metadata": {
    "collapsed": false,
    "scrolled": false
   },
   "outputs": [
    {
     "data": {
      "image/png": "[encoded data removed]",
      "text/plain": [
       "<matplotlib.figure.Figure at 0x7f5a31445940>"
      ]
     },
     "metadata": {},
     "output_type": "display_data"
    },
    {
     "data": {
      "image/png": "[encoded data removed]",
      "text/plain": [
       "<matplotlib.figure.Figure at 0x7f5a3141d390>"
      ]
     },
     "metadata": {},
     "output_type": "display_data"
    },
    {
     "data": {
      "image/png": "[encoded data removed]",
      "text/plain": [
       "<matplotlib.figure.Figure at 0x7f5a316e5710>"
      ]
     },
     "metadata": {},
     "output_type": "display_data"
    },
    {
     "data": {
      "image/png": "[encoded data removed]",
      "text/plain": [
       "<matplotlib.figure.Figure at 0x7f5a31311f60>"
      ]
     },
     "metadata": {},
     "output_type": "display_data"
    },
    {
     "data": {
      "image/png": "[encoded data removed]",
      "text/plain": [
       "<matplotlib.figure.Figure at 0x7f5a3127cb00>"
      ]
     },
     "metadata": {},
     "output_type": "display_data"
    },
    {
     "data": {
      "image/png": "[encoded data removed]",
      "text/plain": [
       "<matplotlib.figure.Figure at 0x7f5a35217b00>"
      ]
     },
     "metadata": {},
     "output_type": "display_data"
    }
   ],
   "source": [
    "for sig in all_sigs.columns:\n",
    "    plt.figure(sig, figsize=(9,5))\n",
    "    group1 = sig.split(\"-\")[0]\n",
    "    this_sig = df_combined.sort_values(by=sig, ascending=False)\n",
    "    highlight = list(this_sig[this_sig[\"NEPC_label\"] == group1].index)\n",
    "    rest = list(this_sig[this_sig[\"NEPC_label\"] != group1].index)\n",
    "    colors = dict(zip(highlight + rest, [\"#E35957\"] * len(highlight) + [\"#407CED\"] * len(rest)))\n",
    "    this_sig[sig].plot.bar(color=[colors[i] for i in this_sig.index])\n",
    "    plt.title(sig + \" signature\")\n",
    "    plt.ylabel(\"signature score\")\n",
    "    plt.legend([\"known \" + group1])"
   ]
  },
  {
   "cell_type": "code",
   "execution_count": 63,
   "metadata": {
    "collapsed": false
   },
   "outputs": [
    {
     "data": {
      "text/html": [
       "<div>\n",
       "<table border=\"1\" class=\"dataframe\">\n",
       "  <thead>\n",
       "    <tr style=\"text-align: right;\">\n",
       "      <th></th>\n",
       "      <th>scnc-adeno</th>\n",
       "      <th>iac-adeno</th>\n",
       "      <th>scnc-iac</th>\n",
       "      <th>scnc-adeno&amp;iac</th>\n",
       "      <th>iac-scnc&amp;adeno</th>\n",
       "      <th>adeno-scnc&amp;iac</th>\n",
       "    </tr>\n",
       "    <tr>\n",
       "      <th>Sample</th>\n",
       "      <th></th>\n",
       "      <th></th>\n",
       "      <th></th>\n",
       "      <th></th>\n",
       "      <th></th>\n",
       "      <th></th>\n",
       "    </tr>\n",
       "  </thead>\n",
       "  <tbody>\n",
       "    <tr>\n",
       "      <th>DTB-022</th>\n",
       "      <td>2.564996</td>\n",
       "      <td>6.751096</td>\n",
       "      <td>-0.633487</td>\n",
       "      <td>1.068229</td>\n",
       "      <td>6.569181</td>\n",
       "      <td>-7.140033</td>\n",
       "    </tr>\n",
       "    <tr>\n",
       "      <th>DTB-024</th>\n",
       "      <td>-1.602473</td>\n",
       "      <td>1.070264</td>\n",
       "      <td>-1.628747</td>\n",
       "      <td>-2.161362</td>\n",
       "      <td>2.140578</td>\n",
       "      <td>0.174540</td>\n",
       "    </tr>\n",
       "    <tr>\n",
       "      <th>DTB-060</th>\n",
       "      <td>-1.509192</td>\n",
       "      <td>-3.965503</td>\n",
       "      <td>1.959263</td>\n",
       "      <td>-0.507338</td>\n",
       "      <td>-3.159222</td>\n",
       "      <td>4.314473</td>\n",
       "    </tr>\n",
       "    <tr>\n",
       "      <th>DTB-063</th>\n",
       "      <td>-0.422323</td>\n",
       "      <td>-1.638824</td>\n",
       "      <td>1.906749</td>\n",
       "      <td>0.523943</td>\n",
       "      <td>-1.334955</td>\n",
       "      <td>1.045269</td>\n",
       "    </tr>\n",
       "    <tr>\n",
       "      <th>DTB-073</th>\n",
       "      <td>2.368584</td>\n",
       "      <td>6.140346</td>\n",
       "      <td>-1.750615</td>\n",
       "      <td>0.823379</td>\n",
       "      <td>5.221038</td>\n",
       "      <td>-7.126864</td>\n",
       "    </tr>\n",
       "    <tr>\n",
       "      <th>DTB-080</th>\n",
       "      <td>3.935232</td>\n",
       "      <td>-12.263056</td>\n",
       "      <td>7.465601</td>\n",
       "      <td>6.940368</td>\n",
       "      <td>-13.994894</td>\n",
       "      <td>7.119112</td>\n",
       "    </tr>\n",
       "    <tr>\n",
       "      <th>DTB-089</th>\n",
       "      <td>0.014642</td>\n",
       "      <td>0.129393</td>\n",
       "      <td>-0.928586</td>\n",
       "      <td>-0.485689</td>\n",
       "      <td>0.225844</td>\n",
       "      <td>-0.053614</td>\n",
       "    </tr>\n",
       "    <tr>\n",
       "      <th>DTB-102</th>\n",
       "      <td>6.577042</td>\n",
       "      <td>-12.154680</td>\n",
       "      <td>9.223174</td>\n",
       "      <td>7.148967</td>\n",
       "      <td>-14.173116</td>\n",
       "      <td>9.386116</td>\n",
       "    </tr>\n",
       "    <tr>\n",
       "      <th>DTB-111</th>\n",
       "      <td>-2.304086</td>\n",
       "      <td>4.362969</td>\n",
       "      <td>-5.764218</td>\n",
       "      <td>-5.333429</td>\n",
       "      <td>5.590838</td>\n",
       "      <td>-0.897440</td>\n",
       "    </tr>\n",
       "    <tr>\n",
       "      <th>DTB-127</th>\n",
       "      <td>0.064878</td>\n",
       "      <td>1.571971</td>\n",
       "      <td>-0.950181</td>\n",
       "      <td>-0.543358</td>\n",
       "      <td>1.299442</td>\n",
       "      <td>-1.342280</td>\n",
       "    </tr>\n",
       "    <tr>\n",
       "      <th>DTB-135</th>\n",
       "      <td>14.537484</td>\n",
       "      <td>3.291648</td>\n",
       "      <td>11.178694</td>\n",
       "      <td>14.876169</td>\n",
       "      <td>-2.314609</td>\n",
       "      <td>-12.394982</td>\n",
       "    </tr>\n",
       "    <tr>\n",
       "      <th>DTB-137</th>\n",
       "      <td>2.234614</td>\n",
       "      <td>-0.569928</td>\n",
       "      <td>1.012776</td>\n",
       "      <td>2.555736</td>\n",
       "      <td>-1.821047</td>\n",
       "      <td>-1.468175</td>\n",
       "    </tr>\n",
       "    <tr>\n",
       "      <th>DTB-141</th>\n",
       "      <td>2.347836</td>\n",
       "      <td>0.504208</td>\n",
       "      <td>1.981426</td>\n",
       "      <td>2.697515</td>\n",
       "      <td>-1.113027</td>\n",
       "      <td>-1.793652</td>\n",
       "    </tr>\n",
       "    <tr>\n",
       "      <th>DTB-149</th>\n",
       "      <td>1.792586</td>\n",
       "      <td>4.077896</td>\n",
       "      <td>-1.723841</td>\n",
       "      <td>0.460894</td>\n",
       "      <td>3.676588</td>\n",
       "      <td>-4.416896</td>\n",
       "    </tr>\n",
       "    <tr>\n",
       "      <th>DTB-176</th>\n",
       "      <td>-7.443221</td>\n",
       "      <td>2.282518</td>\n",
       "      <td>-9.479197</td>\n",
       "      <td>-9.883346</td>\n",
       "      <td>7.711721</td>\n",
       "      <td>1.438177</td>\n",
       "    </tr>\n",
       "    <tr>\n",
       "      <th>DTB-194</th>\n",
       "      <td>2.793432</td>\n",
       "      <td>4.781285</td>\n",
       "      <td>-0.090869</td>\n",
       "      <td>1.675091</td>\n",
       "      <td>4.226073</td>\n",
       "      <td>-5.622279</td>\n",
       "    </tr>\n",
       "  </tbody>\n",
       "</table>\n",
       "</div>"
      ],
      "text/plain": [
       "         scnc-adeno  iac-adeno   scnc-iac  scnc-adeno&iac  iac-scnc&adeno  \\\n",
       "Sample                                                                      \n",
       "DTB-022    2.564996   6.751096  -0.633487        1.068229        6.569181   \n",
       "DTB-024   -1.602473   1.070264  -1.628747       -2.161362        2.140578   \n",
       "DTB-060   -1.509192  -3.965503   1.959263       -0.507338       -3.159222   \n",
       "DTB-063   -0.422323  -1.638824   1.906749        0.523943       -1.334955   \n",
       "DTB-073    2.368584   6.140346  -1.750615        0.823379        5.221038   \n",
       "DTB-080    3.935232 -12.263056   7.465601        6.940368      -13.994894   \n",
       "DTB-089    0.014642   0.129393  -0.928586       -0.485689        0.225844   \n",
       "DTB-102    6.577042 -12.154680   9.223174        7.148967      -14.173116   \n",
       "DTB-111   -2.304086   4.362969  -5.764218       -5.333429        5.590838   \n",
       "DTB-127    0.064878   1.571971  -0.950181       -0.543358        1.299442   \n",
       "DTB-135   14.537484   3.291648  11.178694       14.876169       -2.314609   \n",
       "DTB-137    2.234614  -0.569928   1.012776        2.555736       -1.821047   \n",
       "DTB-141    2.347836   0.504208   1.981426        2.697515       -1.113027   \n",
       "DTB-149    1.792586   4.077896  -1.723841        0.460894        3.676588   \n",
       "DTB-176   -7.443221   2.282518  -9.479197       -9.883346        7.711721   \n",
       "DTB-194    2.793432   4.781285  -0.090869        1.675091        4.226073   \n",
       "\n",
       "         adeno-scnc&iac  \n",
       "Sample                   \n",
       "DTB-022       -7.140033  \n",
       "DTB-024        0.174540  \n",
       "DTB-060        4.314473  \n",
       "DTB-063        1.045269  \n",
       "DTB-073       -7.126864  \n",
       "DTB-080        7.119112  \n",
       "DTB-089       -0.053614  \n",
       "DTB-102        9.386116  \n",
       "DTB-111       -0.897440  \n",
       "DTB-127       -1.342280  \n",
       "DTB-135      -12.394982  \n",
       "DTB-137       -1.468175  \n",
       "DTB-141       -1.793652  \n",
       "DTB-149       -4.416896  \n",
       "DTB-176        1.438177  \n",
       "DTB-194       -5.622279  "
      ]
     },
     "execution_count": 63,
     "metadata": {},
     "output_type": "execute_result"
    }
   ],
   "source": [
    "# now convert the same graph into post-pre difference plot\n",
    "df_combined_pre = df_combined[df_combined.TimePoint == \"Pre\"].copy()\n",
    "df_combined_post = df_combined[df_combined.TimePoint == \"Post\"].copy()\n",
    "df_combined_pre.rename(index={\"DTB-022Pro\": \"DTB-022\", \"DTB-024Pro\": \"DTB-024\"}, inplace=True)\n",
    "rename_dict = dict(zip(df_combined_post.index, [i[:7] for i in df_combined_post.index]))\n",
    "df_combined_post.rename(index=rename_dict, inplace=True)\n",
    "df_combined_pre.drop([\"TimePoint\", \"NEPC_label\"], axis=1, inplace=True)\n",
    "df_combined_post.drop([\"TimePoint\", \"NEPC_label\"], axis=1, inplace=True)\n",
    "assert(list(df_combined_pre) == list(df_combined_post))\n",
    "df_combined_post_pre = df_combined_post - df_combined_pre\n",
    "df_combined_post_pre"
   ]
  },
  {
   "cell_type": "code",
   "execution_count": 64,
   "metadata": {
    "collapsed": false,
    "scrolled": false
   },
   "outputs": [
    {
     "data": {
      "image/png": "[encoded data removed]",
      "text/plain": [
       "<matplotlib.figure.Figure at 0x7f5a31445cc0>"
      ]
     },
     "metadata": {},
     "output_type": "display_data"
    },
    {
     "data": {
      "image/png": "[encoded data removed]",
      "text/plain": [
       "<matplotlib.figure.Figure at 0x7f5a34cc3438>"
      ]
     },
     "metadata": {},
     "output_type": "display_data"
    },
    {
     "data": {
      "image/png": "[encoded data removed]",
      "text/plain": [
       "<matplotlib.figure.Figure at 0x7f5a30fbd630>"
      ]
     },
     "metadata": {},
     "output_type": "display_data"
    },
    {
     "data": {
      "image/png": "[encoded data removed]",
      "text/plain": [
       "<matplotlib.figure.Figure at 0x7f5a30f13710>"
      ]
     },
     "metadata": {},
     "output_type": "display_data"
    },
    {
     "data": {
      "image/png": "[encoded data removed]",
      "text/plain": [
       "<matplotlib.figure.Figure at 0x7f5a3126f160>"
      ]
     },
     "metadata": {},
     "output_type": "display_data"
    },
    {
     "data": {
      "image/png": "[encoded data removed]",
      "text/plain": [
       "<matplotlib.figure.Figure at 0x7f5a31421860>"
      ]
     },
     "metadata": {},
     "output_type": "display_data"
    }
   ],
   "source": [
    "for sig in df_combined_post_pre.columns:\n",
    "    plt.figure(sig, figsize=(9,5))\n",
    "    group1 = sig.split(\"-\")[0]\n",
    "    this_df = df_combined_post_pre.sort_values(by=sig, ascending=False)\n",
    "    this_df[sig].plot.bar()\n",
    "    plt.title(sig + \" post-pre score\")\n",
    "    plt.ylabel(\"post-pre score\")"
   ]
  },
  {
   "cell_type": "code",
   "execution_count": null,
   "metadata": {
    "collapsed": true
   },
   "outputs": [],
   "source": []
  }
 ],
 "metadata": {
  "kernelspec": {
   "display_name": "Python 3",
   "language": "python",
   "name": "python3"
  },
  "language_info": {
   "codemirror_mode": {
    "name": "ipython",
    "version": 3
   },
   "file_extension": ".py",
   "mimetype": "text/x-python",
   "name": "python",
   "nbconvert_exporter": "python",
   "pygments_lexer": "ipython3",
   "version": "3.6.0"
  }
 },
 "nbformat": 4,
 "nbformat_minor": 2
}
