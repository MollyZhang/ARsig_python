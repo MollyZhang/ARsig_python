{
 "cells": [
  {
   "cell_type": "code",
   "execution_count": 2,
   "metadata": {
    "collapsed": false
   },
   "outputs": [
    {
     "data": {
      "application/javascript": [
       "IPython.notebook.set_autosave_interval(10000)"
      ]
     },
     "metadata": {},
     "output_type": "display_data"
    },
    {
     "name": "stdout",
     "output_type": "stream",
     "text": [
      "Autosaving every 10 seconds\n"
     ]
    }
   ],
   "source": [
    "# %load startup_script.py\n",
    "\n",
    "# numerical & stats \n",
    "import pandas as pd\n",
    "import numpy as np\n",
    "from scipy import stats\n",
    "\n",
    "# plotting\n",
    "from matplotlib import pyplot as plt\n",
    "\n",
    "# machine learning\n",
    "from sklearn import linear_model\n",
    "\n",
    "# jupyte notebook amenities\n",
    "%matplotlib inline\n",
    "%autosave 10"
   ]
  },
  {
   "cell_type": "code",
   "execution_count": 11,
   "metadata": {
    "collapsed": true
   },
   "outputs": [],
   "source": [
    "WCDT_mRNA = \"./data/WCDT_mRNA.tsv\"\n",
    "WCDT_clinical = \"./data/WCDT_clinical.tsv\""
   ]
  },
  {
   "cell_type": "code",
   "execution_count": 12,
   "metadata": {
    "collapsed": false
   },
   "outputs": [
    {
     "name": "stdout",
     "output_type": "stream",
     "text": [
      "[[  5.62949616e-03  -2.92058734e-03   5.87813146e-04 ...,  -9.67582040e-04\n",
      "    8.88064571e-06   2.26914213e-04]]\n"
     ]
    }
   ],
   "source": [
    "# small cell v.s. not small cell\n",
    "\n",
    "def data_prep1():\n",
    "    df_mRNA = pd.read_csv(WCDT_mRNA, delimiter=\"\\t\")\n",
    "    df_clinical = pd.read_csv(WCDT_clinical, delimiter=\"\\t\")\n",
    "    \n",
    "    #extract y label\n",
    "    y = df_clinical[[\"Patient ID\", \"Classification #3\"]].copy()\n",
    "    y = y[y[\"Classification #3\"]!=\"Exclude\"]\n",
    "    y.set_index(\"Patient ID\", inplace=True)\n",
    "    y[y[\"Classification #3\"].isin([\"Small cell\", \"Small Cell\"])] = 1\n",
    "    y[y[\"Classification #3\"].isin([\"Not small cell\", \"Not-small cell\"])] = 0\n",
    "    y.index.rename(\"patient_id\", inplace=True)\n",
    "    y.rename(columns={\"Classification #3\":\"NEPC_label\"}, inplace=True)\n",
    "    \n",
    "    # get sample overlap between WCDT mRNA and WCDT clinical\n",
    "    df_mRNA.set_index(\"gene_id\", inplace=True)\n",
    "    X = df_mRNA.transpose()\n",
    "    X.index.rename(\"patient_id\", inplace=True)\n",
    "    overlap = set(X.index).intersection(set(y.index))\n",
    "    y = y[y.index.isin(overlap)]\n",
    "    X = X[X.index.isin(overlap)]\n",
    "    \n",
    "    # order X and Y so that same sample name match up\n",
    "    X.sort_index(inplace=True)\n",
    "    y.sort_index(inplace=True)\n",
    "    assert(list(X.index) == list(y.index))\n",
    "    \n",
    "    \n",
    "    return X, y\n",
    "\n",
    "\n",
    "X, y = data_prep1()\n",
    "classifiers = {#\"Enet\": linear_model.ElasticNet(alpha=0.1, l1_ratio=0.001),\n",
    "               \"Logistic Regression\": linear_model.LogisticRegression(), \n",
    "               #\"Lasso\": linear_model.Lasso(alpha=0.01), \n",
    "               #\"Ridge Regression\": linear_model.Ridge(),\n",
    "               #\"KernelRidge\": kernel_ridge.KernelRidge()\n",
    "              }\n",
    "\n",
    "for classifier_name, classifier in classifiers.items():\n",
    "    classifier.fit(X, np.array(list(y['NEPC_label'])))\n",
    "    print(classifier.coef_)"
   ]
  },
  {
   "cell_type": "code",
   "execution_count": 18,
   "metadata": {
    "collapsed": false
   },
   "outputs": [
    {
     "name": "stdout",
     "output_type": "stream",
     "text": [
      "19709\n",
      "18761\n",
      "union 19709\n",
      "intersection 16680\n"
     ]
    },
    {
     "data": {
      "text/plain": [
       "<matplotlib.text.Text at 0x7f422a9f4240>"
      ]
     },
     "execution_count": 18,
     "metadata": {},
     "output_type": "execute_result"
    },
    {
     "data": {
      "image/png": "[encoded data removed]",
      "text/plain": [
       "<matplotlib.figure.Figure at 0x7f422a9e35c0>"
      ]
     },
     "metadata": {},
     "output_type": "display_data"
    }
   ],
   "source": [
    "# small cell v.s. adeno\n",
    "\n",
    "def data_prep2():\n",
    "    df_mRNA = pd.read_csv(WCDT_mRNA, delimiter=\"\\t\")\n",
    "    df_clinical = pd.read_csv(WCDT_clinical, delimiter=\"\\t\")\n",
    "    \n",
    "    #extract y label    \n",
    "    y = df_clinical[[\"Patient ID\", \"Classification #1\"]].copy()\n",
    "    y = y[~y[\"Classification #1\"].isin([\"Exclude\", \"IAC\"])]\n",
    "\n",
    "\n",
    "    y.set_index(\"Patient ID\", inplace=True)\n",
    "    \n",
    "    y[y[\"Classification #1\"].isin([\"Small cell\", \"Small Cell\"])] = 1\n",
    "    y[y[\"Classification #1\"].isin([\"Adeno\", \"Adenocarcinoma\"])] = 0\n",
    "    y.index.rename(\"patient_id\", inplace=True)\n",
    "    y.rename(columns={\"Classification #1\":\"NEPC_label\"}, inplace=True)    \n",
    "    \n",
    "    # get sample overlap between WCDT mRNA and WCDT clinical\n",
    "    X = df_mRNA.set_index(\"gene_id\")\n",
    "    X = X.transpose()\n",
    "    overlap = set(X.index).intersection(set(y.index))\n",
    "    y = y[y.index.isin(overlap)]\n",
    "    X = X[X.index.isin(overlap)]\n",
    "    \n",
    "    # order X and Y so that same sample name match up\n",
    "    X.sort_index(inplace=True)\n",
    "    y.sort_index(inplace=True)\n",
    "    assert(list(X.index) == list(y.index))\n",
    "    \n",
    "    return X, y\n",
    "\n",
    "X, y = data_prep2()\n",
    "classifiers = {#\"Enet\": linear_model.ElasticNet(alpha=0.1, l1_ratio=0.001),\n",
    "               \"Logistic Regression\": linear_model.LogisticRegression(), \n",
    "               #\"Lasso\": linear_model.Lasso(alpha=0.01), \n",
    "               #\"Ridge Regression\": linear_model.Ridge(),\n",
    "               #\"KernelRidge\": kernel_ridge.KernelRidge()\n",
    "              }\n",
    "\n",
    "for classifier_name, classifier in classifiers.items():\n",
    "    classifier.fit(X, np.array(list(y['NEPC_label'])))\n",
    "    scnc_v_adeno = classifier.coef_[0]\n",
    "scnc_v_adeno_dict = dict(zip(X.columns, scnc_v_adeno))\n",
    "\n",
    "sigs = pd.read_csv(\"data/NEPC/scnc-v-adeno-20k-sig.rnk\", \n",
    "                         delimiter=\"\\t\", names=[\"gene\",\"artem\"], index_col=0)\n",
    "\n",
    "print(len(sigs.index))\n",
    "print(len(scnc_v_adeno))\n",
    "\n",
    "for gene, py_score in scnc_v_adeno_dict.items():\n",
    "    if gene in sigs.index:\n",
    "        sigs.set_value(gene, \"python\", py_score)\n",
    "        \n",
    "print(\"union\", len(sigs.index))\n",
    "        \n",
    "sigs.dropna(inplace=True)\n",
    "\n",
    "print(\"intersection\", len(sigs.index))\n",
    "\n",
    "\n",
    "plt.scatter(sigs[\"artem\"], sigs[\"python\"])\n",
    "plt.title(\"pearson corr %.2f (scnc-v-adeno)\" %stats.pearsonr(sigs[\"artem\"], sigs[\"python\"])[0])\n",
    "plt.xlabel(\"R-artem\")\n",
    "plt.ylabel(\"python-molly\")"
   ]
  },
  {
   "cell_type": "code",
   "execution_count": 14,
   "metadata": {
    "collapsed": false
   },
   "outputs": [
    {
     "data": {
      "text/plain": [
       "<matplotlib.text.Text at 0x7f422ae83940>"
      ]
     },
     "execution_count": 14,
     "metadata": {},
     "output_type": "execute_result"
    },
    {
     "data": {
      "image/png": "[encoded data removed]",
      "text/plain": [
       "<matplotlib.figure.Figure at 0x7f422aab59e8>"
      ]
     },
     "metadata": {},
     "output_type": "display_data"
    }
   ],
   "source": [
    "# IAC v.s. adeno\n",
    "\n",
    "def data_prep2():\n",
    "    df_mRNA = pd.read_csv(WCDT_mRNA, delimiter=\"\\t\")\n",
    "    df_clinical = pd.read_csv(WCDT_clinical, delimiter=\"\\t\")\n",
    "    \n",
    "    #extract y label    \n",
    "    y = df_clinical[[\"Patient ID\", \"Classification #1\"]].copy()\n",
    "    y = y[~y[\"Classification #1\"].isin([\"Exclude\", \"Small cell\", \"Small Cell\"])]\n",
    "\n",
    "\n",
    "    y.set_index(\"Patient ID\", inplace=True)\n",
    "    \n",
    "    y[y[\"Classification #1\"].isin([\"IAC\"])] = 1\n",
    "    y[y[\"Classification #1\"].isin([\"Adeno\", \"Adenocarcinoma\"])] = 0\n",
    "    y.index.rename(\"patient_id\", inplace=True)\n",
    "    y.rename(columns={\"Classification #1\":\"NEPC_label\"}, inplace=True)    \n",
    "    \n",
    "    # get sample overlap between WCDT mRNA and WCDT clinical\n",
    "    X = df_mRNA.set_index(\"gene_id\")\n",
    "    X = X.transpose()\n",
    "    overlap = set(X.index).intersection(set(y.index))\n",
    "    y = y[y.index.isin(overlap)]\n",
    "    X = X[X.index.isin(overlap)]\n",
    "    \n",
    "    # order X and Y so that same sample name match up\n",
    "    X.sort_index(inplace=True)\n",
    "    y.sort_index(inplace=True)\n",
    "    assert(list(X.index) == list(y.index))\n",
    "    \n",
    "    return X, y\n",
    "\n",
    "X, y = data_prep2()\n",
    "\n",
    "classifiers = {#\"Enet\": linear_model.ElasticNet(alpha=0.1, l1_ratio=0.001),\n",
    "               \"Logistic Regression\": linear_model.LogisticRegression(), \n",
    "               #\"Lasso\": linear_model.Lasso(alpha=0.01), \n",
    "               #\"Ridge Regression\": linear_model.Ridge(),\n",
    "               #\"KernelRidge\": kernel_ridge.KernelRidge()\n",
    "              }\n",
    "\n",
    "for classifier_name, classifier in classifiers.items():\n",
    "    classifier.fit(X, np.array(list(y['NEPC_label'])))\n",
    "    iac_v_adeno = classifier.coef_[0]\n",
    "iac_v_adeno_dict = dict(zip(X.columns, iac_v_adeno))\n",
    "\n",
    "sigs = pd.read_csv(\"data/NEPC/iac-v-adeno-20k-sig.rnk\", \n",
    "                         delimiter=\"\\t\", names=[\"gene\",\"artem\"], index_col=0)\n",
    "\n",
    "for gene, py_score in scnc_v_adeno_dict.items():\n",
    "    if gene in sigs.index:\n",
    "        sigs.set_value(gene, \"python\", py_score)\n",
    "sigs.dropna(inplace=True)\n",
    "plt.scatter(sigs[\"artem\"], sigs[\"python\"])\n",
    "plt.title(\"pearson corr %.2f (iac-v-adeno)\" %stats.pearsonr(sigs[\"artem\"], sigs[\"python\"])[0])\n",
    "plt.xlabel(\"R-artem\")\n",
    "plt.ylabel(\"python-molly\")"
   ]
  },
  {
   "cell_type": "code",
   "execution_count": null,
   "metadata": {
    "collapsed": true
   },
   "outputs": [],
   "source": []
  }
 ],
 "metadata": {
  "kernelspec": {
   "display_name": "Python 3",
   "language": "python",
   "name": "python3"
  },
  "language_info": {
   "codemirror_mode": {
    "name": "ipython",
    "version": 3
   },
   "file_extension": ".py",
   "mimetype": "text/x-python",
   "name": "python",
   "nbconvert_exporter": "python",
   "pygments_lexer": "ipython3",
   "version": "3.6.0"
  }
 },
 "nbformat": 4,
 "nbformat_minor": 2
}
