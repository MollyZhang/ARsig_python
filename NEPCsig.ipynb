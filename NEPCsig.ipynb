{
 "cells": [
  {
   "cell_type": "markdown",
   "metadata": {},
   "source": [
    "### NPPC signature in python:\n",
    "1. small cell v.s. not small cell (not small cell == IAC + adeno)\n",
    "2. small cell v.s. adeno\n",
    "3. iac v.s. adeno"
   ]
  },
  {
   "cell_type": "code",
   "execution_count": 2,
   "metadata": {
    "collapsed": false
   },
   "outputs": [
    {
     "data": {
      "application/javascript": [
       "IPython.notebook.set_autosave_interval(10000)"
      ]
     },
     "metadata": {},
     "output_type": "display_data"
    },
    {
     "name": "stdout",
     "output_type": "stream",
     "text": [
      "Autosaving every 10 seconds\n"
     ]
    }
   ],
   "source": [
    "# %load startup_script.py\n",
    "\n",
    "# numerical & stats \n",
    "import pandas as pd\n",
    "import numpy as np\n",
    "from scipy import stats\n",
    "\n",
    "# plotting\n",
    "from matplotlib import pyplot as plt\n",
    "\n",
    "# machine learning\n",
    "from sklearn import linear_model\n",
    "\n",
    "# jupyte notebook amenities\n",
    "%matplotlib inline\n",
    "%autosave 10"
   ]
  },
  {
   "cell_type": "code",
   "execution_count": 11,
   "metadata": {
    "collapsed": false,
    "scrolled": false
   },
   "outputs": [],
   "source": [
    "WCDT_mRNA = \"./data/WCDT_mRNA.tsv\"\n",
    "WCDT_clinical = \"./data/WCDT_clinical.tsv\"\n",
    "df_mRNA = pd.read_csv(WCDT_mRNA, delimiter=\"\\t\")\n",
    "df_clinical = pd.read_csv(WCDT_clinical, delimiter=\"\\t\")"
   ]
  },
  {
   "cell_type": "code",
   "execution_count": 53,
   "metadata": {
    "collapsed": true
   },
   "outputs": [],
   "source": [
    "def extract_label(df_clinical):\n",
    "    # extract information from classification #1\n",
    "    y_df = df_clinical[[\"Patient ID\", \"Classification #1\",]].copy()\n",
    "    y_df.rename(columns={\"Classification #1\":\"NEPC_label\", \"Patient ID\": \"Patient_ID\"}, inplace=True)\n",
    "    y_df = y_df[y_df[\"NEPC_label\"]!=\"Exclude\"].copy()\n",
    "    \n",
    "    # uniform various naming discrepancies\n",
    "    y_df.set_index(\"Patient_ID\", inplace=True)\n",
    "    y_df[y_df[\"NEPC_label\"].isin([\"Small cell\", \"Small Cell\"])] = \"scnc\"\n",
    "    y_df[y_df[\"NEPC_label\"].isin([\"Adenocarcinoma\", \"Adeno\"])] = \"adeno\"\n",
    "    y_df[y_df[\"NEPC_label\"].isin([\"IAC\"])] = \"iac\"\n",
    "    return y_df"
   ]
  },
  {
   "cell_type": "code",
   "execution_count": 54,
   "metadata": {
    "collapsed": false
   },
   "outputs": [],
   "source": [
    "def data_prep(x=df_mRNA, y=df_clinical, group0=[\"adeno\"], group1=[\"scnc\"]):\n",
    "    \"\"\" \n",
    "    extract the samples in label group zero v.s. label group one, \n",
    "    in training, the former is assigned a label of 0 and the latter is asigned a label of 1\n",
    "    \"\"\"\n",
    "    # extract desired groups from y\n",
    "    y = extract_label(df_clinical)\n",
    "    y[y[\"NEPC_label\"].isin(group1)] = 1\n",
    "    y[y[\"NEPC_label\"].isin(group0)] = 0\n",
    "    y = y[y[\"NEPC_label\"].isin([0, 1])]\n",
    "\n",
    "    # get sample overlap between mRNA and y\n",
    "    X = df_mRNA.set_index(\"gene_id\").transpose()\n",
    "    overlap = set(X.index).intersection(set(y.index))\n",
    "    y = y[y.index.isin(overlap)]\n",
    "    X = X[X.index.isin(overlap)]\n",
    "    \n",
    "    # order X and Y so that same sample name match up\n",
    "    X.sort_index(inplace=True)\n",
    "    y.sort_index(inplace=True)\n",
    "    assert(list(X.index) == list(y.index))\n",
    "    \n",
    "    return X, y    "
   ]
  },
  {
   "cell_type": "code",
   "execution_count": 55,
   "metadata": {
    "collapsed": true
   },
   "outputs": [],
   "source": [
    "def calc_signature(X, y, classifier=linear_model.LogisticRegression()):\n",
    "    classifier.fit(X, np.array(list(y['NEPC_label'])))\n",
    "    return pd.DataFrame(index=X.columns, data=classifier.coef_[0], columns=[\"python\"])"
   ]
  },
  {
   "cell_type": "code",
   "execution_count": 61,
   "metadata": {
    "collapsed": false
   },
   "outputs": [
    {
     "data": {
      "image/png": "[encoded data removed]",
      "text/plain": [
       "<matplotlib.figure.Figure at 0x7ffa2cd37240>"
      ]
     },
     "metadata": {},
     "output_type": "display_data"
    },
    {
     "data": {
      "image/png": "[encoded data removed]",
      "text/plain": [
       "<matplotlib.figure.Figure at 0x7ffa2cc612e8>"
      ]
     },
     "metadata": {},
     "output_type": "display_data"
    }
   ],
   "source": [
    "# Comparison with Artem's NEPC signature\n",
    "for comparison in [\"scnc-v-adeno\", \"iac-v-adeno\"]:\n",
    "    # get python gene signature\n",
    "    group0 = comparison.split(\"-\")[-1]\n",
    "    group1 = comparison.split(\"-\")[0]\n",
    "    X, y = data_prep(group0=[group0], group1=[group1])\n",
    "    python_sig = calc_signature(X, y)\n",
    "    \n",
    "    # get gene overlap between artem signature and python signature\n",
    "    artem_file = \"data/NEPC/{0}-20k-sig.rnk\".format(comparison)\n",
    "    artem_sig = pd.read_csv(artem_file, delimiter=\"\\t\", names=[\"gene\",\"artem\"], index_col=0)\n",
    "    sigs = pd.concat([python_sig, artem_sig], axis=1, join=\"inner\")\n",
    "    \n",
    "    # plot\n",
    "    plt.figure(comparison)\n",
    "    plt.scatter(sigs[\"artem\"], sigs[\"python\"])\n",
    "    plt.title(\"pearson correlation %.2f (%s)\" %(stats.pearsonr(sigs[\"artem\"], sigs[\"python\"])[0], comparison))\n",
    "    plt.xlabel(\"R-artem\")\n",
    "    plt.ylabel(\"python-molly\")"
   ]
  },
  {
   "cell_type": "code",
   "execution_count": null,
   "metadata": {
    "collapsed": true
   },
   "outputs": [],
   "source": []
  }
 ],
 "metadata": {
  "kernelspec": {
   "display_name": "Python 3",
   "language": "python",
   "name": "python3"
  },
  "language_info": {
   "codemirror_mode": {
    "name": "ipython",
    "version": 3
   },
   "file_extension": ".py",
   "mimetype": "text/x-python",
   "name": "python",
   "nbconvert_exporter": "python",
   "pygments_lexer": "ipython3",
   "version": "3.6.0"
  }
 },
 "nbformat": 4,
 "nbformat_minor": 2
}
