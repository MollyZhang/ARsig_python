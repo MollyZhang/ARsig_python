{
 "cells": [
  {
   "cell_type": "markdown",
   "metadata": {},
   "source": [
    "### Use TCGA expression data to train RB1 signature"
   ]
  },
  {
   "cell_type": "code",
   "execution_count": 1,
   "metadata": {
    "collapsed": true
   },
   "outputs": [],
   "source": [
    "import pandas as pd\n",
    "import numpy as np\n",
    "import time\n",
    "\n",
    "from sklearn.linear_model import LogisticRegression, SGDClassifier\n",
    "\n",
    "import helper"
   ]
  },
  {
   "cell_type": "markdown",
   "metadata": {},
   "source": [
    "#### 1. TCGA expression data and RB1 mutation data preprocessing "
   ]
  },
  {
   "cell_type": "code",
   "execution_count": 2,
   "metadata": {
    "collapsed": true
   },
   "outputs": [],
   "source": [
    "mRNA_file = \"./data/TCGA/mRNA.tsv\"\n",
    "mutation_file = \"./data/TCGA/RB1_maf.tsv\"\n",
    "clinical_file = \"./data/TCGA/clinical.tsv\"\n",
    "copynumber_file = \"./data/TCGA/RB1_copynumber.tsv\""
   ]
  },
  {
   "cell_type": "code",
   "execution_count": 23,
   "metadata": {
    "collapsed": true
   },
   "outputs": [],
   "source": [
    "mRNA_df = pd.read_csv(mRNA_file, delimiter=\"\\t\")\n",
    "# dropna\n",
    "mRNA_df.dropna(inplace=True)\n",
    "# transpose\n",
    "mRNA_df_transposed = mRNA_df.set_index(\"gene_id\").transpose()\n",
    "# take log\n",
    "mRNA_df_transposed_log = mRNA_df_transposed.applymap(lambda x:np.log(x+1))\n",
    "# save preprocessed mRNA (dropna, transpose, log)\n",
    "mRNA_df_transposed_log.index.name = \"sample_id\"\n",
    "mRNA_df_transposed_log.to_csv(\"./data/TCGA/mRNA_transpose_log.csv\")"
   ]
  },
  {
   "cell_type": "code",
   "execution_count": 364,
   "metadata": {
    "collapsed": false
   },
   "outputs": [],
   "source": [
    "# get just prostate tissue\n",
    "def get_label(barcode, dic):\n",
    "    patient_id = barcode[:12]\n",
    "    if patient_id in dic:\n",
    "        return dic[patient_id]\n",
    "    else:\n",
    "        return None\n",
    "\n",
    "mRNA_df = pd.read_csv(\"./data/TCGA/mRNA_transpose_log.csv\")\n",
    "clinical_df = pd.read_csv(clinical_file, delimiter=\"\\t\", \n",
    "                          encoding=\"ISO-8859-1\", low_memory=False)\n",
    "tissue_dict = dict(zip(clinical_df.bcr_patient_barcode, clinical_df.acronym))\n",
    "label_df = pd.DataFrame(index=mRNA_df.sample_id)\n",
    "label_df[\"tissue\"] = list(mRNA_df.sample_id.apply(lambda x: get_label(x, tissue_dict)))\n",
    "prostate_samples = list(label_df[label_df.tissue == \"PRAD\"].index)\n",
    "prostate_mRNA_df = mRNA_df[mRNA_df.sample_id.isin(prostate_samples)]\n",
    "prostate_mRNA_df.to_csv(\"./data/TCGA/mRNA_transpose_log_prostate.csv\", index=None)"
   ]
  },
  {
   "cell_type": "code",
   "execution_count": 246,
   "metadata": {
    "collapsed": false
   },
   "outputs": [
    {
     "data": {
      "text/plain": [
       "0    10684\n",
       "1      385\n",
       "Name: RB_mutated, dtype: int64"
      ]
     },
     "execution_count": 246,
     "metadata": {},
     "output_type": "execute_result"
    }
   ],
   "source": [
    "# get RB1 mutation status from MAF file\n",
    "def is_RB1_mutated(variant_classification):\n",
    "    if variant_classification in [\"Silent\", \"3'UTR\", \"Intron\"]:\n",
    "        return 0\n",
    "    else:\n",
    "        return 1\n",
    "    \n",
    "def add_to_label(barcode):\n",
    "    if barcode[:15] not in RB1_dict.keys():\n",
    "        return 0\n",
    "    else:\n",
    "        return RB1_dict[barcode[:15]]\n",
    "    \n",
    "    \n",
    "rb_df = pd.read_csv(mutation_file, delimiter=\"\\t\")\n",
    "rb_df[\"RB1_mutated\"] = rb_df.Variant_Classification.apply(is_RB1_mutated)\n",
    "RB1_dict = dict(zip([i[:15] for i in rb_df.Tumor_Sample_Barcode], \n",
    "                    rb_df.RB1_mutated))\n",
    "\n",
    "assert(list(label_df.index) == list(mRNA_df.sample_id))\n",
    "label_df[\"RB_mutated\"] = list(map(add_to_label, list(label_df.index)))\n",
    "label_df.RB_mutated.value_counts()"
   ]
  },
  {
   "cell_type": "code",
   "execution_count": 275,
   "metadata": {
    "collapsed": false
   },
   "outputs": [
    {
     "data": {
      "text/plain": [
       "0    10769\n",
       "1      300\n",
       "Name: RB_mutated1, dtype: int64"
      ]
     },
     "execution_count": 275,
     "metadata": {},
     "output_type": "execute_result"
    }
   ],
   "source": [
    "# get RB1 mutation from copy number file\n",
    "def add_RB_cnv_info(barcode):\n",
    "    sample_id = barcode[:15]\n",
    "    if sample_id not in RB1_cnv_dict.keys():\n",
    "        return 0\n",
    "    else:\n",
    "        copynumber = RB1_cnv_dict[sample_id]\n",
    "        if copynumber == -2:\n",
    "            return 1\n",
    "        else: return 0\n",
    "\n",
    "df_cnv = pd.read_csv(copynumber_file, delimiter=\"\\t\")\n",
    "sample_cols = [i for i in df_cnv.columns if \"TCGA\" in i]\n",
    "df_cnv = df_cnv[sample_cols]\n",
    "RB1_cnv_dict = dict(zip([i[:15] for i in df_cnv.columns], df_cnv.iloc[0]))\n",
    "label_df[\"RB_mutated1\"] = list(map(add_RB_cnv_info, list(label_df.index)))\n",
    "label_df.RB_mutated1.value_counts()"
   ]
  },
  {
   "cell_type": "code",
   "execution_count": 283,
   "metadata": {
    "collapsed": false
   },
   "outputs": [
    {
     "data": {
      "text/plain": [
       "0    10404\n",
       "1      665\n",
       "Name: rb_final, dtype: int64"
      ]
     },
     "execution_count": 283,
     "metadata": {},
     "output_type": "execute_result"
    }
   ],
   "source": [
    "label_df[\"rb_final\"] = 0\n",
    "label_df.loc[(label_df.RB_mutated==1)|(label_df.RB_mutated1==1), \"rb_final\"] = 1\n",
    "label_df.rb_final.value_counts()"
   ]
  },
  {
   "cell_type": "code",
   "execution_count": 284,
   "metadata": {
    "collapsed": false
   },
   "outputs": [
    {
     "data": {
      "text/plain": [
       "0    502\n",
       "1     48\n",
       "Name: rb_final, dtype: int64"
      ]
     },
     "execution_count": 284,
     "metadata": {},
     "output_type": "execute_result"
    }
   ],
   "source": [
    "label_df[label_df.tissue==\"PRAD\"][\"rb_final\"].value_counts()"
   ]
  },
  {
   "cell_type": "code",
   "execution_count": 285,
   "metadata": {
    "collapsed": true
   },
   "outputs": [],
   "source": [
    "label_df.to_csv(\"./data/TCGA/RB_labels.csv\")"
   ]
  },
  {
   "cell_type": "markdown",
   "metadata": {
    "collapsed": true
   },
   "source": [
    "### 2. Training Signature with Logistic Regression (with L1 regularization)\n",
    "#### 2.1 with just prostate sample"
   ]
  },
  {
   "cell_type": "code",
   "execution_count": 2,
   "metadata": {
    "collapsed": false
   },
   "outputs": [],
   "source": [
    "classifiers = {\"LR\": LogisticRegression(penalty=\"l1\", C=0.05, class_weight=\"balanced\"),\n",
    "               \"ElasticNet\": SGDClassifier(loss=\"log\", penalty=\"elasticnet\", \n",
    "                                           alpha=0.01, n_iter=100, random_state=0)}"
   ]
  },
  {
   "cell_type": "code",
   "execution_count": 3,
   "metadata": {
    "collapsed": false
   },
   "outputs": [],
   "source": [
    "label_df = pd.read_csv(\"./data/TCGA/RB_labels.csv\", index_col=\"sample_id\")\n",
    "X_prostate = pd.read_csv(\"./data/TCGA/mRNA_transpose_log_prostate.csv\", index_col=\"sample_id\")\n",
    "y_prostate = label_df[label_df.tissue==\"PRAD\"].rb_final\n",
    "assert(list(X_prostate.index) == list(y_prostate.index))"
   ]
  },
  {
   "cell_type": "code",
   "execution_count": 4,
   "metadata": {
    "collapsed": false
   },
   "outputs": [
    {
     "name": "stdout",
     "output_type": "stream",
     "text": [
      "1,2,3,4,5,6,7,8,9,10,"
     ]
    }
   ],
   "source": [
    "# stratified cross validation\n",
    "# high regularization\n",
    "# balance class weight with label frequency\n",
    "X = X_prostate.as_matrix()\n",
    "y = y_prostate.as_matrix()\n",
    "\n",
    "result_df = helper.stratified_cv(X, y, classifiers[\"LR\"])"
   ]
  },
  {
   "cell_type": "code",
   "execution_count": 5,
   "metadata": {
    "collapsed": false
   },
   "outputs": [
    {
     "data": {
      "text/html": [
       "<div>\n",
       "<table border=\"1\" class=\"dataframe\">\n",
       "  <thead>\n",
       "    <tr style=\"text-align: right;\">\n",
       "      <th></th>\n",
       "      <th>1</th>\n",
       "      <th>2</th>\n",
       "      <th>3</th>\n",
       "      <th>4</th>\n",
       "      <th>5</th>\n",
       "      <th>6</th>\n",
       "      <th>7</th>\n",
       "      <th>8</th>\n",
       "      <th>9</th>\n",
       "      <th>10</th>\n",
       "    </tr>\n",
       "  </thead>\n",
       "  <tbody>\n",
       "    <tr>\n",
       "      <th>train AUC</th>\n",
       "      <td>0.919095</td>\n",
       "      <td>0.930181</td>\n",
       "      <td>0.938593</td>\n",
       "      <td>0.942478</td>\n",
       "      <td>0.931956</td>\n",
       "      <td>0.951327</td>\n",
       "      <td>0.943584</td>\n",
       "      <td>0.946903</td>\n",
       "      <td>0.941372</td>\n",
       "      <td>0.952434</td>\n",
       "    </tr>\n",
       "    <tr>\n",
       "      <th>test AUC</th>\n",
       "      <td>0.621569</td>\n",
       "      <td>0.680392</td>\n",
       "      <td>0.740000</td>\n",
       "      <td>0.830000</td>\n",
       "      <td>0.750000</td>\n",
       "      <td>0.730000</td>\n",
       "      <td>0.760000</td>\n",
       "      <td>0.630000</td>\n",
       "      <td>0.390000</td>\n",
       "      <td>0.690000</td>\n",
       "    </tr>\n",
       "  </tbody>\n",
       "</table>\n",
       "</div>"
      ],
      "text/plain": [
       "                 1         2         3         4         5         6   \\\n",
       "train AUC  0.919095  0.930181  0.938593  0.942478  0.931956  0.951327   \n",
       "test AUC   0.621569  0.680392  0.740000  0.830000  0.750000  0.730000   \n",
       "\n",
       "                 7         8         9         10  \n",
       "train AUC  0.943584  0.946903  0.941372  0.952434  \n",
       "test AUC   0.760000  0.630000  0.390000  0.690000  "
      ]
     },
     "execution_count": 5,
     "metadata": {},
     "output_type": "execute_result"
    }
   ],
   "source": [
    "result_df"
   ]
  },
  {
   "cell_type": "code",
   "execution_count": 6,
   "metadata": {
    "collapsed": false
   },
   "outputs": [
    {
     "data": {
      "text/plain": [
       "train AUC    0.939792\n",
       "test AUC     0.682196\n",
       "dtype: float64"
      ]
     },
     "execution_count": 6,
     "metadata": {},
     "output_type": "execute_result"
    }
   ],
   "source": [
    "result_df.mean(axis=1)"
   ]
  },
  {
   "cell_type": "code",
   "execution_count": 10,
   "metadata": {
    "collapsed": false
   },
   "outputs": [],
   "source": [
    "clf = classifiers[\"LR\"]\n",
    "clf.fit(X, y)\n",
    "gene_coef = clf.coef_[0]"
   ]
  },
  {
   "cell_type": "code",
   "execution_count": 16,
   "metadata": {
    "collapsed": false
   },
   "outputs": [],
   "source": [
    "TCGA_prostate_RB_signature_df = pd.DataFrame(index=X_prostate.columns, columns=None, data=gene_coef)"
   ]
  },
  {
   "cell_type": "code",
   "execution_count": 19,
   "metadata": {
    "collapsed": false
   },
   "outputs": [],
   "source": [
    "TCGA_prostate_RB_signature_df.to_csv(\"./data/TCGA/RBsig_TCGA_prostate.csv\", header=None)"
   ]
  },
  {
   "cell_type": "markdown",
   "metadata": {
    "collapsed": true
   },
   "source": [
    "### 2. Training Signature with Logistic Regression (with L1 regularization)\n",
    "#### 2.1 with all TCGA samples"
   ]
  },
  {
   "cell_type": "code",
   "execution_count": 2,
   "metadata": {
    "collapsed": false
   },
   "outputs": [],
   "source": [
    "label_df = pd.read_csv(\"./data/TCGA/RB_labels.csv\", index_col=\"sample_id\")\n",
    "X = pd.read_csv(\"./data/TCGA/mRNA_transpose_log.csv\", index_col=\"sample_id\")"
   ]
  },
  {
   "cell_type": "code",
   "execution_count": 11,
   "metadata": {
    "collapsed": false
   },
   "outputs": [
    {
     "name": "stdout",
     "output_type": "stream",
     "text": [
      "1,2,3,4,5,6,7,8,9,10,"
     ]
    }
   ],
   "source": [
    "y = label_df.rb_final\n",
    "assert(list(X.index) == list(y.index))\n",
    "classifiers = {\"LR\": LogisticRegression(penalty=\"l1\", C=0.01, \n",
    "                                        class_weight=\"balanced\", \n",
    "                                        n_jobs=40)}\n",
    "result_df = helper.stratified_cv(X.as_matrix(), y.as_matrix(), \n",
    "                                 classifiers[\"LR\"], folds=5)"
   ]
  },
  {
   "cell_type": "code",
   "execution_count": 12,
   "metadata": {
    "collapsed": false
   },
   "outputs": [
    {
     "data": {
      "text/html": [
       "<div>\n",
       "<table border=\"1\" class=\"dataframe\">\n",
       "  <thead>\n",
       "    <tr style=\"text-align: right;\">\n",
       "      <th></th>\n",
       "      <th>1</th>\n",
       "      <th>2</th>\n",
       "      <th>3</th>\n",
       "      <th>4</th>\n",
       "      <th>5</th>\n",
       "      <th>6</th>\n",
       "      <th>7</th>\n",
       "      <th>8</th>\n",
       "      <th>9</th>\n",
       "      <th>10</th>\n",
       "    </tr>\n",
       "  </thead>\n",
       "  <tbody>\n",
       "    <tr>\n",
       "      <th>train AUC</th>\n",
       "      <td>0.918210</td>\n",
       "      <td>0.914508</td>\n",
       "      <td>0.915755</td>\n",
       "      <td>0.915293</td>\n",
       "      <td>0.917876</td>\n",
       "      <td>0.917293</td>\n",
       "      <td>0.917740</td>\n",
       "      <td>0.919429</td>\n",
       "      <td>0.915929</td>\n",
       "      <td>0.919361</td>\n",
       "    </tr>\n",
       "    <tr>\n",
       "      <th>test AUC</th>\n",
       "      <td>0.860496</td>\n",
       "      <td>0.851112</td>\n",
       "      <td>0.851592</td>\n",
       "      <td>0.832086</td>\n",
       "      <td>0.805095</td>\n",
       "      <td>0.841419</td>\n",
       "      <td>0.825422</td>\n",
       "      <td>0.805696</td>\n",
       "      <td>0.791754</td>\n",
       "      <td>0.836364</td>\n",
       "    </tr>\n",
       "  </tbody>\n",
       "</table>\n",
       "</div>"
      ],
      "text/plain": [
       "                 1         2         3         4         5         6   \\\n",
       "train AUC  0.918210  0.914508  0.915755  0.915293  0.917876  0.917293   \n",
       "test AUC   0.860496  0.851112  0.851592  0.832086  0.805095  0.841419   \n",
       "\n",
       "                 7         8         9         10  \n",
       "train AUC  0.917740  0.919429  0.915929  0.919361  \n",
       "test AUC   0.825422  0.805696  0.791754  0.836364  "
      ]
     },
     "execution_count": 12,
     "metadata": {},
     "output_type": "execute_result"
    }
   ],
   "source": [
    "result_df"
   ]
  },
  {
   "cell_type": "code",
   "execution_count": 13,
   "metadata": {
    "collapsed": false
   },
   "outputs": [
    {
     "data": {
      "text/plain": [
       "train AUC    0.917139\n",
       "test AUC     0.830104\n",
       "dtype: float64"
      ]
     },
     "execution_count": 13,
     "metadata": {},
     "output_type": "execute_result"
    }
   ],
   "source": [
    "result_df.mean(axis=1)"
   ]
  },
  {
   "cell_type": "code",
   "execution_count": 16,
   "metadata": {
    "collapsed": false
   },
   "outputs": [],
   "source": [
    "clf = classifiers[\"LR\"]\n",
    "clf.fit(X.as_matrix(), y.as_matrix())\n",
    "gene_coef = clf.coef_[0]"
   ]
  },
  {
   "cell_type": "code",
   "execution_count": 19,
   "metadata": {
    "collapsed": true
   },
   "outputs": [],
   "source": [
    "TCGA_RB_signature_df = pd.DataFrame(index=X.columns, columns=None, \n",
    "                                    data=gene_coef)\n",
    "TCGA_RB_signature_df.to_csv(\"./data/TCGA/RBsig_TCGA.csv\", header=None)"
   ]
  },
  {
   "cell_type": "code",
   "execution_count": null,
   "metadata": {
    "collapsed": true
   },
   "outputs": [],
   "source": []
  }
 ],
 "metadata": {
  "kernelspec": {
   "display_name": "Python 3",
   "language": "python",
   "name": "python3"
  },
  "language_info": {
   "codemirror_mode": {
    "name": "ipython",
    "version": 3
   },
   "file_extension": ".py",
   "mimetype": "text/x-python",
   "name": "python",
   "nbconvert_exporter": "python",
   "pygments_lexer": "ipython3",
   "version": "3.6.0"
  }
 },
 "nbformat": 4,
 "nbformat_minor": 2
}
