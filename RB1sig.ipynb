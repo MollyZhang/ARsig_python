{
 "cells": [
  {
   "cell_type": "markdown",
   "metadata": {},
   "source": [
    "### Use TCGA expression data to train RB1 signature"
   ]
  },
  {
   "cell_type": "code",
   "execution_count": 1,
   "metadata": {
    "collapsed": true
   },
   "outputs": [],
   "source": [
    "import pandas as pd\n",
    "import numpy as np\n",
    "import time\n",
    "\n",
    "from sklearn.linear_model import LogisticRegression, SGDClassifier\n",
    "\n",
    "import helper"
   ]
  },
  {
   "cell_type": "markdown",
   "metadata": {},
   "source": [
    "### 1. TCGA expression data and RB1 mutation data preprocessing "
   ]
  },
  {
   "cell_type": "code",
   "execution_count": 2,
   "metadata": {
    "collapsed": true
   },
   "outputs": [],
   "source": [
    "mRNA_file = \"./data/TCGA/mRNA.tsv\"\n",
    "mutation_file = \"./data/TCGA/RB1_maf.tsv\"\n",
    "clinical_file = \"./data/TCGA/clinical.tsv\"\n",
    "copynumber_file = \"./data/TCGA/RB1_copynumber.tsv\""
   ]
  },
  {
   "cell_type": "code",
   "execution_count": 23,
   "metadata": {
    "collapsed": true
   },
   "outputs": [],
   "source": [
    "mRNA_df = pd.read_csv(mRNA_file, delimiter=\"\\t\")\n",
    "# dropna\n",
    "mRNA_df.dropna(inplace=True)\n",
    "# transpose\n",
    "mRNA_df_transposed = mRNA_df.set_index(\"gene_id\").transpose()\n",
    "# take log\n",
    "mRNA_df_transposed_log = mRNA_df_transposed.applymap(lambda x:np.log(x+1))\n",
    "# save preprocessed mRNA (dropna, transpose, log)\n",
    "mRNA_df_transposed_log.index.name = \"sample_id\"\n",
    "mRNA_df_transposed_log.to_csv(\"./data/TCGA/mRNA_transpose_log.csv\")"
   ]
  },
  {
   "cell_type": "code",
   "execution_count": 364,
   "metadata": {
    "collapsed": false
   },
   "outputs": [],
   "source": [
    "# get just prostate tissue\n",
    "def get_label(barcode, dic):\n",
    "    patient_id = barcode[:12]\n",
    "    if patient_id in dic:\n",
    "        return dic[patient_id]\n",
    "    else:\n",
    "        return None\n",
    "\n",
    "mRNA_df = pd.read_csv(\"./data/TCGA/mRNA_transpose_log.csv\")\n",
    "clinical_df = pd.read_csv(clinical_file, delimiter=\"\\t\", \n",
    "                          encoding=\"ISO-8859-1\", low_memory=False)\n",
    "tissue_dict = dict(zip(clinical_df.bcr_patient_barcode, clinical_df.acronym))\n",
    "label_df = pd.DataFrame(index=mRNA_df.sample_id)\n",
    "label_df[\"tissue\"] = list(mRNA_df.sample_id.apply(lambda x: get_label(x, tissue_dict)))\n",
    "prostate_samples = list(label_df[label_df.tissue == \"PRAD\"].index)\n",
    "prostate_mRNA_df = mRNA_df[mRNA_df.sample_id.isin(prostate_samples)]\n",
    "prostate_mRNA_df.to_csv(\"./data/TCGA/mRNA_transpose_log_prostate.csv\", index=None)"
   ]
  },
  {
   "cell_type": "code",
   "execution_count": 246,
   "metadata": {
    "collapsed": false
   },
   "outputs": [
    {
     "data": {
      "text/plain": [
       "0    10684\n",
       "1      385\n",
       "Name: RB_mutated, dtype: int64"
      ]
     },
     "execution_count": 246,
     "metadata": {},
     "output_type": "execute_result"
    }
   ],
   "source": [
    "# get RB1 mutation status from MAF file\n",
    "def is_RB1_mutated(variant_classification):\n",
    "    if variant_classification in [\"Silent\", \"3'UTR\", \"Intron\"]:\n",
    "        return 0\n",
    "    else:\n",
    "        return 1\n",
    "    \n",
    "def add_to_label(barcode):\n",
    "    if barcode[:15] not in RB1_dict.keys():\n",
    "        return 0\n",
    "    else:\n",
    "        return RB1_dict[barcode[:15]]\n",
    "    \n",
    "    \n",
    "rb_df = pd.read_csv(mutation_file, delimiter=\"\\t\")\n",
    "rb_df[\"RB1_mutated\"] = rb_df.Variant_Classification.apply(is_RB1_mutated)\n",
    "RB1_dict = dict(zip([i[:15] for i in rb_df.Tumor_Sample_Barcode], \n",
    "                    rb_df.RB1_mutated))\n",
    "\n",
    "assert(list(label_df.index) == list(mRNA_df.sample_id))\n",
    "label_df[\"RB_mutated\"] = list(map(add_to_label, list(label_df.index)))\n",
    "label_df.RB_mutated.value_counts()"
   ]
  },
  {
   "cell_type": "code",
   "execution_count": 275,
   "metadata": {
    "collapsed": false
   },
   "outputs": [
    {
     "data": {
      "text/plain": [
       "0    10769\n",
       "1      300\n",
       "Name: RB_mutated1, dtype: int64"
      ]
     },
     "execution_count": 275,
     "metadata": {},
     "output_type": "execute_result"
    }
   ],
   "source": [
    "# get RB1 mutation from copy number file\n",
    "def add_RB_cnv_info(barcode):\n",
    "    sample_id = barcode[:15]\n",
    "    if sample_id not in RB1_cnv_dict.keys():\n",
    "        return 0\n",
    "    else:\n",
    "        copynumber = RB1_cnv_dict[sample_id]\n",
    "        if copynumber == -2:\n",
    "            return 1\n",
    "        else: return 0\n",
    "\n",
    "df_cnv = pd.read_csv(copynumber_file, delimiter=\"\\t\")\n",
    "sample_cols = [i for i in df_cnv.columns if \"TCGA\" in i]\n",
    "df_cnv = df_cnv[sample_cols]\n",
    "RB1_cnv_dict = dict(zip([i[:15] for i in df_cnv.columns], df_cnv.iloc[0]))\n",
    "label_df[\"RB_mutated1\"] = list(map(add_RB_cnv_info, list(label_df.index)))\n",
    "label_df.RB_mutated1.value_counts()"
   ]
  },
  {
   "cell_type": "code",
   "execution_count": 283,
   "metadata": {
    "collapsed": false
   },
   "outputs": [
    {
     "data": {
      "text/plain": [
       "0    10404\n",
       "1      665\n",
       "Name: rb_final, dtype: int64"
      ]
     },
     "execution_count": 283,
     "metadata": {},
     "output_type": "execute_result"
    }
   ],
   "source": [
    "label_df[\"rb_final\"] = 0\n",
    "label_df.loc[(label_df.RB_mutated==1)|(label_df.RB_mutated1==1), \"rb_final\"] = 1\n",
    "label_df.rb_final.value_counts()"
   ]
  },
  {
   "cell_type": "code",
   "execution_count": 284,
   "metadata": {
    "collapsed": false
   },
   "outputs": [
    {
     "data": {
      "text/plain": [
       "0    502\n",
       "1     48\n",
       "Name: rb_final, dtype: int64"
      ]
     },
     "execution_count": 284,
     "metadata": {},
     "output_type": "execute_result"
    }
   ],
   "source": [
    "label_df[label_df.tissue==\"PRAD\"][\"rb_final\"].value_counts()"
   ]
  },
  {
   "cell_type": "code",
   "execution_count": 285,
   "metadata": {
    "collapsed": true
   },
   "outputs": [],
   "source": [
    "label_df.to_csv(\"./data/TCGA/RB_labels.csv\")"
   ]
  },
  {
   "cell_type": "markdown",
   "metadata": {
    "collapsed": true
   },
   "source": [
    "### 2. Training Signature with Logistic Regression (with L1 regularization)\n",
    "#### 2.1 with just prostate sample"
   ]
  },
  {
   "cell_type": "code",
   "execution_count": 2,
   "metadata": {
    "collapsed": false
   },
   "outputs": [],
   "source": [
    "classifiers = {\"LR\": LogisticRegression(penalty=\"l1\", C=0.05, class_weight=\"balanced\"),\n",
    "               \"ElasticNet\": SGDClassifier(loss=\"log\", penalty=\"elasticnet\", \n",
    "                                           alpha=0.01, n_iter=100, random_state=0)}"
   ]
  },
  {
   "cell_type": "code",
   "execution_count": 3,
   "metadata": {
    "collapsed": false
   },
   "outputs": [],
   "source": [
    "label_df = pd.read_csv(\"./data/TCGA/RB_labels.csv\", index_col=\"sample_id\")\n",
    "X_prostate = pd.read_csv(\"./data/TCGA/mRNA_transpose_log_prostate.csv\", index_col=\"sample_id\")\n",
    "y_prostate = label_df[label_df.tissue==\"PRAD\"].rb_final\n",
    "assert(list(X_prostate.index) == list(y_prostate.index))"
   ]
  },
  {
   "cell_type": "code",
   "execution_count": 4,
   "metadata": {
    "collapsed": false
   },
   "outputs": [
    {
     "name": "stdout",
     "output_type": "stream",
     "text": [
      "1,2,3,4,5,6,7,8,9,10,"
     ]
    }
   ],
   "source": [
    "# stratified cross validation\n",
    "# high regularization\n",
    "# balance class weight with label frequency\n",
    "X = X_prostate.as_matrix()\n",
    "y = y_prostate.as_matrix()\n",
    "\n",
    "result_df = helper.stratified_cv(X, y, classifiers[\"LR\"])"
   ]
  },
  {
   "cell_type": "code",
   "execution_count": 5,
   "metadata": {
    "collapsed": false
   },
   "outputs": [
    {
     "data": {
      "text/html": [
       "<div>\n",
       "<table border=\"1\" class=\"dataframe\">\n",
       "  <thead>\n",
       "    <tr style=\"text-align: right;\">\n",
       "      <th></th>\n",
       "      <th>1</th>\n",
       "      <th>2</th>\n",
       "      <th>3</th>\n",
       "      <th>4</th>\n",
       "      <th>5</th>\n",
       "      <th>6</th>\n",
       "      <th>7</th>\n",
       "      <th>8</th>\n",
       "      <th>9</th>\n",
       "      <th>10</th>\n",
       "    </tr>\n",
       "  </thead>\n",
       "  <tbody>\n",
       "    <tr>\n",
       "      <th>train AUC</th>\n",
       "      <td>0.919095</td>\n",
       "      <td>0.930181</td>\n",
       "      <td>0.938593</td>\n",
       "      <td>0.942478</td>\n",
       "      <td>0.931956</td>\n",
       "      <td>0.951327</td>\n",
       "      <td>0.943584</td>\n",
       "      <td>0.946903</td>\n",
       "      <td>0.941372</td>\n",
       "      <td>0.952434</td>\n",
       "    </tr>\n",
       "    <tr>\n",
       "      <th>test AUC</th>\n",
       "      <td>0.621569</td>\n",
       "      <td>0.680392</td>\n",
       "      <td>0.740000</td>\n",
       "      <td>0.830000</td>\n",
       "      <td>0.750000</td>\n",
       "      <td>0.730000</td>\n",
       "      <td>0.760000</td>\n",
       "      <td>0.630000</td>\n",
       "      <td>0.390000</td>\n",
       "      <td>0.690000</td>\n",
       "    </tr>\n",
       "  </tbody>\n",
       "</table>\n",
       "</div>"
      ],
      "text/plain": [
       "                 1         2         3         4         5         6   \\\n",
       "train AUC  0.919095  0.930181  0.938593  0.942478  0.931956  0.951327   \n",
       "test AUC   0.621569  0.680392  0.740000  0.830000  0.750000  0.730000   \n",
       "\n",
       "                 7         8         9         10  \n",
       "train AUC  0.943584  0.946903  0.941372  0.952434  \n",
       "test AUC   0.760000  0.630000  0.390000  0.690000  "
      ]
     },
     "execution_count": 5,
     "metadata": {},
     "output_type": "execute_result"
    }
   ],
   "source": [
    "result_df"
   ]
  },
  {
   "cell_type": "code",
   "execution_count": 6,
   "metadata": {
    "collapsed": false
   },
   "outputs": [
    {
     "data": {
      "text/plain": [
       "train AUC    0.939792\n",
       "test AUC     0.682196\n",
       "dtype: float64"
      ]
     },
     "execution_count": 6,
     "metadata": {},
     "output_type": "execute_result"
    }
   ],
   "source": [
    "result_df.mean(axis=1)"
   ]
  },
  {
   "cell_type": "code",
   "execution_count": 10,
   "metadata": {
    "collapsed": false
   },
   "outputs": [],
   "source": [
    "clf = classifiers[\"LR\"]\n",
    "clf.fit(X, y)\n",
    "gene_coef = clf.coef_[0]"
   ]
  },
  {
   "cell_type": "code",
   "execution_count": 16,
   "metadata": {
    "collapsed": false
   },
   "outputs": [],
   "source": [
    "TCGA_prostate_RB_signature_df = pd.DataFrame(index=X_prostate.columns, columns=None, data=gene_coef)"
   ]
  },
  {
   "cell_type": "code",
   "execution_count": 53,
   "metadata": {
    "collapsed": false
   },
   "outputs": [],
   "source": [
    "RBsig_prostate = pd.read_csv(\"./data/TCGA/RBsig_TCGA_prostate.csv\", header=None)\n",
    "RBsig_prostate[0] = RBsig_prostate[0].apply(lambda x:x.split(\"|\")[0])\n",
    "RBsig_prostate.to_csv(\"./data/TCGA/RBsig_TCGA_prostate.csv\", header=None, index=None)"
   ]
  },
  {
   "cell_type": "markdown",
   "metadata": {
    "collapsed": true
   },
   "source": [
    "### 2. Training Signature with Logistic Regression (with L1 regularization)\n",
    "#### 2.1 with all TCGA samples"
   ]
  },
  {
   "cell_type": "code",
   "execution_count": 2,
   "metadata": {
    "collapsed": false
   },
   "outputs": [],
   "source": [
    "label_df = pd.read_csv(\"./data/TCGA/RB_labels.csv\", index_col=\"sample_id\")\n",
    "X = pd.read_csv(\"./data/TCGA/mRNA_transpose_log.csv\", index_col=\"sample_id\")"
   ]
  },
  {
   "cell_type": "code",
   "execution_count": 11,
   "metadata": {
    "collapsed": false
   },
   "outputs": [
    {
     "name": "stdout",
     "output_type": "stream",
     "text": [
      "1,2,3,4,5,6,7,8,9,10,"
     ]
    }
   ],
   "source": [
    "y = label_df.rb_final\n",
    "assert(list(X.index) == list(y.index))\n",
    "classifiers = {\"LR\": LogisticRegression(penalty=\"l1\", C=0.01, \n",
    "                                        class_weight=\"balanced\", \n",
    "                                        n_jobs=40)}\n",
    "result_df = helper.stratified_cv(X.as_matrix(), y.as_matrix(), \n",
    "                                 classifiers[\"LR\"], folds=5)"
   ]
  },
  {
   "cell_type": "code",
   "execution_count": 12,
   "metadata": {
    "collapsed": false
   },
   "outputs": [
    {
     "data": {
      "text/html": [
       "<div>\n",
       "<table border=\"1\" class=\"dataframe\">\n",
       "  <thead>\n",
       "    <tr style=\"text-align: right;\">\n",
       "      <th></th>\n",
       "      <th>1</th>\n",
       "      <th>2</th>\n",
       "      <th>3</th>\n",
       "      <th>4</th>\n",
       "      <th>5</th>\n",
       "      <th>6</th>\n",
       "      <th>7</th>\n",
       "      <th>8</th>\n",
       "      <th>9</th>\n",
       "      <th>10</th>\n",
       "    </tr>\n",
       "  </thead>\n",
       "  <tbody>\n",
       "    <tr>\n",
       "      <th>train AUC</th>\n",
       "      <td>0.918210</td>\n",
       "      <td>0.914508</td>\n",
       "      <td>0.915755</td>\n",
       "      <td>0.915293</td>\n",
       "      <td>0.917876</td>\n",
       "      <td>0.917293</td>\n",
       "      <td>0.917740</td>\n",
       "      <td>0.919429</td>\n",
       "      <td>0.915929</td>\n",
       "      <td>0.919361</td>\n",
       "    </tr>\n",
       "    <tr>\n",
       "      <th>test AUC</th>\n",
       "      <td>0.860496</td>\n",
       "      <td>0.851112</td>\n",
       "      <td>0.851592</td>\n",
       "      <td>0.832086</td>\n",
       "      <td>0.805095</td>\n",
       "      <td>0.841419</td>\n",
       "      <td>0.825422</td>\n",
       "      <td>0.805696</td>\n",
       "      <td>0.791754</td>\n",
       "      <td>0.836364</td>\n",
       "    </tr>\n",
       "  </tbody>\n",
       "</table>\n",
       "</div>"
      ],
      "text/plain": [
       "                 1         2         3         4         5         6   \\\n",
       "train AUC  0.918210  0.914508  0.915755  0.915293  0.917876  0.917293   \n",
       "test AUC   0.860496  0.851112  0.851592  0.832086  0.805095  0.841419   \n",
       "\n",
       "                 7         8         9         10  \n",
       "train AUC  0.917740  0.919429  0.915929  0.919361  \n",
       "test AUC   0.825422  0.805696  0.791754  0.836364  "
      ]
     },
     "execution_count": 12,
     "metadata": {},
     "output_type": "execute_result"
    }
   ],
   "source": [
    "result_df"
   ]
  },
  {
   "cell_type": "code",
   "execution_count": 13,
   "metadata": {
    "collapsed": false
   },
   "outputs": [
    {
     "data": {
      "text/plain": [
       "train AUC    0.917139\n",
       "test AUC     0.830104\n",
       "dtype: float64"
      ]
     },
     "execution_count": 13,
     "metadata": {},
     "output_type": "execute_result"
    }
   ],
   "source": [
    "result_df.mean(axis=1)"
   ]
  },
  {
   "cell_type": "code",
   "execution_count": 16,
   "metadata": {
    "collapsed": false
   },
   "outputs": [],
   "source": [
    "clf = classifiers[\"LR\"]\n",
    "clf.fit(X.as_matrix(), y.as_matrix())\n",
    "gene_coef = clf.coef_[0]"
   ]
  },
  {
   "cell_type": "code",
   "execution_count": 19,
   "metadata": {
    "collapsed": true
   },
   "outputs": [],
   "source": [
    "TCGA_RB_signature_df = pd.DataFrame(index=X.columns, columns=None, \n",
    "                                    data=gene_coef)\n",
    "TCGA_RB_signature_df.to_csv(\"./data/TCGA/RBsig_TCGA.csv\", header=None)"
   ]
  },
  {
   "cell_type": "code",
   "execution_count": 55,
   "metadata": {
    "collapsed": false
   },
   "outputs": [],
   "source": [
    "RBsig_prostate = pd.read_csv(\"./data/TCGA/RBsig_TCGA.csv\", header=None)\n",
    "RBsig_prostate[0] = RBsig_prostate[0].apply(lambda x:x.split(\"|\")[0])\n",
    "RBsig_prostate.to_csv(\"./data/TCGA/RBsig_TCGA.csv\", header=None, index=None)"
   ]
  },
  {
   "cell_type": "markdown",
   "metadata": {},
   "source": [
    "### 3. Apply RB signatures to WCDT data"
   ]
  },
  {
   "cell_type": "code",
   "execution_count": 34,
   "metadata": {
    "collapsed": true
   },
   "outputs": [],
   "source": [
    "WCDT_mRNA = \"./data/WCDT_mRNA.tsv\"\n",
    "WCDT_df = pd.read_csv(WCDT_mRNA, delimiter=\"\\t\", index_col=\"gene_id\").T"
   ]
  },
  {
   "cell_type": "code",
   "execution_count": 84,
   "metadata": {
    "collapsed": false
   },
   "outputs": [],
   "source": [
    "RBsig_prostate = pd.read_csv(\"./data/TCGA/RBsig_TCGA_prostate.csv\", header=None)\n",
    "RBsig_all = pd.read_csv(\"./data/TCGA/RBsig_TCGA.csv\", header=None)\n",
    "assert(list(RBsig_prostate[0])==list(RBsig_all[0]))"
   ]
  },
  {
   "cell_type": "code",
   "execution_count": 85,
   "metadata": {
    "collapsed": false
   },
   "outputs": [],
   "source": [
    "common_genes = sorted(list(set(RBsig_prostate[0]).intersection(set(WCDT_df.columns))))"
   ]
  },
  {
   "cell_type": "code",
   "execution_count": 86,
   "metadata": {
    "collapsed": true
   },
   "outputs": [],
   "source": [
    "WCDT_RBscore_prostate = np.dot(WCDT_df[common_genes].as_matrix(), \n",
    "                               RBsig_prostate.set_index(0).loc[common_genes].as_matrix())\n",
    "WCDT_RBscore_all = np.dot(WCDT_df[common_genes].as_matrix(), \n",
    "                          RBsig_all.set_index(0).loc[common_genes].as_matrix())"
   ]
  },
  {
   "cell_type": "code",
   "execution_count": 87,
   "metadata": {
    "collapsed": false
   },
   "outputs": [],
   "source": [
    "RBscores = pd.DataFrame(index=WCDT_df.index)\n",
    "RBscores[\"RBsig_prostate\"] = WCDT_RBscore_prostate\n",
    "RBscores[\"RBsig_all\"] = WCDT_RBscore_all"
   ]
  },
  {
   "cell_type": "code",
   "execution_count": 88,
   "metadata": {
    "collapsed": false
   },
   "outputs": [
    {
     "data": {
      "text/html": [
       "<div>\n",
       "<table border=\"1\" class=\"dataframe\">\n",
       "  <thead>\n",
       "    <tr style=\"text-align: right;\">\n",
       "      <th></th>\n",
       "      <th>RBsig_prostate</th>\n",
       "      <th>RBsig_all</th>\n",
       "    </tr>\n",
       "  </thead>\n",
       "  <tbody>\n",
       "    <tr>\n",
       "      <th>DTB-001</th>\n",
       "      <td>-12.840690</td>\n",
       "      <td>-4.845923</td>\n",
       "    </tr>\n",
       "    <tr>\n",
       "      <th>DTB-181</th>\n",
       "      <td>-5.590631</td>\n",
       "      <td>2.535784</td>\n",
       "    </tr>\n",
       "    <tr>\n",
       "      <th>DTB-159</th>\n",
       "      <td>-8.032923</td>\n",
       "      <td>-2.647400</td>\n",
       "    </tr>\n",
       "    <tr>\n",
       "      <th>DTB-141Pro</th>\n",
       "      <td>-4.655196</td>\n",
       "      <td>-1.656770</td>\n",
       "    </tr>\n",
       "    <tr>\n",
       "      <th>DTB-137Pro</th>\n",
       "      <td>-2.289378</td>\n",
       "      <td>-4.291906</td>\n",
       "    </tr>\n",
       "    <tr>\n",
       "      <th>DTB-135</th>\n",
       "      <td>-11.936597</td>\n",
       "      <td>3.191317</td>\n",
       "    </tr>\n",
       "    <tr>\n",
       "      <th>DTB-132</th>\n",
       "      <td>-10.274254</td>\n",
       "      <td>-1.638149</td>\n",
       "    </tr>\n",
       "    <tr>\n",
       "      <th>DTB-126</th>\n",
       "      <td>-9.439564</td>\n",
       "      <td>-4.500719</td>\n",
       "    </tr>\n",
       "    <tr>\n",
       "      <th>DTB-124</th>\n",
       "      <td>-11.528793</td>\n",
       "      <td>-2.838809</td>\n",
       "    </tr>\n",
       "    <tr>\n",
       "      <th>DTB-121</th>\n",
       "      <td>-12.713190</td>\n",
       "      <td>0.024607</td>\n",
       "    </tr>\n",
       "    <tr>\n",
       "      <th>DTB-121-R3</th>\n",
       "      <td>-12.633888</td>\n",
       "      <td>-4.020729</td>\n",
       "    </tr>\n",
       "    <tr>\n",
       "      <th>DTB-121-R2</th>\n",
       "      <td>-12.621026</td>\n",
       "      <td>0.268887</td>\n",
       "    </tr>\n",
       "    <tr>\n",
       "      <th>DTB-118</th>\n",
       "      <td>-7.647701</td>\n",
       "      <td>-2.570318</td>\n",
       "    </tr>\n",
       "    <tr>\n",
       "      <th>DTB-108</th>\n",
       "      <td>-6.422886</td>\n",
       "      <td>-0.492029</td>\n",
       "    </tr>\n",
       "    <tr>\n",
       "      <th>DTB-102</th>\n",
       "      <td>-8.428462</td>\n",
       "      <td>-8.123962</td>\n",
       "    </tr>\n",
       "    <tr>\n",
       "      <th>DTB-095-1</th>\n",
       "      <td>-13.655512</td>\n",
       "      <td>-2.693137</td>\n",
       "    </tr>\n",
       "    <tr>\n",
       "      <th>DTB-095-2</th>\n",
       "      <td>-11.833423</td>\n",
       "      <td>-1.219610</td>\n",
       "    </tr>\n",
       "    <tr>\n",
       "      <th>DTB-091</th>\n",
       "      <td>-9.689542</td>\n",
       "      <td>1.379742</td>\n",
       "    </tr>\n",
       "    <tr>\n",
       "      <th>DTB-089</th>\n",
       "      <td>-9.757069</td>\n",
       "      <td>-4.893700</td>\n",
       "    </tr>\n",
       "    <tr>\n",
       "      <th>DTB-089Pro</th>\n",
       "      <td>-10.775729</td>\n",
       "      <td>-3.839837</td>\n",
       "    </tr>\n",
       "    <tr>\n",
       "      <th>DTB-085</th>\n",
       "      <td>-9.050612</td>\n",
       "      <td>-1.809607</td>\n",
       "    </tr>\n",
       "    <tr>\n",
       "      <th>DTB-080</th>\n",
       "      <td>-8.677666</td>\n",
       "      <td>-1.589379</td>\n",
       "    </tr>\n",
       "    <tr>\n",
       "      <th>DTB-080-R3</th>\n",
       "      <td>-8.989829</td>\n",
       "      <td>-8.987758</td>\n",
       "    </tr>\n",
       "    <tr>\n",
       "      <th>DTB-080-R2</th>\n",
       "      <td>-7.130700</td>\n",
       "      <td>-6.031788</td>\n",
       "    </tr>\n",
       "    <tr>\n",
       "      <th>DTB-080Pro</th>\n",
       "      <td>-7.078607</td>\n",
       "      <td>-8.716351</td>\n",
       "    </tr>\n",
       "    <tr>\n",
       "      <th>DTB-077Pro</th>\n",
       "      <td>-7.305107</td>\n",
       "      <td>-1.671677</td>\n",
       "    </tr>\n",
       "    <tr>\n",
       "      <th>DTB-073</th>\n",
       "      <td>-5.922493</td>\n",
       "      <td>-2.274393</td>\n",
       "    </tr>\n",
       "    <tr>\n",
       "      <th>DTB-073Pro</th>\n",
       "      <td>-9.309955</td>\n",
       "      <td>-1.584123</td>\n",
       "    </tr>\n",
       "    <tr>\n",
       "      <th>DTB-071</th>\n",
       "      <td>-8.506073</td>\n",
       "      <td>1.522289</td>\n",
       "    </tr>\n",
       "    <tr>\n",
       "      <th>DTB-065</th>\n",
       "      <td>-5.358114</td>\n",
       "      <td>-0.597479</td>\n",
       "    </tr>\n",
       "    <tr>\n",
       "      <th>...</th>\n",
       "      <td>...</td>\n",
       "      <td>...</td>\n",
       "    </tr>\n",
       "    <tr>\n",
       "      <th>DTB-067Pro</th>\n",
       "      <td>-12.426658</td>\n",
       "      <td>4.592821</td>\n",
       "    </tr>\n",
       "    <tr>\n",
       "      <th>DTB-060Pro</th>\n",
       "      <td>-8.769634</td>\n",
       "      <td>-0.514413</td>\n",
       "    </tr>\n",
       "    <tr>\n",
       "      <th>DTB-063Pro</th>\n",
       "      <td>-10.803124</td>\n",
       "      <td>-3.211213</td>\n",
       "    </tr>\n",
       "    <tr>\n",
       "      <th>DTB-055Pro2</th>\n",
       "      <td>-10.852538</td>\n",
       "      <td>-2.555006</td>\n",
       "    </tr>\n",
       "    <tr>\n",
       "      <th>DTB-030</th>\n",
       "      <td>-5.113291</td>\n",
       "      <td>1.115283</td>\n",
       "    </tr>\n",
       "    <tr>\n",
       "      <th>DTB-049</th>\n",
       "      <td>-6.587117</td>\n",
       "      <td>2.586597</td>\n",
       "    </tr>\n",
       "    <tr>\n",
       "      <th>DTB-023</th>\n",
       "      <td>-9.004587</td>\n",
       "      <td>3.843255</td>\n",
       "    </tr>\n",
       "    <tr>\n",
       "      <th>DTB-018</th>\n",
       "      <td>-10.190787</td>\n",
       "      <td>-0.708513</td>\n",
       "    </tr>\n",
       "    <tr>\n",
       "      <th>DTB-020</th>\n",
       "      <td>-6.470220</td>\n",
       "      <td>-2.197392</td>\n",
       "    </tr>\n",
       "    <tr>\n",
       "      <th>DTB-018Pro</th>\n",
       "      <td>-11.343745</td>\n",
       "      <td>0.835112</td>\n",
       "    </tr>\n",
       "    <tr>\n",
       "      <th>DTB-009</th>\n",
       "      <td>-9.850024</td>\n",
       "      <td>3.611016</td>\n",
       "    </tr>\n",
       "    <tr>\n",
       "      <th>DTB-011</th>\n",
       "      <td>-10.735964</td>\n",
       "      <td>-4.837808</td>\n",
       "    </tr>\n",
       "    <tr>\n",
       "      <th>DTB-008</th>\n",
       "      <td>-11.451796</td>\n",
       "      <td>-4.956706</td>\n",
       "    </tr>\n",
       "    <tr>\n",
       "      <th>DTB-003</th>\n",
       "      <td>-6.980898</td>\n",
       "      <td>8.767756</td>\n",
       "    </tr>\n",
       "    <tr>\n",
       "      <th>DTB-007</th>\n",
       "      <td>-6.939380</td>\n",
       "      <td>4.088480</td>\n",
       "    </tr>\n",
       "    <tr>\n",
       "      <th>DTB-206</th>\n",
       "      <td>-7.609072</td>\n",
       "      <td>-0.607223</td>\n",
       "    </tr>\n",
       "    <tr>\n",
       "      <th>DTB-190</th>\n",
       "      <td>-9.654409</td>\n",
       "      <td>-0.936258</td>\n",
       "    </tr>\n",
       "    <tr>\n",
       "      <th>DTB-190-2</th>\n",
       "      <td>-10.204586</td>\n",
       "      <td>-0.945287</td>\n",
       "    </tr>\n",
       "    <tr>\n",
       "      <th>DTB-210Pro</th>\n",
       "      <td>-7.576435</td>\n",
       "      <td>-2.040270</td>\n",
       "    </tr>\n",
       "    <tr>\n",
       "      <th>DTB-098Pro2</th>\n",
       "      <td>-12.884149</td>\n",
       "      <td>-3.321510</td>\n",
       "    </tr>\n",
       "    <tr>\n",
       "      <th>DTB-183</th>\n",
       "      <td>-5.668527</td>\n",
       "      <td>2.472508</td>\n",
       "    </tr>\n",
       "    <tr>\n",
       "      <th>DTB-205</th>\n",
       "      <td>-5.733971</td>\n",
       "      <td>1.255748</td>\n",
       "    </tr>\n",
       "    <tr>\n",
       "      <th>DTB-240</th>\n",
       "      <td>-11.119602</td>\n",
       "      <td>-0.691915</td>\n",
       "    </tr>\n",
       "    <tr>\n",
       "      <th>DTB-223</th>\n",
       "      <td>-10.413630</td>\n",
       "      <td>-2.312484</td>\n",
       "    </tr>\n",
       "    <tr>\n",
       "      <th>DTB-234</th>\n",
       "      <td>-10.656927</td>\n",
       "      <td>-5.036446</td>\n",
       "    </tr>\n",
       "    <tr>\n",
       "      <th>DTB-218</th>\n",
       "      <td>-12.160902</td>\n",
       "      <td>1.508034</td>\n",
       "    </tr>\n",
       "    <tr>\n",
       "      <th>DTB-235</th>\n",
       "      <td>-13.192065</td>\n",
       "      <td>-2.871921</td>\n",
       "    </tr>\n",
       "    <tr>\n",
       "      <th>DTB-021</th>\n",
       "      <td>-8.773004</td>\n",
       "      <td>-8.987290</td>\n",
       "    </tr>\n",
       "    <tr>\n",
       "      <th>DTB-210</th>\n",
       "      <td>-5.683091</td>\n",
       "      <td>1.095589</td>\n",
       "    </tr>\n",
       "    <tr>\n",
       "      <th>DTB-242</th>\n",
       "      <td>-9.102397</td>\n",
       "      <td>-1.146450</td>\n",
       "    </tr>\n",
       "  </tbody>\n",
       "</table>\n",
       "<p>130 rows × 2 columns</p>\n",
       "</div>"
      ],
      "text/plain": [
       "             RBsig_prostate  RBsig_all\n",
       "DTB-001          -12.840690  -4.845923\n",
       "DTB-181           -5.590631   2.535784\n",
       "DTB-159           -8.032923  -2.647400\n",
       "DTB-141Pro        -4.655196  -1.656770\n",
       "DTB-137Pro        -2.289378  -4.291906\n",
       "DTB-135          -11.936597   3.191317\n",
       "DTB-132          -10.274254  -1.638149\n",
       "DTB-126           -9.439564  -4.500719\n",
       "DTB-124          -11.528793  -2.838809\n",
       "DTB-121          -12.713190   0.024607\n",
       "DTB-121-R3       -12.633888  -4.020729\n",
       "DTB-121-R2       -12.621026   0.268887\n",
       "DTB-118           -7.647701  -2.570318\n",
       "DTB-108           -6.422886  -0.492029\n",
       "DTB-102           -8.428462  -8.123962\n",
       "DTB-095-1        -13.655512  -2.693137\n",
       "DTB-095-2        -11.833423  -1.219610\n",
       "DTB-091           -9.689542   1.379742\n",
       "DTB-089           -9.757069  -4.893700\n",
       "DTB-089Pro       -10.775729  -3.839837\n",
       "DTB-085           -9.050612  -1.809607\n",
       "DTB-080           -8.677666  -1.589379\n",
       "DTB-080-R3        -8.989829  -8.987758\n",
       "DTB-080-R2        -7.130700  -6.031788\n",
       "DTB-080Pro        -7.078607  -8.716351\n",
       "DTB-077Pro        -7.305107  -1.671677\n",
       "DTB-073           -5.922493  -2.274393\n",
       "DTB-073Pro        -9.309955  -1.584123\n",
       "DTB-071           -8.506073   1.522289\n",
       "DTB-065           -5.358114  -0.597479\n",
       "...                     ...        ...\n",
       "DTB-067Pro       -12.426658   4.592821\n",
       "DTB-060Pro        -8.769634  -0.514413\n",
       "DTB-063Pro       -10.803124  -3.211213\n",
       "DTB-055Pro2      -10.852538  -2.555006\n",
       "DTB-030           -5.113291   1.115283\n",
       "DTB-049           -6.587117   2.586597\n",
       "DTB-023           -9.004587   3.843255\n",
       "DTB-018          -10.190787  -0.708513\n",
       "DTB-020           -6.470220  -2.197392\n",
       "DTB-018Pro       -11.343745   0.835112\n",
       "DTB-009           -9.850024   3.611016\n",
       "DTB-011          -10.735964  -4.837808\n",
       "DTB-008          -11.451796  -4.956706\n",
       "DTB-003           -6.980898   8.767756\n",
       "DTB-007           -6.939380   4.088480\n",
       "DTB-206           -7.609072  -0.607223\n",
       "DTB-190           -9.654409  -0.936258\n",
       "DTB-190-2        -10.204586  -0.945287\n",
       "DTB-210Pro        -7.576435  -2.040270\n",
       "DTB-098Pro2      -12.884149  -3.321510\n",
       "DTB-183           -5.668527   2.472508\n",
       "DTB-205           -5.733971   1.255748\n",
       "DTB-240          -11.119602  -0.691915\n",
       "DTB-223          -10.413630  -2.312484\n",
       "DTB-234          -10.656927  -5.036446\n",
       "DTB-218          -12.160902   1.508034\n",
       "DTB-235          -13.192065  -2.871921\n",
       "DTB-021           -8.773004  -8.987290\n",
       "DTB-210           -5.683091   1.095589\n",
       "DTB-242           -9.102397  -1.146450\n",
       "\n",
       "[130 rows x 2 columns]"
      ]
     },
     "execution_count": 88,
     "metadata": {},
     "output_type": "execute_result"
    }
   ],
   "source": [
    "RBscores"
   ]
  },
  {
   "cell_type": "code",
   "execution_count": null,
   "metadata": {
    "collapsed": true
   },
   "outputs": [],
   "source": []
  }
 ],
 "metadata": {
  "kernelspec": {
   "display_name": "Python 3",
   "language": "python",
   "name": "python3"
  },
  "language_info": {
   "codemirror_mode": {
    "name": "ipython",
    "version": 3
   },
   "file_extension": ".py",
   "mimetype": "text/x-python",
   "name": "python",
   "nbconvert_exporter": "python",
   "pygments_lexer": "ipython3",
   "version": "3.6.0"
  }
 },
 "nbformat": 4,
 "nbformat_minor": 2
}
