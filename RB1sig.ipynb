{
 "cells": [
  {
   "cell_type": "markdown",
   "metadata": {},
   "source": [
    "### Use TCGA expression data to train RB1 signature"
   ]
  },
  {
   "cell_type": "code",
   "execution_count": 45,
   "metadata": {
    "collapsed": false
   },
   "outputs": [],
   "source": [
    "import pandas as pd\n",
    "import numpy as np\n",
    "import time\n",
    "\n",
    "from sklearn.linear_model import LogisticRegression, SGDClassifier\n",
    "from matplotlib import pyplot as plt\n",
    "\n",
    "import helper\n",
    "\n",
    "%matplotlib inline"
   ]
  },
  {
   "cell_type": "markdown",
   "metadata": {},
   "source": [
    "### 1. TCGA expression data and RB1 mutation data preprocessing "
   ]
  },
  {
   "cell_type": "code",
   "execution_count": 6,
   "metadata": {
    "collapsed": true
   },
   "outputs": [],
   "source": [
    "mRNA_file = \"./data/TCGA/mRNA.tsv\"\n",
    "mutation_file = \"./data/TCGA/RB1_maf.tsv\"\n",
    "clinical_file = \"./data/TCGA/clinical.tsv\"\n",
    "copynumber_file = \"./data/TCGA/RB1_copynumber.tsv\""
   ]
  },
  {
   "cell_type": "code",
   "execution_count": 46,
   "metadata": {
    "collapsed": true
   },
   "outputs": [],
   "source": [
    "mRNA_df = pd.read_csv(mRNA_file, delimiter=\"\\t\")\n",
    "# dropna\n",
    "mRNA_df.dropna(inplace=True)\n",
    "# transpose\n",
    "mRNA_df_transposed = mRNA_df.set_index(\"gene_id\").transpose()\n",
    "# take log\n",
    "mRNA_df_transposed_log = mRNA_df_transposed.applymap(lambda x:np.log(x+1))\n",
    "\n",
    "# save preprocessed mRNA (dropna, transpose, log)\n",
    "mRNA_df_transposed_log.index.name = \"sample_id\"\n",
    "# mRNA_df_transposed_log.to_csv(\"./data/TCGA/mRNA_transpose_log.csv\")\n",
    "\n",
    "# quantile normalization\n",
    "mRNA_df_transposed_quantile = mRNA_df_transposed.rank(axis=1, pct=True)\n",
    "mRNA_df_transposed_quantile.to_csv(\"./data/TCGA/mRNA_transpose_quantile.csv\")"
   ]
  },
  {
   "cell_type": "code",
   "execution_count": 79,
   "metadata": {
    "collapsed": false
   },
   "outputs": [],
   "source": [
    "# get just prostate tissue\n",
    "def get_label(barcode, dic):\n",
    "    patient_id = barcode[:12]\n",
    "    if patient_id in dic:\n",
    "        return dic[patient_id]\n",
    "    else:\n",
    "        return None\n",
    "\n",
    "    \n",
    "for norm in [\"quantile\"]:\n",
    "    mRNA_df = pd.read_csv(\"./data/TCGA/mRNA_transpose_{0}.csv\".format(norm))\n",
    "    clinical_df = pd.read_csv(clinical_file, delimiter=\"\\t\", \n",
    "                              encoding=\"ISO-8859-1\", low_memory=False)\n",
    "    tissue_dict = dict(zip(clinical_df.bcr_patient_barcode, clinical_df.acronym))\n",
    "    label_df = pd.DataFrame(index=mRNA_df.sample_id)\n",
    "    label_df[\"tissue\"] = list(mRNA_df.sample_id.apply(lambda x: get_label(x, tissue_dict)))\n",
    "    prostate_samples = list(label_df[label_df.tissue == \"PRAD\"].index)\n",
    "    prostate_mRNA_df = mRNA_df[mRNA_df.sample_id.isin(prostate_samples)]\n",
    "    prostate_mRNA_df.to_csv(\"./data/TCGA/mRNA_transpose_{0}_prostate.csv\".format(norm), index=None)"
   ]
  },
  {
   "cell_type": "code",
   "execution_count": 246,
   "metadata": {
    "collapsed": false
   },
   "outputs": [
    {
     "data": {
      "text/plain": [
       "0    10684\n",
       "1      385\n",
       "Name: RB_mutated, dtype: int64"
      ]
     },
     "execution_count": 246,
     "metadata": {},
     "output_type": "execute_result"
    }
   ],
   "source": [
    "# get RB1 mutation status from MAF file\n",
    "def is_RB1_mutated(variant_classification):\n",
    "    if variant_classification in [\"Silent\", \"3'UTR\", \"Intron\"]:\n",
    "        return 0\n",
    "    else:\n",
    "        return 1\n",
    "    \n",
    "def add_to_label(barcode):\n",
    "    if barcode[:15] not in RB1_dict.keys():\n",
    "        return 0\n",
    "    else:\n",
    "        return RB1_dict[barcode[:15]]\n",
    "    \n",
    "    \n",
    "rb_df = pd.read_csv(mutation_file, delimiter=\"\\t\")\n",
    "rb_df[\"RB1_mutated\"] = rb_df.Variant_Classification.apply(is_RB1_mutated)\n",
    "RB1_dict = dict(zip([i[:15] for i in rb_df.Tumor_Sample_Barcode], \n",
    "                    rb_df.RB1_mutated))\n",
    "\n",
    "assert(list(label_df.index) == list(mRNA_df.sample_id))\n",
    "label_df[\"RB_mutated\"] = list(map(add_to_label, list(label_df.index)))\n",
    "label_df.RB_mutated.value_counts()"
   ]
  },
  {
   "cell_type": "code",
   "execution_count": 275,
   "metadata": {
    "collapsed": false
   },
   "outputs": [
    {
     "data": {
      "text/plain": [
       "0    10769\n",
       "1      300\n",
       "Name: RB_mutated1, dtype: int64"
      ]
     },
     "execution_count": 275,
     "metadata": {},
     "output_type": "execute_result"
    }
   ],
   "source": [
    "# get RB1 mutation from copy number file\n",
    "def add_RB_cnv_info(barcode):\n",
    "    sample_id = barcode[:15]\n",
    "    if sample_id not in RB1_cnv_dict.keys():\n",
    "        return 0\n",
    "    else:\n",
    "        copynumber = RB1_cnv_dict[sample_id]\n",
    "        if copynumber == -2:\n",
    "            return 1\n",
    "        else: return 0\n",
    "\n",
    "df_cnv = pd.read_csv(copynumber_file, delimiter=\"\\t\")\n",
    "sample_cols = [i for i in df_cnv.columns if \"TCGA\" in i]\n",
    "df_cnv = df_cnv[sample_cols]\n",
    "RB1_cnv_dict = dict(zip([i[:15] for i in df_cnv.columns], df_cnv.iloc[0]))\n",
    "label_df[\"RB_mutated1\"] = list(map(add_RB_cnv_info, list(label_df.index)))\n",
    "label_df.RB_mutated1.value_counts()"
   ]
  },
  {
   "cell_type": "code",
   "execution_count": 283,
   "metadata": {
    "collapsed": false
   },
   "outputs": [
    {
     "data": {
      "text/plain": [
       "0    10404\n",
       "1      665\n",
       "Name: rb_final, dtype: int64"
      ]
     },
     "execution_count": 283,
     "metadata": {},
     "output_type": "execute_result"
    }
   ],
   "source": [
    "label_df[\"rb_final\"] = 0\n",
    "label_df.loc[(label_df.RB_mutated==1)|(label_df.RB_mutated1==1), \"rb_final\"] = 1\n",
    "label_df.rb_final.value_counts()"
   ]
  },
  {
   "cell_type": "code",
   "execution_count": 284,
   "metadata": {
    "collapsed": false
   },
   "outputs": [
    {
     "data": {
      "text/plain": [
       "0    502\n",
       "1     48\n",
       "Name: rb_final, dtype: int64"
      ]
     },
     "execution_count": 284,
     "metadata": {},
     "output_type": "execute_result"
    }
   ],
   "source": [
    "label_df[label_df.tissue==\"PRAD\"][\"rb_final\"].value_counts()"
   ]
  },
  {
   "cell_type": "code",
   "execution_count": 285,
   "metadata": {
    "collapsed": true
   },
   "outputs": [],
   "source": [
    "label_df.to_csv(\"./data/TCGA/RB_labels.csv\")"
   ]
  },
  {
   "cell_type": "markdown",
   "metadata": {
    "collapsed": true
   },
   "source": [
    "### 2. Training Signature with Logistic Regression (with L1 regularization)\n",
    "#### 2.1 with just prostate sample"
   ]
  },
  {
   "cell_type": "code",
   "execution_count": 85,
   "metadata": {
    "collapsed": false
   },
   "outputs": [],
   "source": [
    "label_df = pd.read_csv(\"./data/TCGA/RB_labels.csv\", index_col=\"sample_id\")\n",
    "X_prostate = pd.read_csv(\"./data/TCGA/mRNA_transpose_quantile_prostate.csv\", index_col=\"sample_id\")\n",
    "y_prostate = label_df[label_df.tissue==\"PRAD\"].rb_final\n",
    "assert(list(X_prostate.index) == list(y_prostate.index))"
   ]
  },
  {
   "cell_type": "code",
   "execution_count": 98,
   "metadata": {
    "collapsed": false
   },
   "outputs": [
    {
     "name": "stdout",
     "output_type": "stream",
     "text": [
      "1,2,3,4,5,6,7,8,9,10,"
     ]
    }
   ],
   "source": [
    "# stratified cross validation\n",
    "# high regularization\n",
    "# balance class weight with label frequency\n",
    "classifiers = {\"LR\": LogisticRegression(penalty=\"l1\", C=0.5, class_weight=\"balanced\")}\n",
    "X = X_prostate.as_matrix()\n",
    "y = y_prostate.as_matrix()\n",
    "result_df = helper.stratified_cv(X, y, classifiers[\"LR\"], random_state=1)"
   ]
  },
  {
   "cell_type": "code",
   "execution_count": 99,
   "metadata": {
    "collapsed": false
   },
   "outputs": [
    {
     "data": {
      "text/html": [
       "<div>\n",
       "<table border=\"1\" class=\"dataframe\">\n",
       "  <thead>\n",
       "    <tr style=\"text-align: right;\">\n",
       "      <th></th>\n",
       "      <th>1</th>\n",
       "      <th>2</th>\n",
       "      <th>3</th>\n",
       "      <th>4</th>\n",
       "      <th>5</th>\n",
       "      <th>6</th>\n",
       "      <th>7</th>\n",
       "      <th>8</th>\n",
       "      <th>9</th>\n",
       "      <th>10</th>\n",
       "    </tr>\n",
       "  </thead>\n",
       "  <tbody>\n",
       "    <tr>\n",
       "      <th>train AUC</th>\n",
       "      <td>0.960089</td>\n",
       "      <td>0.952328</td>\n",
       "      <td>0.960177</td>\n",
       "      <td>0.959071</td>\n",
       "      <td>0.959071</td>\n",
       "      <td>0.954646</td>\n",
       "      <td>0.957965</td>\n",
       "      <td>0.960177</td>\n",
       "      <td>0.956858</td>\n",
       "      <td>0.961283</td>\n",
       "    </tr>\n",
       "    <tr>\n",
       "      <th>test AUC</th>\n",
       "      <td>0.750980</td>\n",
       "      <td>0.650980</td>\n",
       "      <td>0.820000</td>\n",
       "      <td>0.830000</td>\n",
       "      <td>0.770000</td>\n",
       "      <td>0.840000</td>\n",
       "      <td>0.740000</td>\n",
       "      <td>0.640000</td>\n",
       "      <td>0.805000</td>\n",
       "      <td>0.765000</td>\n",
       "    </tr>\n",
       "  </tbody>\n",
       "</table>\n",
       "</div>"
      ],
      "text/plain": [
       "                 1         2         3         4         5         6   \\\n",
       "train AUC  0.960089  0.952328  0.960177  0.959071  0.959071  0.954646   \n",
       "test AUC   0.750980  0.650980  0.820000  0.830000  0.770000  0.840000   \n",
       "\n",
       "                 7         8         9         10  \n",
       "train AUC  0.957965  0.960177  0.956858  0.961283  \n",
       "test AUC   0.740000  0.640000  0.805000  0.765000  "
      ]
     },
     "execution_count": 99,
     "metadata": {},
     "output_type": "execute_result"
    }
   ],
   "source": [
    "result_df"
   ]
  },
  {
   "cell_type": "code",
   "execution_count": 100,
   "metadata": {
    "collapsed": false
   },
   "outputs": [
    {
     "data": {
      "text/plain": [
       "train AUC    0.958166\n",
       "test AUC     0.761196\n",
       "dtype: float64"
      ]
     },
     "execution_count": 100,
     "metadata": {},
     "output_type": "execute_result"
    }
   ],
   "source": [
    "result_df.mean(axis=1)"
   ]
  },
  {
   "cell_type": "code",
   "execution_count": 101,
   "metadata": {
    "collapsed": false
   },
   "outputs": [],
   "source": [
    "clf = classifiers[\"LR\"]\n",
    "clf.fit(X, y)\n",
    "gene_coef = clf.coef_[0]"
   ]
  },
  {
   "cell_type": "code",
   "execution_count": 102,
   "metadata": {
    "collapsed": false
   },
   "outputs": [],
   "source": [
    "TCGA_prostate_RB_signature_df = pd.DataFrame(index=X_prostate.columns, columns=None, data=gene_coef)"
   ]
  },
  {
   "cell_type": "code",
   "execution_count": 103,
   "metadata": {
    "collapsed": false
   },
   "outputs": [],
   "source": [
    "RBsig_prostate = pd.read_csv(\"./data/TCGA/RBsig_TCGA_prostate.csv\", header=None)\n",
    "RBsig_prostate[0] = RBsig_prostate[0].apply(lambda x:x.split(\"|\")[0])\n",
    "RBsig_prostate.to_csv(\"./data/TCGA/RBsig_TCGA_prostate.csv\", header=None, index=None)"
   ]
  },
  {
   "cell_type": "markdown",
   "metadata": {
    "collapsed": true
   },
   "source": [
    "### 2. Training Signature with Logistic Regression (with L1 regularization)\n",
    "#### 2.1 with all TCGA samples"
   ]
  },
  {
   "cell_type": "code",
   "execution_count": 104,
   "metadata": {
    "collapsed": false
   },
   "outputs": [],
   "source": [
    "label_df = pd.read_csv(\"./data/TCGA/RB_labels.csv\", index_col=\"sample_id\")\n",
    "X = pd.read_csv(\"./data/TCGA/mRNA_transpose_quantile.csv\", index_col=\"sample_id\")"
   ]
  },
  {
   "cell_type": "code",
   "execution_count": 105,
   "metadata": {
    "collapsed": false
   },
   "outputs": [
    {
     "name": "stdout",
     "output_type": "stream",
     "text": [
      "1,2,3,4,5,"
     ]
    }
   ],
   "source": [
    "y = label_df.rb_final\n",
    "assert(list(X.index) == list(y.index))\n",
    "classifiers = {\"LR\": LogisticRegression(penalty=\"l1\", C=0.1, class_weight=\"balanced\", n_jobs=40)}\n",
    "result_df = helper.stratified_cv(X.as_matrix(), y.as_matrix(), \n",
    "                                 classifiers[\"LR\"], folds=5)"
   ]
  },
  {
   "cell_type": "code",
   "execution_count": 106,
   "metadata": {
    "collapsed": false
   },
   "outputs": [
    {
     "data": {
      "text/html": [
       "<div>\n",
       "<table border=\"1\" class=\"dataframe\">\n",
       "  <thead>\n",
       "    <tr style=\"text-align: right;\">\n",
       "      <th></th>\n",
       "      <th>1</th>\n",
       "      <th>2</th>\n",
       "      <th>3</th>\n",
       "      <th>4</th>\n",
       "      <th>5</th>\n",
       "    </tr>\n",
       "  </thead>\n",
       "  <tbody>\n",
       "    <tr>\n",
       "      <th>train AUC</th>\n",
       "      <td>0.937395</td>\n",
       "      <td>0.928855</td>\n",
       "      <td>0.924332</td>\n",
       "      <td>0.931576</td>\n",
       "      <td>0.932379</td>\n",
       "    </tr>\n",
       "    <tr>\n",
       "      <th>test AUC</th>\n",
       "      <td>0.823250</td>\n",
       "      <td>0.798857</td>\n",
       "      <td>0.830133</td>\n",
       "      <td>0.816848</td>\n",
       "      <td>0.851621</td>\n",
       "    </tr>\n",
       "  </tbody>\n",
       "</table>\n",
       "</div>"
      ],
      "text/plain": [
       "                  1         2         3         4         5\n",
       "train AUC  0.937395  0.928855  0.924332  0.931576  0.932379\n",
       "test AUC   0.823250  0.798857  0.830133  0.816848  0.851621"
      ]
     },
     "execution_count": 106,
     "metadata": {},
     "output_type": "execute_result"
    }
   ],
   "source": [
    "result_df"
   ]
  },
  {
   "cell_type": "code",
   "execution_count": 107,
   "metadata": {
    "collapsed": false
   },
   "outputs": [
    {
     "data": {
      "text/plain": [
       "train AUC    0.930908\n",
       "test AUC     0.824142\n",
       "dtype: float64"
      ]
     },
     "execution_count": 107,
     "metadata": {},
     "output_type": "execute_result"
    }
   ],
   "source": [
    "result_df.mean(axis=1)"
   ]
  },
  {
   "cell_type": "code",
   "execution_count": 108,
   "metadata": {
    "collapsed": false
   },
   "outputs": [],
   "source": [
    "clf = classifiers[\"LR\"]\n",
    "clf.fit(X.as_matrix(), y.as_matrix())\n",
    "gene_coef = clf.coef_[0]"
   ]
  },
  {
   "cell_type": "code",
   "execution_count": 109,
   "metadata": {
    "collapsed": true
   },
   "outputs": [],
   "source": [
    "TCGA_RB_signature_df = pd.DataFrame(index=X.columns, columns=None, \n",
    "                                    data=gene_coef)\n",
    "TCGA_RB_signature_df.to_csv(\"./data/TCGA/RBsig_TCGA.csv\", header=None)"
   ]
  },
  {
   "cell_type": "code",
   "execution_count": 110,
   "metadata": {
    "collapsed": false
   },
   "outputs": [],
   "source": [
    "RBsig_prostate = pd.read_csv(\"./data/TCGA/RBsig_TCGA.csv\", header=None)\n",
    "RBsig_prostate[0] = RBsig_prostate[0].apply(lambda x:x.split(\"|\")[0])\n",
    "RBsig_prostate.to_csv(\"./data/TCGA/RBsig_TCGA.csv\", header=None, index=None)"
   ]
  },
  {
   "cell_type": "markdown",
   "metadata": {},
   "source": [
    "### 3. Apply RB signatures to WCDT data"
   ]
  },
  {
   "cell_type": "code",
   "execution_count": 153,
   "metadata": {
    "collapsed": false
   },
   "outputs": [],
   "source": [
    "WCDT_mRNA = \"./data/WCDT_mRNA.tsv\"\n",
    "path_call = \"./data/WCDT_final_path_call.csv\"\n",
    "WCDT_df = pd.read_csv(WCDT_mRNA, delimiter=\"\\t\", index_col=\"gene_id\").T.rank(axis=1, pct=True)\n",
    "path_call_df = pd.read_csv(path_call, index_col=\"Patient ID\")"
   ]
  },
  {
   "cell_type": "code",
   "execution_count": 132,
   "metadata": {
    "collapsed": false
   },
   "outputs": [],
   "source": [
    "RBsig_prostate = pd.read_csv(\"./data/TCGA/RBsig_TCGA_prostate.csv\", header=None)\n",
    "RBsig_all = pd.read_csv(\"./data/TCGA/RBsig_TCGA.csv\", header=None)\n",
    "assert(list(RBsig_prostate[0])==list(RBsig_all[0]))"
   ]
  },
  {
   "cell_type": "code",
   "execution_count": 133,
   "metadata": {
    "collapsed": false
   },
   "outputs": [],
   "source": [
    "common_genes = sorted(list(set(RBsig_prostate[0]).intersection(set(WCDT_df.columns))))"
   ]
  },
  {
   "cell_type": "code",
   "execution_count": 134,
   "metadata": {
    "collapsed": true
   },
   "outputs": [],
   "source": [
    "WCDT_RBscore_prostate = np.dot(WCDT_df[common_genes].as_matrix(), \n",
    "                               RBsig_prostate.set_index(0).loc[common_genes].as_matrix())\n",
    "WCDT_RBscore_all = np.dot(WCDT_df[common_genes].as_matrix(), \n",
    "                          RBsig_all.set_index(0).loc[common_genes].as_matrix())"
   ]
  },
  {
   "cell_type": "code",
   "execution_count": 135,
   "metadata": {
    "collapsed": false
   },
   "outputs": [],
   "source": [
    "RBscores = pd.DataFrame(index=WCDT_df.index)\n",
    "RBscores[\"RBsig_prostate\"] = WCDT_RBscore_prostate\n",
    "RBscores[\"RBsig_all\"] = WCDT_RBscore_all"
   ]
  },
  {
   "cell_type": "code",
   "execution_count": 161,
   "metadata": {
    "collapsed": false,
    "scrolled": true
   },
   "outputs": [
    {
     "data": {
      "text/html": [
       "<div>\n",
       "<table border=\"1\" class=\"dataframe\">\n",
       "  <thead>\n",
       "    <tr style=\"text-align: right;\">\n",
       "      <th></th>\n",
       "      <th>RBsig_prostate</th>\n",
       "      <th>RBsig_all</th>\n",
       "    </tr>\n",
       "    <tr>\n",
       "      <th>Patient ID</th>\n",
       "      <th></th>\n",
       "      <th></th>\n",
       "    </tr>\n",
       "  </thead>\n",
       "  <tbody>\n",
       "    <tr>\n",
       "      <th>DTB-001</th>\n",
       "      <td>-0.933912</td>\n",
       "      <td>-2.779784</td>\n",
       "    </tr>\n",
       "    <tr>\n",
       "      <th>DTB-002</th>\n",
       "      <td>-0.626456</td>\n",
       "      <td>-0.760286</td>\n",
       "    </tr>\n",
       "    <tr>\n",
       "      <th>DTB-003</th>\n",
       "      <td>-0.528911</td>\n",
       "      <td>3.257035</td>\n",
       "    </tr>\n",
       "    <tr>\n",
       "      <th>DTB-004</th>\n",
       "      <td>-0.563169</td>\n",
       "      <td>-3.133244</td>\n",
       "    </tr>\n",
       "    <tr>\n",
       "      <th>DTB-005</th>\n",
       "      <td>-0.812319</td>\n",
       "      <td>-0.656569</td>\n",
       "    </tr>\n",
       "    <tr>\n",
       "      <th>DTB-007</th>\n",
       "      <td>-0.548040</td>\n",
       "      <td>2.438527</td>\n",
       "    </tr>\n",
       "    <tr>\n",
       "      <th>DTB-008</th>\n",
       "      <td>-0.807594</td>\n",
       "      <td>-2.511162</td>\n",
       "    </tr>\n",
       "    <tr>\n",
       "      <th>DTB-009</th>\n",
       "      <td>-0.795575</td>\n",
       "      <td>2.017292</td>\n",
       "    </tr>\n",
       "    <tr>\n",
       "      <th>DTB-010Pro</th>\n",
       "      <td>-0.551169</td>\n",
       "      <td>-3.064181</td>\n",
       "    </tr>\n",
       "    <tr>\n",
       "      <th>DTB-011</th>\n",
       "      <td>-0.802609</td>\n",
       "      <td>-3.159285</td>\n",
       "    </tr>\n",
       "    <tr>\n",
       "      <th>DTB-018</th>\n",
       "      <td>-0.744043</td>\n",
       "      <td>-0.939308</td>\n",
       "    </tr>\n",
       "    <tr>\n",
       "      <th>DTB-018Pro</th>\n",
       "      <td>-0.816794</td>\n",
       "      <td>0.314823</td>\n",
       "    </tr>\n",
       "    <tr>\n",
       "      <th>DTB-020</th>\n",
       "      <td>-0.575666</td>\n",
       "      <td>-2.493462</td>\n",
       "    </tr>\n",
       "    <tr>\n",
       "      <th>DTB-021</th>\n",
       "      <td>-0.669638</td>\n",
       "      <td>-3.610467</td>\n",
       "    </tr>\n",
       "    <tr>\n",
       "      <th>DTB-022</th>\n",
       "      <td>-0.485633</td>\n",
       "      <td>0.019079</td>\n",
       "    </tr>\n",
       "    <tr>\n",
       "      <th>DTB-022Pro</th>\n",
       "      <td>-0.574799</td>\n",
       "      <td>2.461497</td>\n",
       "    </tr>\n",
       "    <tr>\n",
       "      <th>DTB-022Pro2</th>\n",
       "      <td>-0.498678</td>\n",
       "      <td>-1.607514</td>\n",
       "    </tr>\n",
       "    <tr>\n",
       "      <th>DTB-023</th>\n",
       "      <td>-0.744173</td>\n",
       "      <td>0.533035</td>\n",
       "    </tr>\n",
       "    <tr>\n",
       "      <th>DTB-024Pro</th>\n",
       "      <td>-0.750100</td>\n",
       "      <td>-2.812374</td>\n",
       "    </tr>\n",
       "    <tr>\n",
       "      <th>DTB-024Pro2</th>\n",
       "      <td>-0.896732</td>\n",
       "      <td>-2.412706</td>\n",
       "    </tr>\n",
       "    <tr>\n",
       "      <th>DTB-030</th>\n",
       "      <td>-0.477758</td>\n",
       "      <td>-1.567420</td>\n",
       "    </tr>\n",
       "    <tr>\n",
       "      <th>DTB-031</th>\n",
       "      <td>-0.653825</td>\n",
       "      <td>0.211913</td>\n",
       "    </tr>\n",
       "    <tr>\n",
       "      <th>DTB-032</th>\n",
       "      <td>-0.468638</td>\n",
       "      <td>3.316219</td>\n",
       "    </tr>\n",
       "    <tr>\n",
       "      <th>DTB-034</th>\n",
       "      <td>-0.786201</td>\n",
       "      <td>-2.842949</td>\n",
       "    </tr>\n",
       "    <tr>\n",
       "      <th>DTB-035</th>\n",
       "      <td>-0.714984</td>\n",
       "      <td>-4.414045</td>\n",
       "    </tr>\n",
       "    <tr>\n",
       "      <th>DTB-036</th>\n",
       "      <td>-0.660927</td>\n",
       "      <td>4.532933</td>\n",
       "    </tr>\n",
       "    <tr>\n",
       "      <th>DTB-038</th>\n",
       "      <td>-0.408319</td>\n",
       "      <td>-0.961390</td>\n",
       "    </tr>\n",
       "    <tr>\n",
       "      <th>DTB-040</th>\n",
       "      <td>-0.069160</td>\n",
       "      <td>4.888196</td>\n",
       "    </tr>\n",
       "    <tr>\n",
       "      <th>DTB-042</th>\n",
       "      <td>-0.324105</td>\n",
       "      <td>-3.023194</td>\n",
       "    </tr>\n",
       "    <tr>\n",
       "      <th>DTB-046</th>\n",
       "      <td>-0.743756</td>\n",
       "      <td>-2.819694</td>\n",
       "    </tr>\n",
       "    <tr>\n",
       "      <th>...</th>\n",
       "      <td>...</td>\n",
       "      <td>...</td>\n",
       "    </tr>\n",
       "    <tr>\n",
       "      <th>DTB-137</th>\n",
       "      <td>-0.406045</td>\n",
       "      <td>-1.280332</td>\n",
       "    </tr>\n",
       "    <tr>\n",
       "      <th>DTB-137Pro</th>\n",
       "      <td>-0.272432</td>\n",
       "      <td>-2.756043</td>\n",
       "    </tr>\n",
       "    <tr>\n",
       "      <th>DTB-138</th>\n",
       "      <td>-0.715743</td>\n",
       "      <td>3.286670</td>\n",
       "    </tr>\n",
       "    <tr>\n",
       "      <th>DTB-140</th>\n",
       "      <td>-0.836186</td>\n",
       "      <td>-4.093877</td>\n",
       "    </tr>\n",
       "    <tr>\n",
       "      <th>DTB-141</th>\n",
       "      <td>-0.481373</td>\n",
       "      <td>-0.977085</td>\n",
       "    </tr>\n",
       "    <tr>\n",
       "      <th>DTB-141Pro</th>\n",
       "      <td>-0.378319</td>\n",
       "      <td>-0.209682</td>\n",
       "    </tr>\n",
       "    <tr>\n",
       "      <th>DTB-143</th>\n",
       "      <td>-0.727814</td>\n",
       "      <td>-2.827879</td>\n",
       "    </tr>\n",
       "    <tr>\n",
       "      <th>DTB-146</th>\n",
       "      <td>-0.881809</td>\n",
       "      <td>-3.482775</td>\n",
       "    </tr>\n",
       "    <tr>\n",
       "      <th>DTB-149</th>\n",
       "      <td>-0.602184</td>\n",
       "      <td>-0.293044</td>\n",
       "    </tr>\n",
       "    <tr>\n",
       "      <th>DTB-149Pro</th>\n",
       "      <td>-0.698942</td>\n",
       "      <td>-1.022621</td>\n",
       "    </tr>\n",
       "    <tr>\n",
       "      <th>DTB-151</th>\n",
       "      <td>-0.615518</td>\n",
       "      <td>-3.482123</td>\n",
       "    </tr>\n",
       "    <tr>\n",
       "      <th>DTB-154</th>\n",
       "      <td>-0.532089</td>\n",
       "      <td>-1.398361</td>\n",
       "    </tr>\n",
       "    <tr>\n",
       "      <th>DTB-156</th>\n",
       "      <td>-0.684334</td>\n",
       "      <td>2.157248</td>\n",
       "    </tr>\n",
       "    <tr>\n",
       "      <th>DTB-159</th>\n",
       "      <td>-0.659951</td>\n",
       "      <td>-1.581989</td>\n",
       "    </tr>\n",
       "    <tr>\n",
       "      <th>DTB-170</th>\n",
       "      <td>-0.667321</td>\n",
       "      <td>-3.387847</td>\n",
       "    </tr>\n",
       "    <tr>\n",
       "      <th>DTB-174</th>\n",
       "      <td>-0.475648</td>\n",
       "      <td>-0.899247</td>\n",
       "    </tr>\n",
       "    <tr>\n",
       "      <th>DTB-175</th>\n",
       "      <td>-0.672096</td>\n",
       "      <td>-0.428871</td>\n",
       "    </tr>\n",
       "    <tr>\n",
       "      <th>DTB-176</th>\n",
       "      <td>-0.769062</td>\n",
       "      <td>-0.199053</td>\n",
       "    </tr>\n",
       "    <tr>\n",
       "      <th>DTB-176Pro</th>\n",
       "      <td>-0.638815</td>\n",
       "      <td>-1.561988</td>\n",
       "    </tr>\n",
       "    <tr>\n",
       "      <th>DTB-181</th>\n",
       "      <td>-0.504789</td>\n",
       "      <td>0.422677</td>\n",
       "    </tr>\n",
       "    <tr>\n",
       "      <th>DTB-183</th>\n",
       "      <td>-0.459463</td>\n",
       "      <td>0.140279</td>\n",
       "    </tr>\n",
       "    <tr>\n",
       "      <th>DTB-187</th>\n",
       "      <td>-0.609108</td>\n",
       "      <td>-0.300469</td>\n",
       "    </tr>\n",
       "    <tr>\n",
       "      <th>DTB-190</th>\n",
       "      <td>-0.711610</td>\n",
       "      <td>-2.943774</td>\n",
       "    </tr>\n",
       "    <tr>\n",
       "      <th>DTB-194</th>\n",
       "      <td>-0.620820</td>\n",
       "      <td>-3.062707</td>\n",
       "    </tr>\n",
       "    <tr>\n",
       "      <th>DTB-194Pro</th>\n",
       "      <td>-0.589279</td>\n",
       "      <td>-3.614570</td>\n",
       "    </tr>\n",
       "    <tr>\n",
       "      <th>DTB-205</th>\n",
       "      <td>-0.466721</td>\n",
       "      <td>-0.873719</td>\n",
       "    </tr>\n",
       "    <tr>\n",
       "      <th>DTB-206</th>\n",
       "      <td>-0.580894</td>\n",
       "      <td>-1.061010</td>\n",
       "    </tr>\n",
       "    <tr>\n",
       "      <th>DTB-210</th>\n",
       "      <td>-0.540742</td>\n",
       "      <td>-0.085309</td>\n",
       "    </tr>\n",
       "    <tr>\n",
       "      <th>DTB-210Pro</th>\n",
       "      <td>-0.624203</td>\n",
       "      <td>-0.738996</td>\n",
       "    </tr>\n",
       "    <tr>\n",
       "      <th>DTB-218</th>\n",
       "      <td>-0.852907</td>\n",
       "      <td>1.791162</td>\n",
       "    </tr>\n",
       "  </tbody>\n",
       "</table>\n",
       "<p>119 rows × 2 columns</p>\n",
       "</div>"
      ],
      "text/plain": [
       "             RBsig_prostate  RBsig_all\n",
       "Patient ID                            \n",
       "DTB-001           -0.933912  -2.779784\n",
       "DTB-002           -0.626456  -0.760286\n",
       "DTB-003           -0.528911   3.257035\n",
       "DTB-004           -0.563169  -3.133244\n",
       "DTB-005           -0.812319  -0.656569\n",
       "DTB-007           -0.548040   2.438527\n",
       "DTB-008           -0.807594  -2.511162\n",
       "DTB-009           -0.795575   2.017292\n",
       "DTB-010Pro        -0.551169  -3.064181\n",
       "DTB-011           -0.802609  -3.159285\n",
       "DTB-018           -0.744043  -0.939308\n",
       "DTB-018Pro        -0.816794   0.314823\n",
       "DTB-020           -0.575666  -2.493462\n",
       "DTB-021           -0.669638  -3.610467\n",
       "DTB-022           -0.485633   0.019079\n",
       "DTB-022Pro        -0.574799   2.461497\n",
       "DTB-022Pro2       -0.498678  -1.607514\n",
       "DTB-023           -0.744173   0.533035\n",
       "DTB-024Pro        -0.750100  -2.812374\n",
       "DTB-024Pro2       -0.896732  -2.412706\n",
       "DTB-030           -0.477758  -1.567420\n",
       "DTB-031           -0.653825   0.211913\n",
       "DTB-032           -0.468638   3.316219\n",
       "DTB-034           -0.786201  -2.842949\n",
       "DTB-035           -0.714984  -4.414045\n",
       "DTB-036           -0.660927   4.532933\n",
       "DTB-038           -0.408319  -0.961390\n",
       "DTB-040           -0.069160   4.888196\n",
       "DTB-042           -0.324105  -3.023194\n",
       "DTB-046           -0.743756  -2.819694\n",
       "...                     ...        ...\n",
       "DTB-137           -0.406045  -1.280332\n",
       "DTB-137Pro        -0.272432  -2.756043\n",
       "DTB-138           -0.715743   3.286670\n",
       "DTB-140           -0.836186  -4.093877\n",
       "DTB-141           -0.481373  -0.977085\n",
       "DTB-141Pro        -0.378319  -0.209682\n",
       "DTB-143           -0.727814  -2.827879\n",
       "DTB-146           -0.881809  -3.482775\n",
       "DTB-149           -0.602184  -0.293044\n",
       "DTB-149Pro        -0.698942  -1.022621\n",
       "DTB-151           -0.615518  -3.482123\n",
       "DTB-154           -0.532089  -1.398361\n",
       "DTB-156           -0.684334   2.157248\n",
       "DTB-159           -0.659951  -1.581989\n",
       "DTB-170           -0.667321  -3.387847\n",
       "DTB-174           -0.475648  -0.899247\n",
       "DTB-175           -0.672096  -0.428871\n",
       "DTB-176           -0.769062  -0.199053\n",
       "DTB-176Pro        -0.638815  -1.561988\n",
       "DTB-181           -0.504789   0.422677\n",
       "DTB-183           -0.459463   0.140279\n",
       "DTB-187           -0.609108  -0.300469\n",
       "DTB-190           -0.711610  -2.943774\n",
       "DTB-194           -0.620820  -3.062707\n",
       "DTB-194Pro        -0.589279  -3.614570\n",
       "DTB-205           -0.466721  -0.873719\n",
       "DTB-206           -0.580894  -1.061010\n",
       "DTB-210           -0.540742  -0.085309\n",
       "DTB-210Pro        -0.624203  -0.738996\n",
       "DTB-218           -0.852907   1.791162\n",
       "\n",
       "[119 rows x 2 columns]"
      ]
     },
     "execution_count": 161,
     "metadata": {},
     "output_type": "execute_result"
    }
   ],
   "source": [
    "RBscores = RBscores.loc[path_call_df.index]\n",
    "RBscores"
   ]
  },
  {
   "cell_type": "code",
   "execution_count": 185,
   "metadata": {
    "collapsed": false
   },
   "outputs": [
    {
     "data": {
      "text/plain": [
       "Not small cell    90\n",
       "Small Cell        14\n",
       "Unclassified       8\n",
       "Mixed              7\n",
       "Name: Path Classification, dtype: int64"
      ]
     },
     "execution_count": 185,
     "metadata": {},
     "output_type": "execute_result"
    }
   ],
   "source": [
    "path_call_df[\"Path Classification\"].value_counts()"
   ]
  },
  {
   "cell_type": "code",
   "execution_count": 198,
   "metadata": {
    "collapsed": false,
    "scrolled": false
   },
   "outputs": [
    {
     "data": {
      "image/png": "[encoded data removed]",
      "text/plain": [
       "<matplotlib.figure.Figure at 0x7f74009bce48>"
      ]
     },
     "metadata": {},
     "output_type": "display_data"
    },
    {
     "data": {
      "image/png": "[encoded data removed]",
      "text/plain": [
       "<matplotlib.figure.Figure at 0x7f74007e6390>"
      ]
     },
     "metadata": {},
     "output_type": "display_data"
    }
   ],
   "source": [
    "# apply NEPC signatures to known samples\n",
    "assert(sorted(list(RBscores.index)) == sorted(list(path_call_df.index)))\n",
    "\n",
    "for sig in RBscores.columns:\n",
    "    RBscores.sort_values(sig, ascending=False, inplace=True)\n",
    "    small_cell = list(path_call_df[path_call_df[\"Path Classification\"] == \"Small Cell\"].index)\n",
    "    mixed = list(path_call_df[path_call_df[\"Path Classification\"] == \"Mixed\"].index)\n",
    "    unclassified = list(path_call_df[path_call_df[\"Path Classification\"] == \"Unclassified\"].index)\n",
    "    not_small_cell = list(path_call_df[path_call_df[\"Path Classification\"] == \"Not small cell\"].index)\n",
    "    colors = dict(zip(small_cell + not_small_cell + mixed + unclassified, \n",
    "                      [\"#C84440\"] * len(small_cell) + [\"#3D8ABF\"] * len(not_small_cell) + \n",
    "                      [\"#ffb6c1\"] * len(mixed) + [\"#808080\"] * len(unclassified)))\n",
    "    fig, ax= plt.subplots()\n",
    "    fig.set_size_inches(25,6)\n",
    "    RBscores[sig].plot.bar(ax=ax, color=[colors[i] for i in RBscores.index])\n",
    "    ax.set_ylabel(\"signature score\", fontsize=13)\n",
    "    red_proxy = plt.Rectangle((0, 0), 1, 1, fc=\"#C84440\")\n",
    "    pink_proxy = plt.Rectangle((0, 0), 1, 1, fc=\"#3D8ABF\")\n",
    "    blue_proxy = plt.Rectangle((0, 0), 1, 1, fc=\"#ffb6c1\")\n",
    "    grey_proxy = plt.Rectangle((0, 0), 1, 1, fc=\"#808080\")\n",
    "    ax.legend([red_proxy,pink_proxy,blue_proxy,grey_proxy],\n",
    "              ['Small Cell','Not Small Cell','Mixed','Unclassified'], fontsize=14)\n",
    "    ax.set_title(\"{0}\".format(sig), fontsize=14)\n",
    "    fig.savefig(\"./{0}_scores.png\".format(sig), dpi=200)"
   ]
  },
  {
   "cell_type": "code",
   "execution_count": null,
   "metadata": {
    "collapsed": true
   },
   "outputs": [],
   "source": []
  }
 ],
 "metadata": {
  "kernelspec": {
   "display_name": "Python 3",
   "language": "python",
   "name": "python3"
  },
  "language_info": {
   "codemirror_mode": {
    "name": "ipython",
    "version": 3
   },
   "file_extension": ".py",
   "mimetype": "text/x-python",
   "name": "python",
   "nbconvert_exporter": "python",
   "pygments_lexer": "ipython3",
   "version": "3.6.0"
  }
 },
 "nbformat": 4,
 "nbformat_minor": 2
}
