{
 "cells": [
  {
   "cell_type": "markdown",
   "metadata": {},
   "source": [
    "AR signature in python\n",
    "converted from Artem Sokolov and Vlado Uzunangelov's R code"
   ]
  },
  {
   "cell_type": "code",
   "execution_count": 46,
   "metadata": {
    "collapsed": false
   },
   "outputs": [
    {
     "data": {
      "text/html": [
       "\n",
       "    <div class=\"bk-root\">\n",
       "        <a href=\"http://bokeh.pydata.org\" target=\"_blank\" class=\"bk-logo bk-logo-small bk-logo-notebook\"></a>\n",
       "        <span id=\"11ee4d71-15b7-4b3a-9abe-e7f7b6240ddb\">Loading BokehJS ...</span>\n",
       "    </div>"
      ]
     },
     "metadata": {},
     "output_type": "display_data"
    },
    {
     "data": {
      "application/javascript": [
       "\n",
       "(function(global) {\n",
       "  function now() {\n",
       "    return new Date();\n",
       "  }\n",
       "\n",
       "  var force = true;\n",
       "\n",
       "  if (typeof (window._bokeh_onload_callbacks) === \"undefined\" || force === true) {\n",
       "    window._bokeh_onload_callbacks = [];\n",
       "    window._bokeh_is_loading = undefined;\n",
       "  }\n",
       "\n",
       "\n",
       "  \n",
       "  if (typeof (window._bokeh_timeout) === \"undefined\" || force === true) {\n",
       "    window._bokeh_timeout = Date.now() + 5000;\n",
       "    window._bokeh_failed_load = false;\n",
       "  }\n",
       "\n",
       "  var NB_LOAD_WARNING = {'data': {'text/html':\n",
       "     \"<div style='background-color: #fdd'>\\n\"+\n",
       "     \"<p>\\n\"+\n",
       "     \"BokehJS does not appear to have successfully loaded. If loading BokehJS from CDN, this \\n\"+\n",
       "     \"may be due to a slow or bad network connection. Possible fixes:\\n\"+\n",
       "     \"</p>\\n\"+\n",
       "     \"<ul>\\n\"+\n",
       "     \"<li>re-rerun `output_notebook()` to attempt to load from CDN again, or</li>\\n\"+\n",
       "     \"<li>use INLINE resources instead, as so:</li>\\n\"+\n",
       "     \"</ul>\\n\"+\n",
       "     \"<code>\\n\"+\n",
       "     \"from bokeh.resources import INLINE\\n\"+\n",
       "     \"output_notebook(resources=INLINE)\\n\"+\n",
       "     \"</code>\\n\"+\n",
       "     \"</div>\"}};\n",
       "\n",
       "  function display_loaded() {\n",
       "    if (window.Bokeh !== undefined) {\n",
       "      document.getElementById(\"11ee4d71-15b7-4b3a-9abe-e7f7b6240ddb\").textContent = \"BokehJS successfully loaded.\";\n",
       "    } else if (Date.now() < window._bokeh_timeout) {\n",
       "      setTimeout(display_loaded, 100)\n",
       "    }\n",
       "  }\n",
       "\n",
       "  function run_callbacks() {\n",
       "    window._bokeh_onload_callbacks.forEach(function(callback) { callback() });\n",
       "    delete window._bokeh_onload_callbacks\n",
       "    console.info(\"Bokeh: all callbacks have finished\");\n",
       "  }\n",
       "\n",
       "  function load_libs(js_urls, callback) {\n",
       "    window._bokeh_onload_callbacks.push(callback);\n",
       "    if (window._bokeh_is_loading > 0) {\n",
       "      console.log(\"Bokeh: BokehJS is being loaded, scheduling callback at\", now());\n",
       "      return null;\n",
       "    }\n",
       "    if (js_urls == null || js_urls.length === 0) {\n",
       "      run_callbacks();\n",
       "      return null;\n",
       "    }\n",
       "    console.log(\"Bokeh: BokehJS not loaded, scheduling load and callback at\", now());\n",
       "    window._bokeh_is_loading = js_urls.length;\n",
       "    for (var i = 0; i < js_urls.length; i++) {\n",
       "      var url = js_urls[i];\n",
       "      var s = document.createElement('script');\n",
       "      s.src = url;\n",
       "      s.async = false;\n",
       "      s.onreadystatechange = s.onload = function() {\n",
       "        window._bokeh_is_loading--;\n",
       "        if (window._bokeh_is_loading === 0) {\n",
       "          console.log(\"Bokeh: all BokehJS libraries loaded\");\n",
       "          run_callbacks()\n",
       "        }\n",
       "      };\n",
       "      s.onerror = function() {\n",
       "        console.warn(\"failed to load library \" + url);\n",
       "      };\n",
       "      console.log(\"Bokeh: injecting script tag for BokehJS library: \", url);\n",
       "      document.getElementsByTagName(\"head\")[0].appendChild(s);\n",
       "    }\n",
       "  };var element = document.getElementById(\"11ee4d71-15b7-4b3a-9abe-e7f7b6240ddb\");\n",
       "  if (element == null) {\n",
       "    console.log(\"Bokeh: ERROR: autoload.js configured with elementid '11ee4d71-15b7-4b3a-9abe-e7f7b6240ddb' but no matching script tag was found. \")\n",
       "    return false;\n",
       "  }\n",
       "\n",
       "  var js_urls = [\"https://cdn.pydata.org/bokeh/release/bokeh-0.12.4.min.js\", \"https://cdn.pydata.org/bokeh/release/bokeh-widgets-0.12.4.min.js\"];\n",
       "\n",
       "  var inline_js = [\n",
       "    function(Bokeh) {\n",
       "      Bokeh.set_log_level(\"info\");\n",
       "    },\n",
       "    \n",
       "    function(Bokeh) {\n",
       "      \n",
       "      document.getElementById(\"11ee4d71-15b7-4b3a-9abe-e7f7b6240ddb\").textContent = \"BokehJS is loading...\";\n",
       "    },\n",
       "    function(Bokeh) {\n",
       "      console.log(\"Bokeh: injecting CSS: https://cdn.pydata.org/bokeh/release/bokeh-0.12.4.min.css\");\n",
       "      Bokeh.embed.inject_css(\"https://cdn.pydata.org/bokeh/release/bokeh-0.12.4.min.css\");\n",
       "      console.log(\"Bokeh: injecting CSS: https://cdn.pydata.org/bokeh/release/bokeh-widgets-0.12.4.min.css\");\n",
       "      Bokeh.embed.inject_css(\"https://cdn.pydata.org/bokeh/release/bokeh-widgets-0.12.4.min.css\");\n",
       "    }\n",
       "  ];\n",
       "\n",
       "  function run_inline_js() {\n",
       "    \n",
       "    if ((window.Bokeh !== undefined) || (force === true)) {\n",
       "      for (var i = 0; i < inline_js.length; i++) {\n",
       "        inline_js[i](window.Bokeh);\n",
       "      }if (force === true) {\n",
       "        display_loaded();\n",
       "      }} else if (Date.now() < window._bokeh_timeout) {\n",
       "      setTimeout(run_inline_js, 100);\n",
       "    } else if (!window._bokeh_failed_load) {\n",
       "      console.log(\"Bokeh: BokehJS failed to load within specified timeout.\");\n",
       "      window._bokeh_failed_load = true;\n",
       "    } else if (force !== true) {\n",
       "      var cell = $(document.getElementById(\"11ee4d71-15b7-4b3a-9abe-e7f7b6240ddb\")).parents('.cell').data().cell;\n",
       "      cell.output_area.append_execute_result(NB_LOAD_WARNING)\n",
       "    }\n",
       "\n",
       "  }\n",
       "\n",
       "  if (window._bokeh_is_loading === 0) {\n",
       "    console.log(\"Bokeh: BokehJS loaded, going straight to plotting\");\n",
       "    run_inline_js();\n",
       "  } else {\n",
       "    load_libs(js_urls, function() {\n",
       "      console.log(\"Bokeh: BokehJS plotting callback run at\", now());\n",
       "      run_inline_js();\n",
       "    });\n",
       "  }\n",
       "}(this));"
      ]
     },
     "metadata": {},
     "output_type": "display_data"
    }
   ],
   "source": [
    "import pandas as pd\n",
    "import numpy as np\n",
    "from sklearn import linear_model, kernel_ridge\n",
    "from sklearn.preprocessing import MinMaxScaler\n",
    "from scipy import stats\n",
    "from matplotlib import pyplot as plt\n",
    "from bokeh.charts import Bar, output_file, show\n",
    "from bokeh.io import output_notebook\n",
    "from bokeh.sampledata.autompg import autompg as df\n",
    "from bokeh.charts.attributes import ColorAttr, CatAttr\n",
    "\n",
    "\n",
    "pd.options.mode.chained_assignment = None # supress pandas copy-by-ref warning\n",
    "%matplotlib inline\n",
    "output_notebook()"
   ]
  },
  {
   "cell_type": "code",
   "execution_count": 6,
   "metadata": {
    "collapsed": false
   },
   "outputs": [],
   "source": [
    "X_file = \"data/AR_sig_celline.tab\"\n",
    "Y_file = \"data/ar_cell_line_clin.txt\"\n",
    "X_WCDT_file = \"data/filtered_mrna.tab\"\n",
    "\n",
    "X_df = pd.read_csv(X_file, delimiter=\"\\t\")\n",
    "Y_df = pd.read_csv(Y_file, delimiter=\"\\t\")\n",
    "WCDT_df = pd.read_csv(X_WCDT_file, delimiter=\"\\t\")\n",
    "# print(Y_df)"
   ]
  },
  {
   "cell_type": "code",
   "execution_count": 7,
   "metadata": {
    "collapsed": false,
    "scrolled": false
   },
   "outputs": [],
   "source": [
    "def data_prep(X_df, Y_df):\n",
    "    # take \"ligand\" column as Y label and set \"on\" to 1 and \"no ligand\" to 0\n",
    "    Y_df = Y_df[[\"GSM_ID\", \"ligand\"]]\n",
    "    Y_df['ligand'] = Y_df['ligand'].replace(['on'], 1)\n",
    "    Y_df['ligand'] = Y_df['ligand'].replace(['no ligand'], 0)\n",
    "    \n",
    "    # Drop sample GSM288299, GSM288300, GSM288301 (QA by Robert and Jack)\n",
    "    Y_df = Y_df[~Y_df.GSM_ID.isin([\"GSM288299\", \"GSM288300\", \"GSM288301\"])]\n",
    "    \n",
    "    # remove non-overlapping samples in X and Y\n",
    "    common_samples = sorted(list(set(Y_df.GSM_ID).intersection(set(X_df.columns[1:]))))\n",
    "    X_df = X_df[[\"Gene Symbol\"] + common_samples]\n",
    "    Y_df = Y_df[Y_df.GSM_ID.isin(common_samples)]\n",
    "    \n",
    "    # remove genes with NA\n",
    "    X_df = X_df.dropna()\n",
    "    \n",
    "    # get overlap of genes between X_df and WCDT file\n",
    "    WCDT_df = pd.read_csv(X_WCDT_file, delimiter=\"\\t\")\n",
    "    common_genes = set(WCDT_df[\"gene_id\"]).intersection(set(X_df[\"Gene Symbol\"]))\n",
    "    X_df = X_df[X_df[\"Gene Symbol\"].isin(common_genes)]\n",
    "    \n",
    "    # rank transformation + normalization (with quantile function of exponential distribution) \n",
    "    X_df.set_index(\"Gene Symbol\", inplace=True)\n",
    "    X_orig_df = X_df.copy()\n",
    "    X_df = (X_df.rank()-1)/len(X_df)\n",
    "    X_df = X_df.applymap(lambda x: -np.log(1-x))\n",
    "\n",
    "    # transpose X\n",
    "    X_df = X_df.transpose()\n",
    "    X_orig_df = X_orig_df.transpose()\n",
    "    \n",
    "    # set GSM_id as Y index\n",
    "    Y_df.set_index(\"GSM_ID\", inplace=True)    \n",
    "    \n",
    "    # order X and Y so that same sample name match up\n",
    "    X_df.sort_index(inplace=True)\n",
    "    Y_df.sort_index(inplace=True)\n",
    "    assert(list(X_df.index) == list(Y_df.index))\n",
    "    \n",
    "    # prep WCDT data\n",
    "    WCDT_df = pd.read_csv(X_WCDT_file, delimiter=\"\\t\")\n",
    "    common_genes = set(WCDT_df[\"gene_id\"]).intersection(set(X_df.columns))\n",
    "    WCDT_df = WCDT_df[WCDT_df[\"gene_id\"].isin(common_genes)]\n",
    "    WCDT_df.set_index(\"gene_id\", inplace=True)\n",
    "    \n",
    "    # same normalization\n",
    "    WCDT_df = (WCDT_df.rank()-1)/len(WCDT_df)\n",
    "    WCDT_df = WCDT_df.applymap(lambda x: -np.log(1-x))\n",
    "    WCDT_df.sort_index(inplace=True)\n",
    "    WCDT_df = WCDT_df.transpose()\n",
    "\n",
    "    return X_orig_df, X_df, Y_df, WCDT_df"
   ]
  },
  {
   "cell_type": "code",
   "execution_count": 8,
   "metadata": {
    "collapsed": false,
    "scrolled": false
   },
   "outputs": [],
   "source": [
    "_, X, Y, WCDT_df = data_prep(X_df, Y_df)"
   ]
  },
  {
   "cell_type": "code",
   "execution_count": 9,
   "metadata": {
    "collapsed": false
   },
   "outputs": [],
   "source": [
    "def get_artem_sig(plot=False):\n",
    "    df1 = pd.read_csv(\"data/ar-sig.rnk\", delimiter=\"\\t\", \n",
    "                      names=[\"gene\",\"gelnet_ker\"], index_col=0)\n",
    "    df2 = pd.read_csv(\"data/ar-sig-gelnet.rnk\", delimiter=\"\\t\", \n",
    "                      names=[\"gene\",\"gelnet\"], index_col=0)\n",
    "    # scale both data set to [0, 1] by minmax scaling\n",
    "    df = pd.concat([df1, df2], axis=1)     \n",
    "    if plot:\n",
    "        plt.figure(1)\n",
    "        plt.scatter(df['gelnet_ker'], df['gelnet'])\n",
    "        plt.xlabel(\"R gelnet.ker\")\n",
    "        plt.ylabel(\"R gelnet\")\n",
    "        plt.title(\"pearson corr %.2f\" %stats.pearsonr(df['gelnet_ker'], df['gelnet'])[0])\n",
    "    return df"
   ]
  },
  {
   "cell_type": "code",
   "execution_count": 10,
   "metadata": {
    "collapsed": false,
    "scrolled": false
   },
   "outputs": [
    {
     "data": {
      "image/png": "[encoded data removed]",
      "text/plain": [
       "<matplotlib.figure.Figure at 0x7f1e5787fac8>"
      ]
     },
     "metadata": {},
     "output_type": "display_data"
    },
    {
     "data": {
      "image/png": "[encoded data removed]",
      "text/plain": [
       "<matplotlib.figure.Figure at 0x7f1e214eb128>"
      ]
     },
     "metadata": {},
     "output_type": "display_data"
    },
    {
     "data": {
      "image/png": "[encoded data removed]",
      "text/plain": [
       "<matplotlib.figure.Figure at 0x7f1e578e2eb8>"
      ]
     },
     "metadata": {},
     "output_type": "display_data"
    },
    {
     "data": {
      "image/png": "[encoded data removed]",
      "text/plain": [
       "<matplotlib.figure.Figure at 0x7f1e215a5a58>"
      ]
     },
     "metadata": {},
     "output_type": "display_data"
    }
   ],
   "source": [
    "classifiers = {#\"Enet\": linear_model.ElasticNet(alpha=0.1, l1_ratio=0.001),\n",
    "               \"Logistic Regression\": linear_model.LogisticRegression(), \n",
    "               #\"Lasso\": linear_model.Lasso(alpha=0.01), \n",
    "               \"Ridge Regression\": linear_model.Ridge(),\n",
    "               #\"KernelRidge\": kernel_ridge.KernelRidge()\n",
    "              }\n",
    "\n",
    "sig_df = get_artem_sig()\n",
    "assert(list(X.columns) == list(sig_df.index))\n",
    "assert(list(X.index) == list(Y.index))\n",
    "\n",
    "for classifier_name, classifier in classifiers.items():\n",
    "    classifier.fit(X, Y['ligand'])\n",
    "    if len(classifier.coef_) == 1:\n",
    "        coef = classifier.coef_[0]\n",
    "    else:\n",
    "        coef = classifier.coef_\n",
    "    sig_df[classifier_name] = coef\n",
    "    sig_df.to_pickle(\"AR_signatures.pkl\")\n",
    "    \n",
    "    plt.figure(classifier_name)\n",
    "    plt.scatter(sig_df[classifier_name], sig_df['gelnet_ker'])\n",
    "    plt.title(\"pearson corr %.2f (gene signature)\" %stats.pearsonr(sig_df[classifier_name], sig_df['gelnet_ker'])[0])\n",
    "    plt.xlabel(\"AR_python %s\" %classifier_name)\n",
    "    plt.ylabel(\"AR_artem gelnet.ker\")\n",
    "\n",
    "    AR_artem = np.matmul(X.as_matrix(), sig_df['gelnet_ker'].as_matrix())\n",
    "    AR_python = np.matmul(X.as_matrix(), sig_df[classifier_name].as_matrix())\n",
    "    plt.figure(classifier_name + \"AR\")\n",
    "    plt.scatter(AR_python, AR_artem)\n",
    "    plt.title(\"pearson corr %.2f (sample AR)\" %stats.pearsonr(AR_python, AR_artem)[0])\n",
    "    plt.xlabel(\"AR_python %s\" %classifier_name)\n",
    "    plt.ylabel(\"AR_artem gelnet.ker\")"
   ]
  },
  {
   "cell_type": "code",
   "execution_count": 11,
   "metadata": {
    "collapsed": false,
    "scrolled": false
   },
   "outputs": [
    {
     "data": {
      "image/png": "[encoded data removed]",
      "text/plain": [
       "<matplotlib.figure.Figure at 0x7f1e20841710>"
      ]
     },
     "metadata": {},
     "output_type": "display_data"
    },
    {
     "data": {
      "image/png": "[encoded data removed]",
      "text/plain": [
       "<matplotlib.figure.Figure at 0x7f1e202b2860>"
      ]
     },
     "metadata": {},
     "output_type": "display_data"
    }
   ],
   "source": [
    "\n",
    "assert(list(WCDT_df.columns) == list(sig_df.index))\n",
    "\n",
    "for classifier_name, classifier in classifiers.items():\n",
    "    plt.figure(\"WCDT\"+classifier_name)\n",
    "    AR_artem = np.matmul(WCDT_df.as_matrix(), sig_df['gelnet_ker'].as_matrix())\n",
    "    AR_python = np.matmul(WCDT_df.as_matrix(), sig_df[classifier_name].as_matrix())\n",
    "    plt.scatter(AR_python, AR_artem)\n",
    "    plt.title(\"pearson corr %.2f (WCDT)\" %stats.pearsonr(AR_python, AR_artem)[0])\n",
    "    plt.xlabel(\"AR_python %s\" %classifier_name)\n",
    "    plt.ylabel(\"AR_artem\")"
   ]
  },
  {
   "cell_type": "code",
   "execution_count": 12,
   "metadata": {
    "collapsed": false
   },
   "outputs": [
    {
     "name": "stdout",
     "output_type": "stream",
     "text": [
      "418\n",
      "gelnet_ker\n",
      "auc: 1.0000\n",
      "418\n",
      "gelnet\n",
      "auc: 1.0000\n",
      "418\n",
      "Logistic Regression\n",
      "auc: 1.0000\n",
      "418\n",
      "Ridge Regression\n",
      "auc: 1.0000\n"
     ]
    }
   ],
   "source": [
    "def leave_pair_out_test(X, Y, sig):\n",
    "    assert(list(X.columns)==list(sig.index))\n",
    "    pairs = get_all_01_pairs(Y)\n",
    "    print(len(pairs))\n",
    "    auc = calc_auc(X, pairs, sig)\n",
    "    return auc\n",
    "\n",
    "\n",
    "def get_all_01_pairs(Y):\n",
    "    pairs = []\n",
    "    zeros = Y[Y.ligand==0].index\n",
    "    ones = Y[Y.ligand==1].index    \n",
    "    for zero in zeros:\n",
    "        for one in ones:\n",
    "            pairs.append((zero, one))\n",
    "    return pairs\n",
    "\n",
    "\n",
    "def calc_auc(X, pairs, sig):\n",
    "    \"\"\"\n",
    "    leave pair out auc defined in this paper:\n",
    "    http://www.jmlr.org/proceedings/papers/v8/airola10a/airola10a.pdf\n",
    "    \"\"\" \n",
    "    sigs = np.matmul(X, sig)\n",
    "    sig_dict = dict(zip(X.index, sigs))\n",
    "    auc = []\n",
    "    for pair in pairs:\n",
    "        zero = sig_dict[pair[0]]\n",
    "        one = sig_dict[pair[1]]\n",
    "        if zero < one:\n",
    "            auc.append(1)\n",
    "        elif zero == one:\n",
    "            auc.append(0.5)\n",
    "    auc = float(sum(auc))/len(pairs)\n",
    "    return auc\n",
    "\n",
    "for sig_type in sig_df.columns:\n",
    "    auc = leave_pair_out_test(X, Y, sig_df[sig_type])\n",
    "    print(sig_type)\n",
    "    print(\"auc: %.4f\" %auc)\n",
    "    "
   ]
  },
  {
   "cell_type": "code",
   "execution_count": 13,
   "metadata": {
    "collapsed": false
   },
   "outputs": [],
   "source": [
    "classifiers = {#\"Enet\": linear_model.ElasticNet(alpha=0.1, l1_ratio=0.001),\n",
    "               \"Logistic Regression\": linear_model.LogisticRegression(), \n",
    "               #\"Lasso\": linear_model.Lasso(alpha=0.01), \n",
    "               #\"Ridge Regression\": linear_model.Ridge(),\n",
    "               #\"KernelRidge\": kernel_ridge.KernelRidge()\n",
    "              }\n",
    "\n",
    "def LPOCV(X, Y):\n",
    "    \"\"\"\n",
    "    leave pair out cross validation\n",
    "    \"\"\"\n",
    "    pairs = get_all_01_pairs(Y)\n",
    "    auc = []\n",
    "    for pair in pairs:\n",
    "        X_train = X[~X.index.isin(pair)]\n",
    "        Y_train = Y[~Y.index.isin(pair)]\n",
    "        X_test = X[X.index.isin(pair)]\n",
    "        Y_test = Y[Y.index.isin(pair)]\n",
    "        assert(list(X_train.index)==list(Y_train.index))\n",
    "        assert(list(X_test.index)==list(Y_test.index))        \n",
    "        classifiers[\"Logistic Regression\"].fit(X_train, Y_train['ligand'])\n",
    "        coef = classifiers[\"Logistic Regression\"].coef_[0]\n",
    "        Y_pred = np.matmul(X_test, coef)        \n",
    "        auc.append(calc_auc_cv(Y_pred, Y_test))\n",
    "    auc = float(sum(auc))/len(pairs)\n",
    "    return auc\n",
    "    \n",
    "        \n",
    "def calc_auc_cv(Y_pred, Y_test):\n",
    "    Y_test = list(Y_test['ligand'])\n",
    "    assert(Y_test[1] != Y_test[0])\n",
    "    if Y_test[1] > Y_test[0]:\n",
    "        zero = Y_pred[0]\n",
    "        one = Y_pred[1]\n",
    "    else:\n",
    "        zero = Y_pred[1]\n",
    "        one = Y_pred[0]\n",
    "    if zero == one:\n",
    "        return 0.5\n",
    "    elif zero < one:\n",
    "        return 1\n",
    "    else:\n",
    "        return 0"
   ]
  },
  {
   "cell_type": "code",
   "execution_count": 14,
   "metadata": {
    "collapsed": false,
    "scrolled": true
   },
   "outputs": [
    {
     "name": "stdout",
     "output_type": "stream",
     "text": [
      "1.0\n"
     ]
    }
   ],
   "source": [
    "print(LPOCV(X, Y))"
   ]
  },
  {
   "cell_type": "code",
   "execution_count": 15,
   "metadata": {
    "collapsed": false
   },
   "outputs": [],
   "source": [
    "_, X, Y, WCDT_df = data_prep(X_df, Y_df)\n",
    "sig_df = pd.read_pickle(\"AR_signatures.pkl\")"
   ]
  },
  {
   "cell_type": "code",
   "execution_count": 77,
   "metadata": {
    "collapsed": false,
    "scrolled": false
   },
   "outputs": [
    {
     "name": "stdout",
     "output_type": "stream",
     "text": [
      "              Pre      Post  Post-Pre\n",
      "Sample                               \n",
      "DTB-080 -0.121793  -7.71966  -7.59787\n",
      "DTB-063   0.42224  -4.52588  -4.94812\n",
      "DTB-176  0.398765  -3.73529  -4.13405\n",
      "DTB-194  -0.23242  -3.68481  -3.45239\n",
      "DTB-141  0.176131  -2.79904  -2.97517\n",
      "DTB-149     1.693 -0.813943  -2.50694\n",
      "DTB-127  0.896423  -1.42692  -2.32334\n",
      "DTB-137   0.60286  -1.53947  -2.14233\n",
      "DTB-135  0.305732  -1.63618  -1.94191\n",
      "DTB-060   4.56127   3.42715  -1.13412\n",
      "DTB-024 -0.580551  -1.27299  -0.69244\n",
      "DTB-022 -0.974636 -0.644036  0.330599\n",
      "DTB-102  0.247675  0.635457  0.387783\n",
      "DTB-073  -1.26859   1.34314   2.61173\n",
      "DTB-111  -2.50477   1.99217   4.49694\n",
      "DTB-089  -3.30639   1.19885   4.50524\n"
     ]
    },
    {
     "data": {
      "text/plain": [
       "<matplotlib.legend.Legend at 0x7f1e20298048>"
      ]
     },
     "execution_count": 77,
     "metadata": {},
     "output_type": "execute_result"
    },
    {
     "data": {
      "image/png": "[encoded data removed]",
      "text/plain": [
       "<matplotlib.figure.Figure at 0x7f1e202989e8>"
      ]
     },
     "metadata": {},
     "output_type": "display_data"
    }
   ],
   "source": [
    "def extract_sample_name(name):\n",
    "    if name.endswith(\"Pro\"):\n",
    "        return name[:-3]\n",
    "    elif name.endswith(\"Pro2\"):\n",
    "        return name[:-4]\n",
    "    else:\n",
    "        assert(name[-1] in \"0123456789\")\n",
    "        return name\n",
    "\n",
    "\n",
    "assert(list(sig_df.index) == list(WCDT_df.columns))\n",
    "WCDT_AR_scores = np.matmul(WCDT_df, sig_df[\"Logistic Regression\"])\n",
    "WCDT_score_df = pd.DataFrame(WCDT_AR_scores, index=WCDT_df.index, columns=[\"score\"])\n",
    "sample_pair = pd.read_csv(\"data/paired_samples\", delimiter=\"\\t\", index_col=\"Sample\")\n",
    "WCDT_score_df = WCDT_score_df[WCDT_score_df.index.isin(sample_pair.index)]\n",
    "assert(sorted(list(sample_pair.index))==sorted(list(WCDT_score_df.index)))\n",
    "sample_pair_dict = dict(zip(sample_pair.index, sample_pair['TimePoint']))\n",
    "WCDT_plot_df = pd.DataFrame(columns=[\"Pre\", \"Post\"])\n",
    "for index, row in WCDT_score_df.iterrows():\n",
    "    sample_name = extract_sample_name(index)\n",
    "    sample_type = sample_pair_dict[index]\n",
    "    WCDT_plot_df.set_value(sample_name, sample_type, row.score)\n",
    "\n",
    "WCDT_plot_df[\"Post-Pre\"] = WCDT_plot_df[\"Post\"] - WCDT_plot_df[\"Pre\"]\n",
    "WCDT_plot_df.sort_values(by=\"Post-Pre\", inplace=True)\n",
    "WCDT_plot_df.index.rename(\"Sample\", inplace=True)\n",
    "print(WCDT_plot_df)\n",
    "\n",
    "\n",
    "ax = WCDT_plot_df.plot.bar(y=\"Post-Pre\")\n",
    "ax.set_ylabel(\"AR score post - pre\")\n",
    "ax.set_title(\"AR score diff (post-pre) from python script\")\n",
    "ax.legend(\"\")"
   ]
  },
  {
   "cell_type": "code",
   "execution_count": null,
   "metadata": {
    "collapsed": true
   },
   "outputs": [],
   "source": []
  },
  {
   "cell_type": "code",
   "execution_count": null,
   "metadata": {
    "collapsed": true
   },
   "outputs": [],
   "source": []
  }
 ],
 "metadata": {
  "kernelspec": {
   "display_name": "Python 3",
   "language": "python",
   "name": "python3"
  }
 },
 "nbformat": 4,
 "nbformat_minor": 2
}
