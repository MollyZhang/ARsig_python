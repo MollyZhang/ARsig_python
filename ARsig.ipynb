{
 "cells": [
  {
   "cell_type": "markdown",
   "metadata": {},
   "source": [
    "AR signature in python\n",
    "converted from Artem Sokolov and Vlado Uzunangelov's R code"
   ]
  },
  {
   "cell_type": "code",
   "execution_count": 221,
   "metadata": {
    "collapsed": true
   },
   "outputs": [],
   "source": [
    "import pandas as pd\n",
    "import numpy as np\n",
    "from sklearn import linear_model, kernel_ridge\n",
    "from sklearn.preprocessing import MinMaxScaler\n",
    "from scipy import stats\n",
    "from matplotlib import pyplot as plt\n",
    "\n",
    "pd.options.mode.chained_assignment = None # supress pandas copy-by-ref warning\n",
    "%matplotlib inline"
   ]
  },
  {
   "cell_type": "code",
   "execution_count": 136,
   "metadata": {
    "collapsed": false
   },
   "outputs": [],
   "source": [
    "X_file = \"data/AR_sig_celline.tab\"\n",
    "Y_file = \"data/ar_cell_line_clin.txt\"\n",
    "X_WCDT_file = \"data/filtered_mrna.tab\"\n",
    "\n",
    "X_df = pd.read_csv(X_file, delimiter=\"\\t\")\n",
    "Y_df = pd.read_csv(Y_file, delimiter=\"\\t\")\n",
    "\n",
    "# print(Y_df)"
   ]
  },
  {
   "cell_type": "code",
   "execution_count": 75,
   "metadata": {
    "collapsed": false,
    "scrolled": false
   },
   "outputs": [],
   "source": [
    "def data_prep(X_df, Y_df):\n",
    "    # take \"ligand\" column as Y label and set \"on\" to 1 and \"no ligand\" to 0\n",
    "    Y_df = Y_df[[\"GSM_ID\", \"ligand\"]]\n",
    "    Y_df['ligand'] = Y_df['ligand'].replace(['on'], 1)\n",
    "    Y_df['ligand'] = Y_df['ligand'].replace(['no ligand'], 0)\n",
    "    \n",
    "    # Drop sample GSM288299, GSM288300, GSM288301 (QA by Robert and Jack)\n",
    "    Y_df = Y_df[~Y_df.GSM_ID.isin([\"GSM288299\", \"GSM288300\", \"GSM288301\"])]\n",
    "    \n",
    "    # remove non-overlapping samples in X and Y\n",
    "    common_samples = sorted(list(set(Y_df.GSM_ID).intersection(set(X_df.columns[1:]))))\n",
    "    X_df = X_df[[\"Gene Symbol\"] + common_samples]\n",
    "    Y_df = Y_df[Y_df.GSM_ID.isin(common_samples)]\n",
    "    \n",
    "    # remove genes with NA\n",
    "    X_df = X_df.dropna()\n",
    "    \n",
    "    # get overlap of genes between X_df and WCDT file\n",
    "    WCDT_df = pd.read_csv(X_WCDT_file, delimiter=\"\\t\")\n",
    "    common_genes = set(WCDT_df[\"gene_id\"]).intersection(set(X_df[\"Gene Symbol\"]))\n",
    "    X_df = X_df[X_df[\"Gene Symbol\"].isin(common_genes)]\n",
    "    \n",
    "    # rank transformation + normalization (with quantile function of exponential distribution) \n",
    "    X_df.set_index(\"Gene Symbol\", inplace=True)\n",
    "    X_orig_df = X_df.copy()\n",
    "    X_df = (X_df.rank()-1)/len(X_df)\n",
    "    X_df = X_df.applymap(lambda x: -np.log(1-x))\n",
    "\n",
    "    # transpose X\n",
    "    X_df = X_df.transpose()\n",
    "    X_orig_df = X_orig_df.transpose()\n",
    "    \n",
    "    # set GSM_id as Y index\n",
    "    Y_df.set_index(\"GSM_ID\", inplace=True)    \n",
    "    \n",
    "    \n",
    "    return X_orig_df.as_matrix(), X_df, Y_df"
   ]
  },
  {
   "cell_type": "code",
   "execution_count": 76,
   "metadata": {
    "collapsed": false,
    "scrolled": false
   },
   "outputs": [
    {
     "name": "stdout",
     "output_type": "stream",
     "text": [
      "(41, 11655) (41, 1)\n"
     ]
    }
   ],
   "source": [
    "_, X, Y = data_prep(X_df, Y_df)\n",
    "print(X.shape, Y.shape)"
   ]
  },
  {
   "cell_type": "code",
   "execution_count": 237,
   "metadata": {
    "collapsed": false
   },
   "outputs": [],
   "source": [
    "def get_artem_sig():\n",
    "    df1 = pd.read_csv(\"data/ar-sig.rnk\", delimiter=\"\\t\", \n",
    "                      names=[\"gene\",\"gelnet_ker\"], index_col=0)\n",
    "    df2 = pd.read_csv(\"data/ar-sig-gelnet.rnk\", delimiter=\"\\t\", \n",
    "                      names=[\"gene\",\"gelnet\"], index_col=0)\n",
    "    # scale both data set to [0, 1] by minmax scaling\n",
    "    df = pd.concat([df1, df2], axis=1)  \n",
    "    minmax = MinMaxScaler()\n",
    "    df = pd.DataFrame(minmax.fit_transform(df), index=df.index,\n",
    "                      columns=df.columns)    \n",
    "    plt.figure(1)\n",
    "    plt.scatter(df['gelnet_ker'], df['gelnet'])\n",
    "    plt.xlabel(\"R gelnet.ker\")\n",
    "    plt.ylabel(\"R gelnet\")\n",
    "    plt.title(\"pearson correlation %s\" \n",
    "              %stats.pearsonr(df['gelnet_ker'], df['gelnet'])[0])\n",
    "    return df"
   ]
  },
  {
   "cell_type": "code",
   "execution_count": 244,
   "metadata": {
    "collapsed": false
   },
   "outputs": [
    {
     "data": {
      "text/plain": [
       "<matplotlib.text.Text at 0x7f1f98a510b8>"
      ]
     },
     "execution_count": 244,
     "metadata": {},
     "output_type": "execute_result"
    },
    {
     "data": {
      "image/png": "[encoded data removed]",
      "text/plain": [
       "<matplotlib.figure.Figure at 0x7f1f989f2b38>"
      ]
     },
     "metadata": {},
     "output_type": "display_data"
    },
    {
     "data": {
      "image/png": "[encoded data removed]",
      "text/plain": [
       "<matplotlib.figure.Figure at 0x7f1f98de87b8>"
      ]
     },
     "metadata": {},
     "output_type": "display_data"
    },
    {
     "data": {
      "image/png": "[encoded data removed]",
      "text/plain": [
       "<matplotlib.figure.Figure at 0x7f1f98db2ba8>"
      ]
     },
     "metadata": {},
     "output_type": "display_data"
    }
   ],
   "source": [
    "classifiers = {#\"Enet\": linear_model.ElasticNet(alpha=0.1, l1_ratio=0.001),\n",
    "               \"Logistic\": linear_model.LogisticRegression(), \n",
    "               #\"Lasso\": linear_model.Lasso(alpha=0.01), \n",
    "               \"Ridge\": linear_model.Ridge(),\n",
    "               #\"KernelRidge\": kernel_ridge.KernelRidge()\n",
    "                }\n",
    "\n",
    "sig_df = get_artem_sig()\n",
    "classifiers['Ridge'].fit(X, Y['ligand'])\n",
    "sig1 = classifiers['Ridge'].coef_\n",
    "sig1 = (sig1 - min(sig1))/max(sig1)\n",
    "classifiers['Logistic'].fit(X, Y['ligand'])\n",
    "sig2 = (sig2 - min(sig2))/max(sig2)\n",
    "\n",
    "plt.figure(2)\n",
    "plt.scatter(sig1, sig2)\n",
    "plt.title(\"pearson corr %s\" %stats.pearsonr(sig1, sig2)[0])\n",
    "plt.xlabel(\"python: ridge regression\")\n",
    "plt.ylabel(\"python: logistic regression\")\n",
    "\n",
    "plt.figure(3)\n",
    "plt.scatter(sig2, sig_df['gelnet'])\n",
    "plt.title(\"pearson corr %s\" %stats.pearsonr(sig2, sig_df['gelnet'])[0])\n",
    "plt.xlabel(\"python\")\n",
    "plt.ylabel(\"R\")"
   ]
  },
  {
   "cell_type": "code",
   "execution_count": 247,
   "metadata": {
    "collapsed": false
   },
   "outputs": [
    {
     "name": "stdout",
     "output_type": "stream",
     "text": [
      "           ligand\n",
      "GSM_ID           \n",
      "GSM63051        0\n",
      "GSM64845        0\n",
      "GSM64852        1\n",
      "GSM64855        0\n",
      "GSM64858        0\n",
      "GSM64859        1\n",
      "GSM64861        0\n",
      "GSM64864        0\n",
      "GSM64865        1\n",
      "GSM560828       0\n",
      "GSM560829       0\n",
      "GSM560830       0\n",
      "GSM560831       1\n",
      "GSM560832       1\n",
      "GSM560833       1\n",
      "GSM560834       0\n",
      "GSM560835       0\n",
      "GSM560836       0\n",
      "GSM560837       1\n",
      "GSM560838       1\n",
      "GSM560839       1\n",
      "GSM801007       0\n",
      "GSM801008       1\n",
      "GSM801009       0\n",
      "GSM801010       1\n",
      "GSM823844       1\n",
      "GSM823845       0\n",
      "GSM823846       0\n",
      "GSM823847       0\n",
      "GSM823848       1\n",
      "GSM823849       1\n",
      "GSM823850       1\n",
      "GSM823851       0\n",
      "GSM823852       0\n",
      "GSM823853       1\n",
      "GSM426518       0\n",
      "GSM426519       0\n",
      "GSM426520       0\n",
      "GSM426521       1\n",
      "GSM426522       1\n",
      "GSM426523       1\n"
     ]
    }
   ],
   "source": [
    "# paired cross validatio"
   ]
  },
  {
   "cell_type": "code",
   "execution_count": null,
   "metadata": {
    "collapsed": true
   },
   "outputs": [],
   "source": []
  }
 ],
 "metadata": {
  "kernelspec": {
   "display_name": "Python 3",
   "language": "python",
   "name": "python3"
  },
  "language_info": {
   "codemirror_mode": {
    "name": "ipython",
    "version": 3
   },
   "file_extension": ".py",
   "mimetype": "text/x-python",
   "name": "python",
   "nbconvert_exporter": "python",
   "pygments_lexer": "ipython3",
   "version": "3.6.0"
  }
 },
 "nbformat": 4,
 "nbformat_minor": 2
}
