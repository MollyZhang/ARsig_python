{
 "cells": [
  {
   "cell_type": "markdown",
   "metadata": {},
   "source": [
    "AR signature in python\n",
    "converted from Artem Sokolov and Vlado Uzunangelov's R code"
   ]
  },
  {
   "cell_type": "code",
   "execution_count": 30,
   "metadata": {
    "collapsed": false
   },
   "outputs": [
    {
     "data": {
      "text/html": [
       "\n",
       "    <div class=\"bk-root\">\n",
       "        <a href=\"http://bokeh.pydata.org\" target=\"_blank\" class=\"bk-logo bk-logo-small bk-logo-notebook\"></a>\n",
       "        <span id=\"b2afb572-1ee4-4504-875c-406949d69fd6\">Loading BokehJS ...</span>\n",
       "    </div>"
      ]
     },
     "metadata": {},
     "output_type": "display_data"
    },
    {
     "data": {
      "application/javascript": [
       "\n",
       "(function(global) {\n",
       "  function now() {\n",
       "    return new Date();\n",
       "  }\n",
       "\n",
       "  var force = true;\n",
       "\n",
       "  if (typeof (window._bokeh_onload_callbacks) === \"undefined\" || force === true) {\n",
       "    window._bokeh_onload_callbacks = [];\n",
       "    window._bokeh_is_loading = undefined;\n",
       "  }\n",
       "\n",
       "\n",
       "  \n",
       "  if (typeof (window._bokeh_timeout) === \"undefined\" || force === true) {\n",
       "    window._bokeh_timeout = Date.now() + 5000;\n",
       "    window._bokeh_failed_load = false;\n",
       "  }\n",
       "\n",
       "  var NB_LOAD_WARNING = {'data': {'text/html':\n",
       "     \"<div style='background-color: #fdd'>\\n\"+\n",
       "     \"<p>\\n\"+\n",
       "     \"BokehJS does not appear to have successfully loaded. If loading BokehJS from CDN, this \\n\"+\n",
       "     \"may be due to a slow or bad network connection. Possible fixes:\\n\"+\n",
       "     \"</p>\\n\"+\n",
       "     \"<ul>\\n\"+\n",
       "     \"<li>re-rerun `output_notebook()` to attempt to load from CDN again, or</li>\\n\"+\n",
       "     \"<li>use INLINE resources instead, as so:</li>\\n\"+\n",
       "     \"</ul>\\n\"+\n",
       "     \"<code>\\n\"+\n",
       "     \"from bokeh.resources import INLINE\\n\"+\n",
       "     \"output_notebook(resources=INLINE)\\n\"+\n",
       "     \"</code>\\n\"+\n",
       "     \"</div>\"}};\n",
       "\n",
       "  function display_loaded() {\n",
       "    if (window.Bokeh !== undefined) {\n",
       "      var el = document.getElementById(\"b2afb572-1ee4-4504-875c-406949d69fd6\");\n",
       "      el.textContent = \"BokehJS \" + Bokeh.version + \" successfully loaded.\";\n",
       "    } else if (Date.now() < window._bokeh_timeout) {\n",
       "      setTimeout(display_loaded, 100)\n",
       "    }\n",
       "  }\n",
       "\n",
       "  function run_callbacks() {\n",
       "    try {\n",
       "      window._bokeh_onload_callbacks.forEach(function(callback) { callback() });\n",
       "    }\n",
       "    finally {\n",
       "      delete window._bokeh_onload_callbacks\n",
       "    }\n",
       "    console.info(\"Bokeh: all callbacks have finished\");\n",
       "  }\n",
       "\n",
       "  function load_libs(js_urls, callback) {\n",
       "    window._bokeh_onload_callbacks.push(callback);\n",
       "    if (window._bokeh_is_loading > 0) {\n",
       "      console.log(\"Bokeh: BokehJS is being loaded, scheduling callback at\", now());\n",
       "      return null;\n",
       "    }\n",
       "    if (js_urls == null || js_urls.length === 0) {\n",
       "      run_callbacks();\n",
       "      return null;\n",
       "    }\n",
       "    console.log(\"Bokeh: BokehJS not loaded, scheduling load and callback at\", now());\n",
       "    window._bokeh_is_loading = js_urls.length;\n",
       "    for (var i = 0; i < js_urls.length; i++) {\n",
       "      var url = js_urls[i];\n",
       "      var s = document.createElement('script');\n",
       "      s.src = url;\n",
       "      s.async = false;\n",
       "      s.onreadystatechange = s.onload = function() {\n",
       "        window._bokeh_is_loading--;\n",
       "        if (window._bokeh_is_loading === 0) {\n",
       "          console.log(\"Bokeh: all BokehJS libraries loaded\");\n",
       "          run_callbacks()\n",
       "        }\n",
       "      };\n",
       "      s.onerror = function() {\n",
       "        console.warn(\"failed to load library \" + url);\n",
       "      };\n",
       "      console.log(\"Bokeh: injecting script tag for BokehJS library: \", url);\n",
       "      document.getElementsByTagName(\"head\")[0].appendChild(s);\n",
       "    }\n",
       "  };var element = document.getElementById(\"b2afb572-1ee4-4504-875c-406949d69fd6\");\n",
       "  if (element == null) {\n",
       "    console.log(\"Bokeh: ERROR: autoload.js configured with elementid 'b2afb572-1ee4-4504-875c-406949d69fd6' but no matching script tag was found. \")\n",
       "    return false;\n",
       "  }\n",
       "\n",
       "  var js_urls = [\"https://cdn.pydata.org/bokeh/release/bokeh-0.12.6.min.js\", \"https://cdn.pydata.org/bokeh/release/bokeh-widgets-0.12.6.min.js\"];\n",
       "\n",
       "  var inline_js = [\n",
       "    function(Bokeh) {\n",
       "      Bokeh.set_log_level(\"info\");\n",
       "    },\n",
       "    \n",
       "    function(Bokeh) {\n",
       "      \n",
       "    },\n",
       "    \n",
       "    function(Bokeh) {\n",
       "      \n",
       "      document.getElementById(\"b2afb572-1ee4-4504-875c-406949d69fd6\").textContent = \"BokehJS is loading...\";\n",
       "    },\n",
       "    function(Bokeh) {\n",
       "      console.log(\"Bokeh: injecting CSS: https://cdn.pydata.org/bokeh/release/bokeh-0.12.6.min.css\");\n",
       "      Bokeh.embed.inject_css(\"https://cdn.pydata.org/bokeh/release/bokeh-0.12.6.min.css\");\n",
       "      console.log(\"Bokeh: injecting CSS: https://cdn.pydata.org/bokeh/release/bokeh-widgets-0.12.6.min.css\");\n",
       "      Bokeh.embed.inject_css(\"https://cdn.pydata.org/bokeh/release/bokeh-widgets-0.12.6.min.css\");\n",
       "    }\n",
       "  ];\n",
       "\n",
       "  function run_inline_js() {\n",
       "    \n",
       "    if ((window.Bokeh !== undefined) || (force === true)) {\n",
       "      for (var i = 0; i < inline_js.length; i++) {\n",
       "        inline_js[i](window.Bokeh);\n",
       "      }if (force === true) {\n",
       "        display_loaded();\n",
       "      }} else if (Date.now() < window._bokeh_timeout) {\n",
       "      setTimeout(run_inline_js, 100);\n",
       "    } else if (!window._bokeh_failed_load) {\n",
       "      console.log(\"Bokeh: BokehJS failed to load within specified timeout.\");\n",
       "      window._bokeh_failed_load = true;\n",
       "    } else if (force !== true) {\n",
       "      var cell = $(document.getElementById(\"b2afb572-1ee4-4504-875c-406949d69fd6\")).parents('.cell').data().cell;\n",
       "      cell.output_area.append_execute_result(NB_LOAD_WARNING)\n",
       "    }\n",
       "\n",
       "  }\n",
       "\n",
       "  if (window._bokeh_is_loading === 0) {\n",
       "    console.log(\"Bokeh: BokehJS loaded, going straight to plotting\");\n",
       "    run_inline_js();\n",
       "  } else {\n",
       "    load_libs(js_urls, function() {\n",
       "      console.log(\"Bokeh: BokehJS plotting callback run at\", now());\n",
       "      run_inline_js();\n",
       "    });\n",
       "  }\n",
       "}(this));"
      ]
     },
     "metadata": {},
     "output_type": "display_data"
    },
    {
     "data": {
      "application/javascript": [
       "IPython.notebook.set_autosave_interval(10000)"
      ]
     },
     "metadata": {},
     "output_type": "display_data"
    },
    {
     "name": "stdout",
     "output_type": "stream",
     "text": [
      "Autosaving every 10 seconds\n"
     ]
    }
   ],
   "source": [
    "# %load startup_script.py\n",
    "\n",
    "# numerical & stats \n",
    "import pandas as pd\n",
    "import numpy as np\n",
    "from scipy import stats\n",
    "\n",
    "# plotting\n",
    "from matplotlib import pyplot as plt\n",
    "import matplotlib\n",
    "from bokeh.charts import Bar, output_file, show\n",
    "from bokeh.io import output_notebook\n",
    "from bokeh.io import export_png\n",
    "from bokeh.charts.attributes import ColorAttr, CatAttr\n",
    "from bokeh.sampledata.autompg import autompg as df\n",
    "from bokeh.models import Label\n",
    "import bokeh\n",
    "\n",
    "# machine learning\n",
    "from sklearn import linear_model\n",
    "from sklearn.preprocessing import MinMaxScaler\n",
    "\n",
    "# import helper function in this repo\n",
    "import helper\n",
    "\n",
    "# jupyte notebook amenities\n",
    "output_notebook()\n",
    "%matplotlib inline\n",
    "%autosave 10\n",
    "\n",
    "# supress pandas copy-by-ref warning\n",
    "pd.options.mode.chained_assignment = None"
   ]
  },
  {
   "cell_type": "markdown",
   "metadata": {},
   "source": [
    "## 1. Data Preprocessing"
   ]
  },
  {
   "cell_type": "code",
   "execution_count": 24,
   "metadata": {
    "collapsed": false,
    "scrolled": false
   },
   "outputs": [],
   "source": [
    "def data_prep(X_df, Y_df, WCDT_df, febbo_df):\n",
    "    # take \"ligand\" column as Y label and set \"on\" to 1 and \"no ligand\" to 0\n",
    "    Y_df = Y_df[[\"GSM_ID\", \"ligand\"]]\n",
    "    Y_df['ligand'] = Y_df['ligand'].replace(['on'], 1)\n",
    "    Y_df['ligand'] = Y_df['ligand'].replace(['no ligand'], 0)\n",
    "    \n",
    "    # Drop sample GSM288299, GSM288300, GSM288301 (QA by Robert and Jack)\n",
    "    Y_df = Y_df[~Y_df.GSM_ID.isin([\"GSM288299\", \"GSM288300\", \"GSM288301\"])]\n",
    "    \n",
    "    # remove non-overlapping samples in X and Y\n",
    "    common_samples = sorted(list(set(Y_df.GSM_ID).intersection(set(X_df.columns[1:]))))\n",
    "    X_df = X_df[[\"Gene Symbol\"] + common_samples]\n",
    "    Y_df = Y_df[Y_df.GSM_ID.isin(common_samples)]\n",
    "    \n",
    "    # remove genes with NA\n",
    "    X_df = X_df.dropna()\n",
    "    \n",
    "    # get overlap of genes between X_df and WCDT file\n",
    "    common_genes = set(WCDT_df[\"gene_id\"]).intersection(set(X_df[\"Gene Symbol\"]))\n",
    "    X_df = X_df[X_df[\"Gene Symbol\"].isin(common_genes)]\n",
    "    \n",
    "    # rank transformation + normalization (with quantile function of exponential distribution) \n",
    "    X_df.set_index(\"Gene Symbol\", inplace=True)\n",
    "    X_orig_df = X_df.copy()\n",
    "    X_df = (X_df.rank()-1)/len(X_df)\n",
    "    X_df = X_df.applymap(lambda x: -np.log(1-x))\n",
    "\n",
    "    # transpose X\n",
    "    X_df = X_df.transpose()\n",
    "    X_orig_df = X_orig_df.transpose()\n",
    "    \n",
    "    # set GSM_id as Y index\n",
    "    Y_df.set_index(\"GSM_ID\", inplace=True)    \n",
    "    \n",
    "    # order X and Y so that same sample name match up\n",
    "    X_df.sort_index(inplace=True)\n",
    "    Y_df.sort_index(inplace=True)\n",
    "    assert(list(X_df.index) == list(Y_df.index))\n",
    "    \n",
    "    # prep WCDT data\n",
    "    WCDT_df = pd.read_csv(X_WCDT_file, delimiter=\"\\t\")\n",
    "    common_genes = set(WCDT_df[\"gene_id\"]).intersection(set(X_df.columns))\n",
    "    WCDT_df = WCDT_df[WCDT_df[\"gene_id\"].isin(common_genes)]\n",
    "    WCDT_df.set_index(\"gene_id\", inplace=True)\n",
    "    \n",
    "    # same normalization\n",
    "    WCDT_df = (WCDT_df.rank()-1)/len(WCDT_df)\n",
    "    WCDT_df = WCDT_df.applymap(lambda x: -np.log(1-x))\n",
    "    WCDT_df.sort_index(inplace=True)\n",
    "    WCDT_df = WCDT_df.transpose()\n",
    "\n",
    "    # mean duplicate gene scores in febbo\n",
    "    febbo_df = febbo_df.rename(columns={\"BinReg Coef\": \"Mendiratta signature\"})\n",
    "    febbo_df = febbo_df.groupby(\"Gene Symbol\").median()\n",
    "    \n",
    "    return X_orig_df, X_df, Y_df, WCDT_df, febbo_df"
   ]
  },
  {
   "cell_type": "code",
   "execution_count": 25,
   "metadata": {
    "collapsed": false,
    "scrolled": false
   },
   "outputs": [],
   "source": [
    "X_cell_line_file = \"data/AR/AR_cell_line_mRNA.txt\"\n",
    "y_file = \"data/AR/AR_cell_line_clinical.txt\"\n",
    "X_WCDT_file = \"data/WCDT_mRNA.tsv\"\n",
    "febbo_file = \"data/AR/febbo-coeff.csv\"\n",
    "\n",
    "X_cell_line_df = pd.read_csv(X_cell_line_file, delimiter=\"\\t\")\n",
    "y_df = pd.read_csv(y_file, delimiter=\"\\t\")\n",
    "X_WCDT_df = pd.read_csv(X_WCDT_file, delimiter=\"\\t\")\n",
    "febbo_df = pd.read_csv(febbo_file)\n",
    "\n",
    "_, X, Y, WCDT_df, febbo_df = data_prep(X_cell_line_df, y_df, X_WCDT_df, febbo_df)"
   ]
  },
  {
   "cell_type": "markdown",
   "metadata": {},
   "source": [
    "## 2. Train logistic regression and get signature"
   ]
  },
  {
   "cell_type": "code",
   "execution_count": 26,
   "metadata": {
    "collapsed": true
   },
   "outputs": [],
   "source": [
    "classifier = linear_model.LogisticRegression()\n",
    "classifier.fit(X, Y['ligand'])\n",
    "UC_df = pd.DataFrame(data=classifier.coef_[0], index=X.columns, columns=[\"UC signature\"])"
   ]
  },
  {
   "cell_type": "markdown",
   "metadata": {},
   "source": [
    "### 2.1 compare LR python signature with artem R signature"
   ]
  },
  {
   "cell_type": "code",
   "execution_count": 27,
   "metadata": {
    "collapsed": false
   },
   "outputs": [],
   "source": [
    "def get_artem_sig(plot=False):\n",
    "    df1 = pd.read_csv(\"data/AR/ar-sig-gelnet.ker.rnk\", delimiter=\"\\t\", \n",
    "                      names=[\"gene\",\"gelnet_ker\"], index_col=0)\n",
    "    df2 = pd.read_csv(\"data/AR/ar-sig-gelnet.rnk\", delimiter=\"\\t\", \n",
    "                      names=[\"gene\",\"gelnet\"], index_col=0)\n",
    "    # scale both data set to [0, 1] by minmax scaling\n",
    "    df = pd.concat([df1, df2], axis=1)     \n",
    "    if plot:\n",
    "        plt.figure(1)\n",
    "        plt.scatter(df['gelnet_ker'], df['gelnet'])\n",
    "        plt.xlabel(\"R gelnet.ker\")\n",
    "        plt.ylabel(\"R gelnet\")\n",
    "        plt.title(\"pearson corr %.2f\" %stats.pearsonr(df['gelnet_ker'], df['gelnet'])[0])\n",
    "    return df"
   ]
  },
  {
   "cell_type": "markdown",
   "metadata": {},
   "source": [
    "### 2.2 compare LR python signature with febbo (Mendiratta) signature"
   ]
  },
  {
   "cell_type": "code",
   "execution_count": 31,
   "metadata": {
    "collapsed": false
   },
   "outputs": [
    {
     "data": {
      "text/html": [
       "\n",
       "\n",
       "    <div class=\"bk-root\">\n",
       "        <div class=\"bk-plotdiv\" id=\"b5f925e1-6521-482a-bf7c-77f2026b50b6\"></div>\n",
       "    </div>\n",
       "<script type=\"text/javascript\">\n",
       "  \n",
       "  (function(global) {\n",
       "    function now() {\n",
       "      return new Date();\n",
       "    }\n",
       "  \n",
       "    var force = false;\n",
       "  \n",
       "    if (typeof (window._bokeh_onload_callbacks) === \"undefined\" || force === true) {\n",
       "      window._bokeh_onload_callbacks = [];\n",
       "      window._bokeh_is_loading = undefined;\n",
       "    }\n",
       "  \n",
       "  \n",
       "    \n",
       "    if (typeof (window._bokeh_timeout) === \"undefined\" || force === true) {\n",
       "      window._bokeh_timeout = Date.now() + 0;\n",
       "      window._bokeh_failed_load = false;\n",
       "    }\n",
       "  \n",
       "    var NB_LOAD_WARNING = {'data': {'text/html':\n",
       "       \"<div style='background-color: #fdd'>\\n\"+\n",
       "       \"<p>\\n\"+\n",
       "       \"BokehJS does not appear to have successfully loaded. If loading BokehJS from CDN, this \\n\"+\n",
       "       \"may be due to a slow or bad network connection. Possible fixes:\\n\"+\n",
       "       \"</p>\\n\"+\n",
       "       \"<ul>\\n\"+\n",
       "       \"<li>re-rerun `output_notebook()` to attempt to load from CDN again, or</li>\\n\"+\n",
       "       \"<li>use INLINE resources instead, as so:</li>\\n\"+\n",
       "       \"</ul>\\n\"+\n",
       "       \"<code>\\n\"+\n",
       "       \"from bokeh.resources import INLINE\\n\"+\n",
       "       \"output_notebook(resources=INLINE)\\n\"+\n",
       "       \"</code>\\n\"+\n",
       "       \"</div>\"}};\n",
       "  \n",
       "    function display_loaded() {\n",
       "      if (window.Bokeh !== undefined) {\n",
       "        var el = document.getElementById(\"b5f925e1-6521-482a-bf7c-77f2026b50b6\");\n",
       "        el.textContent = \"BokehJS \" + Bokeh.version + \" successfully loaded.\";\n",
       "      } else if (Date.now() < window._bokeh_timeout) {\n",
       "        setTimeout(display_loaded, 100)\n",
       "      }\n",
       "    }\n",
       "  \n",
       "    function run_callbacks() {\n",
       "      try {\n",
       "        window._bokeh_onload_callbacks.forEach(function(callback) { callback() });\n",
       "      }\n",
       "      finally {\n",
       "        delete window._bokeh_onload_callbacks\n",
       "      }\n",
       "      console.info(\"Bokeh: all callbacks have finished\");\n",
       "    }\n",
       "  \n",
       "    function load_libs(js_urls, callback) {\n",
       "      window._bokeh_onload_callbacks.push(callback);\n",
       "      if (window._bokeh_is_loading > 0) {\n",
       "        console.log(\"Bokeh: BokehJS is being loaded, scheduling callback at\", now());\n",
       "        return null;\n",
       "      }\n",
       "      if (js_urls == null || js_urls.length === 0) {\n",
       "        run_callbacks();\n",
       "        return null;\n",
       "      }\n",
       "      console.log(\"Bokeh: BokehJS not loaded, scheduling load and callback at\", now());\n",
       "      window._bokeh_is_loading = js_urls.length;\n",
       "      for (var i = 0; i < js_urls.length; i++) {\n",
       "        var url = js_urls[i];\n",
       "        var s = document.createElement('script');\n",
       "        s.src = url;\n",
       "        s.async = false;\n",
       "        s.onreadystatechange = s.onload = function() {\n",
       "          window._bokeh_is_loading--;\n",
       "          if (window._bokeh_is_loading === 0) {\n",
       "            console.log(\"Bokeh: all BokehJS libraries loaded\");\n",
       "            run_callbacks()\n",
       "          }\n",
       "        };\n",
       "        s.onerror = function() {\n",
       "          console.warn(\"failed to load library \" + url);\n",
       "        };\n",
       "        console.log(\"Bokeh: injecting script tag for BokehJS library: \", url);\n",
       "        document.getElementsByTagName(\"head\")[0].appendChild(s);\n",
       "      }\n",
       "    };var element = document.getElementById(\"b5f925e1-6521-482a-bf7c-77f2026b50b6\");\n",
       "    if (element == null) {\n",
       "      console.log(\"Bokeh: ERROR: autoload.js configured with elementid 'b5f925e1-6521-482a-bf7c-77f2026b50b6' but no matching script tag was found. \")\n",
       "      return false;\n",
       "    }\n",
       "  \n",
       "    var js_urls = [];\n",
       "  \n",
       "    var inline_js = [\n",
       "      function(Bokeh) {\n",
       "        (function() {\n",
       "          var fn = function() {\n",
       "            var docs_json = {\"16b851f0-e409-4ceb-ad74-aa2a63fe7ec0\":{\"roots\":{\"references\":[{\"attributes\":{\"plot\":{\"id\":\"24f2f365-4c4b-4872-953d-f00a318dae50\",\"subtype\":\"Figure\",\"type\":\"Plot\"},\"text\":\"DTB-112\",\"text_font_size\":{\"value\":\"7pt\"},\"x\":2.423020608846694,\"y\":11.513756712840271},\"id\":\"6a1dec1e-e656-495d-b695-25d6140919ae\",\"type\":\"Label\"},{\"attributes\":{\"plot\":{\"id\":\"24f2f365-4c4b-4872-953d-f00a318dae50\",\"subtype\":\"Figure\",\"type\":\"Plot\"},\"text\":\"DTB-242\",\"text_font_size\":{\"value\":\"7pt\"},\"x\":-0.5133672650617793,\"y\":9.849379876526953},\"id\":\"9c1f0fdf-1387-4bdf-833f-2d342b844e34\",\"type\":\"Label\"},{\"attributes\":{\"plot\":{\"id\":\"24f2f365-4c4b-4872-953d-f00a318dae50\",\"subtype\":\"Figure\",\"type\":\"Plot\"},\"text\":\"DTB-170\",\"text_font_size\":{\"value\":\"7pt\"},\"x\":-1.0279879599447668,\"y\":12.442697652335085},\"id\":\"81ff57ee-070c-4b52-99a5-bf2ef2fef464\",\"type\":\"Label\"},{\"attributes\":{\"plot\":{\"id\":\"24f2f365-4c4b-4872-953d-f00a318dae50\",\"subtype\":\"Figure\",\"type\":\"Plot\"},\"text\":\"DTB-124\",\"text_font_size\":{\"value\":\"7pt\"},\"x\":-0.7951461188620969,\"y\":13.52548412079573},\"id\":\"6fbeffe5-c8fa-4efa-a525-b5e17038c698\",\"type\":\"Label\"},{\"attributes\":{\"plot\":{\"id\":\"24f2f365-4c4b-4872-953d-f00a318dae50\",\"subtype\":\"Figure\",\"type\":\"Plot\"},\"text\":\"DTB-235\",\"text_font_size\":{\"value\":\"7pt\"},\"x\":-2.4046601501234592,\"y\":7.778277010202508},\"id\":\"a41223a8-f0c8-4f77-a787-279f38588f28\",\"type\":\"Label\"},{\"attributes\":{\"plot\":{\"id\":\"24f2f365-4c4b-4872-953d-f00a318dae50\",\"subtype\":\"Figure\",\"type\":\"Plot\"},\"text\":\"DTB-021\",\"text_font_size\":{\"value\":\"7pt\"},\"x\":-4.706726998091876,\"y\":10.814358806003984},\"id\":\"0c4a31b3-1549-4695-9666-1d14ba850521\",\"type\":\"Label\"},{\"attributes\":{\"plot\":{\"id\":\"24f2f365-4c4b-4872-953d-f00a318dae50\",\"subtype\":\"Figure\",\"type\":\"Plot\"},\"text\":\"DTB-240\",\"text_font_size\":{\"value\":\"7pt\"},\"x\":1.1837771899611085,\"y\":15.50074952058856},\"id\":\"f2b1d9d1-972b-4911-8039-2eacd7d9a312\",\"type\":\"Label\"},{\"attributes\":{\"plot\":{\"id\":\"24f2f365-4c4b-4872-953d-f00a318dae50\",\"subtype\":\"Figure\",\"type\":\"Plot\"},\"text\":\"DTB-126\",\"text_font_size\":{\"value\":\"7pt\"},\"x\":-1.619821697439283,\"y\":13.774294390349008},\"id\":\"eda07ee3-289b-4729-996c-94636a7ddf10\",\"type\":\"Label\"},{\"attributes\":{\"plot\":{\"id\":\"24f2f365-4c4b-4872-953d-f00a318dae50\",\"subtype\":\"Figure\",\"type\":\"Plot\"},\"text\":\"DTB-095-2\",\"text_font_size\":{\"value\":\"7pt\"},\"x\":-6.088311639936274,\"y\":8.27380288637003},\"id\":\"7d37ee26-39db-438f-aa2f-288b4ab0c18a\",\"type\":\"Label\"},{\"attributes\":{\"plot\":{\"id\":\"24f2f365-4c4b-4872-953d-f00a318dae50\",\"subtype\":\"Figure\",\"type\":\"Plot\"},\"text\":\"DTB-132\",\"text_font_size\":{\"value\":\"7pt\"},\"x\":-1.3358554495823503,\"y\":14.997385179152111},\"id\":\"5bd1a55c-2254-4d2b-8881-8f1368407298\",\"type\":\"Label\"},{\"attributes\":{\"plot\":{\"id\":\"24f2f365-4c4b-4872-953d-f00a318dae50\",\"subtype\":\"Figure\",\"type\":\"Plot\"},\"text\":\"DTB-121-R2\",\"text_font_size\":{\"value\":\"7pt\"},\"x\":-1.0693327833407018,\"y\":14.610169441732003},\"id\":\"9a9027c8-4321-4e55-a628-618ad4476362\",\"type\":\"Label\"},{\"attributes\":{\"plot\":{\"id\":\"24f2f365-4c4b-4872-953d-f00a318dae50\",\"subtype\":\"Figure\",\"type\":\"Plot\"},\"text\":\"DTB-024Pro2\",\"text_font_size\":{\"value\":\"7pt\"},\"x\":-1.0672798356666355,\"y\":11.069506004717487},\"id\":\"fbedaf23-73f9-4a23-8001-efbbed137c88\",\"type\":\"Label\"},{\"attributes\":{\"plot\":{\"id\":\"24f2f365-4c4b-4872-953d-f00a318dae50\",\"subtype\":\"Figure\",\"type\":\"Plot\"},\"text\":\"DTB-108\",\"text_font_size\":{\"value\":\"7pt\"},\"x\":-4.1080535432105805,\"y\":11.045144174417421},\"id\":\"a7d51455-f3b3-48d7-9a56-e3713f3fa0c4\",\"type\":\"Label\"},{\"attributes\":{\"plot\":{\"id\":\"24f2f365-4c4b-4872-953d-f00a318dae50\",\"subtype\":\"Figure\",\"type\":\"Plot\"},\"text\":\"DTB-234\",\"text_font_size\":{\"value\":\"7pt\"},\"x\":3.54971020189472,\"y\":16.11988071974552},\"id\":\"af0177e1-3fea-4e20-b08b-0b09a05032bd\",\"type\":\"Label\"},{\"attributes\":{\"plot\":{\"id\":\"24f2f365-4c4b-4872-953d-f00a318dae50\",\"subtype\":\"Figure\",\"type\":\"Plot\"},\"text\":\"DTB-118\",\"text_font_size\":{\"value\":\"7pt\"},\"x\":2.6529397450309085,\"y\":13.223836424007741},\"id\":\"dc8e360f-522d-44c5-8944-1814cf4f79a3\",\"type\":\"Label\"},{\"attributes\":{\"plot\":{\"id\":\"24f2f365-4c4b-4872-953d-f00a318dae50\",\"subtype\":\"Figure\",\"type\":\"Plot\"},\"text\":\"DTB-218\",\"text_font_size\":{\"value\":\"7pt\"},\"x\":-1.2959472159079959,\"y\":7.535005382740162},\"id\":\"2580ee68-336f-4a03-80be-e0a59cf4dd3d\",\"type\":\"Label\"},{\"attributes\":{\"plot\":{\"id\":\"24f2f365-4c4b-4872-953d-f00a318dae50\",\"subtype\":\"Figure\",\"type\":\"Plot\"},\"text\":\"DTB-089\",\"text_font_size\":{\"value\":\"7pt\"},\"x\":-3.2217039242722905,\"y\":11.276670096252268},\"id\":\"af9f948e-9c1a-496d-bbef-395e43f884fc\",\"type\":\"Label\"},{\"attributes\":{\"plot\":{\"id\":\"24f2f365-4c4b-4872-953d-f00a318dae50\",\"subtype\":\"Figure\",\"type\":\"Plot\"},\"text\":\"DTB-223\",\"text_font_size\":{\"value\":\"7pt\"},\"x\":9.318982797937888,\"y\":15.889108713613785},\"id\":\"d856bb80-4f2a-41aa-ba7d-cdfc1a1ca927\",\"type\":\"Label\"},{\"attributes\":{\"plot\":{\"id\":\"24f2f365-4c4b-4872-953d-f00a318dae50\",\"subtype\":\"Figure\",\"type\":\"Plot\"},\"text\":\"DTB-121-R3\",\"text_font_size\":{\"value\":\"7pt\"},\"x\":-1.2507461092638446,\"y\":14.455675178366606},\"id\":\"6a029a8c-6e47-4ec3-a607-ed72f245db9d\",\"type\":\"Label\"},{\"attributes\":{\"plot\":{\"id\":\"24f2f365-4c4b-4872-953d-f00a318dae50\",\"subtype\":\"Figure\",\"type\":\"Plot\"},\"text\":\"DTB-121\",\"text_font_size\":{\"value\":\"7pt\"},\"x\":-1.089747618049479,\"y\":14.570618278163726},\"id\":\"b653e4ea-e8a1-417f-b7bc-b8b8fd50700d\",\"type\":\"Label\"},{\"attributes\":{\"plot\":{\"id\":\"24f2f365-4c4b-4872-953d-f00a318dae50\",\"subtype\":\"Figure\",\"type\":\"Plot\"},\"text\":\"DTB-091\",\"text_font_size\":{\"value\":\"7pt\"},\"x\":3.4431384560953817,\"y\":14.469105837466476},\"id\":\"634738e6-9683-45f3-921a-40bbd620c0a0\",\"type\":\"Label\"},{\"attributes\":{\"plot\":{\"id\":\"24f2f365-4c4b-4872-953d-f00a318dae50\",\"subtype\":\"Figure\",\"type\":\"Plot\"},\"text\":\"DTB-095-1\",\"text_font_size\":{\"value\":\"7pt\"},\"x\":-4.491463665634931,\"y\":8.614387150099443},\"id\":\"f9964a6b-a4b3-4099-9be1-393be0a5e838\",\"type\":\"Label\"},{\"attributes\":{\"plot\":{\"id\":\"24f2f365-4c4b-4872-953d-f00a318dae50\",\"subtype\":\"Figure\",\"type\":\"Plot\"},\"text\":\"DTB-102\",\"text_font_size\":{\"value\":\"7pt\"},\"x\":0.36678658153631805,\"y\":14.689369048863265},\"id\":\"87b5f59c-b4dd-480e-afd7-045b5d311022\",\"type\":\"Label\"},{\"attributes\":{\"plot\":{\"id\":\"24f2f365-4c4b-4872-953d-f00a318dae50\",\"subtype\":\"Figure\",\"type\":\"Plot\"},\"text\":\"DTB-061\",\"text_font_size\":{\"value\":\"7pt\"},\"x\":-4.954474498800261,\"y\":6.237230742111095},\"id\":\"5468edc6-8695-48d3-a813-1846cf538ec2\",\"type\":\"Label\"},{\"attributes\":{\"plot\":{\"id\":\"24f2f365-4c4b-4872-953d-f00a318dae50\",\"subtype\":\"Figure\",\"type\":\"Plot\"},\"text\":\"DTB-190-2\",\"text_font_size\":{\"value\":\"7pt\"},\"x\":2.077421062310076,\"y\":16.880517161725734},\"id\":\"bd45f7ca-b12b-4668-8aec-328cd0712a7a\",\"type\":\"Label\"},{\"attributes\":{\"plot\":{\"id\":\"24f2f365-4c4b-4872-953d-f00a318dae50\",\"subtype\":\"Figure\",\"type\":\"Plot\"},\"text\":\"DTB-210Pro\",\"text_font_size\":{\"value\":\"7pt\"},\"x\":-4.244450916457248,\"y\":6.471933734165912},\"id\":\"3124db4c-33e5-47e6-974b-53373d61fd91\",\"type\":\"Label\"},{\"attributes\":{\"plot\":{\"id\":\"24f2f365-4c4b-4872-953d-f00a318dae50\",\"subtype\":\"Figure\",\"type\":\"Plot\"},\"text\":\"DTB-098Pro2\",\"text_font_size\":{\"value\":\"7pt\"},\"x\":0.7653254752998242,\"y\":13.131674318132996},\"id\":\"9ea9c172-f4da-491c-a956-03a8422e09a6\",\"type\":\"Label\"},{\"attributes\":{\"plot\":{\"id\":\"24f2f365-4c4b-4872-953d-f00a318dae50\",\"subtype\":\"Figure\",\"type\":\"Plot\"},\"text\":\"DTB-190\",\"text_font_size\":{\"value\":\"7pt\"},\"x\":1.3472226309007886,\"y\":16.09155172091935},\"id\":\"12acdbde-8dac-4007-8ed2-bcf626f17464\",\"type\":\"Label\"},{\"attributes\":{\"plot\":{\"id\":\"24f2f365-4c4b-4872-953d-f00a318dae50\",\"subtype\":\"Figure\",\"type\":\"Plot\"},\"text\":\"DTB-080-R2\",\"text_font_size\":{\"value\":\"7pt\"},\"x\":-7.453389226178279,\"y\":5.775188188433254},\"id\":\"f096a764-7891-43af-81f0-f70461dbd206\",\"type\":\"Label\"},{\"attributes\":{\"plot\":{\"id\":\"24f2f365-4c4b-4872-953d-f00a318dae50\",\"subtype\":\"Figure\",\"type\":\"Plot\"},\"text\":\"DTB-183\",\"text_font_size\":{\"value\":\"7pt\"},\"x\":2.109824223153269,\"y\":18.082037180503885},\"id\":\"cec4f0cc-5863-4650-8aa9-290cbe89fe46\",\"type\":\"Label\"},{\"attributes\":{\"plot\":{\"id\":\"24f2f365-4c4b-4872-953d-f00a318dae50\",\"subtype\":\"Figure\",\"type\":\"Plot\"},\"text\":\"DTB-089Pro\",\"text_font_size\":{\"value\":\"7pt\"},\"x\":1.313005288308371,\"y\":13.619108346749181},\"id\":\"706222e4-340b-4419-b3d3-fd808c96935a\",\"type\":\"Label\"},{\"attributes\":{\"plot\":{\"id\":\"24f2f365-4c4b-4872-953d-f00a318dae50\",\"subtype\":\"Figure\",\"type\":\"Plot\"},\"text\":\"DTB-205\",\"text_font_size\":{\"value\":\"7pt\"},\"x\":-5.953977669485481,\"y\":6.762796374627364},\"id\":\"e18a0b90-3aa0-4b71-b0a5-6701f4666760\",\"type\":\"Label\"},{\"attributes\":{\"plot\":{\"id\":\"24f2f365-4c4b-4872-953d-f00a318dae50\",\"subtype\":\"Figure\",\"type\":\"Plot\"},\"text\":\"DTB-080-R3\",\"text_font_size\":{\"value\":\"7pt\"},\"x\":-7.515193689300503,\"y\":5.004418836066113},\"id\":\"e1c97bd7-a77c-4ef9-90ce-dcb4f0bd16d7\",\"type\":\"Label\"},{\"attributes\":{\"plot\":{\"id\":\"24f2f365-4c4b-4872-953d-f00a318dae50\",\"subtype\":\"Figure\",\"type\":\"Plot\"},\"text\":\"DTB-011\",\"text_font_size\":{\"value\":\"7pt\"},\"x\":-9.005316921609431,\"y\":8.041051350892442},\"id\":\"a335757c-034b-41c9-9120-62929c1383fa\",\"type\":\"Label\"},{\"attributes\":{\"plot\":{\"id\":\"24f2f365-4c4b-4872-953d-f00a318dae50\",\"subtype\":\"Figure\",\"type\":\"Plot\"},\"text\":\"DTB-008\",\"text_font_size\":{\"value\":\"7pt\"},\"x\":-5.989217518701146,\"y\":9.73296223422946},\"id\":\"90829907-9524-40ca-89e5-d06ac626229d\",\"type\":\"Label\"},{\"attributes\":{\"plot\":{\"id\":\"24f2f365-4c4b-4872-953d-f00a318dae50\",\"subtype\":\"Figure\",\"type\":\"Plot\"},\"text\":\"DTB-007\",\"text_font_size\":{\"value\":\"7pt\"},\"x\":-4.375674934646853,\"y\":11.81374427125139},\"id\":\"1ac49bbf-1035-4bc1-8dba-1bf122711d63\",\"type\":\"Label\"},{\"attributes\":{\"plot\":{\"id\":\"24f2f365-4c4b-4872-953d-f00a318dae50\",\"subtype\":\"Figure\",\"type\":\"Plot\"},\"text\":\"DTB-080\",\"text_font_size\":{\"value\":\"7pt\"},\"x\":0.1520385093065546,\"y\":14.79834113116518},\"id\":\"6a068a50-ddad-491e-8433-6df8446fbffb\",\"type\":\"Label\"},{\"attributes\":{\"plot\":{\"id\":\"24f2f365-4c4b-4872-953d-f00a318dae50\",\"subtype\":\"Figure\",\"type\":\"Plot\"},\"text\":\"DTB-023\",\"text_font_size\":{\"value\":\"7pt\"},\"x\":1.143807359975768,\"y\":14.432972275529416},\"id\":\"911e2708-fc88-4288-9ae2-772d75f20946\",\"type\":\"Label\"},{\"attributes\":{\"plot\":{\"id\":\"24f2f365-4c4b-4872-953d-f00a318dae50\",\"subtype\":\"Figure\",\"type\":\"Plot\"},\"text\":\"DTB-085\",\"text_font_size\":{\"value\":\"7pt\"},\"x\":-0.4101645769356759,\"y\":13.1158663936937},\"id\":\"e021c836-5f09-4377-9b0c-7132e5d80e45\",\"type\":\"Label\"},{\"attributes\":{\"plot\":{\"id\":\"24f2f365-4c4b-4872-953d-f00a318dae50\",\"subtype\":\"Figure\",\"type\":\"Plot\"},\"text\":\"DTB-018\",\"text_font_size\":{\"value\":\"7pt\"},\"x\":2.5777710073987072,\"y\":13.193163918927809},\"id\":\"38c50117-8fcd-47be-9a1f-f01d7d2977d8\",\"type\":\"Label\"},{\"attributes\":{\"plot\":{\"id\":\"24f2f365-4c4b-4872-953d-f00a318dae50\",\"subtype\":\"Figure\",\"type\":\"Plot\"},\"text\":\"DTB-077Pro\",\"text_font_size\":{\"value\":\"7pt\"},\"x\":-0.5676684793465372,\"y\":14.78426622975704},\"id\":\"74e1a345-61c4-4df5-b4b3-4df72b60a326\",\"type\":\"Label\"},{\"attributes\":{\"plot\":{\"id\":\"24f2f365-4c4b-4872-953d-f00a318dae50\",\"subtype\":\"Figure\",\"type\":\"Plot\"},\"text\":\"DTB-206\",\"text_font_size\":{\"value\":\"7pt\"},\"x\":2.0837028237394244,\"y\":16.27789887833198},\"id\":\"9cd80266-bfb3-419b-9d6d-a518dfa6fee1\",\"type\":\"Label\"},{\"attributes\":{\"plot\":{\"id\":\"24f2f365-4c4b-4872-953d-f00a318dae50\",\"subtype\":\"Figure\",\"type\":\"Plot\"},\"text\":\"DTB-073Pro\",\"text_font_size\":{\"value\":\"7pt\"},\"x\":1.4531946910243427,\"y\":15.143429990402714},\"id\":\"fed49f6a-5b69-46a9-9f8d-dfb2bbfa159e\",\"type\":\"Label\"},{\"attributes\":{\"plot\":{\"id\":\"24f2f365-4c4b-4872-953d-f00a318dae50\",\"subtype\":\"Figure\",\"type\":\"Plot\"},\"text\":\"DTB-018Pro\",\"text_font_size\":{\"value\":\"7pt\"},\"x\":3.026801291242928,\"y\":13.298680500130294},\"id\":\"3a44ed5c-3759-437d-bf56-72ea999c77a1\",\"type\":\"Label\"},{\"attributes\":{\"plot\":{\"id\":\"24f2f365-4c4b-4872-953d-f00a318dae50\",\"subtype\":\"Figure\",\"type\":\"Plot\"},\"text\":\"DTB-009\",\"text_font_size\":{\"value\":\"7pt\"},\"x\":3.923218760881542,\"y\":14.935794368585459},\"id\":\"61a94112-822f-4477-9c97-e3c3455fd9bb\",\"type\":\"Label\"},{\"attributes\":{\"plot\":{\"id\":\"24f2f365-4c4b-4872-953d-f00a318dae50\",\"subtype\":\"Figure\",\"type\":\"Plot\"},\"text\":\"DTB-073\",\"text_font_size\":{\"value\":\"7pt\"},\"x\":-1.16705789928992,\"y\":15.086227470927401},\"id\":\"dcc654c8-f3b1-4472-892c-f4eba1717422\",\"type\":\"Label\"},{\"attributes\":{\"plot\":{\"id\":\"24f2f365-4c4b-4872-953d-f00a318dae50\",\"subtype\":\"Figure\",\"type\":\"Plot\"},\"text\":\"DTB-060Pro\",\"text_font_size\":{\"value\":\"7pt\"},\"x\":3.561308319634226,\"y\":16.33049926815232},\"id\":\"8efc5591-2138-445d-a4b6-b8e603ff93a4\",\"type\":\"Label\"},{\"attributes\":{\"plot\":{\"id\":\"24f2f365-4c4b-4872-953d-f00a318dae50\",\"subtype\":\"Figure\",\"type\":\"Plot\"},\"text\":\"DTB-080Pro\",\"text_font_size\":{\"value\":\"7pt\"},\"x\":-7.664907371413985,\"y\":4.864778260739304},\"id\":\"d3856765-99fa-4f77-88cd-dcea3d7455d9\",\"type\":\"Label\"},{\"attributes\":{\"plot\":{\"id\":\"24f2f365-4c4b-4872-953d-f00a318dae50\",\"subtype\":\"Figure\",\"type\":\"Plot\"},\"text\":\"DTB-020\",\"text_font_size\":{\"value\":\"7pt\"},\"x\":-0.6937591147457822,\"y\":9.441145175189114},\"id\":\"9b952c2c-fe6d-42cc-b432-e0aebf7841fa\",\"type\":\"Label\"},{\"attributes\":{\"plot\":{\"id\":\"24f2f365-4c4b-4872-953d-f00a318dae50\",\"subtype\":\"Figure\",\"type\":\"Plot\"},\"text\":\"DTB-063Pro\",\"text_font_size\":{\"value\":\"7pt\"},\"x\":-4.4315815511243395,\"y\":9.38611804634427},\"id\":\"cbdb6ba6-048c-4776-8841-ba021b1ad56f\",\"type\":\"Label\"},{\"attributes\":{\"plot\":{\"id\":\"24f2f365-4c4b-4872-953d-f00a318dae50\",\"subtype\":\"Figure\",\"type\":\"Plot\"},\"text\":\"DTB-003\",\"text_font_size\":{\"value\":\"7pt\"},\"x\":-2.565803706588934,\"y\":7.556681093246099},\"id\":\"4905e160-e715-44e8-b612-b7fa557084fc\",\"type\":\"Label\"},{\"attributes\":{\"plot\":{\"id\":\"24f2f365-4c4b-4872-953d-f00a318dae50\",\"subtype\":\"Figure\",\"type\":\"Plot\"},\"text\":\"DTB-055Pro2\",\"text_font_size\":{\"value\":\"7pt\"},\"x\":1.0904377999726604,\"y\":11.35135165433962},\"id\":\"d0529803-4924-4fb1-bee1-5bcbc63fe1ff\",\"type\":\"Label\"},{\"attributes\":{\"plot\":{\"id\":\"24f2f365-4c4b-4872-953d-f00a318dae50\",\"subtype\":\"Figure\",\"type\":\"Plot\"},\"text\":\"DTB-030\",\"text_font_size\":{\"value\":\"7pt\"},\"x\":6.738300482663849,\"y\":16.912436984116557},\"id\":\"9e1334b7-e7eb-4c6f-ab60-ba57bae786ad\",\"type\":\"Label\"},{\"attributes\":{\"plot\":{\"id\":\"24f2f365-4c4b-4872-953d-f00a318dae50\",\"subtype\":\"Figure\",\"type\":\"Plot\"},\"text\":\"DTB-090\",\"text_font_size\":{\"value\":\"7pt\"},\"x\":-0.438188438251712,\"y\":14.584654263123232},\"id\":\"fab0490a-d4f2-4a87-bec6-8244488bbc73\",\"type\":\"Label\"},{\"attributes\":{\"plot\":{\"id\":\"24f2f365-4c4b-4872-953d-f00a318dae50\",\"subtype\":\"Figure\",\"type\":\"Plot\"},\"text\":\"DTB-069-2\",\"text_font_size\":{\"value\":\"7pt\"},\"x\":0.548144447429112,\"y\":12.726199930481704},\"id\":\"769ce8dc-55e8-48f8-898e-f0d4316731f3\",\"type\":\"Label\"},{\"attributes\":{\"plot\":{\"id\":\"24f2f365-4c4b-4872-953d-f00a318dae50\",\"subtype\":\"Figure\",\"type\":\"Plot\"},\"text\":\"DTB-063\",\"text_font_size\":{\"value\":\"7pt\"},\"x\":0.5000905964377123,\"y\":11.815068842528385},\"id\":\"3e4a03fd-9921-447c-b6bb-0e92c36eaca8\",\"type\":\"Label\"},{\"attributes\":{\"plot\":{\"id\":\"24f2f365-4c4b-4872-953d-f00a318dae50\",\"subtype\":\"Figure\",\"type\":\"Plot\"},\"text\":\"DTB-069\",\"text_font_size\":{\"value\":\"7pt\"},\"x\":0.548144447429112,\"y\":12.726199930481704},\"id\":\"d1807742-5da1-4631-906c-bfe7b8f2eee1\",\"type\":\"Label\"},{\"attributes\":{\"plot\":{\"id\":\"24f2f365-4c4b-4872-953d-f00a318dae50\",\"subtype\":\"Figure\",\"type\":\"Plot\"},\"text\":\"DTB-064\",\"text_font_size\":{\"value\":\"7pt\"},\"x\":-2.2717928457274175,\"y\":10.07806701790239},\"id\":\"1d0b6a92-d40c-4161-899b-1c198035c55d\",\"type\":\"Label\"},{\"attributes\":{\"plot\":{\"id\":\"24f2f365-4c4b-4872-953d-f00a318dae50\",\"subtype\":\"Figure\",\"type\":\"Plot\"},\"text\":\"DTB-036\",\"text_font_size\":{\"value\":\"7pt\"},\"x\":-3.6082643034462123,\"y\":7.54709315455296},\"id\":\"d02df45a-cf39-44ae-a47c-ac4738c5276e\",\"type\":\"Label\"},{\"attributes\":{\"plot\":{\"id\":\"24f2f365-4c4b-4872-953d-f00a318dae50\",\"subtype\":\"Figure\",\"type\":\"Plot\"},\"text\":\"DTB-074\",\"text_font_size\":{\"value\":\"7pt\"},\"x\":-5.699147159988291,\"y\":9.098722508148315},\"id\":\"139c799b-7353-430a-b6b3-03c5e3b134af\",\"type\":\"Label\"},{\"attributes\":{\"plot\":{\"id\":\"24f2f365-4c4b-4872-953d-f00a318dae50\",\"subtype\":\"Figure\",\"type\":\"Plot\"},\"text\":\"DTB-065\",\"text_font_size\":{\"value\":\"7pt\"},\"x\":-0.5735144022576999,\"y\":9.76698128298051},\"id\":\"76b17758-cf4c-4165-be0a-2afff85f79cc\",\"type\":\"Label\"},{\"attributes\":{\"plot\":{\"id\":\"24f2f365-4c4b-4872-953d-f00a318dae50\",\"subtype\":\"Figure\",\"type\":\"Plot\"},\"text\":\"DTB-053\",\"text_font_size\":{\"value\":\"7pt\"},\"x\":-0.14412820724549702,\"y\":12.460265178649188},\"id\":\"d5c0f3f5-9727-4526-93a1-c410c0508947\",\"type\":\"Label\"},{\"attributes\":{\"plot\":{\"id\":\"24f2f365-4c4b-4872-953d-f00a318dae50\",\"subtype\":\"Figure\",\"type\":\"Plot\"},\"text\":\"DTB-071\",\"text_font_size\":{\"value\":\"7pt\"},\"x\":-1.8503254981157404,\"y\":12.985053888133235},\"id\":\"43aed15c-898d-4c26-976a-53a750c03347\",\"type\":\"Label\"},{\"attributes\":{\"plot\":{\"id\":\"24f2f365-4c4b-4872-953d-f00a318dae50\",\"subtype\":\"Figure\",\"type\":\"Plot\"},\"text\":\"DTB-042\",\"text_font_size\":{\"value\":\"7pt\"},\"x\":0.0038633999017160803,\"y\":13.762981465079802},\"id\":\"9ef5e6b1-7f69-44e0-9fcb-7ecc88b60245\",\"type\":\"Label\"},{\"attributes\":{\"plot\":{\"id\":\"24f2f365-4c4b-4872-953d-f00a318dae50\",\"subtype\":\"Figure\",\"type\":\"Plot\"},\"text\":\"DTB-097Pro\",\"text_font_size\":{\"value\":\"7pt\"},\"x\":-2.705982379100403,\"y\":6.675392587920775},\"id\":\"d5f925c8-9f60-44bc-9233-023eef745f86\",\"type\":\"Label\"},{\"attributes\":{\"plot\":{\"id\":\"24f2f365-4c4b-4872-953d-f00a318dae50\",\"subtype\":\"Figure\",\"type\":\"Plot\"},\"text\":\"DTB-046\",\"text_font_size\":{\"value\":\"7pt\"},\"x\":-1.5391165750835298,\"y\":12.47296512839155},\"id\":\"be5f95ad-0437-4430-ab39-959bc87f57fd\",\"type\":\"Label\"},{\"attributes\":{\"plot\":{\"id\":\"24f2f365-4c4b-4872-953d-f00a318dae50\",\"subtype\":\"Figure\",\"type\":\"Plot\"},\"text\":\"DTB-097\",\"text_font_size\":{\"value\":\"7pt\"},\"x\":-3.061674715990401,\"y\":8.011419680082154},\"id\":\"30cdda6d-1772-4ba4-bc75-e3b90090a303\",\"type\":\"Label\"},{\"attributes\":{\"plot\":{\"id\":\"24f2f365-4c4b-4872-953d-f00a318dae50\",\"subtype\":\"Figure\",\"type\":\"Plot\"},\"text\":\"DTB-092\",\"text_font_size\":{\"value\":\"7pt\"},\"x\":4.960535994107698,\"y\":14.704308944853105},\"id\":\"90b66018-557d-4716-9e39-1475282f6ec7\",\"type\":\"Label\"},{\"attributes\":{\"plot\":{\"id\":\"24f2f365-4c4b-4872-953d-f00a318dae50\",\"subtype\":\"Figure\",\"type\":\"Plot\"},\"text\":\"DTB-034\",\"text_font_size\":{\"value\":\"7pt\"},\"x\":5.528129446407449,\"y\":15.680247845756366},\"id\":\"4e933772-e140-4c80-a008-3abdcfd3575d\",\"type\":\"Label\"},{\"attributes\":{\"plot\":{\"id\":\"24f2f365-4c4b-4872-953d-f00a318dae50\",\"subtype\":\"Figure\",\"type\":\"Plot\"},\"text\":\"DTB-067Pro\",\"text_font_size\":{\"value\":\"7pt\"},\"x\":-0.39017211514783556,\"y\":9.78786889058068},\"id\":\"4df089de-89c8-4b36-8ed9-ea5e806922b0\",\"type\":\"Label\"},{\"attributes\":{\"plot\":{\"id\":\"24f2f365-4c4b-4872-953d-f00a318dae50\",\"subtype\":\"Figure\",\"type\":\"Plot\"},\"text\":\"DTB-059\",\"text_font_size\":{\"value\":\"7pt\"},\"x\":-1.3792363600355024,\"y\":13.716451792776233},\"id\":\"e16510e8-b142-4c4d-be50-e868a17dc6a5\",\"type\":\"Label\"},{\"attributes\":{\"plot\":{\"id\":\"24f2f365-4c4b-4872-953d-f00a318dae50\",\"subtype\":\"Figure\",\"type\":\"Plot\"},\"text\":\"DTB-090Pro\",\"text_font_size\":{\"value\":\"7pt\"},\"x\":1.543432749257861,\"y\":14.79930068386594},\"id\":\"819d49c1-dbc7-4556-a34c-f68fadec00cd\",\"type\":\"Label\"},{\"attributes\":{\"plot\":{\"id\":\"24f2f365-4c4b-4872-953d-f00a318dae50\",\"subtype\":\"Figure\",\"type\":\"Plot\"},\"text\":\"DTB-060\",\"text_font_size\":{\"value\":\"7pt\"},\"x\":4.695026277509338,\"y\":16.283374870861405},\"id\":\"693351b9-8671-4ba6-b2e7-848bab909c49\",\"type\":\"Label\"},{\"attributes\":{\"plot\":{\"id\":\"24f2f365-4c4b-4872-953d-f00a318dae50\",\"subtype\":\"Figure\",\"type\":\"Plot\"},\"text\":\"DTB-049\",\"text_font_size\":{\"value\":\"7pt\"},\"x\":-0.5083981814238094,\"y\":11.509489956065265},\"id\":\"4f6c22f0-632c-457d-875c-e344519d9854\",\"type\":\"Label\"},{\"attributes\":{\"plot\":{\"id\":\"24f2f365-4c4b-4872-953d-f00a318dae50\",\"subtype\":\"Figure\",\"type\":\"Plot\"},\"text\":\"DTB-035\",\"text_font_size\":{\"value\":\"7pt\"},\"x\":1.0624465886268504,\"y\":13.099880814342136},\"id\":\"85fba139-4d1d-4520-9946-74faff6cebb3\",\"type\":\"Label\"},{\"attributes\":{\"plot\":{\"id\":\"24f2f365-4c4b-4872-953d-f00a318dae50\",\"subtype\":\"Figure\",\"type\":\"Plot\"},\"text\":\"DTB-083\",\"text_font_size\":{\"value\":\"7pt\"},\"x\":-1.6620327113337285,\"y\":12.851614133318389},\"id\":\"9cd8c11b-074e-4c03-af97-a714773f38b3\",\"type\":\"Label\"},{\"attributes\":{\"plot\":{\"id\":\"24f2f365-4c4b-4872-953d-f00a318dae50\",\"subtype\":\"Figure\",\"type\":\"Plot\"},\"text\":\"DTB-038\",\"text_font_size\":{\"value\":\"7pt\"},\"x\":-2.2080054862775778,\"y\":13.731868972086662},\"id\":\"fe706ab8-3a21-44ea-94ce-d8fdf2ab44c6\",\"type\":\"Label\"},{\"attributes\":{\"plot\":{\"id\":\"24f2f365-4c4b-4872-953d-f00a318dae50\",\"subtype\":\"Figure\",\"type\":\"Plot\"},\"text\":\"DTB-040\",\"text_font_size\":{\"value\":\"7pt\"},\"x\":-6.733026035538067,\"y\":5.778046002838787},\"id\":\"79b123d2-269c-4924-b244-967140ed41c7\",\"type\":\"Label\"},{\"attributes\":{\"plot\":{\"id\":\"24f2f365-4c4b-4872-953d-f00a318dae50\",\"subtype\":\"Figure\",\"type\":\"Plot\"},\"text\":\"DTB-032\",\"text_font_size\":{\"value\":\"7pt\"},\"x\":-6.260864241143741,\"y\":7.215725115237301},\"id\":\"166146d0-c06b-4cd2-b2ec-c0cd8b4a9775\",\"type\":\"Label\"},{\"attributes\":{\"plot\":{\"id\":\"24f2f365-4c4b-4872-953d-f00a318dae50\",\"subtype\":\"Figure\",\"type\":\"Plot\"},\"text\":\"DTB-210\",\"text_font_size\":{\"value\":\"7pt\"},\"x\":1.3400550460145775,\"y\":13.695726787012418},\"id\":\"07978f1e-b3bf-4862-8648-5f01f622a5f6\",\"type\":\"Label\"},{\"attributes\":{\"plot\":{\"id\":\"24f2f365-4c4b-4872-953d-f00a318dae50\",\"subtype\":\"Figure\",\"type\":\"Plot\"},\"text\":\"DTB-098\",\"text_font_size\":{\"value\":\"7pt\"},\"x\":-2.4071831657094807,\"y\":13.37684078804725},\"id\":\"7eba3e3c-0d75-4e8c-8e07-d83e6f3f6b13\",\"type\":\"Label\"},{\"attributes\":{\"plot\":{\"id\":\"24f2f365-4c4b-4872-953d-f00a318dae50\",\"subtype\":\"Figure\",\"type\":\"Plot\"},\"text\":\"DTB-024Pro\",\"text_font_size\":{\"value\":\"7pt\"},\"x\":-0.42016936555996454,\"y\":11.180701614820913},\"id\":\"74952778-9b95-45bd-9f78-64c7a4dd9a15\",\"type\":\"Label\"},{\"attributes\":{\"plot\":{\"id\":\"24f2f365-4c4b-4872-953d-f00a318dae50\",\"subtype\":\"Figure\",\"type\":\"Plot\"},\"text\":\"DTB-022Pro\",\"text_font_size\":{\"value\":\"7pt\"},\"x\":-0.791518750870164,\"y\":14.180542379324732},\"id\":\"d7de16be-8f24-4cf6-bf8c-5b6982d66106\",\"type\":\"Label\"},{\"attributes\":{\"plot\":{\"id\":\"24f2f365-4c4b-4872-953d-f00a318dae50\",\"subtype\":\"Figure\",\"type\":\"Plot\"},\"text\":\"DTB-031\",\"text_font_size\":{\"value\":\"7pt\"},\"x\":-3.275377627846654,\"y\":10.305199854098015},\"id\":\"ab6de6b1-05ff-44d8-9fa2-209c74f5ec2f\",\"type\":\"Label\"},{\"attributes\":{},\"id\":\"fe7f025b-f824-4ab1-bd28-e1d4de698bc9\",\"type\":\"BasicTickFormatter\"},{\"attributes\":{\"callback\":null,\"column_names\":[\"x\",\"y\"],\"data\":{\"x\":{\"__ndarray__\":\"0Co+AA2nxD9ihgxRri4BQGCkZ1JUCgfAAPsO2c2OBMCrmBcArTT2v8hUaGpPx94/rzvC9qlf9b+Xpf0nyur5v6e6AUbWcem/n6nGMptv8b8EMy5aDgP0v9DST7H8G/G/pVQZeTg5BUC4OYmWpW4QwBDZE21uedc/F0xMQEL3EcCah9VdbloYwJ08xCyMiwtAoCcBtQzGCcDuJkzVEQL1P1ym+uwiQNq/qCSadP91wz/gmjrvjg8ewIYt60NF0B3AnF5cet2oHsACbjgWVyriv5bRX+dErPK/3bmKE0lA9z/QytXo7pr9v/xqL+A6WuK//nw9uqEsAsBklpf+vQDgPzraVMNh0RPAiw3v97THEkCw5zwlWhH2v3B3RgjLcsK/03Grszig+L+A71UHI6ZvP5gCh2Ce7hrAL5vHx/6pAcBwAdWsud0MwKpifv7H//A/kX8x980cFkAGouH+HwsZwCU2jS/5MwrAiBz3DA7k2r8w5V0FlBPxvwTrIwMXovG/VjyMaurQ3b/CpaqvNlEAQDj+0Q9qVAZAAE7egMfD7j/67A12Rnfovw2Pb1jaG/4/Dod9dsRV5L/8zmI0tG0MwKCbJtRwLsC/SuyjfgHAAEDOR2BgA64LwEN4PRXs5OU/lVrvobWF+z8JhafB3iERwABQyoCjcvC/RO7CeKsUFMD69Dcj0vUMQFjh1d/5LfC/5I/HFcVm579EIGP1PfzgP36Jw5JbD9g/BMqMH1Ih3b+kSWRIWuXmv25PWAmiSOo/8ifDUqMs+b89hnvBhdT7v/8t3QhUzuW/Nk1ShCO8DEB2dGoIjjbyvyVblK6hT/I/J2bjb8aHCsC5HdRdX14FQKoWaMA3Qcm/lj4EoVhiA0BJTHe2OeYBQNq5R4KQoQLAXAWWXxjRDsAZeKFZOin+vxUc0MCtlQTATDo7Fom65j8o4qK8esbxP7qhYT/pQQPAXg+lIR9U6b/cTu4W2qUFwNRZQVBPfgjALEtlv5bXE0DDNNqJ5rH4Pxv4wJyvl/q/17DxhEcL3L/G9qw77csWwBYlZjlmiuE/FiVmOWaK4T8awJd2lPjYv+ppXjePfQxAQYueg/C5EcC5RhPobnLxPySmrgoF9BpA1PRRQ8xE4L8EUkDyCE3yP9vV6mdGnwRATFKkUEYz5r8VCGuY4zYIQKZRiITAYg9AFttI5rgCIsCIzu1v9fQXwFgK/hfEhgTA0fAY7rCAEcB1WdRibKsAQENmQlE5jvU/lyUV746eAED6pE5XUfoQwDir5tmLfeg/4gO2hevgAEC/N66F39AXwM0jylnA8PI/dkKatlGjIkCzUlt2zmUMQGqs2iUzvPS/mjL2db48A8D6BAA+sNMSwOSOV4/dcPU/sN/IL4Ft4L8=\",\"dtype\":\"float64\",\"shape\":[130]},\"y\":{\"__ndarray__\":\"XaclRyIbJ0BXKCh1kdYtQDzvM372ciFAfhLMb8uKKEBR6QdqBfsqQDDLVKqVsypAZPIrRan+LUDtDHhQcIwrQBvFMkEMDStAE202FCgkLUD5XclBTuksQNuDCiFoOC1An4gRsJpyKkCbdCEjHRcmQBV83/r0YC1A/oTZ85A6IUD1BFXkL4wgQPqP7KMu8CxAjF7us6eNJkDN7+vE+zwrQGQ9B9dSOypA7M8yK8CYLUC1jxFfhgQUQOdDtu7KGRdAFauwboh1E0DSU+BXi5EtQMpMzwEmLC5AKxfcp29JLkDnqLT7WPgpQEAXTsWxiCNA85JxZvgnJEDFSw20UKEnQFDkm53s8hhAo9tqQYtIMEDcRPbE0m4rQFySo+Cn6yhAKC49fCjyKECf8a+BpYYrQIrnYxe4HBdAgiOoh7d2K0CHrhowOTAeQNQx/pMjMypAZmUVcklcL0DsemsL59wcQJ0wwCdDnCRA/foL7IRcJkBDRoJKliMmQEEQIUuMgCxAbyWCplNuKkACiGU86XEtQK0DYzUK1SlALuIRGcJDLUDpbeSkGQsrQGsG9RY8Vi1A8Ft7fE6+KUDyUvdc9bwlQEiwyvB/myxAmCRKa+/IL0DljnNWbV4sQLp8A05LMzBArtrfOdqdKUDJ/ueLIPwYQCCXRUSp4ihAeoEQ85LSJUB6qW9aM40yQJlGuTtewStAtNDeuB0bL0BSOCkHbMYtQONmXoDRGy5A5lCfrZ16K0CT5krSjZIqQEXfZ0haCDBAnWBG4J4eF0B9OiJV8PQpQDhnrrvIXi1AnFczKkkgMEAMfrjx9LQsQBIzhk8mni1AMay1Q0ZKGkAmXMnbaOoqQPDHTJzfWC1AtX+vHgsHJ0CuJDP2p7MvQC5qzETmZyhA1NJoi94iGkCdhwNhrAQoQPL4Dp7gLilA9Kq/Q71QKUDvmJUjGDowQHLsmEbxwCpAx3v9DHBcLEB3UlQdmrMaQJ/34MzYBSBARdmYLptoLUDSv3HwPZktQObThsQGtClAmym3zVcrLUCRwK/BizIiQIONL3rQcylAg40vetBzKUDfKB2NY5MjQO8QnJmbVDBAW+O6Q7HFIkB+kTFd5LMmQAVxXniV6TBAr+EV3tsEJ0B08saKrt0sQNAflWHmYipAbHPIx93hIkBrBoim7JgqQAa2gXAg3y1AThTDrgQVIEDvb3LTRncjQJEsx5sKOh5ABarQFqOgJ0DrB4JhJEcwQLs9/+5vFzBAxC2dkmnhMECsfMiYQuMZQGk19NBqQypA+1F/YwAVMkCoICp+Gg0bQMLUvD1iAC9Aox7fQTnHL0BburqAsB4wQDs2eHPYIx5AmDEIpvQcH0BS/i2j86AlQMhWKk02ZCtAqCBP6+GyI0A=\",\"dtype\":\"float64\",\"shape\":[130]}}},\"id\":\"0e79ba76-7291-47ed-9f1d-6dadc427419a\",\"type\":\"ColumnDataSource\"},{\"attributes\":{\"plot\":{\"id\":\"24f2f365-4c4b-4872-953d-f00a318dae50\",\"subtype\":\"Figure\",\"type\":\"Plot\"},\"text\":\"DTB-022\",\"text_font_size\":{\"value\":\"7pt\"},\"x\":-1.1020727274578244,\"y\":14.251070354257651},\"id\":\"1b41b06e-3586-41f6-813b-d018963f3e82\",\"type\":\"Label\"},{\"attributes\":{\"data_source\":{\"id\":\"0e79ba76-7291-47ed-9f1d-6dadc427419a\",\"type\":\"ColumnDataSource\"},\"glyph\":{\"id\":\"de617abb-47e2-4d6c-831e-6ef2c3aac4ec\",\"type\":\"Circle\"},\"hover_glyph\":null,\"muted_glyph\":null,\"nonselection_glyph\":{\"id\":\"792caffb-1e54-4c3d-a1de-1520bfbbaf30\",\"type\":\"Circle\"},\"selection_glyph\":null},\"id\":\"c63bc35d-42f9-4114-a338-4f2488bf63bf\",\"type\":\"GlyphRenderer\"},{\"attributes\":{\"plot\":{\"id\":\"24f2f365-4c4b-4872-953d-f00a318dae50\",\"subtype\":\"Figure\",\"type\":\"Plot\"},\"text\":\"DTB-156\",\"text_font_size\":{\"value\":\"7pt\"},\"x\":-5.020185362718227,\"y\":10.911277385487427},\"id\":\"3401aef0-96e2-48b1-9879-dec49a1f6a23\",\"type\":\"Label\"},{\"attributes\":{},\"id\":\"4f2022cf-9cd4-46e1-9df5-980bbee33fa7\",\"type\":\"LinearScale\"},{\"attributes\":{\"plot\":{\"id\":\"24f2f365-4c4b-4872-953d-f00a318dae50\",\"subtype\":\"Figure\",\"type\":\"Plot\"},\"text\":\"DTB-002\",\"text_font_size\":{\"value\":\"7pt\"},\"x\":-0.7645599656820246,\"y\":13.521680024036828},\"id\":\"3765521f-977e-40fa-bea2-378e49edf374\",\"type\":\"Label\"},{\"attributes\":{\"below\":[{\"id\":\"e4f42917-7690-44b8-af63-43d81ffc65d2\",\"type\":\"LinearAxis\"}],\"left\":[{\"id\":\"60efb516-02b7-433c-a553-c5eac4b9219c\",\"type\":\"LinearAxis\"}],\"renderers\":[{\"id\":\"e4f42917-7690-44b8-af63-43d81ffc65d2\",\"type\":\"LinearAxis\"},{\"id\":\"78494e59-b97e-48d7-a0cb-79f605c7164c\",\"type\":\"Grid\"},{\"id\":\"60efb516-02b7-433c-a553-c5eac4b9219c\",\"type\":\"LinearAxis\"},{\"id\":\"04fc488d-53c4-4703-a751-50c6d6da1ea9\",\"type\":\"Grid\"},{\"id\":\"fcc338dc-79c1-47b5-a293-5d45f47fe51d\",\"type\":\"BoxAnnotation\"},{\"id\":\"c63bc35d-42f9-4114-a338-4f2488bf63bf\",\"type\":\"GlyphRenderer\"},{\"id\":\"30daabc8-7471-4941-ac9e-47e17e6b5c0a\",\"type\":\"Label\"},{\"id\":\"430e8535-cfd0-4e2a-b8d1-a7b285900d75\",\"type\":\"Label\"},{\"id\":\"61a317f8-364a-403c-a2fc-3144ef2c664e\",\"type\":\"Label\"},{\"id\":\"a686f461-5a0a-4a68-8792-0d9b270eb791\",\"type\":\"Label\"},{\"id\":\"33194262-9a75-4318-848e-c77243f3cea3\",\"type\":\"Label\"},{\"id\":\"93936279-d603-43fb-ad4a-ba222c3c60b8\",\"type\":\"Label\"},{\"id\":\"5bd1a55c-2254-4d2b-8881-8f1368407298\",\"type\":\"Label\"},{\"id\":\"eda07ee3-289b-4729-996c-94636a7ddf10\",\"type\":\"Label\"},{\"id\":\"6fbeffe5-c8fa-4efa-a525-b5e17038c698\",\"type\":\"Label\"},{\"id\":\"b653e4ea-e8a1-417f-b7bc-b8b8fd50700d\",\"type\":\"Label\"},{\"id\":\"6a029a8c-6e47-4ec3-a607-ed72f245db9d\",\"type\":\"Label\"},{\"id\":\"9a9027c8-4321-4e55-a628-618ad4476362\",\"type\":\"Label\"},{\"id\":\"dc8e360f-522d-44c5-8944-1814cf4f79a3\",\"type\":\"Label\"},{\"id\":\"a7d51455-f3b3-48d7-9a56-e3713f3fa0c4\",\"type\":\"Label\"},{\"id\":\"87b5f59c-b4dd-480e-afd7-045b5d311022\",\"type\":\"Label\"},{\"id\":\"f9964a6b-a4b3-4099-9be1-393be0a5e838\",\"type\":\"Label\"},{\"id\":\"7d37ee26-39db-438f-aa2f-288b4ab0c18a\",\"type\":\"Label\"},{\"id\":\"634738e6-9683-45f3-921a-40bbd620c0a0\",\"type\":\"Label\"},{\"id\":\"af9f948e-9c1a-496d-bbef-395e43f884fc\",\"type\":\"Label\"},{\"id\":\"706222e4-340b-4419-b3d3-fd808c96935a\",\"type\":\"Label\"},{\"id\":\"e021c836-5f09-4377-9b0c-7132e5d80e45\",\"type\":\"Label\"},{\"id\":\"6a068a50-ddad-491e-8433-6df8446fbffb\",\"type\":\"Label\"},{\"id\":\"e1c97bd7-a77c-4ef9-90ce-dcb4f0bd16d7\",\"type\":\"Label\"},{\"id\":\"f096a764-7891-43af-81f0-f70461dbd206\",\"type\":\"Label\"},{\"id\":\"d3856765-99fa-4f77-88cd-dcea3d7455d9\",\"type\":\"Label\"},{\"id\":\"74e1a345-61c4-4df5-b4b3-4df72b60a326\",\"type\":\"Label\"},{\"id\":\"dcc654c8-f3b1-4472-892c-f4eba1717422\",\"type\":\"Label\"},{\"id\":\"fed49f6a-5b69-46a9-9f8d-dfb2bbfa159e\",\"type\":\"Label\"},{\"id\":\"43aed15c-898d-4c26-976a-53a750c03347\",\"type\":\"Label\"},{\"id\":\"76b17758-cf4c-4165-be0a-2afff85f79cc\",\"type\":\"Label\"},{\"id\":\"1d0b6a92-d40c-4161-899b-1c198035c55d\",\"type\":\"Label\"},{\"id\":\"3e4a03fd-9921-447c-b6bb-0e92c36eaca8\",\"type\":\"Label\"},{\"id\":\"5468edc6-8695-48d3-a813-1846cf538ec2\",\"type\":\"Label\"},{\"id\":\"693351b9-8671-4ba6-b2e7-848bab909c49\",\"type\":\"Label\"},{\"id\":\"e16510e8-b142-4c4d-be50-e868a17dc6a5\",\"type\":\"Label\"},{\"id\":\"d5c0f3f5-9727-4526-93a1-c410c0508947\",\"type\":\"Label\"},{\"id\":\"be5f95ad-0437-4430-ab39-959bc87f57fd\",\"type\":\"Label\"},{\"id\":\"9ef5e6b1-7f69-44e0-9fcb-7ecc88b60245\",\"type\":\"Label\"},{\"id\":\"79b123d2-269c-4924-b244-967140ed41c7\",\"type\":\"Label\"},{\"id\":\"fe706ab8-3a21-44ea-94ce-d8fdf2ab44c6\",\"type\":\"Label\"},{\"id\":\"d02df45a-cf39-44ae-a47c-ac4738c5276e\",\"type\":\"Label\"},{\"id\":\"85fba139-4d1d-4520-9946-74faff6cebb3\",\"type\":\"Label\"},{\"id\":\"4e933772-e140-4c80-a008-3abdcfd3575d\",\"type\":\"Label\"},{\"id\":\"166146d0-c06b-4cd2-b2ec-c0cd8b4a9775\",\"type\":\"Label\"},{\"id\":\"ab6de6b1-05ff-44d8-9fa2-209c74f5ec2f\",\"type\":\"Label\"},{\"id\":\"74952778-9b95-45bd-9f78-64c7a4dd9a15\",\"type\":\"Label\"},{\"id\":\"fbedaf23-73f9-4a23-8001-efbbed137c88\",\"type\":\"Label\"},{\"id\":\"1b41b06e-3586-41f6-813b-d018963f3e82\",\"type\":\"Label\"},{\"id\":\"f84b205f-68f7-47ae-9de8-4fe7bbdf0a46\",\"type\":\"Label\"},{\"id\":\"7c53be4b-a7fc-4594-b160-ebc0b66fb214\",\"type\":\"Label\"},{\"id\":\"9ceba537-6189-4d1e-ba22-37b7cf3e49d6\",\"type\":\"Label\"},{\"id\":\"b72e16d0-3958-44cf-a678-f32876d84656\",\"type\":\"Label\"},{\"id\":\"3765521f-977e-40fa-bea2-378e49edf374\",\"type\":\"Label\"},{\"id\":\"7e7d854b-1d2a-415c-87bc-93cab3cd017b\",\"type\":\"Label\"},{\"id\":\"23a59dc1-a726-48df-b034-8727da999bab\",\"type\":\"Label\"},{\"id\":\"d8d66a94-f1a6-4171-90d5-51e1664aef96\",\"type\":\"Label\"},{\"id\":\"408c9aee-077d-445b-88c5-c6315b18c56a\",\"type\":\"Label\"},{\"id\":\"dd17cebb-2e5c-4982-b027-3a0014fd50f1\",\"type\":\"Label\"},{\"id\":\"0a4c73c1-b7fb-4f37-aebd-fbfe894bfc21\",\"type\":\"Label\"},{\"id\":\"4993f8cf-1c8a-48c8-9846-775c6ef36a58\",\"type\":\"Label\"},{\"id\":\"c0dcaeb0-736d-4802-bbcf-40a5345406f8\",\"type\":\"Label\"},{\"id\":\"2792b8ce-066b-4fa1-83c9-21212e020d5c\",\"type\":\"Label\"},{\"id\":\"81ff57ee-070c-4b52-99a5-bf2ef2fef464\",\"type\":\"Label\"},{\"id\":\"3401aef0-96e2-48b1-9879-dec49a1f6a23\",\"type\":\"Label\"},{\"id\":\"34f3ea84-e072-42a2-becb-39d291a4a8a2\",\"type\":\"Label\"},{\"id\":\"a87640eb-5fe8-4fe9-b2af-b9f9d59059e1\",\"type\":\"Label\"},{\"id\":\"a8adb584-7565-4ade-a7bf-4a8cfaad1e03\",\"type\":\"Label\"},{\"id\":\"78e35b39-701d-46b7-9817-0f7440b68d44\",\"type\":\"Label\"},{\"id\":\"f1851f08-3d3c-4a29-a1ce-0ab321a6cab0\",\"type\":\"Label\"},{\"id\":\"5b4c3746-fd6e-49c1-b209-d046f5597162\",\"type\":\"Label\"},{\"id\":\"1cbe1197-0e9f-479a-aab1-3574f0701302\",\"type\":\"Label\"},{\"id\":\"25ccbe6a-c4bc-4fab-b40a-caf5a41d6ec2\",\"type\":\"Label\"},{\"id\":\"5ead8151-7166-4d42-860b-f201b7f48450\",\"type\":\"Label\"},{\"id\":\"4a7bb35e-f093-4425-91a6-7d0e81eec537\",\"type\":\"Label\"},{\"id\":\"3256a9c0-a6a2-439d-83d8-6d05af7bcba2\",\"type\":\"Label\"},{\"id\":\"22429052-043a-4d67-8388-8b802792576d\",\"type\":\"Label\"},{\"id\":\"85e56cdd-e116-4872-b081-9a140cee61e5\",\"type\":\"Label\"},{\"id\":\"1e968ea9-3c8a-49ad-9e0d-0273ddf354e4\",\"type\":\"Label\"},{\"id\":\"8457beb9-9a94-4dc0-a9e2-d9e835cae61f\",\"type\":\"Label\"},{\"id\":\"b2be3333-d32c-472f-8508-1abb2a194e54\",\"type\":\"Label\"},{\"id\":\"b8e9e267-9c76-4218-a362-3434ee7f82ec\",\"type\":\"Label\"},{\"id\":\"6a1dec1e-e656-495d-b695-25d6140919ae\",\"type\":\"Label\"},{\"id\":\"227d1dd3-c083-4340-8083-0e2d62e7d8eb\",\"type\":\"Label\"},{\"id\":\"fe216c99-1796-42b2-82f4-28f691d5031c\",\"type\":\"Label\"},{\"id\":\"3accbcbc-813f-416d-9c17-3e6ff07c9a3a\",\"type\":\"Label\"},{\"id\":\"52d44560-b8e9-4bf7-bc5b-87fa5ec5397f\",\"type\":\"Label\"},{\"id\":\"0a43d693-a796-4830-b2ce-1e6667c95bd9\",\"type\":\"Label\"},{\"id\":\"b16935ae-7e5d-48c7-b792-608be5c7903e\",\"type\":\"Label\"},{\"id\":\"7d58d445-487f-47af-86a9-d1814362d27d\",\"type\":\"Label\"},{\"id\":\"7eba3e3c-0d75-4e8c-8e07-d83e6f3f6b13\",\"type\":\"Label\"},{\"id\":\"d7de16be-8f24-4cf6-bf8c-5b6982d66106\",\"type\":\"Label\"},{\"id\":\"d5f925c8-9f60-44bc-9233-023eef745f86\",\"type\":\"Label\"},{\"id\":\"30cdda6d-1772-4ba4-bc75-e3b90090a303\",\"type\":\"Label\"},{\"id\":\"90b66018-557d-4716-9e39-1475282f6ec7\",\"type\":\"Label\"},{\"id\":\"819d49c1-dbc7-4556-a34c-f68fadec00cd\",\"type\":\"Label\"},{\"id\":\"9cd8c11b-074e-4c03-af97-a714773f38b3\",\"type\":\"Label\"},{\"id\":\"fab0490a-d4f2-4a87-bec6-8244488bbc73\",\"type\":\"Label\"},{\"id\":\"139c799b-7353-430a-b6b3-03c5e3b134af\",\"type\":\"Label\"},{\"id\":\"769ce8dc-55e8-48f8-898e-f0d4316731f3\",\"type\":\"Label\"},{\"id\":\"d1807742-5da1-4631-906c-bfe7b8f2eee1\",\"type\":\"Label\"},{\"id\":\"4df089de-89c8-4b36-8ed9-ea5e806922b0\",\"type\":\"Label\"},{\"id\":\"8efc5591-2138-445d-a4b6-b8e603ff93a4\",\"type\":\"Label\"},{\"id\":\"cbdb6ba6-048c-4776-8841-ba021b1ad56f\",\"type\":\"Label\"},{\"id\":\"d0529803-4924-4fb1-bee1-5bcbc63fe1ff\",\"type\":\"Label\"},{\"id\":\"9e1334b7-e7eb-4c6f-ab60-ba57bae786ad\",\"type\":\"Label\"},{\"id\":\"4f6c22f0-632c-457d-875c-e344519d9854\",\"type\":\"Label\"},{\"id\":\"911e2708-fc88-4288-9ae2-772d75f20946\",\"type\":\"Label\"},{\"id\":\"38c50117-8fcd-47be-9a1f-f01d7d2977d8\",\"type\":\"Label\"},{\"id\":\"9b952c2c-fe6d-42cc-b432-e0aebf7841fa\",\"type\":\"Label\"},{\"id\":\"3a44ed5c-3759-437d-bf56-72ea999c77a1\",\"type\":\"Label\"},{\"id\":\"61a94112-822f-4477-9c97-e3c3455fd9bb\",\"type\":\"Label\"},{\"id\":\"a335757c-034b-41c9-9120-62929c1383fa\",\"type\":\"Label\"},{\"id\":\"90829907-9524-40ca-89e5-d06ac626229d\",\"type\":\"Label\"},{\"id\":\"4905e160-e715-44e8-b612-b7fa557084fc\",\"type\":\"Label\"},{\"id\":\"1ac49bbf-1035-4bc1-8dba-1bf122711d63\",\"type\":\"Label\"},{\"id\":\"9cd80266-bfb3-419b-9d6d-a518dfa6fee1\",\"type\":\"Label\"},{\"id\":\"12acdbde-8dac-4007-8ed2-bcf626f17464\",\"type\":\"Label\"},{\"id\":\"bd45f7ca-b12b-4668-8aec-328cd0712a7a\",\"type\":\"Label\"},{\"id\":\"3124db4c-33e5-47e6-974b-53373d61fd91\",\"type\":\"Label\"},{\"id\":\"9ea9c172-f4da-491c-a956-03a8422e09a6\",\"type\":\"Label\"},{\"id\":\"cec4f0cc-5863-4650-8aa9-290cbe89fe46\",\"type\":\"Label\"},{\"id\":\"e18a0b90-3aa0-4b71-b0a5-6701f4666760\",\"type\":\"Label\"},{\"id\":\"f2b1d9d1-972b-4911-8039-2eacd7d9a312\",\"type\":\"Label\"},{\"id\":\"d856bb80-4f2a-41aa-ba7d-cdfc1a1ca927\",\"type\":\"Label\"},{\"id\":\"af0177e1-3fea-4e20-b08b-0b09a05032bd\",\"type\":\"Label\"},{\"id\":\"2580ee68-336f-4a03-80be-e0a59cf4dd3d\",\"type\":\"Label\"},{\"id\":\"a41223a8-f0c8-4f77-a787-279f38588f28\",\"type\":\"Label\"},{\"id\":\"0c4a31b3-1549-4695-9666-1d14ba850521\",\"type\":\"Label\"},{\"id\":\"07978f1e-b3bf-4862-8648-5f01f622a5f6\",\"type\":\"Label\"},{\"id\":\"9c1f0fdf-1387-4bdf-833f-2d342b844e34\",\"type\":\"Label\"}],\"title\":{\"id\":\"8bd7b3aa-c5ee-4b26-95fb-df7f5832b466\",\"type\":\"Title\"},\"tool_events\":{\"id\":\"30a382b4-bcdc-47e9-81a5-fd743546db7f\",\"type\":\"ToolEvents\"},\"toolbar\":{\"id\":\"ab6906e6-a0e5-40ad-ab17-4e9769464e88\",\"type\":\"Toolbar\"},\"x_range\":{\"id\":\"0d8c14fa-517d-413b-8def-6b9b63e07cfc\",\"type\":\"DataRange1d\"},\"x_scale\":{\"id\":\"4f2022cf-9cd4-46e1-9df5-980bbee33fa7\",\"type\":\"LinearScale\"},\"y_range\":{\"id\":\"23d70c24-2c22-4801-9725-12488207ff83\",\"type\":\"DataRange1d\"},\"y_scale\":{\"id\":\"52c38e18-6c74-485f-abea-2695fa16c7cd\",\"type\":\"LinearScale\"}},\"id\":\"24f2f365-4c4b-4872-953d-f00a318dae50\",\"subtype\":\"Figure\",\"type\":\"Plot\"},{\"attributes\":{\"callback\":null},\"id\":\"0d8c14fa-517d-413b-8def-6b9b63e07cfc\",\"type\":\"DataRange1d\"},{\"attributes\":{\"plot\":{\"id\":\"24f2f365-4c4b-4872-953d-f00a318dae50\",\"subtype\":\"Figure\",\"type\":\"Plot\"},\"text\":\"DTB-010Pro\",\"text_font_size\":{\"value\":\"7pt\"},\"x\":2.039655086894272,\"y\":14.722482573884921},\"id\":\"7c53be4b-a7fc-4594-b160-ebc0b66fb214\",\"type\":\"Label\"},{\"attributes\":{\"plot\":{\"id\":\"24f2f365-4c4b-4872-953d-f00a318dae50\",\"subtype\":\"Figure\",\"type\":\"Plot\"},\"text\":\"DTB-004\",\"text_font_size\":{\"value\":\"7pt\"},\"x\":0.961398841568041,\"y\":14.632340224679037},\"id\":\"b72e16d0-3958-44cf-a678-f32876d84656\",\"type\":\"Label\"},{\"attributes\":{\"plot\":{\"id\":\"24f2f365-4c4b-4872-953d-f00a318dae50\",\"subtype\":\"Figure\",\"type\":\"Plot\"},\"text\":\"DTB-005\",\"text_font_size\":{\"value\":\"7pt\"},\"x\":2.791217921825389,\"y\":12.916093509995187},\"id\":\"9ceba537-6189-4d1e-ba22-37b7cf3e49d6\",\"type\":\"Label\"},{\"attributes\":{\"plot\":{\"id\":\"24f2f365-4c4b-4872-953d-f00a318dae50\",\"subtype\":\"Figure\",\"type\":\"Plot\"},\"text\":\"DTB-022Pro2\",\"text_font_size\":{\"value\":\"7pt\"},\"x\":-0.46587620167787713,\"y\":13.215481952082625},\"id\":\"f84b205f-68f7-47ae-9de8-4fe7bbdf0a46\",\"type\":\"Label\"},{\"attributes\":{\"plot\":{\"id\":\"24f2f365-4c4b-4872-953d-f00a318dae50\",\"subtype\":\"Figure\",\"type\":\"Plot\"},\"text\":\"DTB-187\",\"text_font_size\":{\"value\":\"7pt\"},\"x\":2.0937528508925753,\"y\":15.892451622772839},\"id\":\"dd17cebb-2e5c-4982-b027-3a0014fd50f1\",\"type\":\"Label\"},{\"attributes\":{\"plot\":{\"id\":\"24f2f365-4c4b-4872-953d-f00a318dae50\",\"subtype\":\"Figure\",\"type\":\"Plot\"},\"text\":\"DTB-194\",\"text_font_size\":{\"value\":\"7pt\"},\"x\":-0.12641725882459998,\"y\":14.3037104842589},\"id\":\"408c9aee-077d-445b-88c5-c6315b18c56a\",\"type\":\"Label\"},{\"attributes\":{\"plot\":{\"id\":\"24f2f365-4c4b-4872-953d-f00a318dae50\",\"subtype\":\"Figure\",\"type\":\"Plot\"},\"text\":\"DTB-151\",\"text_font_size\":{\"value\":\"7pt\"},\"x\":-0.7312951493627193,\"y\":15.552961137007834},\"id\":\"a8adb584-7565-4ade-a7bf-4a8cfaad1e03\",\"type\":\"Label\"},{\"attributes\":{},\"id\":\"30a382b4-bcdc-47e9-81a5-fd743546db7f\",\"type\":\"ToolEvents\"},{\"attributes\":{\"plot\":{\"id\":\"24f2f365-4c4b-4872-953d-f00a318dae50\",\"subtype\":\"Figure\",\"type\":\"Plot\"},\"text\":\"DTB-194Pro\",\"text_font_size\":{\"value\":\"7pt\"},\"x\":-3.553566369309804,\"y\":10.86905947226612},\"id\":\"d8d66a94-f1a6-4171-90d5-51e1664aef96\",\"type\":\"Label\"},{\"attributes\":{\"plot\":{\"id\":\"24f2f365-4c4b-4872-953d-f00a318dae50\",\"subtype\":\"Figure\",\"type\":\"Plot\"},\"text\":\"DTB-174\",\"text_font_size\":{\"value\":\"7pt\"},\"x\":-4.283076310968007,\"y\":6.246217905077807},\"id\":\"2792b8ce-066b-4fa1-83c9-21212e020d5c\",\"type\":\"Label\"},{\"attributes\":{},\"id\":\"52c38e18-6c74-485f-abea-2695fa16c7cd\",\"type\":\"LinearScale\"},{\"attributes\":{\"plot\":{\"id\":\"24f2f365-4c4b-4872-953d-f00a318dae50\",\"subtype\":\"Figure\",\"type\":\"Plot\"},\"text\":\"DTB-149Pro\",\"text_font_size\":{\"value\":\"7pt\"},\"x\":-0.6354696573509686,\"y\":12.871692552622306},\"id\":\"23a59dc1-a726-48df-b034-8727da999bab\",\"type\":\"Label\"},{\"attributes\":{\"plot\":null,\"text\":\"spearman rank correlation 0.741\"},\"id\":\"8bd7b3aa-c5ee-4b26-95fb-df7f5832b466\",\"type\":\"Title\"},{\"attributes\":{\"plot\":{\"id\":\"24f2f365-4c4b-4872-953d-f00a318dae50\",\"subtype\":\"Figure\",\"type\":\"Plot\"},\"text\":\"DTB-149\",\"text_font_size\":{\"value\":\"7pt\"},\"x\":1.881800027324917,\"y\":14.66842719784764},\"id\":\"7e7d854b-1d2a-415c-87bc-93cab3cd017b\",\"type\":\"Label\"},{\"attributes\":{\"plot\":{\"id\":\"24f2f365-4c4b-4872-953d-f00a318dae50\",\"subtype\":\"Figure\",\"type\":\"Plot\"},\"text\":\"DTB-100\",\"text_font_size\":{\"value\":\"7pt\"},\"x\":1.1109568947414434,\"y\":16.226930831930925},\"id\":\"7d58d445-487f-47af-86a9-d1814362d27d\",\"type\":\"Label\"},{\"attributes\":{\"callback\":null},\"id\":\"23d70c24-2c22-4801-9725-12488207ff83\",\"type\":\"DataRange1d\"},{\"attributes\":{\"plot\":{\"id\":\"24f2f365-4c4b-4872-953d-f00a318dae50\",\"subtype\":\"Figure\",\"type\":\"Plot\"},\"text\":\"DTB-176Pro\",\"text_font_size\":{\"value\":\"7pt\"},\"x\":-3.4599673776037667,\"y\":14.184427930456375},\"id\":\"0a4c73c1-b7fb-4f37-aebd-fbfe894bfc21\",\"type\":\"Label\"},{\"attributes\":{\"fill_color\":{\"value\":\"#1f77b4\"},\"line_color\":{\"value\":\"#1f77b4\"},\"x\":{\"field\":\"x\"},\"y\":{\"field\":\"y\"}},\"id\":\"de617abb-47e2-4d6c-831e-6ef2c3aac4ec\",\"type\":\"Circle\"},{\"attributes\":{\"active_drag\":\"auto\",\"active_inspect\":\"auto\",\"active_scroll\":\"auto\",\"active_tap\":\"auto\",\"tools\":[{\"id\":\"9756939d-604e-4392-894e-4906e10d81bc\",\"type\":\"PanTool\"},{\"id\":\"cbad7cbe-52c8-4aee-8225-ec2237972578\",\"type\":\"WheelZoomTool\"},{\"id\":\"976066b2-1fae-4579-a8d8-841f01179ac5\",\"type\":\"BoxZoomTool\"},{\"id\":\"25edef07-d973-4812-aeb3-eb5b8c6b2060\",\"type\":\"SaveTool\"},{\"id\":\"815bf623-9381-4db6-a119-e70c3d5881c9\",\"type\":\"ResetTool\"},{\"id\":\"9db09410-0981-4eda-9446-7ec7bf83a845\",\"type\":\"HelpTool\"}]},\"id\":\"ab6906e6-a0e5-40ad-ab17-4e9769464e88\",\"type\":\"Toolbar\"},{\"attributes\":{\"plot\":{\"id\":\"24f2f365-4c4b-4872-953d-f00a318dae50\",\"subtype\":\"Figure\",\"type\":\"Plot\"}},\"id\":\"9756939d-604e-4392-894e-4906e10d81bc\",\"type\":\"PanTool\"},{\"attributes\":{\"axis_label\":\"Mendiratta signature score\",\"formatter\":{\"id\":\"d366172b-f0ba-4bad-a5d2-f58d86d30624\",\"type\":\"BasicTickFormatter\"},\"plot\":{\"id\":\"24f2f365-4c4b-4872-953d-f00a318dae50\",\"subtype\":\"Figure\",\"type\":\"Plot\"},\"ticker\":{\"id\":\"6e29d085-bda6-4b33-9bf7-71b9d69fcb32\",\"type\":\"BasicTicker\"}},\"id\":\"60efb516-02b7-433c-a553-c5eac4b9219c\",\"type\":\"LinearAxis\"},{\"attributes\":{\"plot\":{\"id\":\"24f2f365-4c4b-4872-953d-f00a318dae50\",\"subtype\":\"Figure\",\"type\":\"Plot\"},\"text\":\"DTB-175\",\"text_font_size\":{\"value\":\"7pt\"},\"x\":1.7201439214310643,\"y\":12.80830555780025},\"id\":\"c0dcaeb0-736d-4802-bbcf-40a5345406f8\",\"type\":\"Label\"},{\"attributes\":{\"plot\":{\"id\":\"24f2f365-4c4b-4872-953d-f00a318dae50\",\"subtype\":\"Figure\",\"type\":\"Plot\"},\"text\":\"DTB-181\",\"text_font_size\":{\"value\":\"7pt\"},\"x\":2.1477934200236612,\"y\":14.919078503753708},\"id\":\"430e8535-cfd0-4e2a-b8d1-a7b285900d75\",\"type\":\"Label\"},{\"attributes\":{\"plot\":{\"id\":\"24f2f365-4c4b-4872-953d-f00a318dae50\",\"subtype\":\"Figure\",\"type\":\"Plot\"},\"text\":\"DTB-176\",\"text_font_size\":{\"value\":\"7pt\"},\"x\":0.6841946043821355,\"y\":16.20036780915391},\"id\":\"4993f8cf-1c8a-48c8-9846-775c6ef36a58\",\"type\":\"Label\"},{\"attributes\":{\"plot\":{\"id\":\"24f2f365-4c4b-4872-953d-f00a318dae50\",\"subtype\":\"Figure\",\"type\":\"Plot\"},\"text\":\"DTB-146\",\"text_font_size\":{\"value\":\"7pt\"},\"x\":0.5307912628859488,\"y\":14.887542938024271},\"id\":\"78e35b39-701d-46b7-9817-0f7440b68d44\",\"type\":\"Label\"},{\"attributes\":{},\"id\":\"92231a2e-c946-4432-972e-22b6f865671a\",\"type\":\"BasicTicker\"},{\"attributes\":{\"axis_label\":\"UCSC-UCSF signature score\",\"formatter\":{\"id\":\"fe7f025b-f824-4ab1-bd28-e1d4de698bc9\",\"type\":\"BasicTickFormatter\"},\"plot\":{\"id\":\"24f2f365-4c4b-4872-953d-f00a318dae50\",\"subtype\":\"Figure\",\"type\":\"Plot\"},\"ticker\":{\"id\":\"92231a2e-c946-4432-972e-22b6f865671a\",\"type\":\"BasicTicker\"}},\"id\":\"e4f42917-7690-44b8-af63-43d81ffc65d2\",\"type\":\"LinearAxis\"},{\"attributes\":{\"plot\":{\"id\":\"24f2f365-4c4b-4872-953d-f00a318dae50\",\"subtype\":\"Figure\",\"type\":\"Plot\"},\"text\":\"DTB-143\",\"text_font_size\":{\"value\":\"7pt\"},\"x\":-1.011224626881889,\"y\":13.877672067991897},\"id\":\"a87640eb-5fe8-4fe9-b2af-b9f9d59059e1\",\"type\":\"Label\"},{\"attributes\":{\"plot\":{\"id\":\"24f2f365-4c4b-4872-953d-f00a318dae50\",\"subtype\":\"Figure\",\"type\":\"Plot\"},\"ticker\":{\"id\":\"92231a2e-c946-4432-972e-22b6f865671a\",\"type\":\"BasicTicker\"}},\"id\":\"78494e59-b97e-48d7-a0cb-79f605c7164c\",\"type\":\"Grid\"},{\"attributes\":{\"plot\":{\"id\":\"24f2f365-4c4b-4872-953d-f00a318dae50\",\"subtype\":\"Figure\",\"type\":\"Plot\"},\"text\":\"DTB-154\",\"text_font_size\":{\"value\":\"7pt\"},\"x\":3.620029711861773,\"y\":18.551564838658557},\"id\":\"34f3ea84-e072-42a2-becb-39d291a4a8a2\",\"type\":\"Label\"},{\"attributes\":{\"plot\":{\"id\":\"24f2f365-4c4b-4872-953d-f00a318dae50\",\"subtype\":\"Figure\",\"type\":\"Plot\"},\"text\":\"DTB-116\",\"text_font_size\":{\"value\":\"7pt\"},\"x\":2.671080334697504,\"y\":13.457831257181237},\"id\":\"b2be3333-d32c-472f-8508-1abb2a194e54\",\"type\":\"Label\"},{\"attributes\":{},\"id\":\"6e29d085-bda6-4b33-9bf7-71b9d69fcb32\",\"type\":\"BasicTicker\"},{\"attributes\":{\"plot\":{\"id\":\"24f2f365-4c4b-4872-953d-f00a318dae50\",\"subtype\":\"Figure\",\"type\":\"Plot\"},\"text\":\"DTB-137\",\"text_font_size\":{\"value\":\"7pt\"},\"x\":0.821366327525977,\"y\":16.032627606734668},\"id\":\"25ccbe6a-c4bc-4fab-b40a-caf5a41d6ec2\",\"type\":\"Label\"},{\"attributes\":{\"plot\":{\"id\":\"24f2f365-4c4b-4872-953d-f00a318dae50\",\"subtype\":\"Figure\",\"type\":\"Plot\"},\"text\":\"DTB-128\",\"text_font_size\":{\"value\":\"7pt\"},\"x\":3.591864618074079,\"y\":16.126116406950686},\"id\":\"22429052-043a-4d67-8388-8b802792576d\",\"type\":\"Label\"},{\"attributes\":{\"fill_alpha\":{\"value\":0.1},\"fill_color\":{\"value\":\"#1f77b4\"},\"line_alpha\":{\"value\":0.1},\"line_color\":{\"value\":\"#1f77b4\"},\"x\":{\"field\":\"x\"},\"y\":{\"field\":\"y\"}},\"id\":\"792caffb-1e54-4c3d-a1de-1520bfbbaf30\",\"type\":\"Circle\"},{\"attributes\":{\"dimension\":1,\"plot\":{\"id\":\"24f2f365-4c4b-4872-953d-f00a318dae50\",\"subtype\":\"Figure\",\"type\":\"Plot\"},\"ticker\":{\"id\":\"6e29d085-bda6-4b33-9bf7-71b9d69fcb32\",\"type\":\"BasicTicker\"}},\"id\":\"04fc488d-53c4-4703-a751-50c6d6da1ea9\",\"type\":\"Grid\"},{\"attributes\":{\"plot\":{\"id\":\"24f2f365-4c4b-4872-953d-f00a318dae50\",\"subtype\":\"Figure\",\"type\":\"Plot\"},\"text\":\"DTB-138\",\"text_font_size\":{\"value\":\"7pt\"},\"x\":-0.7154971517468778,\"y\":13.286238261836194},\"id\":\"1cbe1197-0e9f-479a-aab1-3574f0701302\",\"type\":\"Label\"},{\"attributes\":{\"plot\":{\"id\":\"24f2f365-4c4b-4872-953d-f00a318dae50\",\"subtype\":\"Figure\",\"type\":\"Plot\"},\"text\":\"DTB-140\",\"text_font_size\":{\"value\":\"7pt\"},\"x\":-0.455158739862924,\"y\":13.739484239290004},\"id\":\"5b4c3746-fd6e-49c1-b209-d046f5597162\",\"type\":\"Label\"},{\"attributes\":{\"plot\":{\"id\":\"24f2f365-4c4b-4872-953d-f00a318dae50\",\"subtype\":\"Figure\",\"type\":\"Plot\"},\"text\":\"DTB-141\",\"text_font_size\":{\"value\":\"7pt\"},\"x\":0.3759373601189039,\"y\":15.054332744144125},\"id\":\"f1851f08-3d3c-4a29-a1ce-0ab321a6cab0\",\"type\":\"Label\"},{\"attributes\":{\"plot\":{\"id\":\"24f2f365-4c4b-4872-953d-f00a318dae50\",\"subtype\":\"Figure\",\"type\":\"Plot\"},\"text\":\"DTB-135Pro\",\"text_font_size\":{\"value\":\"7pt\"},\"x\":-1.5733979447272728,\"y\":5.77990293912458},\"id\":\"5ead8151-7166-4d42-860b-f201b7f48450\",\"type\":\"Label\"},{\"attributes\":{},\"id\":\"d366172b-f0ba-4bad-a5d2-f58d86d30624\",\"type\":\"BasicTickFormatter\"},{\"attributes\":{\"plot\":{\"id\":\"24f2f365-4c4b-4872-953d-f00a318dae50\",\"subtype\":\"Figure\",\"type\":\"Plot\"},\"text\":\"DTB-129\",\"text_font_size\":{\"value\":\"7pt\"},\"x\":-0.6814365552067442,\"y\":14.685125222243741},\"id\":\"3256a9c0-a6a2-439d-83d8-6d05af7bcba2\",\"type\":\"Label\"},{\"attributes\":{\"bottom_units\":\"screen\",\"fill_alpha\":{\"value\":0.5},\"fill_color\":{\"value\":\"lightgrey\"},\"left_units\":\"screen\",\"level\":\"overlay\",\"line_alpha\":{\"value\":1.0},\"line_color\":{\"value\":\"black\"},\"line_dash\":[4,4],\"line_width\":{\"value\":2},\"plot\":null,\"render_mode\":\"css\",\"right_units\":\"screen\",\"top_units\":\"screen\"},\"id\":\"fcc338dc-79c1-47b5-a293-5d45f47fe51d\",\"type\":\"BoxAnnotation\"},{\"attributes\":{\"plot\":{\"id\":\"24f2f365-4c4b-4872-953d-f00a318dae50\",\"subtype\":\"Figure\",\"type\":\"Plot\"},\"text\":\"DTB-131\",\"text_font_size\":{\"value\":\"7pt\"},\"x\":-1.7393853719626258,\"y\":12.978396091869621},\"id\":\"4a7bb35e-f093-4425-91a6-7d0e81eec537\",\"type\":\"Label\"},{\"attributes\":{\"plot\":{\"id\":\"24f2f365-4c4b-4872-953d-f00a318dae50\",\"subtype\":\"Figure\",\"type\":\"Plot\"},\"text\":\"DTB-115Pro\",\"text_font_size\":{\"value\":\"7pt\"},\"x\":-0.1973027886853534,\"y\":14.673581013081247},\"id\":\"b8e9e267-9c76-4218-a362-3434ee7f82ec\",\"type\":\"Label\"},{\"attributes\":{\"plot\":{\"id\":\"24f2f365-4c4b-4872-953d-f00a318dae50\",\"subtype\":\"Figure\",\"type\":\"Plot\"},\"text\":\"DTB-120\",\"text_font_size\":{\"value\":\"7pt\"},\"x\":-3.316296457411926,\"y\":6.572533662761132},\"id\":\"8457beb9-9a94-4dc0-a9e2-d9e835cae61f\",\"type\":\"Label\"},{\"attributes\":{\"plot\":{\"id\":\"24f2f365-4c4b-4872-953d-f00a318dae50\",\"subtype\":\"Figure\",\"type\":\"Plot\"},\"text\":\"DTB-127\",\"text_font_size\":{\"value\":\"7pt\"},\"x\":1.1444413012993178,\"y\":14.808886036998533},\"id\":\"1e968ea9-3c8a-49ad-9e0d-0273ddf354e4\",\"type\":\"Label\"},{\"attributes\":{\"plot\":{\"id\":\"24f2f365-4c4b-4872-953d-f00a318dae50\",\"subtype\":\"Figure\",\"type\":\"Plot\"},\"text\":\"DTB-137Pro\",\"text_font_size\":{\"value\":\"7pt\"},\"x\":-1.3878602985001105,\"y\":13.490275681939837},\"id\":\"33194262-9a75-4318-848e-c77243f3cea3\",\"type\":\"Label\"},{\"attributes\":{\"plot\":{\"id\":\"24f2f365-4c4b-4872-953d-f00a318dae50\",\"subtype\":\"Figure\",\"type\":\"Plot\"},\"text\":\"DTB-104\",\"text_font_size\":{\"value\":\"7pt\"},\"x\":-2.5730853141317405,\"y\":12.591557444884959},\"id\":\"0a43d693-a796-4830-b2ce-1e6667c95bd9\",\"type\":\"Label\"},{\"attributes\":{\"plot\":{\"id\":\"24f2f365-4c4b-4872-953d-f00a318dae50\",\"subtype\":\"Figure\",\"type\":\"Plot\"}},\"id\":\"815bf623-9381-4db6-a119-e70c3d5881c9\",\"type\":\"ResetTool\"},{\"attributes\":{\"plot\":{\"id\":\"24f2f365-4c4b-4872-953d-f00a318dae50\",\"subtype\":\"Figure\",\"type\":\"Plot\"},\"text\":\"DTB-141Pro\",\"text_font_size\":{\"value\":\"7pt\"},\"x\":-2.569728561181705,\"y\":12.271083348904764},\"id\":\"a686f461-5a0a-4a68-8792-0d9b270eb791\",\"type\":\"Label\"},{\"attributes\":{\"plot\":{\"id\":\"24f2f365-4c4b-4872-953d-f00a318dae50\",\"subtype\":\"Figure\",\"type\":\"Plot\"},\"text\":\"DTB-127Pro\",\"text_font_size\":{\"value\":\"7pt\"},\"x\":-1.1383190468543751,\"y\":14.35343127610306},\"id\":\"85e56cdd-e116-4872-b081-9a140cee61e5\",\"type\":\"Label\"},{\"attributes\":{\"plot\":{\"id\":\"24f2f365-4c4b-4872-953d-f00a318dae50\",\"subtype\":\"Figure\",\"type\":\"Plot\"},\"text\":\"DTB-111Pro\",\"text_font_size\":{\"value\":\"7pt\"},\"x\":2.2374147658497674,\"y\":15.850890821211888},\"id\":\"227d1dd3-c083-4340-8083-0e2d62e7d8eb\",\"type\":\"Label\"},{\"attributes\":{\"plot\":{\"id\":\"24f2f365-4c4b-4872-953d-f00a318dae50\",\"subtype\":\"Figure\",\"type\":\"Plot\"}},\"id\":\"25edef07-d973-4812-aeb3-eb5b8c6b2060\",\"type\":\"SaveTool\"},{\"attributes\":{\"overlay\":{\"id\":\"fcc338dc-79c1-47b5-a293-5d45f47fe51d\",\"type\":\"BoxAnnotation\"},\"plot\":{\"id\":\"24f2f365-4c4b-4872-953d-f00a318dae50\",\"subtype\":\"Figure\",\"type\":\"Plot\"}},\"id\":\"976066b2-1fae-4579-a8d8-841f01179ac5\",\"type\":\"BoxZoomTool\"},{\"attributes\":{\"plot\":{\"id\":\"24f2f365-4c4b-4872-953d-f00a318dae50\",\"subtype\":\"Figure\",\"type\":\"Plot\"},\"text\":\"DTB-109\",\"text_font_size\":{\"value\":\"7pt\"},\"x\":-1.8850654126358732,\"y\":12.009127647095562},\"id\":\"52d44560-b8e9-4bf7-bc5b-87fa5ec5397f\",\"type\":\"Label\"},{\"attributes\":{\"plot\":{\"id\":\"24f2f365-4c4b-4872-953d-f00a318dae50\",\"subtype\":\"Figure\",\"type\":\"Plot\"}},\"id\":\"cbad7cbe-52c8-4aee-8225-ec2237972578\",\"type\":\"WheelZoomTool\"},{\"attributes\":{\"plot\":{\"id\":\"24f2f365-4c4b-4872-953d-f00a318dae50\",\"subtype\":\"Figure\",\"type\":\"Plot\"},\"text\":\"DTB-110\",\"text_font_size\":{\"value\":\"7pt\"},\"x\":-3.852097269788528,\"y\":6.534052065155908},\"id\":\"3accbcbc-813f-416d-9c17-3e6ff07c9a3a\",\"type\":\"Label\"},{\"attributes\":{\"plot\":{\"id\":\"24f2f365-4c4b-4872-953d-f00a318dae50\",\"subtype\":\"Figure\",\"type\":\"Plot\"},\"text\":\"DTB-159\",\"text_font_size\":{\"value\":\"7pt\"},\"x\":-2.880043643749147,\"y\":8.724536842193281},\"id\":\"61a317f8-364a-403c-a2fc-3144ef2c664e\",\"type\":\"Label\"},{\"attributes\":{\"plot\":{\"id\":\"24f2f365-4c4b-4872-953d-f00a318dae50\",\"subtype\":\"Figure\",\"type\":\"Plot\"},\"text\":\"DTB-111\",\"text_font_size\":{\"value\":\"7pt\"},\"x\":-2.3288889101161034,\"y\":12.20292868609712},\"id\":\"fe216c99-1796-42b2-82f4-28f691d5031c\",\"type\":\"Label\"},{\"attributes\":{\"plot\":{\"id\":\"24f2f365-4c4b-4872-953d-f00a318dae50\",\"subtype\":\"Figure\",\"type\":\"Plot\"},\"text\":\"DTB-135\",\"text_font_size\":{\"value\":\"7pt\"},\"x\":0.48091493026124654,\"y\":13.350751231051248},\"id\":\"93936279-d603-43fb-ad4a-ba222c3c60b8\",\"type\":\"Label\"},{\"attributes\":{\"plot\":{\"id\":\"24f2f365-4c4b-4872-953d-f00a318dae50\",\"subtype\":\"Figure\",\"type\":\"Plot\"},\"text\":\"DTB-102Pro\",\"text_font_size\":{\"value\":\"7pt\"},\"x\":0.7102704462248055,\"y\":12.657693974635073},\"id\":\"b16935ae-7e5d-48c7-b792-608be5c7903e\",\"type\":\"Label\"},{\"attributes\":{\"plot\":{\"id\":\"24f2f365-4c4b-4872-953d-f00a318dae50\",\"subtype\":\"Figure\",\"type\":\"Plot\"},\"text\":\"DTB-001\",\"text_font_size\":{\"value\":\"7pt\"},\"x\":0.1613479853807207,\"y\":11.552995894762427},\"id\":\"30daabc8-7471-4941-ac9e-47e17e6b5c0a\",\"type\":\"Label\"},{\"attributes\":{\"plot\":{\"id\":\"24f2f365-4c4b-4872-953d-f00a318dae50\",\"subtype\":\"Figure\",\"type\":\"Plot\"}},\"id\":\"9db09410-0981-4eda-9446-7ec7bf83a845\",\"type\":\"HelpTool\"}],\"root_ids\":[\"24f2f365-4c4b-4872-953d-f00a318dae50\"]},\"title\":\"Bokeh Application\",\"version\":\"0.12.6\"}};\n",
       "            var render_items = [{\"docid\":\"16b851f0-e409-4ceb-ad74-aa2a63fe7ec0\",\"elementid\":\"b5f925e1-6521-482a-bf7c-77f2026b50b6\",\"modelid\":\"24f2f365-4c4b-4872-953d-f00a318dae50\"}];\n",
       "            \n",
       "            Bokeh.embed.embed_items(docs_json, render_items);\n",
       "          };\n",
       "          if (document.readyState != \"loading\") fn();\n",
       "          else document.addEventListener(\"DOMContentLoaded\", fn);\n",
       "        })();\n",
       "      },\n",
       "      function(Bokeh) {\n",
       "      }\n",
       "    ];\n",
       "  \n",
       "    function run_inline_js() {\n",
       "      \n",
       "      if ((window.Bokeh !== undefined) || (force === true)) {\n",
       "        for (var i = 0; i < inline_js.length; i++) {\n",
       "          inline_js[i](window.Bokeh);\n",
       "        }if (force === true) {\n",
       "          display_loaded();\n",
       "        }} else if (Date.now() < window._bokeh_timeout) {\n",
       "        setTimeout(run_inline_js, 100);\n",
       "      } else if (!window._bokeh_failed_load) {\n",
       "        console.log(\"Bokeh: BokehJS failed to load within specified timeout.\");\n",
       "        window._bokeh_failed_load = true;\n",
       "      } else if (force !== true) {\n",
       "        var cell = $(document.getElementById(\"b5f925e1-6521-482a-bf7c-77f2026b50b6\")).parents('.cell').data().cell;\n",
       "        cell.output_area.append_execute_result(NB_LOAD_WARNING)\n",
       "      }\n",
       "  \n",
       "    }\n",
       "  \n",
       "    if (window._bokeh_is_loading === 0) {\n",
       "      console.log(\"Bokeh: BokehJS loaded, going straight to plotting\");\n",
       "      run_inline_js();\n",
       "    } else {\n",
       "      load_libs(js_urls, function() {\n",
       "        console.log(\"Bokeh: BokehJS plotting callback run at\", now());\n",
       "        run_inline_js();\n",
       "      });\n",
       "    }\n",
       "  }(this));\n",
       "</script>"
      ]
     },
     "metadata": {},
     "output_type": "display_data"
    }
   ],
   "source": [
    "sig_score = pd.DataFrame(index=WCDT_df.index)\n",
    "\n",
    "for sig in [UC_df, febbo_df]:\n",
    "    common_genes = sorted(list(set(WCDT_df.columns).intersection(sig.index)))\n",
    "    samples = WCDT_df[common_genes]\n",
    "    signatures = sig.loc[common_genes]\n",
    "    sig_score[sig.columns[0]] = np.matmul(samples.as_matrix(), signatures.as_matrix())\n",
    "\n",
    "\n",
    "# correlation of sample scores\n",
    "p = bokeh.plotting.figure(title=\"spearman rank correlation %.3f\" %stats.spearmanr(\n",
    "    sig_score[\"UC signature\"], sig_score[\"Mendiratta signature\"])[0])\n",
    "p.scatter(sig_score[\"UC signature\"], sig_score[\"Mendiratta signature\"])\n",
    "p.xaxis.axis_label = \"UCSC-UCSF signature score\"\n",
    "p.yaxis.axis_label = \"Mendiratta signature score\"\n",
    "for index, row in sig_score.iterrows():\n",
    "    text = Label(x=row[\"UC signature\"], y=row[\"Mendiratta signature\"], \n",
    "                 text=str(index), text_font_size=\"7pt\")\n",
    "    p.add_layout(text)\n",
    "\n",
    "show(p)"
   ]
  },
  {
   "cell_type": "markdown",
   "metadata": {},
   "source": [
    "## 3. Leave-pair-out Cross Validation "
   ]
  },
  {
   "cell_type": "code",
   "execution_count": 35,
   "metadata": {
    "collapsed": false
   },
   "outputs": [
    {
     "name": "stdout",
     "output_type": "stream",
     "text": [
      "..................................................................................................................................................................................................................................................................................................................................................................................................................................1.0\n"
     ]
    }
   ],
   "source": [
    "classifiers = {#\"Enet\": linear_model.ElasticNet(alpha=0.1, l1_ratio=0.001),\n",
    "               \"Logistic Regression\": linear_model.LogisticRegression(), \n",
    "               #\"Lasso\": linear_model.Lasso(alpha=0.01), \n",
    "               #\"Ridge Regression\": linear_model.Ridge(),\n",
    "               #\"KernelRidge\": kernel_ridge.KernelRidge()\n",
    "              }\n",
    "print(helper.leave_pair_out_cv(X, Y, classifiers[\"Logistic Regression\"]))"
   ]
  },
  {
   "cell_type": "markdown",
   "metadata": {},
   "source": [
    "## 4. Apply AR signature to WCDT samples"
   ]
  },
  {
   "cell_type": "markdown",
   "metadata": {},
   "source": [
    "### 4.1 Compare AR score before and after Enza treatment"
   ]
  },
  {
   "cell_type": "code",
   "execution_count": 39,
   "metadata": {
    "collapsed": false,
    "scrolled": false
   },
   "outputs": [
    {
     "name": "stdout",
     "output_type": "stream",
     "text": [
      "              Pre      Post  Post-Pre\n",
      "Sample                               \n",
      "DTB-080  0.152039  -7.66491  -7.81695\n",
      "DTB-063  0.500091  -4.43158  -4.93167\n",
      "DTB-176  0.684195  -3.45997  -4.14416\n",
      "DTB-194 -0.126417  -3.55357  -3.42715\n",
      "DTB-141  0.375937  -2.56973  -2.94567\n",
      "DTB-149    1.8818  -0.63547  -2.51727\n",
      "DTB-127   1.14444  -1.13832  -2.28276\n",
      "DTB-137  0.821366  -1.38786  -2.20923\n",
      "DTB-135  0.480915   -1.5734  -2.05431\n",
      "DTB-060   4.69503   3.56131  -1.13372\n",
      "DTB-024 -0.420169  -1.06728  -0.64711\n",
      "DTB-022 -0.791519 -0.465876  0.325643\n",
      "DTB-102  0.366787   0.71027  0.343484\n",
      "DTB-073  -1.16706   1.45319   2.62025\n",
      "DTB-089   -3.2217   1.31301   4.53471\n",
      "DTB-111  -2.32889   2.23741    4.5663\n"
     ]
    },
    {
     "data": {
      "image/png": "[encoded data removed]",
      "text/plain": [
       "<matplotlib.figure.Figure at 0x105286828>"
      ]
     },
     "metadata": {},
     "output_type": "display_data"
    }
   ],
   "source": [
    "def extract_sample_name(name):\n",
    "    if name.endswith(\"Pro\"):\n",
    "        return name[:-3]\n",
    "    elif name.endswith(\"Pro2\"):\n",
    "        return name[:-4]\n",
    "    else:\n",
    "        assert(name[-1] in \"0123456789\")\n",
    "        return name\n",
    "\n",
    "assert(list(UC_df.index) == list(WCDT_df.columns))\n",
    "WCDT_AR_scores = np.matmul(WCDT_df, UC_df[\"UC signature\"])\n",
    "WCDT_score_df = pd.DataFrame(WCDT_AR_scores, index=WCDT_df.index, columns=[\"score\"])\n",
    "sample_pair = pd.read_csv(\"data/WCDT_paired_samples.tab\", delimiter=\"\\t\", index_col=\"Sample\")\n",
    "WCDT_score_df = WCDT_score_df[WCDT_score_df.index.isin(sample_pair.index)]\n",
    "assert(sorted(list(sample_pair.index))==sorted(list(WCDT_score_df.index)))\n",
    "sample_pair_dict = dict(zip(sample_pair.index, sample_pair['TimePoint']))\n",
    "WCDT_plot_df = pd.DataFrame(columns=[\"Pre\", \"Post\"])\n",
    "for index, row in WCDT_score_df.iterrows():\n",
    "    sample_name = extract_sample_name(index)\n",
    "    sample_type = sample_pair_dict[index]\n",
    "    WCDT_plot_df.set_value(sample_name, sample_type, row.score)\n",
    "\n",
    "WCDT_plot_df[\"Post-Pre\"] = WCDT_plot_df[\"Post\"] - WCDT_plot_df[\"Pre\"]\n",
    "WCDT_plot_df.sort_values(by=\"Post-Pre\", inplace=True)\n",
    "WCDT_plot_df.index.rename(\"Sample\", inplace=True)\n",
    "print(WCDT_plot_df)\n",
    "\n",
    "matplotlib.rcParams[\"font.size\"] = 10.8\n",
    "figure, ax = plt.subplots()\n",
    "WCDT_plot_df.plot.bar(y=\"Post-Pre\", figsize=(7,5), ax=ax, legend=None)\n",
    "ax.set_ylabel(\"AR score post - pre\")\n",
    "ax.set_title(\"AR score difference (post-pre enza treatment)\")\n",
    "plt.gcf().subplots_adjust(bottom=0.25)\n",
    "figure.savefig(\"./results/plots/AR_plot.png\", dpi=300, figsize=(8,5))"
   ]
  },
  {
   "cell_type": "markdown",
   "metadata": {},
   "source": [
    "### 4.2 Compare AR scores of WCDT samples using two signatures"
   ]
  },
  {
   "cell_type": "code",
   "execution_count": 33,
   "metadata": {
    "collapsed": false
   },
   "outputs": [],
   "source": [
    "sig_score = sig_score[sig_score.index.isin(sample_pair.index)]\n",
    "assert(sorted(list(sample_pair.index))==sorted(list(sig_score.index)))\n",
    "sample_pair_dict = dict(zip(sample_pair.index, sample_pair['TimePoint']))\n",
    "\n",
    "WCDT_plot_df = pd.DataFrame()\n",
    "for sig_type in [\"UC signature\", \"Mendiratta signature\"]:\n",
    "    for index, row in sig_score.iterrows():\n",
    "        sample_name = extract_sample_name(index)\n",
    "        sample_type = sample_pair_dict[index]\n",
    "        WCDT_plot_df.set_value(sample_name, sample_type + sig_type, row[sig_type])\n",
    "    WCDT_plot_df[\"Post-Pre \"+sig_type] = (WCDT_plot_df[\"Post\"+sig_type] - \n",
    "                                          WCDT_plot_df[\"Pre\"+sig_type])"
   ]
  },
  {
   "cell_type": "code",
   "execution_count": 38,
   "metadata": {
    "collapsed": false
   },
   "outputs": [
    {
     "name": "stdout",
     "output_type": "stream",
     "text": [
      "0.741176470588 0.00101846954957\n"
     ]
    },
    {
     "data": {
      "text/html": [
       "\n",
       "\n",
       "    <div class=\"bk-root\">\n",
       "        <div class=\"bk-plotdiv\" id=\"3cad8128-df44-4097-93f8-2dd86c4096f4\"></div>\n",
       "    </div>\n",
       "<script type=\"text/javascript\">\n",
       "  \n",
       "  (function(global) {\n",
       "    function now() {\n",
       "      return new Date();\n",
       "    }\n",
       "  \n",
       "    var force = false;\n",
       "  \n",
       "    if (typeof (window._bokeh_onload_callbacks) === \"undefined\" || force === true) {\n",
       "      window._bokeh_onload_callbacks = [];\n",
       "      window._bokeh_is_loading = undefined;\n",
       "    }\n",
       "  \n",
       "  \n",
       "    \n",
       "    if (typeof (window._bokeh_timeout) === \"undefined\" || force === true) {\n",
       "      window._bokeh_timeout = Date.now() + 0;\n",
       "      window._bokeh_failed_load = false;\n",
       "    }\n",
       "  \n",
       "    var NB_LOAD_WARNING = {'data': {'text/html':\n",
       "       \"<div style='background-color: #fdd'>\\n\"+\n",
       "       \"<p>\\n\"+\n",
       "       \"BokehJS does not appear to have successfully loaded. If loading BokehJS from CDN, this \\n\"+\n",
       "       \"may be due to a slow or bad network connection. Possible fixes:\\n\"+\n",
       "       \"</p>\\n\"+\n",
       "       \"<ul>\\n\"+\n",
       "       \"<li>re-rerun `output_notebook()` to attempt to load from CDN again, or</li>\\n\"+\n",
       "       \"<li>use INLINE resources instead, as so:</li>\\n\"+\n",
       "       \"</ul>\\n\"+\n",
       "       \"<code>\\n\"+\n",
       "       \"from bokeh.resources import INLINE\\n\"+\n",
       "       \"output_notebook(resources=INLINE)\\n\"+\n",
       "       \"</code>\\n\"+\n",
       "       \"</div>\"}};\n",
       "  \n",
       "    function display_loaded() {\n",
       "      if (window.Bokeh !== undefined) {\n",
       "        var el = document.getElementById(\"3cad8128-df44-4097-93f8-2dd86c4096f4\");\n",
       "        el.textContent = \"BokehJS \" + Bokeh.version + \" successfully loaded.\";\n",
       "      } else if (Date.now() < window._bokeh_timeout) {\n",
       "        setTimeout(display_loaded, 100)\n",
       "      }\n",
       "    }\n",
       "  \n",
       "    function run_callbacks() {\n",
       "      try {\n",
       "        window._bokeh_onload_callbacks.forEach(function(callback) { callback() });\n",
       "      }\n",
       "      finally {\n",
       "        delete window._bokeh_onload_callbacks\n",
       "      }\n",
       "      console.info(\"Bokeh: all callbacks have finished\");\n",
       "    }\n",
       "  \n",
       "    function load_libs(js_urls, callback) {\n",
       "      window._bokeh_onload_callbacks.push(callback);\n",
       "      if (window._bokeh_is_loading > 0) {\n",
       "        console.log(\"Bokeh: BokehJS is being loaded, scheduling callback at\", now());\n",
       "        return null;\n",
       "      }\n",
       "      if (js_urls == null || js_urls.length === 0) {\n",
       "        run_callbacks();\n",
       "        return null;\n",
       "      }\n",
       "      console.log(\"Bokeh: BokehJS not loaded, scheduling load and callback at\", now());\n",
       "      window._bokeh_is_loading = js_urls.length;\n",
       "      for (var i = 0; i < js_urls.length; i++) {\n",
       "        var url = js_urls[i];\n",
       "        var s = document.createElement('script');\n",
       "        s.src = url;\n",
       "        s.async = false;\n",
       "        s.onreadystatechange = s.onload = function() {\n",
       "          window._bokeh_is_loading--;\n",
       "          if (window._bokeh_is_loading === 0) {\n",
       "            console.log(\"Bokeh: all BokehJS libraries loaded\");\n",
       "            run_callbacks()\n",
       "          }\n",
       "        };\n",
       "        s.onerror = function() {\n",
       "          console.warn(\"failed to load library \" + url);\n",
       "        };\n",
       "        console.log(\"Bokeh: injecting script tag for BokehJS library: \", url);\n",
       "        document.getElementsByTagName(\"head\")[0].appendChild(s);\n",
       "      }\n",
       "    };var element = document.getElementById(\"3cad8128-df44-4097-93f8-2dd86c4096f4\");\n",
       "    if (element == null) {\n",
       "      console.log(\"Bokeh: ERROR: autoload.js configured with elementid '3cad8128-df44-4097-93f8-2dd86c4096f4' but no matching script tag was found. \")\n",
       "      return false;\n",
       "    }\n",
       "  \n",
       "    var js_urls = [];\n",
       "  \n",
       "    var inline_js = [\n",
       "      function(Bokeh) {\n",
       "        (function() {\n",
       "          var fn = function() {\n",
       "            var docs_json = {\"4aab2a6c-1947-4452-818a-f1b28ebfa594\":{\"roots\":{\"references\":[{\"attributes\":{},\"id\":\"bfd57c5b-b5b6-40e6-aeef-a4c20071df45\",\"type\":\"BasicTicker\"},{\"attributes\":{\"plot\":{\"id\":\"67e849f2-45ec-4265-8790-c494aedd415f\",\"subtype\":\"Figure\",\"type\":\"Plot\"}},\"id\":\"92f2fcc7-f47d-4ea5-9441-843eb42dc8cd\",\"type\":\"ResizeTool\"},{\"attributes\":{\"below\":[{\"id\":\"9420947f-8c1a-41e5-83fe-00cc5ea5fb8c\",\"type\":\"LinearAxis\"}],\"left\":[{\"id\":\"bf95db78-4fee-4374-9fce-3b77a0b0e56e\",\"type\":\"LinearAxis\"}],\"renderers\":[{\"id\":\"9420947f-8c1a-41e5-83fe-00cc5ea5fb8c\",\"type\":\"LinearAxis\"},{\"id\":\"572edbdf-6c25-48fa-97cd-8c69c282cbea\",\"type\":\"Grid\"},{\"id\":\"bf95db78-4fee-4374-9fce-3b77a0b0e56e\",\"type\":\"LinearAxis\"},{\"id\":\"ba3294cb-3954-4be5-8d0e-b5454b5980d4\",\"type\":\"Grid\"},{\"id\":\"c4e0a1c1-f38d-4dd3-91a1-2be31fb6beed\",\"type\":\"BoxAnnotation\"},{\"id\":\"a08d551b-a9ad-4201-a513-ebdc88bfafdb\",\"type\":\"GlyphRenderer\"},{\"id\":\"e3d12c13-7c03-4b15-8d0b-6af634ae3b13\",\"type\":\"Label\"},{\"id\":\"3a418e32-9572-41c9-8ece-8f83194efb48\",\"type\":\"Label\"},{\"id\":\"51446b76-7cbc-461b-864c-1053aec660e9\",\"type\":\"Label\"},{\"id\":\"a5e9c6be-3705-4545-9596-7ad706f5a979\",\"type\":\"Label\"},{\"id\":\"273c0e43-8b4f-49f7-be37-aad5b8065b5f\",\"type\":\"Label\"},{\"id\":\"1dbe5a32-352f-4432-a770-cb31e1d54a6c\",\"type\":\"Label\"},{\"id\":\"9271ce00-1012-4650-b10c-946f1f8a5116\",\"type\":\"Label\"},{\"id\":\"58c12cc0-abb1-41fc-947b-0e8c12794eaf\",\"type\":\"Label\"},{\"id\":\"88ce4e91-5fdc-4b6d-ac47-d2582c28a1d5\",\"type\":\"Label\"},{\"id\":\"c22e1ff2-20f4-4103-840b-9e2bfd91460c\",\"type\":\"Label\"},{\"id\":\"5dc39849-90bf-40e9-b6dd-29bf8101a2c6\",\"type\":\"Label\"},{\"id\":\"b1518825-3541-4683-97b3-4f15f640f8d1\",\"type\":\"Label\"},{\"id\":\"082c6dd8-92f7-417b-b8ee-1f4bc948dcc9\",\"type\":\"Label\"},{\"id\":\"ac2f6fb6-db31-4e33-a5a6-390f64671fcf\",\"type\":\"Label\"},{\"id\":\"14c3c1ea-c561-430f-8ba4-5d80a5d65149\",\"type\":\"Label\"},{\"id\":\"7f8618a4-fb49-4a96-92cf-ede2baeefa6c\",\"type\":\"Label\"}],\"title\":{\"id\":\"4c34fc03-418b-4aa6-8fae-71e6bbb16ba3\",\"type\":\"Title\"},\"tool_events\":{\"id\":\"b766e804-a274-474b-8a4d-cee0191d726c\",\"type\":\"ToolEvents\"},\"toolbar\":{\"id\":\"30349e3a-f737-4268-9a79-5ca0fc77cb36\",\"type\":\"Toolbar\"},\"x_range\":{\"id\":\"135a0510-e32a-43a3-9405-adf0d993142f\",\"type\":\"DataRange1d\"},\"x_scale\":{\"id\":\"73a4cf10-619f-4b2a-a6ed-659d37aa4753\",\"type\":\"LinearScale\"},\"y_range\":{\"id\":\"d6325cf9-dfc4-4784-a773-1f147e4d0157\",\"type\":\"DataRange1d\"},\"y_scale\":{\"id\":\"565ac6eb-9327-4fed-97b0-51ac9ec82264\",\"type\":\"LinearScale\"}},\"id\":\"67e849f2-45ec-4265-8790-c494aedd415f\",\"subtype\":\"Figure\",\"type\":\"Plot\"},{\"attributes\":{\"plot\":{\"id\":\"67e849f2-45ec-4265-8790-c494aedd415f\",\"subtype\":\"Figure\",\"type\":\"Plot\"},\"text\":\"DTB-137\",\"text_font_size\":{\"value\":\"9pt\"},\"x\":-2.2092266260260875,\"y\":-2.542351924794831},\"id\":\"3a418e32-9572-41c9-8ece-8f83194efb48\",\"type\":\"Label\"},{\"attributes\":{\"plot\":{\"id\":\"67e849f2-45ec-4265-8790-c494aedd415f\",\"subtype\":\"Figure\",\"type\":\"Plot\"},\"text\":\"DTB-073\",\"text_font_size\":{\"value\":\"9pt\"},\"x\":2.620252590314263,\"y\":0.05720251947531274},\"id\":\"9271ce00-1012-4650-b10c-946f1f8a5116\",\"type\":\"Label\"},{\"attributes\":{\"axis_label\":\"Mendiratta signature score difference\",\"formatter\":{\"id\":\"750fb641-a2e3-4a2f-a4a1-4d7956636f23\",\"type\":\"BasicTickFormatter\"},\"plot\":{\"id\":\"67e849f2-45ec-4265-8790-c494aedd415f\",\"subtype\":\"Figure\",\"type\":\"Plot\"},\"ticker\":{\"id\":\"bfd57c5b-b5b6-40e6-aeef-a4c20071df45\",\"type\":\"BasicTicker\"}},\"id\":\"bf95db78-4fee-4374-9fce-3b77a0b0e56e\",\"type\":\"LinearAxis\"},{\"attributes\":{\"callback\":null,\"column_names\":[\"x\",\"y\"],\"data\":{\"x\":[-2.945665921300609,-2.2092266260260875,-2.0543128749885193,0.34348386468848746,4.534709212580662,-7.81694588072054,2.620252590314263,-4.931672147562052,-1.1337179578751115,-0.647110470106671,0.32564254919228686,-2.5172696846758855,-3.427149110485204,-4.144161981985902,-2.282760348153693,4.566303675965871],\"y\":[-2.783249395239361,-2.542351924794831,-7.570848291926668,-2.0316750742281915,2.3424382504969135,-9.933562870425877,0.05720251947531274,-2.4289507961841146,0.047124397290915,-0.11119561010342593,-0.9650604272421077,-1.7967346452253334,-3.4346510119927807,-2.0159398786975355,-0.4554547608954742,3.647962135114767]}},\"id\":\"e7754c72-f0cc-4441-a571-9010db42a973\",\"type\":\"ColumnDataSource\"},{\"attributes\":{\"data_source\":{\"id\":\"e7754c72-f0cc-4441-a571-9010db42a973\",\"type\":\"ColumnDataSource\"},\"glyph\":{\"id\":\"cf294ce6-5df5-422d-b07e-1f16c7162599\",\"type\":\"Circle\"},\"hover_glyph\":null,\"muted_glyph\":null,\"nonselection_glyph\":{\"id\":\"849e561d-684a-41d0-8150-c1600df3d982\",\"type\":\"Circle\"},\"selection_glyph\":null},\"id\":\"a08d551b-a9ad-4201-a513-ebdc88bfafdb\",\"type\":\"GlyphRenderer\"},{\"attributes\":{\"plot\":{\"id\":\"67e849f2-45ec-4265-8790-c494aedd415f\",\"subtype\":\"Figure\",\"type\":\"Plot\"},\"ticker\":{\"id\":\"fa9d8415-50aa-42ce-bee8-16113d5bcba8\",\"type\":\"BasicTicker\"}},\"id\":\"572edbdf-6c25-48fa-97cd-8c69c282cbea\",\"type\":\"Grid\"},{\"attributes\":{\"plot\":{\"id\":\"67e849f2-45ec-4265-8790-c494aedd415f\",\"subtype\":\"Figure\",\"type\":\"Plot\"},\"text\":\"DTB-080\",\"text_font_size\":{\"value\":\"9pt\"},\"x\":-7.81694588072054,\"y\":-9.933562870425877},\"id\":\"1dbe5a32-352f-4432-a770-cb31e1d54a6c\",\"type\":\"Label\"},{\"attributes\":{\"plot\":{\"id\":\"67e849f2-45ec-4265-8790-c494aedd415f\",\"subtype\":\"Figure\",\"type\":\"Plot\"},\"text\":\"DTB-063\",\"text_font_size\":{\"value\":\"9pt\"},\"x\":-4.931672147562052,\"y\":-2.4289507961841146},\"id\":\"58c12cc0-abb1-41fc-947b-0e8c12794eaf\",\"type\":\"Label\"},{\"attributes\":{},\"id\":\"565ac6eb-9327-4fed-97b0-51ac9ec82264\",\"type\":\"LinearScale\"},{\"attributes\":{\"bottom_units\":\"screen\",\"fill_alpha\":{\"value\":0.5},\"fill_color\":{\"value\":\"lightgrey\"},\"left_units\":\"screen\",\"level\":\"overlay\",\"line_alpha\":{\"value\":1.0},\"line_color\":{\"value\":\"black\"},\"line_dash\":[4,4],\"line_width\":{\"value\":2},\"plot\":null,\"render_mode\":\"css\",\"right_units\":\"screen\",\"top_units\":\"screen\"},\"id\":\"c4e0a1c1-f38d-4dd3-91a1-2be31fb6beed\",\"type\":\"BoxAnnotation\"},{\"attributes\":{\"fill_color\":{\"value\":\"#1f77b4\"},\"line_color\":{\"value\":\"#1f77b4\"},\"x\":{\"field\":\"x\"},\"y\":{\"field\":\"y\"}},\"id\":\"cf294ce6-5df5-422d-b07e-1f16c7162599\",\"type\":\"Circle\"},{\"attributes\":{\"axis_label\":\"WCDT signature score difference\",\"formatter\":{\"id\":\"4fc15e18-bdef-486b-b5a1-1b91066e61e6\",\"type\":\"BasicTickFormatter\"},\"plot\":{\"id\":\"67e849f2-45ec-4265-8790-c494aedd415f\",\"subtype\":\"Figure\",\"type\":\"Plot\"},\"ticker\":{\"id\":\"fa9d8415-50aa-42ce-bee8-16113d5bcba8\",\"type\":\"BasicTicker\"}},\"id\":\"9420947f-8c1a-41e5-83fe-00cc5ea5fb8c\",\"type\":\"LinearAxis\"},{\"attributes\":{\"plot\":{\"id\":\"67e849f2-45ec-4265-8790-c494aedd415f\",\"subtype\":\"Figure\",\"type\":\"Plot\"}},\"id\":\"7f9b056d-28d3-488b-b268-e6f680358480\",\"type\":\"ResetTool\"},{\"attributes\":{\"dimension\":1,\"plot\":{\"id\":\"67e849f2-45ec-4265-8790-c494aedd415f\",\"subtype\":\"Figure\",\"type\":\"Plot\"},\"ticker\":{\"id\":\"bfd57c5b-b5b6-40e6-aeef-a4c20071df45\",\"type\":\"BasicTicker\"}},\"id\":\"ba3294cb-3954-4be5-8d0e-b5454b5980d4\",\"type\":\"Grid\"},{\"attributes\":{\"plot\":{\"id\":\"67e849f2-45ec-4265-8790-c494aedd415f\",\"subtype\":\"Figure\",\"type\":\"Plot\"},\"text\":\"DTB-022\",\"text_font_size\":{\"value\":\"9pt\"},\"x\":0.32564254919228686,\"y\":-0.9650604272421077},\"id\":\"5dc39849-90bf-40e9-b6dd-29bf8101a2c6\",\"type\":\"Label\"},{\"attributes\":{\"fill_alpha\":{\"value\":0.1},\"fill_color\":{\"value\":\"#1f77b4\"},\"line_alpha\":{\"value\":0.1},\"line_color\":{\"value\":\"#1f77b4\"},\"x\":{\"field\":\"x\"},\"y\":{\"field\":\"y\"}},\"id\":\"849e561d-684a-41d0-8150-c1600df3d982\",\"type\":\"Circle\"},{\"attributes\":{\"plot\":{\"id\":\"67e849f2-45ec-4265-8790-c494aedd415f\",\"subtype\":\"Figure\",\"type\":\"Plot\"},\"text\":\"DTB-102\",\"text_font_size\":{\"value\":\"9pt\"},\"x\":0.34348386468848746,\"y\":-2.0316750742281915},\"id\":\"a5e9c6be-3705-4545-9596-7ad706f5a979\",\"type\":\"Label\"},{\"attributes\":{\"plot\":{\"id\":\"67e849f2-45ec-4265-8790-c494aedd415f\",\"subtype\":\"Figure\",\"type\":\"Plot\"}},\"id\":\"6441da50-f445-41dc-8205-cef6c38777ee\",\"type\":\"ZoomOutTool\"},{\"attributes\":{},\"id\":\"fa9d8415-50aa-42ce-bee8-16113d5bcba8\",\"type\":\"BasicTicker\"},{\"attributes\":{\"plot\":{\"id\":\"67e849f2-45ec-4265-8790-c494aedd415f\",\"subtype\":\"Figure\",\"type\":\"Plot\"},\"text\":\"DTB-194\",\"text_font_size\":{\"value\":\"9pt\"},\"x\":-3.427149110485204,\"y\":-3.4346510119927807},\"id\":\"082c6dd8-92f7-417b-b8ee-1f4bc948dcc9\",\"type\":\"Label\"},{\"attributes\":{\"plot\":{\"id\":\"67e849f2-45ec-4265-8790-c494aedd415f\",\"subtype\":\"Figure\",\"type\":\"Plot\"},\"text\":\"DTB-089\",\"text_font_size\":{\"value\":\"9pt\"},\"x\":4.534709212580662,\"y\":2.3424382504969135},\"id\":\"273c0e43-8b4f-49f7-be37-aad5b8065b5f\",\"type\":\"Label\"},{\"attributes\":{\"plot\":{\"id\":\"67e849f2-45ec-4265-8790-c494aedd415f\",\"subtype\":\"Figure\",\"type\":\"Plot\"},\"text\":\"DTB-141\",\"text_font_size\":{\"value\":\"9pt\"},\"x\":-2.945665921300609,\"y\":-2.783249395239361},\"id\":\"e3d12c13-7c03-4b15-8d0b-6af634ae3b13\",\"type\":\"Label\"},{\"attributes\":{\"plot\":{\"id\":\"67e849f2-45ec-4265-8790-c494aedd415f\",\"subtype\":\"Figure\",\"type\":\"Plot\"},\"text\":\"DTB-127\",\"text_font_size\":{\"value\":\"9pt\"},\"x\":-2.282760348153693,\"y\":-0.4554547608954742},\"id\":\"14c3c1ea-c561-430f-8ba4-5d80a5d65149\",\"type\":\"Label\"},{\"attributes\":{},\"id\":\"73a4cf10-619f-4b2a-a6ed-659d37aa4753\",\"type\":\"LinearScale\"},{\"attributes\":{\"plot\":null,\"text\":\"correlation of signature score differences, spearman rho=0.741, p value = 0.0010\"},\"id\":\"4c34fc03-418b-4aa6-8fae-71e6bbb16ba3\",\"type\":\"Title\"},{\"attributes\":{\"plot\":{\"id\":\"67e849f2-45ec-4265-8790-c494aedd415f\",\"subtype\":\"Figure\",\"type\":\"Plot\"},\"text\":\"DTB-176\",\"text_font_size\":{\"value\":\"9pt\"},\"x\":-4.144161981985902,\"y\":-2.0159398786975355},\"id\":\"ac2f6fb6-db31-4e33-a5a6-390f64671fcf\",\"type\":\"Label\"},{\"attributes\":{\"overlay\":{\"id\":\"c4e0a1c1-f38d-4dd3-91a1-2be31fb6beed\",\"type\":\"BoxAnnotation\"},\"plot\":{\"id\":\"67e849f2-45ec-4265-8790-c494aedd415f\",\"subtype\":\"Figure\",\"type\":\"Plot\"}},\"id\":\"34c184bb-f279-48b2-8264-b842444ddf7f\",\"type\":\"BoxZoomTool\"},{\"attributes\":{},\"id\":\"b766e804-a274-474b-8a4d-cee0191d726c\",\"type\":\"ToolEvents\"},{\"attributes\":{\"plot\":{\"id\":\"67e849f2-45ec-4265-8790-c494aedd415f\",\"subtype\":\"Figure\",\"type\":\"Plot\"},\"text\":\"DTB-135\",\"text_font_size\":{\"value\":\"9pt\"},\"x\":-2.0543128749885193,\"y\":-7.570848291926668},\"id\":\"51446b76-7cbc-461b-864c-1053aec660e9\",\"type\":\"Label\"},{\"attributes\":{\"plot\":{\"id\":\"67e849f2-45ec-4265-8790-c494aedd415f\",\"subtype\":\"Figure\",\"type\":\"Plot\"},\"text\":\"DTB-060\",\"text_font_size\":{\"value\":\"9pt\"},\"x\":-1.1337179578751115,\"y\":0.047124397290915},\"id\":\"88ce4e91-5fdc-4b6d-ac47-d2582c28a1d5\",\"type\":\"Label\"},{\"attributes\":{\"callback\":null},\"id\":\"135a0510-e32a-43a3-9405-adf0d993142f\",\"type\":\"DataRange1d\"},{\"attributes\":{\"plot\":{\"id\":\"67e849f2-45ec-4265-8790-c494aedd415f\",\"subtype\":\"Figure\",\"type\":\"Plot\"},\"text\":\"DTB-024\",\"text_font_size\":{\"value\":\"9pt\"},\"x\":-0.647110470106671,\"y\":-0.11119561010342593},\"id\":\"c22e1ff2-20f4-4103-840b-9e2bfd91460c\",\"type\":\"Label\"},{\"attributes\":{\"plot\":{\"id\":\"67e849f2-45ec-4265-8790-c494aedd415f\",\"subtype\":\"Figure\",\"type\":\"Plot\"},\"text\":\"DTB-149\",\"text_font_size\":{\"value\":\"9pt\"},\"x\":-2.5172696846758855,\"y\":-1.7967346452253334},\"id\":\"b1518825-3541-4683-97b3-4f15f640f8d1\",\"type\":\"Label\"},{\"attributes\":{\"active_drag\":\"auto\",\"active_inspect\":\"auto\",\"active_scroll\":\"auto\",\"active_tap\":\"auto\",\"tools\":[{\"id\":\"6441da50-f445-41dc-8205-cef6c38777ee\",\"type\":\"ZoomOutTool\"},{\"id\":\"484971af-8d7f-4a43-90b5-09c8373ba241\",\"type\":\"SaveTool\"},{\"id\":\"7f9b056d-28d3-488b-b268-e6f680358480\",\"type\":\"ResetTool\"},{\"id\":\"92f2fcc7-f47d-4ea5-9441-843eb42dc8cd\",\"type\":\"ResizeTool\"},{\"id\":\"34c184bb-f279-48b2-8264-b842444ddf7f\",\"type\":\"BoxZoomTool\"}]},\"id\":\"30349e3a-f737-4268-9a79-5ca0fc77cb36\",\"type\":\"Toolbar\"},{\"attributes\":{\"plot\":{\"id\":\"67e849f2-45ec-4265-8790-c494aedd415f\",\"subtype\":\"Figure\",\"type\":\"Plot\"}},\"id\":\"484971af-8d7f-4a43-90b5-09c8373ba241\",\"type\":\"SaveTool\"},{\"attributes\":{},\"id\":\"4fc15e18-bdef-486b-b5a1-1b91066e61e6\",\"type\":\"BasicTickFormatter\"},{\"attributes\":{\"callback\":null},\"id\":\"d6325cf9-dfc4-4784-a773-1f147e4d0157\",\"type\":\"DataRange1d\"},{\"attributes\":{\"plot\":{\"id\":\"67e849f2-45ec-4265-8790-c494aedd415f\",\"subtype\":\"Figure\",\"type\":\"Plot\"},\"text\":\"DTB-111\",\"text_font_size\":{\"value\":\"9pt\"},\"x\":4.566303675965871,\"y\":3.647962135114767},\"id\":\"7f8618a4-fb49-4a96-92cf-ede2baeefa6c\",\"type\":\"Label\"},{\"attributes\":{},\"id\":\"750fb641-a2e3-4a2f-a4a1-4d7956636f23\",\"type\":\"BasicTickFormatter\"}],\"root_ids\":[\"67e849f2-45ec-4265-8790-c494aedd415f\"]},\"title\":\"Bokeh Application\",\"version\":\"0.12.6\"}};\n",
       "            var render_items = [{\"docid\":\"4aab2a6c-1947-4452-818a-f1b28ebfa594\",\"elementid\":\"3cad8128-df44-4097-93f8-2dd86c4096f4\",\"modelid\":\"67e849f2-45ec-4265-8790-c494aedd415f\"}];\n",
       "            \n",
       "            Bokeh.embed.embed_items(docs_json, render_items);\n",
       "          };\n",
       "          if (document.readyState != \"loading\") fn();\n",
       "          else document.addEventListener(\"DOMContentLoaded\", fn);\n",
       "        })();\n",
       "      },\n",
       "      function(Bokeh) {\n",
       "      }\n",
       "    ];\n",
       "  \n",
       "    function run_inline_js() {\n",
       "      \n",
       "      if ((window.Bokeh !== undefined) || (force === true)) {\n",
       "        for (var i = 0; i < inline_js.length; i++) {\n",
       "          inline_js[i](window.Bokeh);\n",
       "        }if (force === true) {\n",
       "          display_loaded();\n",
       "        }} else if (Date.now() < window._bokeh_timeout) {\n",
       "        setTimeout(run_inline_js, 100);\n",
       "      } else if (!window._bokeh_failed_load) {\n",
       "        console.log(\"Bokeh: BokehJS failed to load within specified timeout.\");\n",
       "        window._bokeh_failed_load = true;\n",
       "      } else if (force !== true) {\n",
       "        var cell = $(document.getElementById(\"3cad8128-df44-4097-93f8-2dd86c4096f4\")).parents('.cell').data().cell;\n",
       "        cell.output_area.append_execute_result(NB_LOAD_WARNING)\n",
       "      }\n",
       "  \n",
       "    }\n",
       "  \n",
       "    if (window._bokeh_is_loading === 0) {\n",
       "      console.log(\"Bokeh: BokehJS loaded, going straight to plotting\");\n",
       "      run_inline_js();\n",
       "    } else {\n",
       "      load_libs(js_urls, function() {\n",
       "        console.log(\"Bokeh: BokehJS plotting callback run at\", now());\n",
       "        run_inline_js();\n",
       "      });\n",
       "    }\n",
       "  }(this));\n",
       "</script>"
      ]
     },
     "metadata": {},
     "output_type": "display_data"
    },
    {
     "name": "stderr",
     "output_type": "stream",
     "text": [
      "WARNING:bokeh.io:The webdriver raised a TimeoutException while waiting for                      a 'bokeh:idle' event to signify that the layout has rendered.                      Something may have gone wrong.\n"
     ]
    },
    {
     "ename": "FileNotFoundError",
     "evalue": "[Errno 2] No such file or directory: './resuls/plots/fig2B.png'",
     "output_type": "error",
     "traceback": [
      "\u001b[0;31m---------------------------------------------------------------------------\u001b[0m",
      "\u001b[0;31mFileNotFoundError\u001b[0m                         Traceback (most recent call last)",
      "\u001b[0;32m<ipython-input-38-ff4c460113b8>\u001b[0m in \u001b[0;36m<module>\u001b[0;34m()\u001b[0m\n\u001b[1;32m     17\u001b[0m     \u001b[0mp\u001b[0m\u001b[0;34m.\u001b[0m\u001b[0madd_layout\u001b[0m\u001b[0;34m(\u001b[0m\u001b[0mtext\u001b[0m\u001b[0;34m)\u001b[0m\u001b[0;34m\u001b[0m\u001b[0m\n\u001b[1;32m     18\u001b[0m \u001b[0mshow\u001b[0m\u001b[0;34m(\u001b[0m\u001b[0mp\u001b[0m\u001b[0;34m)\u001b[0m\u001b[0;34m\u001b[0m\u001b[0m\n\u001b[0;32m---> 19\u001b[0;31m \u001b[0mexport_png\u001b[0m\u001b[0;34m(\u001b[0m\u001b[0mp\u001b[0m\u001b[0;34m,\u001b[0m \u001b[0;34m\"./resuls/plots/fig2B.png\"\u001b[0m\u001b[0;34m)\u001b[0m\u001b[0;34m\u001b[0m\u001b[0m\n\u001b[0m",
      "\u001b[0;32m/Users/Molly/anaconda3/lib/python3.6/site-packages/bokeh/io.py\u001b[0m in \u001b[0;36mexport_png\u001b[0;34m(obj, filename)\u001b[0m\n\u001b[1;32m    669\u001b[0m         \u001b[0mfilename\u001b[0m \u001b[0;34m=\u001b[0m \u001b[0m_detect_filename\u001b[0m\u001b[0;34m(\u001b[0m\u001b[0;34m\"png\"\u001b[0m\u001b[0;34m)\u001b[0m\u001b[0;34m\u001b[0m\u001b[0m\n\u001b[1;32m    670\u001b[0m \u001b[0;34m\u001b[0m\u001b[0m\n\u001b[0;32m--> 671\u001b[0;31m     \u001b[0mimage\u001b[0m\u001b[0;34m.\u001b[0m\u001b[0msave\u001b[0m\u001b[0;34m(\u001b[0m\u001b[0mfilename\u001b[0m\u001b[0;34m)\u001b[0m\u001b[0;34m\u001b[0m\u001b[0m\n\u001b[0m\u001b[1;32m    672\u001b[0m \u001b[0;34m\u001b[0m\u001b[0m\n\u001b[1;32m    673\u001b[0m     \u001b[0;32mreturn\u001b[0m \u001b[0mos\u001b[0m\u001b[0;34m.\u001b[0m\u001b[0mpath\u001b[0m\u001b[0;34m.\u001b[0m\u001b[0mabspath\u001b[0m\u001b[0;34m(\u001b[0m\u001b[0mfilename\u001b[0m\u001b[0;34m)\u001b[0m\u001b[0;34m\u001b[0m\u001b[0m\n",
      "\u001b[0;32m/Users/Molly/anaconda3/lib/python3.6/site-packages/PIL/Image.py\u001b[0m in \u001b[0;36msave\u001b[0;34m(self, fp, format, **params)\u001b[0m\n\u001b[1;32m   1723\u001b[0m             \u001b[0;31m# Open also for reading (\"+\"), because TIFF save_all\u001b[0m\u001b[0;34m\u001b[0m\u001b[0;34m\u001b[0m\u001b[0m\n\u001b[1;32m   1724\u001b[0m             \u001b[0;31m# writer needs to go back and edit the written data.\u001b[0m\u001b[0;34m\u001b[0m\u001b[0;34m\u001b[0m\u001b[0m\n\u001b[0;32m-> 1725\u001b[0;31m             \u001b[0mfp\u001b[0m \u001b[0;34m=\u001b[0m \u001b[0mbuiltins\u001b[0m\u001b[0;34m.\u001b[0m\u001b[0mopen\u001b[0m\u001b[0;34m(\u001b[0m\u001b[0mfilename\u001b[0m\u001b[0;34m,\u001b[0m \u001b[0;34m\"w+b\"\u001b[0m\u001b[0;34m)\u001b[0m\u001b[0;34m\u001b[0m\u001b[0m\n\u001b[0m\u001b[1;32m   1726\u001b[0m \u001b[0;34m\u001b[0m\u001b[0m\n\u001b[1;32m   1727\u001b[0m         \u001b[0;32mtry\u001b[0m\u001b[0;34m:\u001b[0m\u001b[0;34m\u001b[0m\u001b[0m\n",
      "\u001b[0;31mFileNotFoundError\u001b[0m: [Errno 2] No such file or directory: './resuls/plots/fig2B.png'"
     ]
    }
   ],
   "source": [
    "X = list(WCDT_plot_df[\"Post-Pre UC signature\"])\n",
    "Y = list(WCDT_plot_df[\"Post-Pre Mendiratta signature\"])\n",
    "\n",
    "spearman_rho, p_value = stats.spearmanr(X, Y)\n",
    "print(spearman_rho, p_value)\n",
    "\n",
    "p = bokeh.plotting.figure(plot_width=600, plot_height=600,\n",
    "           tools=[\"zoom_out\", \"save\", \"reset\", \"resize\", \"box_zoom\"],\n",
    "    title=\"correlation of signature score differences, spearman rho={0:.3f}, p value = {1:.4f}\".format(spearman_rho, p_value))\n",
    "p.scatter(X, Y)\n",
    "p.xaxis.axis_label = \"WCDT signature score difference\"\n",
    "p.yaxis.axis_label = \"Mendiratta signature score difference\"\n",
    "for index, row in WCDT_plot_df.iterrows():\n",
    "    text = Label(x=row[\"Post-Pre UC signature\"], \n",
    "                 y=row[\"Post-Pre Mendiratta signature\"], \n",
    "                 text=str(index), text_font_size=\"9pt\")\n",
    "    p.add_layout(text)\n",
    "show(p)\n",
    "export_png(p, \"./resuls/plots/fig2B.png\")"
   ]
  },
  {
   "cell_type": "code",
   "execution_count": 35,
   "metadata": {
    "collapsed": false
   },
   "outputs": [
    {
     "data": {
      "image/png": "[encoded data removed]",
      "text/plain": [
       "<matplotlib.figure.Figure at 0x1051fe080>"
      ]
     },
     "metadata": {},
     "output_type": "display_data"
    }
   ],
   "source": [
    "# same plot in matplotlib\n",
    "fig, ax = plt.subplots(figsize=(8,8))\n",
    "ax.scatter(X, Y, s=10)\n",
    "\n",
    "for index, row in WCDT_plot_df.iterrows():\n",
    "    ax.annotate(str(index),\n",
    "                (row[\"Post-Pre UC signature\"]+0.1,row[\"Post-Pre Mendiratta signature\"]+0.1))\n",
    "ax.set_xlabel(\"WCDT signature score difference\")\n",
    "ax.set_ylabel(\"Mendiratta signature score difference\")\n",
    "ax.set_xlim([-8.5, 6.5])\n",
    "ax.set_title(\"correlation of signature score differences\\nspearman rho={0:.3f}, p value = {1:.3f}\".format(\n",
    "    spearman_rho, p_value))\n",
    "ax.grid(color='grey', linestyle='-', linewidth=0.08)\n",
    "fig.savefig(\"fig2B.png\", dpi=300)"
   ]
  },
  {
   "cell_type": "markdown",
   "metadata": {
    "collapsed": true
   },
   "source": [
    "### 4.3 Box plot of AR signature scores"
   ]
  },
  {
   "cell_type": "code",
   "execution_count": null,
   "metadata": {
    "collapsed": true
   },
   "outputs": [],
   "source": []
  }
 ],
 "metadata": {
  "kernelspec": {
   "display_name": "Python 3",
   "language": "python",
   "name": "python3"
  },
  "language_info": {
   "codemirror_mode": {
    "name": "ipython",
    "version": 3
   },
   "file_extension": ".py",
   "mimetype": "text/x-python",
   "name": "python",
   "nbconvert_exporter": "python",
   "pygments_lexer": "ipython3",
   "version": "3.6.0"
  }
 },
 "nbformat": 4,
 "nbformat_minor": 2
}
