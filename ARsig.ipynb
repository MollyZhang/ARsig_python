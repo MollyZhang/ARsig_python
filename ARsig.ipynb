{
 "cells": [
  {
   "cell_type": "markdown",
   "metadata": {},
   "source": [
    "AR signature in python\n",
    "converted from Artem Sokolov and Vlado Uzunangelov's R code"
   ]
  },
  {
   "cell_type": "code",
   "execution_count": 94,
   "metadata": {
    "collapsed": true
   },
   "outputs": [],
   "source": [
    "import pandas as pd\n",
    "import numpy as np\n",
    "pd.options.mode.chained_assignment = None # supress pandas copy by ref warning\n"
   ]
  },
  {
   "cell_type": "code",
   "execution_count": 33,
   "metadata": {
    "collapsed": true
   },
   "outputs": [],
   "source": [
    "X_file = \"data/AR_sig_celline.tab\"\n",
    "Y_file = \"data/ar_cell_line_clin.txt\"\n",
    "X_WCDT_file = \"data/filtered_mrna.tab\""
   ]
  },
  {
   "cell_type": "code",
   "execution_count": 43,
   "metadata": {
    "collapsed": true
   },
   "outputs": [],
   "source": [
    "X_df = pd.read_csv(X_file, delimiter=\"\\t\")\n",
    "Y_df = pd.read_csv(Y_file, delimiter=\"\\t\")"
   ]
  },
  {
   "cell_type": "code",
   "execution_count": 95,
   "metadata": {
    "collapsed": false,
    "scrolled": false
   },
   "outputs": [],
   "source": [
    "def data_prep(X_df, Y_df):\n",
    "    # take \"ligand\" column as Y label and set \"on\" to 1 and \"no ligand\" to 0\n",
    "    Y_df = Y_df[[\"GSM_ID\", \"ligand\"]]\n",
    "    Y_df['ligand'] = Y_df['ligand'].replace(['on'], 1)\n",
    "    Y_df['ligand'] = Y_df['ligand'].replace(['no ligand'], 0)\n",
    "\n",
    "    \n",
    "    # Drop sample GSM288299, GSM288300, GSM288301 (QA by Robert and Jack)\n",
    "    Y_df = Y_df[~Y_df.GSM_ID.isin([\"GSM288299\", \"GSM288300\", \"GSM288301\"])]\n",
    "    \n",
    "    # remove non-overlapping samples in X and Y\n",
    "    common_samples = sorted(list(set(Y_df.GSM_ID).intersection(set(X_df.columns[1:]))))\n",
    "    X_df = X_df[[\"Gene Symbol\"] + common_samples]\n",
    "    Y_df = Y_df[Y_df.GSM_ID.isin(common_samples)]\n",
    "    \n",
    "    # remove genes with NA\n",
    "    X_df = X_df.dropna()\n",
    "    \n",
    "    # get overlap of genes between X_df and WCDT file\n",
    "    WCDT_df = pd.read_csv(X_WCDT_file, delimiter=\"\\t\")\n",
    "    common_genes = set(WCDT_df[\"gene_id\"]).intersection(set(X_df[\"Gene Symbol\"]))\n",
    "    X_df = X_df[X_df[\"Gene Symbol\"].isin(common_genes)]\n",
    "        \n",
    "    # rank transformation + normalization (with quantile function of exponential distribution) \n",
    "    X_df.set_index(\"Gene Symbol\", inplace=True)\n",
    "    X_orig_df = X_df.copy()\n",
    "    X_df = (X_df.rank()-1)/len(X_df)\n",
    "    X_df = X_df.applymap(lambda x: -np.log(1-x))\n",
    "\n",
    "    return X_orig_df, X_df, Y_df"
   ]
  },
  {
   "cell_type": "code",
   "execution_count": 96,
   "metadata": {
    "collapsed": false,
    "scrolled": false
   },
   "outputs": [
    {
     "name": "stdout",
     "output_type": "stream",
     "text": [
      "       GSM_ID  ligand\n",
      "0    GSM63051       0\n",
      "1    GSM64845       0\n",
      "2    GSM64852       1\n",
      "3    GSM64855       0\n",
      "4    GSM64858       0\n",
      "5    GSM64859       1\n",
      "6    GSM64861       0\n",
      "7    GSM64864       0\n",
      "8    GSM64865       1\n",
      "9   GSM560828       0\n",
      "10  GSM560829       0\n",
      "11  GSM560830       0\n",
      "12  GSM560831       1\n",
      "13  GSM560832       1\n",
      "14  GSM560833       1\n",
      "15  GSM560834       0\n",
      "16  GSM560835       0\n",
      "17  GSM560836       0\n",
      "18  GSM560837       1\n",
      "19  GSM560838       1\n",
      "20  GSM560839       1\n",
      "33  GSM801007       0\n",
      "34  GSM801008       1\n",
      "35  GSM801009       0\n",
      "36  GSM801010       1\n",
      "37  GSM823844       1\n",
      "38  GSM823845       0\n",
      "39  GSM823846       0\n",
      "40  GSM823847       0\n",
      "41  GSM823848       1\n",
      "42  GSM823849       1\n",
      "43  GSM823850       1\n",
      "44  GSM823851       0\n",
      "45  GSM823852       0\n",
      "46  GSM823853       1\n",
      "47  GSM426518       0\n",
      "48  GSM426519       0\n",
      "49  GSM426520       0\n",
      "50  GSM426521       1\n",
      "51  GSM426522       1\n",
      "52  GSM426523       1\n"
     ]
    }
   ],
   "source": [
    "_, X, Y = data_prep(X_df, Y_df)\n",
    "print(Y)"
   ]
  },
  {
   "cell_type": "code",
   "execution_count": null,
   "metadata": {
    "collapsed": true
   },
   "outputs": [],
   "source": []
  }
 ],
 "metadata": {
  "kernelspec": {
   "display_name": "Python 3",
   "language": "python",
   "name": "python3"
  },
  "language_info": {
   "codemirror_mode": {
    "name": "ipython",
    "version": 3
   },
   "file_extension": ".py",
   "mimetype": "text/x-python",
   "name": "python",
   "nbconvert_exporter": "python",
   "pygments_lexer": "ipython3",
   "version": "3.6.0"
  }
 },
 "nbformat": 4,
 "nbformat_minor": 2
}
