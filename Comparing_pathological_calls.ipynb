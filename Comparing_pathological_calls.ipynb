{
 "cells": [
  {
   "cell_type": "markdown",
   "metadata": {},
   "source": [
    "### Comparing two discprepant pathology calls by:\n",
    "1. train on two different version of calls and find out cross validation AUC\n",
    "2. train on consensus and apply signature to discrepant samples and find out how it agrees with either\n",
    "3. only using small cell vs adeno"
   ]
  },
  {
   "cell_type": "code",
   "execution_count": 1,
   "metadata": {
    "collapsed": false
   },
   "outputs": [
    {
     "data": {
      "text/html": [
       "\n",
       "    <div class=\"bk-root\">\n",
       "        <a href=\"http://bokeh.pydata.org\" target=\"_blank\" class=\"bk-logo bk-logo-small bk-logo-notebook\"></a>\n",
       "        <span id=\"cd6e7886-7667-4adf-85dd-b458ca7de237\">Loading BokehJS ...</span>\n",
       "    </div>"
      ]
     },
     "metadata": {},
     "output_type": "display_data"
    },
    {
     "data": {
      "application/javascript": [
       "\n",
       "(function(global) {\n",
       "  function now() {\n",
       "    return new Date();\n",
       "  }\n",
       "\n",
       "  var force = true;\n",
       "\n",
       "  if (typeof (window._bokeh_onload_callbacks) === \"undefined\" || force === true) {\n",
       "    window._bokeh_onload_callbacks = [];\n",
       "    window._bokeh_is_loading = undefined;\n",
       "  }\n",
       "\n",
       "\n",
       "  \n",
       "  if (typeof (window._bokeh_timeout) === \"undefined\" || force === true) {\n",
       "    window._bokeh_timeout = Date.now() + 5000;\n",
       "    window._bokeh_failed_load = false;\n",
       "  }\n",
       "\n",
       "  var NB_LOAD_WARNING = {'data': {'text/html':\n",
       "     \"<div style='background-color: #fdd'>\\n\"+\n",
       "     \"<p>\\n\"+\n",
       "     \"BokehJS does not appear to have successfully loaded. If loading BokehJS from CDN, this \\n\"+\n",
       "     \"may be due to a slow or bad network connection. Possible fixes:\\n\"+\n",
       "     \"</p>\\n\"+\n",
       "     \"<ul>\\n\"+\n",
       "     \"<li>re-rerun `output_notebook()` to attempt to load from CDN again, or</li>\\n\"+\n",
       "     \"<li>use INLINE resources instead, as so:</li>\\n\"+\n",
       "     \"</ul>\\n\"+\n",
       "     \"<code>\\n\"+\n",
       "     \"from bokeh.resources import INLINE\\n\"+\n",
       "     \"output_notebook(resources=INLINE)\\n\"+\n",
       "     \"</code>\\n\"+\n",
       "     \"</div>\"}};\n",
       "\n",
       "  function display_loaded() {\n",
       "    if (window.Bokeh !== undefined) {\n",
       "      document.getElementById(\"cd6e7886-7667-4adf-85dd-b458ca7de237\").textContent = \"BokehJS successfully loaded.\";\n",
       "    } else if (Date.now() < window._bokeh_timeout) {\n",
       "      setTimeout(display_loaded, 100)\n",
       "    }\n",
       "  }\n",
       "\n",
       "  function run_callbacks() {\n",
       "    window._bokeh_onload_callbacks.forEach(function(callback) { callback() });\n",
       "    delete window._bokeh_onload_callbacks\n",
       "    console.info(\"Bokeh: all callbacks have finished\");\n",
       "  }\n",
       "\n",
       "  function load_libs(js_urls, callback) {\n",
       "    window._bokeh_onload_callbacks.push(callback);\n",
       "    if (window._bokeh_is_loading > 0) {\n",
       "      console.log(\"Bokeh: BokehJS is being loaded, scheduling callback at\", now());\n",
       "      return null;\n",
       "    }\n",
       "    if (js_urls == null || js_urls.length === 0) {\n",
       "      run_callbacks();\n",
       "      return null;\n",
       "    }\n",
       "    console.log(\"Bokeh: BokehJS not loaded, scheduling load and callback at\", now());\n",
       "    window._bokeh_is_loading = js_urls.length;\n",
       "    for (var i = 0; i < js_urls.length; i++) {\n",
       "      var url = js_urls[i];\n",
       "      var s = document.createElement('script');\n",
       "      s.src = url;\n",
       "      s.async = false;\n",
       "      s.onreadystatechange = s.onload = function() {\n",
       "        window._bokeh_is_loading--;\n",
       "        if (window._bokeh_is_loading === 0) {\n",
       "          console.log(\"Bokeh: all BokehJS libraries loaded\");\n",
       "          run_callbacks()\n",
       "        }\n",
       "      };\n",
       "      s.onerror = function() {\n",
       "        console.warn(\"failed to load library \" + url);\n",
       "      };\n",
       "      console.log(\"Bokeh: injecting script tag for BokehJS library: \", url);\n",
       "      document.getElementsByTagName(\"head\")[0].appendChild(s);\n",
       "    }\n",
       "  };var element = document.getElementById(\"cd6e7886-7667-4adf-85dd-b458ca7de237\");\n",
       "  if (element == null) {\n",
       "    console.log(\"Bokeh: ERROR: autoload.js configured with elementid 'cd6e7886-7667-4adf-85dd-b458ca7de237' but no matching script tag was found. \")\n",
       "    return false;\n",
       "  }\n",
       "\n",
       "  var js_urls = [\"https://cdn.pydata.org/bokeh/release/bokeh-0.12.4.min.js\", \"https://cdn.pydata.org/bokeh/release/bokeh-widgets-0.12.4.min.js\"];\n",
       "\n",
       "  var inline_js = [\n",
       "    function(Bokeh) {\n",
       "      Bokeh.set_log_level(\"info\");\n",
       "    },\n",
       "    \n",
       "    function(Bokeh) {\n",
       "      \n",
       "      document.getElementById(\"cd6e7886-7667-4adf-85dd-b458ca7de237\").textContent = \"BokehJS is loading...\";\n",
       "    },\n",
       "    function(Bokeh) {\n",
       "      console.log(\"Bokeh: injecting CSS: https://cdn.pydata.org/bokeh/release/bokeh-0.12.4.min.css\");\n",
       "      Bokeh.embed.inject_css(\"https://cdn.pydata.org/bokeh/release/bokeh-0.12.4.min.css\");\n",
       "      console.log(\"Bokeh: injecting CSS: https://cdn.pydata.org/bokeh/release/bokeh-widgets-0.12.4.min.css\");\n",
       "      Bokeh.embed.inject_css(\"https://cdn.pydata.org/bokeh/release/bokeh-widgets-0.12.4.min.css\");\n",
       "    }\n",
       "  ];\n",
       "\n",
       "  function run_inline_js() {\n",
       "    \n",
       "    if ((window.Bokeh !== undefined) || (force === true)) {\n",
       "      for (var i = 0; i < inline_js.length; i++) {\n",
       "        inline_js[i](window.Bokeh);\n",
       "      }if (force === true) {\n",
       "        display_loaded();\n",
       "      }} else if (Date.now() < window._bokeh_timeout) {\n",
       "      setTimeout(run_inline_js, 100);\n",
       "    } else if (!window._bokeh_failed_load) {\n",
       "      console.log(\"Bokeh: BokehJS failed to load within specified timeout.\");\n",
       "      window._bokeh_failed_load = true;\n",
       "    } else if (force !== true) {\n",
       "      var cell = $(document.getElementById(\"cd6e7886-7667-4adf-85dd-b458ca7de237\")).parents('.cell').data().cell;\n",
       "      cell.output_area.append_execute_result(NB_LOAD_WARNING)\n",
       "    }\n",
       "\n",
       "  }\n",
       "\n",
       "  if (window._bokeh_is_loading === 0) {\n",
       "    console.log(\"Bokeh: BokehJS loaded, going straight to plotting\");\n",
       "    run_inline_js();\n",
       "  } else {\n",
       "    load_libs(js_urls, function() {\n",
       "      console.log(\"Bokeh: BokehJS plotting callback run at\", now());\n",
       "      run_inline_js();\n",
       "    });\n",
       "  }\n",
       "}(this));"
      ]
     },
     "metadata": {},
     "output_type": "display_data"
    },
    {
     "data": {
      "application/javascript": [
       "IPython.notebook.set_autosave_interval(10000)"
      ]
     },
     "metadata": {},
     "output_type": "display_data"
    },
    {
     "name": "stdout",
     "output_type": "stream",
     "text": [
      "Autosaving every 10 seconds\n"
     ]
    }
   ],
   "source": [
    "# %load startup_script.py\n",
    "\n",
    "# numerical & stats \n",
    "import pandas as pd\n",
    "import numpy as np\n",
    "from scipy import stats\n",
    "\n",
    "# plotting\n",
    "from matplotlib import pyplot as plt\n",
    "from bokeh.charts import Bar, output_file, show, BoxPlot, Line\n",
    "from bokeh.io import output_notebook\n",
    "\n",
    "# machine learning\n",
    "from sklearn import linear_model\n",
    "\n",
    "# misc\n",
    "from pprint import pprint as pp\n",
    "\n",
    "# my own module in the same repo\n",
    "import helper\n",
    "\n",
    "# jupyte notebook amenities\n",
    "output_notebook()\n",
    "%matplotlib inline\n",
    "%autosave 10\n"
   ]
  },
  {
   "cell_type": "code",
   "execution_count": 3,
   "metadata": {
    "collapsed": false
   },
   "outputs": [],
   "source": [
    "WCDT_mRNA = \"./data/WCDT_mRNA.tsv\"\n",
    "consensus = \"./data/NEPC/consensus_calls_050317.tsv\"\n",
    "discrepancy = \"./data/NEPC/JH_v_LT_discrepant_calls_050317.tsv\"\n",
    "df_mRNA = pd.read_csv(WCDT_mRNA, delimiter=\"\\t\")\n",
    "df_consensus = pd.read_csv(consensus, delimiter=\"\\t\")\n",
    "df_discrep = pd.read_csv(discrepancy, delimiter=\"\\t\")"
   ]
  },
  {
   "cell_type": "code",
   "execution_count": 11,
   "metadata": {
    "collapsed": false
   },
   "outputs": [],
   "source": [
    "def data_prep(df_call, df_mRNA, label_column=\"\"):\n",
    "    y = df_call.copy()\n",
    "    y.rename(columns={\"Consensus Path Call\":\"label\",\n",
    "                      label_column: \"label\",\n",
    "                      \"Patient ID\": \"Patient_ID\",\n",
    "                      \"Path Call\":\"label\"}, inplace=True)\n",
    "    # remove samples with unwanted labels\n",
    "    y = y[~y[\"label\"].isin(\n",
    "        [\"QNS\", \"IAC/Small cell\", \"Indeterminate\", \"Cytology mixed\", \n",
    "         \"IAC/Adeno\", \"IAC\", \"Missing\", \"Adeno/Small cell\", \"IAC/adeno\", \n",
    "         \"? Small cell\", \"IAC/adeno\"])].copy()\n",
    "    # uniform various naming discrepancies\n",
    "    y.set_index(\"Patient_ID\", inplace=True)\n",
    "    y[y[\"label\"].isin([\"Small cell\", \"Small Cell\"])] = 1\n",
    "    y[y[\"label\"].isin([\"Adenocarcinoma\", \"Adeno\"])] = 0\n",
    "    \n",
    "    # get sample overlap between mRNA and y\n",
    "    X = df_mRNA.set_index(\"gene_id\").transpose()\n",
    "    overlap = set(X.index).intersection(set(y.index))\n",
    "    y = y[y.index.isin(overlap)]\n",
    "    X = X[X.index.isin(overlap)]\n",
    "    \n",
    "    # order X and Y so that same sample name match up\n",
    "    X.sort_index(inplace=True)\n",
    "    y.sort_index(inplace=True)\n",
    "    assert(list(X.index) == list(y.index))\n",
    "    y.label=pd.to_numeric(y.label)\n",
    "    return X, y\n",
    "\n",
    "\n",
    "def calc_signature(X, y, name, classifier=linear_model.LogisticRegression()):\n",
    "    classifier.fit(X, np.array(list(y['label'])))\n",
    "    return pd.DataFrame(index=X.columns, data=classifier.coef_[0], columns=[name])\n",
    "\n",
    "\n",
    "def join_two_labels(df_consensus, df_call, call):\n",
    "    df_consensus.rename(columns={\"Consensus Path Call\":\"Path Call\"}, inplace=True)\n",
    "    df_call.rename(columns={call:\"Path Call\"}, inplace=True)\n",
    "    return df_consensus.append(df_call, ignore_index=True)"
   ]
  },
  {
   "cell_type": "code",
   "execution_count": 12,
   "metadata": {
    "collapsed": false
   },
   "outputs": [
    {
     "name": "stdout",
     "output_type": "stream",
     "text": [
      "..............................................................................................................0.8272727272727273\n"
     ]
    }
   ],
   "source": [
    "# leave pair out cross validation with consensus calls\n",
    "X, y = data_prep(df_consensus, df_mRNA)\n",
    "print(helper.leave_pair_out_cv(X, y, linear_model.LogisticRegression()))"
   ]
  },
  {
   "cell_type": "code",
   "execution_count": 13,
   "metadata": {
    "collapsed": false
   },
   "outputs": [
    {
     "name": "stdout",
     "output_type": "stream",
     "text": [
      "JH/GT Path Call leave pair out cross validation AUC:\n",
      "......................................................................................................................................................................................0.9175824175824175\n",
      "LT Independent Path Calls leave pair out cross validation AUC:\n",
      "................................................................................................................................................................................................................................0.71875\n"
     ]
    }
   ],
   "source": [
    "# independent calls \n",
    "for call in [\"JH/GT Path Call\", \"LT Independent Path Calls\"]:\n",
    "    df_combined = join_two_labels(df_consensus, \n",
    "                                  df_discrep[[\"Patient ID\", call]].copy(), call)\n",
    "    X, y = data_prep(df_combined, df_mRNA)\n",
    "    print(call, \"leave pair out cross validation AUC:\")\n",
    "    print(helper.leave_pair_out_cv(X, y, linear_model.LogisticRegression()))"
   ]
  },
  {
   "cell_type": "markdown",
   "metadata": {},
   "source": [
    "### train signature with Consensus and apply to JH/GT and LT calls"
   ]
  },
  {
   "cell_type": "code",
   "execution_count": 14,
   "metadata": {
    "collapsed": false
   },
   "outputs": [],
   "source": [
    "def sigmoid(x):\n",
    "    return 1/(1+np.exp(-x))\n",
    "\n",
    "def extract_X(df_mRNA, index_list=[]):\n",
    "    X = df_mRNA.set_index(\"gene_id\").transpose()\n",
    "    X = X.loc[index_list]\n",
    "    X.sort_index(inplace=True)\n",
    "    return X\n",
    "\n",
    "def get_consensus_sig():\n",
    "    X, y = data_prep(df_consensus, df_mRNA)\n",
    "    lr = linear_model.LogisticRegression()\n",
    "    lr.fit(X.values,y.values.ravel())\n",
    "    return lr.coef_[0]\n",
    "\n",
    "def get_path_call_data(call, short_name):\n",
    "    X, y = data_prep(df_discrep[[\"Patient ID\", call]], df_mRNA, label_column=call)\n",
    "    y.rename(columns={\"label\":short_name}, inplace=True)\n",
    "    return X, y\n",
    "\n",
    "def apply_signature(X, sig):\n",
    "    linear_score = np.matmul(X.as_matrix(), signature)\n",
    "    sigmoid_score = list(map(sigmoid, linear_score))\n",
    "    return [linear_score, sigmoid_score]"
   ]
  },
  {
   "cell_type": "code",
   "execution_count": 15,
   "metadata": {
    "collapsed": false
   },
   "outputs": [
    {
     "name": "stdout",
     "output_type": "stream",
     "text": [
      "             JH/GT Path Calls  LT Path Calls  linear_score  sigmoid_score\n",
      "DTB-022Pro                0.0            NaN     -8.564850       0.000191\n",
      "DTB-024Pro2               NaN            0.0     -8.937655       0.000131\n",
      "DTB-097                   0.0            NaN     -2.964422       0.049059\n",
      "DTB-097Pro                NaN            0.0     -1.441318       0.191341\n",
      "DTB-108                   NaN            1.0     -4.319793       0.013128\n",
      "DTB-111Pro                NaN            0.0     -2.300043       0.091119\n",
      "DTB-127Pro                NaN            0.0     -5.072552       0.006227\n",
      "DTB-131                   NaN            1.0     -3.585753       0.026968\n",
      "DTB-135                   NaN            1.0     -5.551938       0.003865\n",
      "DTB-140                   0.0            NaN     -3.871451       0.020403\n",
      "DTB-143                   NaN            0.0     -4.172603       0.015178\n",
      "DTB-154                   0.0            NaN     -4.895383       0.007425\n",
      "DTB-174                   1.0            0.0      0.438244       0.607841\n",
      "DTB-176                   1.0            NaN     -5.413337       0.004437\n"
     ]
    }
   ],
   "source": [
    "X1, y1 = get_path_call_data(\"JH/GT Path Call\", \"JH/GT Path Calls\")\n",
    "X2, y2 = get_path_call_data(\"LT Independent Path Calls\", \"LT Path Calls\")\n",
    "\n",
    "y_combined = pd.concat([y1, y2], axis=1, join=\"outer\")\n",
    "X_combined = extract_X(df_mRNA, index_list=set(list(X1.index)+list(X2.index)))\n",
    "\n",
    "signature = get_consensus_sig()\n",
    "linear_score, sigmoid_score = apply_signature(X_combined, signature)\n",
    "y_combined[\"linear_score\"] = linear_score\n",
    "y_combined[\"sigmoid_score\"] = sigmoid_score\n",
    "\n",
    "print(y_combined)"
   ]
  },
  {
   "cell_type": "code",
   "execution_count": 16,
   "metadata": {
    "collapsed": false
   },
   "outputs": [
    {
     "data": {
      "image/png": "[encoded data removed]",
      "text/plain": [
       "<matplotlib.figure.Figure at 0x7f7c3c768780>"
      ]
     },
     "metadata": {},
     "output_type": "display_data"
    },
    {
     "data": {
      "image/png": "[encoded data removed]",
      "text/plain": [
       "<matplotlib.figure.Figure at 0x7f7c3c6607f0>"
      ]
     },
     "metadata": {},
     "output_type": "display_data"
    }
   ],
   "source": [
    "for score in [\"linear_score\",\"sigmoid_score\"]:\n",
    "    JH = y_combined[~y_combined.isnull()[\"JH/GT Path Calls\"]]\n",
    "    LT = y_combined[~y_combined.isnull()[\"LT Path Calls\"]]\n",
    "    JH_sc = list(JH[JH[\"JH/GT Path Calls\"]==1][score])\n",
    "    JH_adeno = list(JH[JH[\"JH/GT Path Calls\"]==0][score])\n",
    "    LT_sc = list(LT[LT[\"LT Path Calls\"]==1][score])\n",
    "    LT_adeno = list(LT[LT[\"LT Path Calls\"]==0][score])\n",
    "    \n",
    "    fig, ax1 = plt.subplots(figsize=(10, 6))\n",
    "    plt.boxplot([JH_sc, JH_adeno, LT_sc, LT_adeno], 0, 'rD')\n",
    "    plt.ylabel(\"small cell score based on consensus\", fontsize=12)\n",
    "    xtickNames = plt.setp(ax1, xticklabels=[\"JH/GT sc\", \"JH/GT adeno\", \"LT sc\", \"LT adeno\"])\n",
    "    plt.setp(xtickNames, rotation=0, fontsize=12)\n",
    "    plt.title(score, fontsize=12)\n",
    "    plt.show()"
   ]
  },
  {
   "cell_type": "code",
   "execution_count": null,
   "metadata": {
    "collapsed": true
   },
   "outputs": [],
   "source": []
  }
 ],
 "metadata": {
  "kernelspec": {
   "display_name": "Python 3",
   "language": "python",
   "name": "python3"
  },
  "language_info": {
   "codemirror_mode": {
    "name": "ipython",
    "version": 3
   },
   "file_extension": ".py",
   "mimetype": "text/x-python",
   "name": "python",
   "nbconvert_exporter": "python",
   "pygments_lexer": "ipython3",
   "version": "3.6.0"
  }
 },
 "nbformat": 4,
 "nbformat_minor": 2
}
